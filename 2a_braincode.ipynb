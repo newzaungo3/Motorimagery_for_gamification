{
 "cells": [
  {
   "cell_type": "code",
   "execution_count": 3,
   "metadata": {},
   "outputs": [
    {
     "name": "stderr",
     "output_type": "stream",
     "text": [
      "Downloading data from 'https://web.gin.g-node.org/robintibor/high-gamma-dataset/raw/master/data/train/1.mat' to file 'C:\\Users\\asus\\mne_data\\MNE-schirrmeister2017-data\\robintibor\\high-gamma-dataset\\raw\\master\\data\\train\\1.mat'.\n"
     ]
    }
   ],
   "source": [
    "from braindecode.datasets.moabb import MOABBDataset\n",
    "\n",
    "#subject_id = [1,2,3,4,5,6,7,8,9]\n",
    "subject_id = [1]\n",
    "#2a= BNCI2014001 2b= BNCI2014004\n",
    "dataset = MOABBDataset(dataset_name=\"Schirrmeister2017\", subject_ids=subject_id)\n",
    "print(dataset)\n"
   ]
  },
  {
   "cell_type": "code",
   "execution_count": 28,
   "metadata": {},
   "outputs": [
    {
     "name": "stdout",
     "output_type": "stream",
     "text": [
      "Writing c:\\Users\\asus\\Desktop\\Motorimagery_for_gamification\\dataset\\2b_moabb\\train\\0-raw.fif\n",
      "Closing c:\\Users\\asus\\Desktop\\Motorimagery_for_gamification\\dataset\\2b_moabb\\train\\0-raw.fif\n",
      "[done]\n",
      "Writing c:\\Users\\asus\\Desktop\\Motorimagery_for_gamification\\dataset\\2b_moabb\\train\\1-raw.fif\n",
      "Closing c:\\Users\\asus\\Desktop\\Motorimagery_for_gamification\\dataset\\2b_moabb\\train\\1-raw.fif\n",
      "[done]\n",
      "Writing c:\\Users\\asus\\Desktop\\Motorimagery_for_gamification\\dataset\\2b_moabb\\train\\2-raw.fif\n",
      "Closing c:\\Users\\asus\\Desktop\\Motorimagery_for_gamification\\dataset\\2b_moabb\\train\\2-raw.fif\n",
      "[done]\n",
      "Writing c:\\Users\\asus\\Desktop\\Motorimagery_for_gamification\\dataset\\2b_moabb\\train\\3-raw.fif\n",
      "Closing c:\\Users\\asus\\Desktop\\Motorimagery_for_gamification\\dataset\\2b_moabb\\train\\3-raw.fif\n",
      "[done]\n",
      "Writing c:\\Users\\asus\\Desktop\\Motorimagery_for_gamification\\dataset\\2b_moabb\\train\\4-raw.fif\n",
      "Closing c:\\Users\\asus\\Desktop\\Motorimagery_for_gamification\\dataset\\2b_moabb\\train\\4-raw.fif\n",
      "[done]\n",
      "Writing c:\\Users\\asus\\Desktop\\Motorimagery_for_gamification\\dataset\\2b_moabb\\train\\5-raw.fif\n",
      "Closing c:\\Users\\asus\\Desktop\\Motorimagery_for_gamification\\dataset\\2b_moabb\\train\\5-raw.fif\n",
      "[done]\n",
      "Writing c:\\Users\\asus\\Desktop\\Motorimagery_for_gamification\\dataset\\2b_moabb\\train\\6-raw.fif\n",
      "Closing c:\\Users\\asus\\Desktop\\Motorimagery_for_gamification\\dataset\\2b_moabb\\train\\6-raw.fif\n",
      "[done]\n",
      "Writing c:\\Users\\asus\\Desktop\\Motorimagery_for_gamification\\dataset\\2b_moabb\\train\\7-raw.fif\n",
      "Closing c:\\Users\\asus\\Desktop\\Motorimagery_for_gamification\\dataset\\2b_moabb\\train\\7-raw.fif\n",
      "[done]\n",
      "Writing c:\\Users\\asus\\Desktop\\Motorimagery_for_gamification\\dataset\\2b_moabb\\train\\8-raw.fif\n",
      "Closing c:\\Users\\asus\\Desktop\\Motorimagery_for_gamification\\dataset\\2b_moabb\\train\\8-raw.fif\n",
      "[done]\n",
      "Writing c:\\Users\\asus\\Desktop\\Motorimagery_for_gamification\\dataset\\2b_moabb\\train\\9-raw.fif\n",
      "Closing c:\\Users\\asus\\Desktop\\Motorimagery_for_gamification\\dataset\\2b_moabb\\train\\9-raw.fif\n",
      "[done]\n",
      "Writing c:\\Users\\asus\\Desktop\\Motorimagery_for_gamification\\dataset\\2b_moabb\\train\\10-raw.fif\n",
      "Closing c:\\Users\\asus\\Desktop\\Motorimagery_for_gamification\\dataset\\2b_moabb\\train\\10-raw.fif\n",
      "[done]\n",
      "Writing c:\\Users\\asus\\Desktop\\Motorimagery_for_gamification\\dataset\\2b_moabb\\train\\11-raw.fif\n",
      "Closing c:\\Users\\asus\\Desktop\\Motorimagery_for_gamification\\dataset\\2b_moabb\\train\\11-raw.fif\n",
      "[done]\n",
      "Writing c:\\Users\\asus\\Desktop\\Motorimagery_for_gamification\\dataset\\2b_moabb\\train\\12-raw.fif\n",
      "Closing c:\\Users\\asus\\Desktop\\Motorimagery_for_gamification\\dataset\\2b_moabb\\train\\12-raw.fif\n",
      "[done]\n",
      "Writing c:\\Users\\asus\\Desktop\\Motorimagery_for_gamification\\dataset\\2b_moabb\\train\\13-raw.fif\n",
      "Closing c:\\Users\\asus\\Desktop\\Motorimagery_for_gamification\\dataset\\2b_moabb\\train\\13-raw.fif\n",
      "[done]\n",
      "Writing c:\\Users\\asus\\Desktop\\Motorimagery_for_gamification\\dataset\\2b_moabb\\train\\14-raw.fif\n",
      "Closing c:\\Users\\asus\\Desktop\\Motorimagery_for_gamification\\dataset\\2b_moabb\\train\\14-raw.fif\n",
      "[done]\n",
      "Writing c:\\Users\\asus\\Desktop\\Motorimagery_for_gamification\\dataset\\2b_moabb\\train\\15-raw.fif\n",
      "Closing c:\\Users\\asus\\Desktop\\Motorimagery_for_gamification\\dataset\\2b_moabb\\train\\15-raw.fif\n",
      "[done]\n",
      "Writing c:\\Users\\asus\\Desktop\\Motorimagery_for_gamification\\dataset\\2b_moabb\\train\\16-raw.fif\n",
      "Closing c:\\Users\\asus\\Desktop\\Motorimagery_for_gamification\\dataset\\2b_moabb\\train\\16-raw.fif\n",
      "[done]\n",
      "Writing c:\\Users\\asus\\Desktop\\Motorimagery_for_gamification\\dataset\\2b_moabb\\train\\17-raw.fif\n",
      "Closing c:\\Users\\asus\\Desktop\\Motorimagery_for_gamification\\dataset\\2b_moabb\\train\\17-raw.fif\n",
      "[done]\n",
      "Writing c:\\Users\\asus\\Desktop\\Motorimagery_for_gamification\\dataset\\2b_moabb\\train\\18-raw.fif\n",
      "Closing c:\\Users\\asus\\Desktop\\Motorimagery_for_gamification\\dataset\\2b_moabb\\train\\18-raw.fif\n",
      "[done]\n",
      "Writing c:\\Users\\asus\\Desktop\\Motorimagery_for_gamification\\dataset\\2b_moabb\\train\\19-raw.fif\n",
      "Closing c:\\Users\\asus\\Desktop\\Motorimagery_for_gamification\\dataset\\2b_moabb\\train\\19-raw.fif\n",
      "[done]\n",
      "Writing c:\\Users\\asus\\Desktop\\Motorimagery_for_gamification\\dataset\\2b_moabb\\train\\20-raw.fif\n",
      "Closing c:\\Users\\asus\\Desktop\\Motorimagery_for_gamification\\dataset\\2b_moabb\\train\\20-raw.fif\n",
      "[done]\n",
      "Writing c:\\Users\\asus\\Desktop\\Motorimagery_for_gamification\\dataset\\2b_moabb\\train\\21-raw.fif\n",
      "Closing c:\\Users\\asus\\Desktop\\Motorimagery_for_gamification\\dataset\\2b_moabb\\train\\21-raw.fif\n",
      "[done]\n",
      "Writing c:\\Users\\asus\\Desktop\\Motorimagery_for_gamification\\dataset\\2b_moabb\\train\\22-raw.fif\n",
      "Closing c:\\Users\\asus\\Desktop\\Motorimagery_for_gamification\\dataset\\2b_moabb\\train\\22-raw.fif\n",
      "[done]\n",
      "Writing c:\\Users\\asus\\Desktop\\Motorimagery_for_gamification\\dataset\\2b_moabb\\train\\23-raw.fif\n",
      "Closing c:\\Users\\asus\\Desktop\\Motorimagery_for_gamification\\dataset\\2b_moabb\\train\\23-raw.fif\n",
      "[done]\n",
      "Writing c:\\Users\\asus\\Desktop\\Motorimagery_for_gamification\\dataset\\2b_moabb\\train\\24-raw.fif\n",
      "Closing c:\\Users\\asus\\Desktop\\Motorimagery_for_gamification\\dataset\\2b_moabb\\train\\24-raw.fif\n",
      "[done]\n",
      "Writing c:\\Users\\asus\\Desktop\\Motorimagery_for_gamification\\dataset\\2b_moabb\\train\\25-raw.fif\n",
      "Closing c:\\Users\\asus\\Desktop\\Motorimagery_for_gamification\\dataset\\2b_moabb\\train\\25-raw.fif\n",
      "[done]\n",
      "Writing c:\\Users\\asus\\Desktop\\Motorimagery_for_gamification\\dataset\\2b_moabb\\train\\26-raw.fif\n",
      "Closing c:\\Users\\asus\\Desktop\\Motorimagery_for_gamification\\dataset\\2b_moabb\\train\\26-raw.fif\n",
      "[done]\n",
      "Writing c:\\Users\\asus\\Desktop\\Motorimagery_for_gamification\\dataset\\2b_moabb\\train\\27-raw.fif\n",
      "Closing c:\\Users\\asus\\Desktop\\Motorimagery_for_gamification\\dataset\\2b_moabb\\train\\27-raw.fif\n",
      "[done]\n",
      "Writing c:\\Users\\asus\\Desktop\\Motorimagery_for_gamification\\dataset\\2b_moabb\\train\\28-raw.fif\n",
      "Closing c:\\Users\\asus\\Desktop\\Motorimagery_for_gamification\\dataset\\2b_moabb\\train\\28-raw.fif\n",
      "[done]\n",
      "Writing c:\\Users\\asus\\Desktop\\Motorimagery_for_gamification\\dataset\\2b_moabb\\train\\29-raw.fif\n",
      "Closing c:\\Users\\asus\\Desktop\\Motorimagery_for_gamification\\dataset\\2b_moabb\\train\\29-raw.fif\n",
      "[done]\n",
      "Writing c:\\Users\\asus\\Desktop\\Motorimagery_for_gamification\\dataset\\2b_moabb\\train\\30-raw.fif\n",
      "Closing c:\\Users\\asus\\Desktop\\Motorimagery_for_gamification\\dataset\\2b_moabb\\train\\30-raw.fif\n",
      "[done]\n",
      "Writing c:\\Users\\asus\\Desktop\\Motorimagery_for_gamification\\dataset\\2b_moabb\\train\\31-raw.fif\n",
      "Closing c:\\Users\\asus\\Desktop\\Motorimagery_for_gamification\\dataset\\2b_moabb\\train\\31-raw.fif\n",
      "[done]\n",
      "Writing c:\\Users\\asus\\Desktop\\Motorimagery_for_gamification\\dataset\\2b_moabb\\train\\32-raw.fif\n",
      "Closing c:\\Users\\asus\\Desktop\\Motorimagery_for_gamification\\dataset\\2b_moabb\\train\\32-raw.fif\n",
      "[done]\n",
      "Writing c:\\Users\\asus\\Desktop\\Motorimagery_for_gamification\\dataset\\2b_moabb\\train\\33-raw.fif\n",
      "Closing c:\\Users\\asus\\Desktop\\Motorimagery_for_gamification\\dataset\\2b_moabb\\train\\33-raw.fif\n",
      "[done]\n",
      "Writing c:\\Users\\asus\\Desktop\\Motorimagery_for_gamification\\dataset\\2b_moabb\\train\\34-raw.fif\n",
      "Closing c:\\Users\\asus\\Desktop\\Motorimagery_for_gamification\\dataset\\2b_moabb\\train\\34-raw.fif\n",
      "[done]\n",
      "Writing c:\\Users\\asus\\Desktop\\Motorimagery_for_gamification\\dataset\\2b_moabb\\train\\35-raw.fif\n",
      "Closing c:\\Users\\asus\\Desktop\\Motorimagery_for_gamification\\dataset\\2b_moabb\\train\\35-raw.fif\n",
      "[done]\n",
      "Writing c:\\Users\\asus\\Desktop\\Motorimagery_for_gamification\\dataset\\2b_moabb\\train\\36-raw.fif\n",
      "Closing c:\\Users\\asus\\Desktop\\Motorimagery_for_gamification\\dataset\\2b_moabb\\train\\36-raw.fif\n",
      "[done]\n",
      "Writing c:\\Users\\asus\\Desktop\\Motorimagery_for_gamification\\dataset\\2b_moabb\\train\\37-raw.fif\n",
      "Closing c:\\Users\\asus\\Desktop\\Motorimagery_for_gamification\\dataset\\2b_moabb\\train\\37-raw.fif\n",
      "[done]\n",
      "Writing c:\\Users\\asus\\Desktop\\Motorimagery_for_gamification\\dataset\\2b_moabb\\train\\38-raw.fif\n",
      "Closing c:\\Users\\asus\\Desktop\\Motorimagery_for_gamification\\dataset\\2b_moabb\\train\\38-raw.fif\n",
      "[done]\n",
      "Writing c:\\Users\\asus\\Desktop\\Motorimagery_for_gamification\\dataset\\2b_moabb\\train\\39-raw.fif\n",
      "Closing c:\\Users\\asus\\Desktop\\Motorimagery_for_gamification\\dataset\\2b_moabb\\train\\39-raw.fif\n",
      "[done]\n",
      "Writing c:\\Users\\asus\\Desktop\\Motorimagery_for_gamification\\dataset\\2b_moabb\\train\\40-raw.fif\n",
      "Closing c:\\Users\\asus\\Desktop\\Motorimagery_for_gamification\\dataset\\2b_moabb\\train\\40-raw.fif\n",
      "[done]\n",
      "Writing c:\\Users\\asus\\Desktop\\Motorimagery_for_gamification\\dataset\\2b_moabb\\train\\41-raw.fif\n",
      "Closing c:\\Users\\asus\\Desktop\\Motorimagery_for_gamification\\dataset\\2b_moabb\\train\\41-raw.fif\n",
      "[done]\n",
      "Writing c:\\Users\\asus\\Desktop\\Motorimagery_for_gamification\\dataset\\2b_moabb\\train\\42-raw.fif\n",
      "Closing c:\\Users\\asus\\Desktop\\Motorimagery_for_gamification\\dataset\\2b_moabb\\train\\42-raw.fif\n",
      "[done]\n",
      "Writing c:\\Users\\asus\\Desktop\\Motorimagery_for_gamification\\dataset\\2b_moabb\\train\\43-raw.fif\n",
      "Closing c:\\Users\\asus\\Desktop\\Motorimagery_for_gamification\\dataset\\2b_moabb\\train\\43-raw.fif\n",
      "[done]\n",
      "Writing c:\\Users\\asus\\Desktop\\Motorimagery_for_gamification\\dataset\\2b_moabb\\train\\44-raw.fif\n",
      "Closing c:\\Users\\asus\\Desktop\\Motorimagery_for_gamification\\dataset\\2b_moabb\\train\\44-raw.fif\n",
      "[done]\n"
     ]
    }
   ],
   "source": [
    "dataset.datasets[4]\n",
    "dataset.save(\"dataset\\\\2b_moabb\\\\train\")"
   ]
  },
  {
   "cell_type": "code",
   "execution_count": 17,
   "metadata": {},
   "outputs": [
    {
     "name": "stdout",
     "output_type": "stream",
     "text": [
      "Opening raw data file <braindecode.datasets.moabb.MOABBDataset object at 0x0000018289D56940>...\n"
     ]
    },
    {
     "ename": "TypeError",
     "evalue": "fname must be an instance of path-like, got <class 'braindecode.datasets.moabb.MOABBDataset'> instead.",
     "output_type": "error",
     "traceback": [
      "\u001b[1;31m---------------------------------------------------------------------------\u001b[0m",
      "\u001b[1;31mTypeError\u001b[0m                                 Traceback (most recent call last)",
      "\u001b[1;32m<ipython-input-17-52230164e8c4>\u001b[0m in \u001b[0;36m<module>\u001b[1;34m\u001b[0m\n\u001b[0;32m      1\u001b[0m \u001b[1;32mfrom\u001b[0m \u001b[0mmne\u001b[0m\u001b[1;33m.\u001b[0m\u001b[0mio\u001b[0m \u001b[1;32mimport\u001b[0m \u001b[0mRaw\u001b[0m\u001b[1;33m\u001b[0m\u001b[1;33m\u001b[0m\u001b[0m\n\u001b[0;32m      2\u001b[0m \u001b[1;33m\u001b[0m\u001b[0m\n\u001b[1;32m----> 3\u001b[1;33m \u001b[0mraw\u001b[0m \u001b[1;33m=\u001b[0m \u001b[0mRaw\u001b[0m\u001b[1;33m(\u001b[0m\u001b[0mdataset\u001b[0m\u001b[1;33m)\u001b[0m\u001b[1;33m\u001b[0m\u001b[1;33m\u001b[0m\u001b[0m\n\u001b[0m",
      "\u001b[1;32m<decorator-gen-229>\u001b[0m in \u001b[0;36m__init__\u001b[1;34m(self, fname, allow_maxshield, preload, on_split_missing, verbose)\u001b[0m\n",
      "\u001b[1;32m~\\anaconda3\\envs\\tf_gpu\\lib\\site-packages\\mne\\io\\fiff\\raw.py\u001b[0m in \u001b[0;36m__init__\u001b[1;34m(self, fname, allow_maxshield, preload, on_split_missing, verbose)\u001b[0m\n\u001b[0;32m     79\u001b[0m         \u001b[1;32mwhile\u001b[0m \u001b[0mnext_fname\u001b[0m \u001b[1;32mis\u001b[0m \u001b[1;32mnot\u001b[0m \u001b[1;32mNone\u001b[0m\u001b[1;33m:\u001b[0m\u001b[1;33m\u001b[0m\u001b[1;33m\u001b[0m\u001b[0m\n\u001b[0;32m     80\u001b[0m             \u001b[0mraw\u001b[0m\u001b[1;33m,\u001b[0m \u001b[0mnext_fname\u001b[0m\u001b[1;33m,\u001b[0m \u001b[0mbuffer_size_sec\u001b[0m \u001b[1;33m=\u001b[0m\u001b[0;31m \u001b[0m\u001b[0;31m\\\u001b[0m\u001b[1;33m\u001b[0m\u001b[1;33m\u001b[0m\u001b[0m\n\u001b[1;32m---> 81\u001b[1;33m                 self._read_raw_file(next_fname, allow_maxshield,\n\u001b[0m\u001b[0;32m     82\u001b[0m                                     preload, do_check_ext)\n\u001b[0;32m     83\u001b[0m             \u001b[0mdo_check_ext\u001b[0m \u001b[1;33m=\u001b[0m \u001b[1;32mFalse\u001b[0m\u001b[1;33m\u001b[0m\u001b[1;33m\u001b[0m\u001b[0m\n",
      "\u001b[1;32m<decorator-gen-230>\u001b[0m in \u001b[0;36m_read_raw_file\u001b[1;34m(self, fname, allow_maxshield, preload, do_check_ext, verbose)\u001b[0m\n",
      "\u001b[1;32m~\\anaconda3\\envs\\tf_gpu\\lib\\site-packages\\mne\\io\\fiff\\raw.py\u001b[0m in \u001b[0;36m_read_raw_file\u001b[1;34m(self, fname, allow_maxshield, preload, do_check_ext, verbose)\u001b[0m\n\u001b[0;32m    142\u001b[0m                            '_meg.fif', '_eeg.fif', '_ieeg.fif')\n\u001b[0;32m    143\u001b[0m                 \u001b[0mendings\u001b[0m \u001b[1;33m+=\u001b[0m \u001b[0mtuple\u001b[0m\u001b[1;33m(\u001b[0m\u001b[1;33m[\u001b[0m\u001b[1;34mf'{e}.gz'\u001b[0m \u001b[1;32mfor\u001b[0m \u001b[0me\u001b[0m \u001b[1;32min\u001b[0m \u001b[0mendings\u001b[0m\u001b[1;33m]\u001b[0m\u001b[1;33m)\u001b[0m\u001b[1;33m\u001b[0m\u001b[1;33m\u001b[0m\u001b[0m\n\u001b[1;32m--> 144\u001b[1;33m                 \u001b[0mcheck_fname\u001b[0m\u001b[1;33m(\u001b[0m\u001b[0mfname\u001b[0m\u001b[1;33m,\u001b[0m \u001b[1;34m'raw'\u001b[0m\u001b[1;33m,\u001b[0m \u001b[0mendings\u001b[0m\u001b[1;33m)\u001b[0m\u001b[1;33m\u001b[0m\u001b[1;33m\u001b[0m\u001b[0m\n\u001b[0m\u001b[0;32m    145\u001b[0m             \u001b[1;31m# filename\u001b[0m\u001b[1;33m\u001b[0m\u001b[1;33m\u001b[0m\u001b[1;33m\u001b[0m\u001b[0m\n\u001b[0;32m    146\u001b[0m             \u001b[0mfname\u001b[0m \u001b[1;33m=\u001b[0m \u001b[0m_check_fname\u001b[0m\u001b[1;33m(\u001b[0m\u001b[0mfname\u001b[0m\u001b[1;33m,\u001b[0m \u001b[1;34m'read'\u001b[0m\u001b[1;33m,\u001b[0m \u001b[1;32mTrue\u001b[0m\u001b[1;33m,\u001b[0m \u001b[1;34m'fname'\u001b[0m\u001b[1;33m)\u001b[0m\u001b[1;33m\u001b[0m\u001b[1;33m\u001b[0m\u001b[0m\n",
      "\u001b[1;32m~\\anaconda3\\envs\\tf_gpu\\lib\\site-packages\\mne\\utils\\check.py\u001b[0m in \u001b[0;36mcheck_fname\u001b[1;34m(fname, filetype, endings, endings_err)\u001b[0m\n\u001b[0;32m     52\u001b[0m         \u001b[0mObligatory\u001b[0m \u001b[0mpossible\u001b[0m \u001b[0mendings\u001b[0m \u001b[1;32mfor\u001b[0m \u001b[0mthe\u001b[0m \u001b[0mfilename\u001b[0m\u001b[1;33m.\u001b[0m\u001b[1;33m\u001b[0m\u001b[1;33m\u001b[0m\u001b[0m\n\u001b[0;32m     53\u001b[0m     \"\"\"\n\u001b[1;32m---> 54\u001b[1;33m     \u001b[0m_validate_type\u001b[0m\u001b[1;33m(\u001b[0m\u001b[0mfname\u001b[0m\u001b[1;33m,\u001b[0m \u001b[1;34m'path-like'\u001b[0m\u001b[1;33m,\u001b[0m \u001b[1;34m'fname'\u001b[0m\u001b[1;33m)\u001b[0m\u001b[1;33m\u001b[0m\u001b[1;33m\u001b[0m\u001b[0m\n\u001b[0m\u001b[0;32m     55\u001b[0m     \u001b[0mfname\u001b[0m \u001b[1;33m=\u001b[0m \u001b[0mstr\u001b[0m\u001b[1;33m(\u001b[0m\u001b[0mfname\u001b[0m\u001b[1;33m)\u001b[0m\u001b[1;33m\u001b[0m\u001b[1;33m\u001b[0m\u001b[0m\n\u001b[0;32m     56\u001b[0m     \u001b[1;32mif\u001b[0m \u001b[0mlen\u001b[0m\u001b[1;33m(\u001b[0m\u001b[0mendings_err\u001b[0m\u001b[1;33m)\u001b[0m \u001b[1;33m>\u001b[0m \u001b[1;36m0\u001b[0m \u001b[1;32mand\u001b[0m \u001b[1;32mnot\u001b[0m \u001b[0mfname\u001b[0m\u001b[1;33m.\u001b[0m\u001b[0mendswith\u001b[0m\u001b[1;33m(\u001b[0m\u001b[0mendings_err\u001b[0m\u001b[1;33m)\u001b[0m\u001b[1;33m:\u001b[0m\u001b[1;33m\u001b[0m\u001b[1;33m\u001b[0m\u001b[0m\n",
      "\u001b[1;32m~\\anaconda3\\envs\\tf_gpu\\lib\\site-packages\\mne\\utils\\check.py\u001b[0m in \u001b[0;36m_validate_type\u001b[1;34m(item, types, item_name, type_name)\u001b[0m\n\u001b[0;32m    442\u001b[0m                 \u001b[0mtype_name\u001b[0m \u001b[1;33m=\u001b[0m \u001b[1;34m', '\u001b[0m\u001b[1;33m.\u001b[0m\u001b[0mjoin\u001b[0m\u001b[1;33m(\u001b[0m\u001b[0mtype_name\u001b[0m\u001b[1;33m)\u001b[0m\u001b[1;33m\u001b[0m\u001b[1;33m\u001b[0m\u001b[0m\n\u001b[0;32m    443\u001b[0m         \u001b[0m_item_name\u001b[0m \u001b[1;33m=\u001b[0m \u001b[1;34m'Item'\u001b[0m \u001b[1;32mif\u001b[0m \u001b[0mitem_name\u001b[0m \u001b[1;32mis\u001b[0m \u001b[1;32mNone\u001b[0m \u001b[1;32melse\u001b[0m \u001b[0mitem_name\u001b[0m\u001b[1;33m\u001b[0m\u001b[1;33m\u001b[0m\u001b[0m\n\u001b[1;32m--> 444\u001b[1;33m         raise TypeError(f\"{_item_name} must be an instance of {type_name}, \"\n\u001b[0m\u001b[0;32m    445\u001b[0m                         f\"got {type(item)} instead.\")\n\u001b[0;32m    446\u001b[0m \u001b[1;33m\u001b[0m\u001b[0m\n",
      "\u001b[1;31mTypeError\u001b[0m: fname must be an instance of path-like, got <class 'braindecode.datasets.moabb.MOABBDataset'> instead."
     ]
    }
   ],
   "source": [
    "\n"
   ]
  },
  {
   "cell_type": "code",
   "execution_count": null,
   "metadata": {},
   "outputs": [],
   "source": []
  }
 ],
 "metadata": {
  "interpreter": {
   "hash": "38ae246934a7cd8e2aa0ce1a37b33766718792e8e777147d6c6548b2d965aeb7"
  },
  "kernelspec": {
   "display_name": "Python 3.8.0 64-bit ('tf_gpu': conda)",
   "name": "python3"
  },
  "language_info": {
   "codemirror_mode": {
    "name": "ipython",
    "version": 3
   },
   "file_extension": ".py",
   "mimetype": "text/x-python",
   "name": "python",
   "nbconvert_exporter": "python",
   "pygments_lexer": "ipython3",
   "version": "3.8.0"
  },
  "orig_nbformat": 4
 },
 "nbformat": 4,
 "nbformat_minor": 2
}
