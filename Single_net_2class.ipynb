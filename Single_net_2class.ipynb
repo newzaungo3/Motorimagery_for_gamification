{
 "cells": [
  {
   "cell_type": "code",
   "execution_count": 1,
   "metadata": {},
   "outputs": [],
   "source": [
    "import numpy as np\n",
    "import matplotlib.pyplot as plt\n",
    "\n",
    "from sklearn.pipeline import Pipeline\n",
    "from sklearn.discriminant_analysis import LinearDiscriminantAnalysis\n",
    "from sklearn.model_selection import ShuffleSplit, cross_val_score\n",
    "import mne\n",
    "from mne import Epochs, pick_types, events_from_annotations\n",
    "from mne.channels import make_standard_montage\n",
    "from mne.io import concatenate_raws, read_raw_edf,read_raw_edf,read_raw_gdf,read_raw_fif\n",
    "from mne.datasets import eegbci\n",
    "from mne.decoding import CSP"
   ]
  },
  {
   "cell_type": "code",
   "execution_count": 6,
   "metadata": {},
   "outputs": [
    {
     "name": "stdout",
     "output_type": "stream",
     "text": [
      "Opening raw data file dataset\\2b_moabb\\train\\0-raw.fif...\n",
      "    Range : 0 ... 604802 =      0.000 ...  2419.208 secs\n",
      "Ready.\n",
      "Reading 0 ... 604802  =      0.000 ...  2419.208 secs...\n",
      "Opening raw data file dataset\\2b_moabb\\train\\1-raw.fif...\n",
      "    Range : 0 ... 552451 =      0.000 ...  2209.804 secs\n",
      "Ready.\n",
      "Reading 0 ... 552451  =      0.000 ...  2209.804 secs...\n",
      "Opening raw data file dataset\\2b_moabb\\train\\10-raw.fif...\n",
      "    Range : 0 ... 604802 =      0.000 ...  2419.208 secs\n",
      "Ready.\n",
      "Reading 0 ... 604802  =      0.000 ...  2419.208 secs...\n",
      "Opening raw data file dataset\\2b_moabb\\train\\11-raw.fif...\n",
      "    Range : 0 ... 604802 =      0.000 ...  2419.208 secs\n",
      "Ready.\n",
      "Reading 0 ... 604802  =      0.000 ...  2419.208 secs...\n",
      "Opening raw data file dataset\\2b_moabb\\train\\12-raw.fif...\n",
      "    Range : 0 ... 464674 =      0.000 ...  1858.696 secs\n",
      "Ready.\n",
      "Reading 0 ... 464674  =      0.000 ...  1858.696 secs...\n",
      "Opening raw data file dataset\\2b_moabb\\train\\13-raw.fif...\n",
      "    Range : 0 ... 464674 =      0.000 ...  1858.696 secs\n",
      "Ready.\n",
      "Reading 0 ... 464674  =      0.000 ...  1858.696 secs...\n",
      "Opening raw data file dataset\\2b_moabb\\train\\14-raw.fif...\n",
      "    Range : 0 ... 463618 =      0.000 ...  1854.472 secs\n",
      "Ready.\n",
      "Reading 0 ... 463618  =      0.000 ...  1854.472 secs...\n",
      "Opening raw data file dataset\\2b_moabb\\train\\15-raw.fif...\n",
      "    Range : 0 ... 604802 =      0.000 ...  2419.208 secs\n",
      "Ready.\n",
      "Reading 0 ... 604802  =      0.000 ...  2419.208 secs...\n",
      "Opening raw data file dataset\\2b_moabb\\train\\16-raw.fif...\n",
      "    Range : 0 ... 696265 =      0.000 ...  2785.060 secs\n",
      "Ready.\n",
      "Reading 0 ... 696265  =      0.000 ...  2785.060 secs...\n",
      "Opening raw data file dataset\\2b_moabb\\train\\17-raw.fif...\n",
      "    Range : 0 ... 468558 =      0.000 ...  1874.232 secs\n",
      "Ready.\n",
      "Reading 0 ... 468558  =      0.000 ...  1874.232 secs...\n",
      "Opening raw data file dataset\\2b_moabb\\train\\18-raw.fif...\n",
      "    Range : 0 ... 467478 =      0.000 ...  1869.912 secs\n",
      "Ready.\n",
      "Reading 0 ... 467478  =      0.000 ...  1869.912 secs...\n",
      "Opening raw data file dataset\\2b_moabb\\train\\19-raw.fif...\n",
      "    Range : 0 ... 466050 =      0.000 ...  1864.200 secs\n",
      "Ready.\n",
      "Reading 0 ... 466050  =      0.000 ...  1864.200 secs...\n",
      "Opening raw data file dataset\\2b_moabb\\train\\2-raw.fif...\n",
      "    Range : 0 ... 469010 =      0.000 ...  1876.040 secs\n",
      "Ready.\n",
      "Reading 0 ... 469010  =      0.000 ...  1876.040 secs...\n",
      "Opening raw data file dataset\\2b_moabb\\train\\20-raw.fif...\n",
      "    Range : 0 ... 604802 =      0.000 ...  2419.208 secs\n",
      "Ready.\n",
      "Reading 0 ... 604802  =      0.000 ...  2419.208 secs...\n",
      "Opening raw data file dataset\\2b_moabb\\train\\21-raw.fif...\n",
      "    Range : 0 ... 696265 =      0.000 ...  2785.060 secs\n",
      "Ready.\n",
      "Reading 0 ... 696265  =      0.000 ...  2785.060 secs...\n",
      "Opening raw data file dataset\\2b_moabb\\train\\22-raw.fif...\n",
      "    Range : 0 ... 461874 =      0.000 ...  1847.496 secs\n",
      "Ready.\n",
      "Reading 0 ... 461874  =      0.000 ...  1847.496 secs...\n",
      "Opening raw data file dataset\\2b_moabb\\train\\23-raw.fif...\n",
      "    Range : 0 ... 417019 =      0.000 ...  1668.076 secs\n",
      "Ready.\n",
      "Reading 0 ... 417019  =      0.000 ...  1668.076 secs...\n",
      "Opening raw data file dataset\\2b_moabb\\train\\24-raw.fif...\n",
      "    Range : 0 ... 464958 =      0.000 ...  1859.832 secs\n",
      "Ready.\n",
      "Reading 0 ... 464958  =      0.000 ...  1859.832 secs...\n",
      "Opening raw data file dataset\\2b_moabb\\train\\25-raw.fif...\n",
      "    Range : 0 ... 604802 =      0.000 ...  2419.208 secs\n",
      "Ready.\n",
      "Reading 0 ... 604802  =      0.000 ...  2419.208 secs...\n",
      "Opening raw data file dataset\\2b_moabb\\train\\26-raw.fif...\n",
      "    Range : 0 ... 604802 =      0.000 ...  2419.208 secs\n",
      "Ready.\n",
      "Reading 0 ... 604802  =      0.000 ...  2419.208 secs...\n",
      "Opening raw data file dataset\\2b_moabb\\train\\27-raw.fif...\n",
      "    Range : 0 ... 470390 =      0.000 ...  1881.560 secs\n",
      "Ready.\n",
      "Reading 0 ... 470390  =      0.000 ...  1881.560 secs...\n",
      "Opening raw data file dataset\\2b_moabb\\train\\28-raw.fif...\n",
      "    Range : 0 ... 469990 =      0.000 ...  1879.960 secs\n",
      "Ready.\n",
      "Reading 0 ... 469990  =      0.000 ...  1879.960 secs...\n",
      "Opening raw data file dataset\\2b_moabb\\train\\29-raw.fif...\n",
      "    Range : 0 ... 460902 =      0.000 ...  1843.608 secs\n",
      "Ready.\n",
      "Reading 0 ... 460902  =      0.000 ...  1843.608 secs...\n",
      "Opening raw data file dataset\\2b_moabb\\train\\3-raw.fif...\n",
      "    Range : 0 ... 466313 =      0.000 ...  1865.252 secs\n",
      "Ready.\n",
      "Reading 0 ... 466313  =      0.000 ...  1865.252 secs...\n",
      "Opening raw data file dataset\\2b_moabb\\train\\30-raw.fif...\n",
      "    Range : 0 ... 604802 =      0.000 ...  2419.208 secs\n",
      "Ready.\n",
      "Reading 0 ... 604802  =      0.000 ...  2419.208 secs...\n",
      "Opening raw data file dataset\\2b_moabb\\train\\31-raw.fif...\n",
      "    Range : 0 ... 604802 =      0.000 ...  2419.208 secs\n",
      "Ready.\n",
      "Reading 0 ... 604802  =      0.000 ...  2419.208 secs...\n",
      "Opening raw data file dataset\\2b_moabb\\train\\32-raw.fif...\n",
      "    Range : 0 ... 466726 =      0.000 ...  1866.904 secs\n",
      "Ready.\n",
      "Reading 0 ... 466726  =      0.000 ...  1866.904 secs...\n",
      "Opening raw data file dataset\\2b_moabb\\train\\33-raw.fif...\n",
      "    Range : 0 ... 470343 =      0.000 ...  1881.372 secs\n",
      "Ready.\n",
      "Reading 0 ... 470343  =      0.000 ...  1881.372 secs...\n",
      "Opening raw data file dataset\\2b_moabb\\train\\34-raw.fif...\n",
      "    Range : 0 ... 460894 =      0.000 ...  1843.576 secs\n",
      "Ready.\n",
      "Reading 0 ... 460894  =      0.000 ...  1843.576 secs...\n",
      "Opening raw data file dataset\\2b_moabb\\train\\35-raw.fif...\n",
      "    Range : 0 ... 787728 =      0.000 ...  3150.912 secs\n",
      "Ready.\n",
      "Reading 0 ... 787728  =      0.000 ...  3150.912 secs...\n",
      "Opening raw data file dataset\\2b_moabb\\train\\36-raw.fif...\n",
      "    Range : 0 ... 604802 =      0.000 ...  2419.208 secs\n",
      "Ready.\n",
      "Reading 0 ... 604802  =      0.000 ...  2419.208 secs...\n",
      "Opening raw data file dataset\\2b_moabb\\train\\37-raw.fif...\n",
      "    Range : 0 ... 474834 =      0.000 ...  1899.336 secs\n",
      "Ready.\n",
      "Reading 0 ... 474834  =      0.000 ...  1899.336 secs...\n",
      "Opening raw data file dataset\\2b_moabb\\train\\38-raw.fif...\n",
      "    Range : 0 ... 474834 =      0.000 ...  1899.336 secs\n",
      "Ready.\n",
      "Reading 0 ... 474834  =      0.000 ...  1899.336 secs...\n",
      "Opening raw data file dataset\\2b_moabb\\train\\39-raw.fif...\n",
      "    Range : 0 ... 464306 =      0.000 ...  1857.224 secs\n",
      "Ready.\n",
      "Reading 0 ... 464306  =      0.000 ...  1857.224 secs...\n",
      "Opening raw data file dataset\\2b_moabb\\train\\4-raw.fif...\n",
      "    Range : 0 ... 474362 =      0.000 ...  1897.448 secs\n",
      "Ready.\n",
      "Reading 0 ... 474362  =      0.000 ...  1897.448 secs...\n",
      "Opening raw data file dataset\\2b_moabb\\train\\40-raw.fif...\n",
      "    Range : 0 ... 604802 =      0.000 ...  2419.208 secs\n",
      "Ready.\n",
      "Reading 0 ... 604802  =      0.000 ...  2419.208 secs...\n",
      "Opening raw data file dataset\\2b_moabb\\train\\41-raw.fif...\n",
      "    Range : 0 ... 604802 =      0.000 ...  2419.208 secs\n",
      "Ready.\n",
      "Reading 0 ... 604802  =      0.000 ...  2419.208 secs...\n",
      "Opening raw data file dataset\\2b_moabb\\train\\42-raw.fif...\n",
      "    Range : 0 ... 460730 =      0.000 ...  1842.920 secs\n",
      "Ready.\n",
      "Reading 0 ... 460730  =      0.000 ...  1842.920 secs...\n",
      "Opening raw data file dataset\\2b_moabb\\train\\43-raw.fif...\n",
      "    Range : 0 ... 466802 =      0.000 ...  1867.208 secs\n",
      "Ready.\n",
      "Reading 0 ... 466802  =      0.000 ...  1867.208 secs...\n",
      "Opening raw data file dataset\\2b_moabb\\train\\44-raw.fif...\n",
      "    Range : 0 ... 458570 =      0.000 ...  1834.280 secs\n",
      "Ready.\n",
      "Reading 0 ... 458570  =      0.000 ...  1834.280 secs...\n",
      "Opening raw data file dataset\\2b_moabb\\train\\5-raw.fif...\n",
      "    Range : 0 ... 604802 =      0.000 ...  2419.208 secs\n",
      "Ready.\n",
      "Reading 0 ... 604802  =      0.000 ...  2419.208 secs...\n",
      "Opening raw data file dataset\\2b_moabb\\train\\6-raw.fif...\n",
      "    Range : 0 ... 604802 =      0.000 ...  2419.208 secs\n",
      "Ready.\n",
      "Reading 0 ... 604802  =      0.000 ...  2419.208 secs...\n",
      "Opening raw data file dataset\\2b_moabb\\train\\7-raw.fif...\n",
      "    Range : 0 ... 464154 =      0.000 ...  1856.616 secs\n",
      "Ready.\n",
      "Reading 0 ... 464154  =      0.000 ...  1856.616 secs...\n",
      "Opening raw data file dataset\\2b_moabb\\train\\8-raw.fif...\n",
      "    Range : 0 ... 361829 =      0.000 ...  1447.316 secs\n",
      "Ready.\n",
      "Reading 0 ... 361829  =      0.000 ...  1447.316 secs...\n",
      "Opening raw data file dataset\\2b_moabb\\train\\9-raw.fif...\n",
      "    Range : 0 ... 473686 =      0.000 ...  1894.744 secs\n",
      "Ready.\n",
      "Reading 0 ... 473686  =      0.000 ...  1894.744 secs...\n",
      "<Info | 10 non-empty values\n",
      " bads: []\n",
      " ch_names: C3, Cz, C4, EOG1, EOG2, EOG3, stim\n",
      " chs: 3 EEG, 3 EOG, 1 Stimulus\n",
      " custom_ref_applied: False\n",
      " dig: 6 items (3 Cardinal, 3 EEG)\n",
      " file_id: 4 items (dict)\n",
      " highpass: 0.0 Hz\n",
      " lowpass: 125.0 Hz\n",
      " meas_date: unspecified\n",
      " meas_id: 4 items (dict)\n",
      " nchan: 7\n",
      " projs: []\n",
      " sfreq: 250.0 Hz\n",
      ">\n",
      "Filtering raw data in 45 contiguous segments\n",
      "Setting up high-pass filter at 0.5 Hz\n",
      "\n",
      "FIR filter parameters\n",
      "---------------------\n",
      "Designing a one-pass, zero-phase, non-causal highpass filter:\n",
      "- Windowed time-domain design (firwin) method\n",
      "- Hamming window with 0.0194 passband ripple and 53 dB stopband attenuation\n",
      "- Lower passband edge: 0.50\n",
      "- Lower transition bandwidth: 0.50 Hz (-6 dB cutoff frequency: 0.25 Hz)\n",
      "- Filter length: 1651 samples (6.604 sec)\n",
      "\n",
      "Setting up band-stop filter from 49 - 51 Hz\n",
      "\n",
      "FIR filter parameters\n",
      "---------------------\n",
      "Designing a one-pass, zero-phase, non-causal bandstop filter:\n",
      "- Windowed time-domain design (firwin) method\n",
      "- Hamming window with 0.0194 passband ripple and 53 dB stopband attenuation\n",
      "- Lower passband edge: 49.38\n",
      "- Lower transition bandwidth: 0.50 Hz (-6 dB cutoff frequency: 49.12 Hz)\n",
      "- Upper passband edge: 50.62 Hz\n",
      "- Upper transition bandwidth: 0.50 Hz (-6 dB cutoff frequency: 50.88 Hz)\n",
      "- Filter length: 1651 samples (6.604 sec)\n",
      "\n",
      "Used Annotations descriptions: ['left_hand', 'right_hand']\n",
      "[[   55889        0        1]\n",
      " [   58249        0        2]\n",
      " [   62817        0        1]\n",
      " ...\n",
      " [23639657        0        1]\n",
      " [23641945        0        2]\n",
      " [23644321        0        1]]\n",
      "[0 1 2]\n",
      "Not setting metadata\n",
      "Not setting metadata\n",
      "6520 matching events found\n",
      "No baseline correction applied\n",
      "0 projection items activated\n",
      "Loading data for 6520 events and 151 original time points ...\n",
      "0 bad epochs dropped\n"
     ]
    }
   ],
   "source": [
    "def get_data():\n",
    "    #path = \"dataset\\\\bci_dataset\\\\train\"\n",
    "    #2b path \n",
    "    path = \"dataset\\\\2b_moabb\\\\train\"\n",
    "    test_path = \"dataset\\\\2b_moabb\\\\train\\\\0-raw.fif\"\n",
    "    files = os.listdir(path)\n",
    "    data_path = []\n",
    "    for f in files:\n",
    "        file = os.path.join(path,f)\n",
    "        data_path.append(file)\n",
    "        \n",
    "    \n",
    "    tmin, tmax = -0.2, 0.4\n",
    "    event_id = dict(left=1, right = 2)\n",
    "\n",
    "    raw = concatenate_raws([read_raw_fif(f, preload=True) for f in data_path])\n",
    "    #raw = concatenate_raws([read_raw_fif(path, preload=True)])\n",
    "    raw_data = raw.copy()\n",
    "    print(raw_data.info)\n",
    "    # strip channel names of \".\" characters\n",
    "    raw_data.rename_channels(lambda x: x.strip('.'))\n",
    "\n",
    "    # Apply band-pass filter\n",
    "    #skip_by_annotation='edge'\n",
    "    raw_data.filter(l_freq=0.5, h_freq=None)\n",
    "    raw_data.notch_filter(50)\n",
    "\n",
    "    events, _ = events_from_annotations(raw_data)\n",
    "    print(events)\n",
    "    \n",
    "    \n",
    "    picks = pick_types(raw_data.info, meg=False, eeg=True, stim=False, eog=False,\n",
    "                       exclude='bads')\n",
    "    print(picks)\n",
    "    #delete eog band\n",
    "    #picks = np.delete(picks,[3,4,5])\n",
    "    \n",
    "    # Read epochs (train will be done only between 1 and 2s)\n",
    "    #reject_criteria = dict( eeg=100e-6)       # 100 µV\n",
    "    # Testing will be done with a running classifier\n",
    "    epochs = Epochs(raw_data, events, event_id, tmin, tmax, proj=True, picks=picks,\n",
    "                    baseline=None,preload=True)\n",
    "    #epochs.crop(tmin=1., tmax=None)\n",
    "    labels = epochs.events[:, 2] - 1\n",
    "    return epochs.get_data()[:, :, :256], labels,epochs,raw_data\n",
    "\n",
    "\n",
    "epochs_data, labels,epochs1,raw= get_data()"
   ]
  },
  {
   "cell_type": "code",
   "execution_count": 7,
   "metadata": {},
   "outputs": [
    {
     "name": "stdout",
     "output_type": "stream",
     "text": [
      "(6520, 3, 151)\n",
      "(6520,)\n",
      "3\n",
      "[0 1 0 ... 0 1 0]\n",
      "['C3', 'Cz', 'C4', 'EOG1', 'EOG2', 'EOG3', 'stim']\n"
     ]
    }
   ],
   "source": [
    "# 280 events(epoch)\n",
    "# 22 channel\n",
    "# 256 Time(samples)\n",
    "\n",
    "print(epochs_data.shape)\n",
    "print(labels.shape)\n",
    "print(epochs_data.shape[1])\n",
    "print(labels)\n",
    "print(raw.info['ch_names'])\n"
   ]
  },
  {
   "cell_type": "code",
   "execution_count": 8,
   "metadata": {},
   "outputs": [
    {
     "name": "stdout",
     "output_type": "stream",
     "text": [
      "<Epochs |  6520 events (all good), -0.2 - 0.4 sec, baseline off, ~22.5 MB, data loaded,\n",
      " 'left': 3260\n",
      " 'right': 3260>\n",
      "Using matplotlib as 2D backend.\n"
     ]
    },
    {
     "data": {
      "image/png": "[encoded data removed]",
      "text/plain": [
       "<MNEBrowseFigure size 2400x1271.25 with 4 Axes>"
      ]
     },
     "metadata": {},
     "output_type": "display_data"
    },
    {
     "name": "stdout",
     "output_type": "stream",
     "text": [
      "    Using multitaper spectrum estimation with 7 DPSS windows\n"
     ]
    },
    {
     "data": {
      "image/png": "[encoded data removed]",
      "text/plain": [
       "<MNELineFigure size 1000x350 with 2 Axes>"
      ]
     },
     "metadata": {},
     "output_type": "display_data"
    },
    {
     "data": {
      "image/png": "[encoded data removed]",
      "text/plain": [
       "<MNELineFigure size 1000x350 with 2 Axes>"
      ]
     },
     "execution_count": 8,
     "metadata": {},
     "output_type": "execute_result"
    }
   ],
   "source": [
    "print(epochs1)\n",
    "epochs1.plot()\n",
    "epochs1.plot_psd(fmax=50)"
   ]
  },
  {
   "cell_type": "code",
   "execution_count": null,
   "metadata": {},
   "outputs": [],
   "source": []
  },
  {
   "cell_type": "code",
   "execution_count": 5,
   "metadata": {},
   "outputs": [],
   "source": [
    "def amplitude(x):\n",
    "    \"\"\"Data augmentation for adding noise to amplitude of sepctral image\n",
    "    1 electrode คือ การดึงค่าคลื่นจาก electrode นั้นมา ซึ้่ง electrode นั้นคือ fc fz c4 c3 ประมาณนี้\n",
    "    ----------\n",
    "    X : array, shape (n_channels, n_times)\n",
    "        The input signals.\n",
    "    Returns\n",
    "    -------\n",
    "    X_t : array, shape (n_channels, n_times)\n",
    "        reconstructed new time series from inverse STFT\n",
    "    \"\"\"\n",
    "    print(\"Hello\")\n",
    "\n"
   ]
  },
  {
   "cell_type": "code",
   "execution_count": 9,
   "metadata": {},
   "outputs": [],
   "source": [
    "import torch   \n",
    "import torch.optim as optim  \n",
    "from torch.utils.data import Dataset, DataLoader  \n",
    "from torch.utils.data import Subset  \n",
    "from torch import nn  \n",
    "import torch.nn.functional as F  \n",
    "from torch.utils.data import RandomSampler  \n",
    "from torch.utils.data import SequentialSampler  \n",
    "\n",
    "from common import EpochsDataset  \n",
    "\n",
    "cv = ShuffleSplit(10, test_size=0.2, random_state=42)\n",
    "cv_split = cv.split(epochs_data)\n",
    "train_idx, test_idx = next(cv_split)\n",
    "\n",
    "\n",
    "def scale(X):\n",
    "    \"\"\"Standard scaling of data along the last dimention.\n",
    "    Parameters\n",
    "    ----------\n",
    "    X : array, shape (n_channels, n_times)\n",
    "        The input signals.\n",
    "    Returns\n",
    "    -------\n",
    "    X_t : array, shape (n_channels, n_times)\n",
    "        The scaled signals.\n",
    "    \"\"\"\n",
    "    return X / 2e-5\n",
    "\n",
    "dataset = EpochsDataset(epochs_data, labels, transform=scale)\n",
    "\n",
    "ds_train, ds_valid = Subset(dataset, train_idx), Subset(dataset, test_idx)\n",
    "\n",
    "batch_size_train = len(ds_train)\n",
    "batch_size_valid = len(ds_valid)\n",
    "sampler_train = RandomSampler(ds_train)\n",
    "sampler_valid = SequentialSampler(ds_valid)\n",
    "\n",
    "# create loaders\n",
    "num_workers = 0\n",
    "loader_train = \\\n",
    "    DataLoader(ds_train, batch_size=batch_size_train,\n",
    "               num_workers=num_workers, sampler=sampler_train)\n",
    "loader_valid = \\\n",
    "    DataLoader(ds_valid, batch_size=batch_size_valid,\n",
    "               num_workers=num_workers, sampler=sampler_valid)"
   ]
  },
  {
   "cell_type": "code",
   "execution_count": 26,
   "metadata": {},
   "outputs": [],
   "source": [
    "class SingleNet(nn.Module):\n",
    "    def __init__(self):\n",
    "        super().__init__()\n",
    "\n",
    "        # define model architecture\n",
    "        # torch.Size([36, 1, 64, 256])\n",
    "        # temporal convolutional kernel 25 filter with size(11,1)\n",
    "        #input [224, 1, 22, 256]\n",
    "        # new input [96, 1, 3, 151]\n",
    "        #A block\n",
    "        \n",
    "        #Temporal torch.Size([5216, 8, 1, 151])\n",
    "        self.temporalConv = nn.Conv1d(in_channels=1,out_channels=8,kernel_size=(3,1),stride=1)\n",
    "        #Spatial torch.Size([5216, 8, 1, 151])\n",
    "        self.spatialConv = nn.Conv1d(in_channels=8,out_channels=8,kernel_size=(1,1),stride=1)\n",
    "        #Maxx torch.Size([5216, 41, 1, 2])\n",
    "        self.maxPooling = nn.MaxPool2d((1,3))\n",
    "        \n",
    "        #B block\n",
    "        # 1st convo output [25,1,371]\n",
    "        #input [224, 8, 1, 85]\n",
    "        # new input [96, 8, 1, 50]\n",
    "        \n",
    "        self.firstConv = nn.Conv1d(in_channels=8, out_channels=8,kernel_size=(1,1))\n",
    "        self.secondConv = nn.Conv1d(in_channels=8, out_channels=33,kernel_size=(1,1))\n",
    "        self.thirdConv = nn.Conv1d(in_channels=33,out_channels=33,kernel_size=(1,1))\n",
    "        self.maxPooling2 = nn.MaxPool2d((1,3))\n",
    "        # out Secondblock torch.Size([5216, 41, 1, 16])\n",
    "        \n",
    "        #C block\n",
    "        #input [224, 41, 1, 28]\n",
    "        #new input [96, 41, 1, 16]\n",
    "        \n",
    "        self.classify = nn.Conv1d(in_channels=41,out_channels=41,kernel_size=(1,11)) \n",
    "        #Classify torch.Size([5216, 41, 1, 6])\n",
    "        self.maxPooling3 = nn.MaxPool2d((1,3))\n",
    "        #Maxx torch.Size([5216, 41, 1, 2])\n",
    "        self.flatten = nn.Flatten()\n",
    "        #flatter torch.Size([5216, 82])\n",
    "        self.elu = nn.ELU()\n",
    "        #elu torch.Size([5216, 82])\n",
    "        self.fully = nn.Linear(82,2) \n",
    "        #fully torch.Size([5216, 2])\n",
    "        \n",
    "        \n",
    "    def forward(self, x):\n",
    "        #Conv1d(1,ch,kernel_size=10) on tensor [batch=1, channels=1, time=400]\n",
    "        \n",
    "        x = self.temporalConv(x)\n",
    "        x= self.spatialConv(x)\n",
    "        x = self.elu(x)\n",
    "        x = self.maxPooling(x)\n",
    "\n",
    "        \n",
    "        out2 = self.firstConv(x)\n",
    "        out2 = self.secondConv(out2)\n",
    "        out2 = self.thirdConv(out2)\n",
    "        out3 = torch.cat((x,out2),1)\n",
    "        out3 = self.maxPooling2(out3)\n",
    "        \n",
    "        \n",
    "        out3 = self.classify(out3)\n",
    "        out3 = self.maxPooling3(out3)\n",
    "        out3 = self.flatten(out3)\n",
    "        out3 = self.elu(out3)\n",
    "        out3 = self.fully(out3)\n",
    "        out3 = self.elu(out3)\n",
    "        out3 = F.log_softmax(out3, dim=1)\n",
    "        \n",
    "        return out3"
   ]
  },
  {
   "cell_type": "code",
   "execution_count": 27,
   "metadata": {},
   "outputs": [],
   "source": [
    "#device = 'cuda'\n",
    "device = 'cpu'\n",
    "model = SingleNet()\n"
   ]
  },
  {
   "cell_type": "code",
   "execution_count": 28,
   "metadata": {},
   "outputs": [
    {
     "name": "stdout",
     "output_type": "stream",
     "text": [
      "\n",
      "Starting epoch 1 / 100\n"
     ]
    },
    {
     "name": "stderr",
     "output_type": "stream",
     "text": [
      "  0%|          | 0/1 [00:00<?, ?it/s]"
     ]
    },
    {
     "name": "stdout",
     "output_type": "stream",
     "text": [
      "Secondblock torch.Size([5216, 41, 1, 16])\n"
     ]
    },
    {
     "name": "stderr",
     "output_type": "stream",
     "text": [
      "avg train loss: 0.6953: 100%|██████████| 1/1 [00:01<00:00,  1.90s/it]\n",
      "avg val loss: 0.6945: 100%|██████████| 1/1 [00:00<00:00,  5.39it/s]\n"
     ]
    },
    {
     "name": "stdout",
     "output_type": "stream",
     "text": [
      "Secondblock torch.Size([1304, 41, 1, 16])\n",
      "---  Accuracy : 0.4976993799209595 \n",
      "\n",
      "\n",
      "best val loss inf -> 0.6945\n",
      "\n",
      "Starting epoch 2 / 100\n"
     ]
    },
    {
     "name": "stderr",
     "output_type": "stream",
     "text": [
      "  0%|          | 0/1 [00:00<?, ?it/s]"
     ]
    },
    {
     "name": "stdout",
     "output_type": "stream",
     "text": [
      "Secondblock torch.Size([5216, 41, 1, 16])\n"
     ]
    },
    {
     "name": "stderr",
     "output_type": "stream",
     "text": [
      "avg train loss: 0.6942: 100%|██████████| 1/1 [00:01<00:00,  1.34s/it]\n",
      "avg val loss: 0.6937: 100%|██████████| 1/1 [00:00<00:00,  6.29it/s]\n"
     ]
    },
    {
     "name": "stdout",
     "output_type": "stream",
     "text": [
      "Secondblock torch.Size([1304, 41, 1, 16])\n",
      "---  Accuracy : 0.49463191628456116 \n",
      "\n",
      "\n",
      "best val loss 0.6945 -> 0.6937\n",
      "\n",
      "Starting epoch 3 / 100\n"
     ]
    },
    {
     "name": "stderr",
     "output_type": "stream",
     "text": [
      "  0%|          | 0/1 [00:00<?, ?it/s]"
     ]
    },
    {
     "name": "stdout",
     "output_type": "stream",
     "text": [
      "Secondblock torch.Size([5216, 41, 1, 16])\n"
     ]
    },
    {
     "name": "stderr",
     "output_type": "stream",
     "text": [
      "avg train loss: 0.6935: 100%|██████████| 1/1 [00:01<00:00,  1.42s/it]\n",
      "avg val loss: 0.6933: 100%|██████████| 1/1 [00:00<00:00,  6.20it/s]\n"
     ]
    },
    {
     "name": "stdout",
     "output_type": "stream",
     "text": [
      "Secondblock torch.Size([1304, 41, 1, 16])\n",
      "---  Accuracy : 0.5038343667984009 \n",
      "\n",
      "\n",
      "best val loss 0.6937 -> 0.6933\n",
      "\n",
      "Starting epoch 4 / 100\n"
     ]
    },
    {
     "name": "stderr",
     "output_type": "stream",
     "text": [
      "  0%|          | 0/1 [00:00<?, ?it/s]"
     ]
    },
    {
     "name": "stdout",
     "output_type": "stream",
     "text": [
      "Secondblock torch.Size([5216, 41, 1, 16])\n"
     ]
    },
    {
     "name": "stderr",
     "output_type": "stream",
     "text": [
      "avg train loss: 0.6932: 100%|██████████| 1/1 [00:02<00:00,  2.17s/it]\n",
      "avg val loss: 0.6932: 100%|██████████| 1/1 [00:00<00:00,  4.25it/s]\n"
     ]
    },
    {
     "name": "stdout",
     "output_type": "stream",
     "text": [
      "Secondblock torch.Size([1304, 41, 1, 16])\n",
      "---  Accuracy : 0.504601240158081 \n",
      "\n",
      "\n",
      "best val loss 0.6933 -> 0.6932\n",
      "\n",
      "Starting epoch 5 / 100\n"
     ]
    },
    {
     "name": "stderr",
     "output_type": "stream",
     "text": [
      "  0%|          | 0/1 [00:00<?, ?it/s]"
     ]
    },
    {
     "name": "stdout",
     "output_type": "stream",
     "text": [
      "Secondblock torch.Size([5216, 41, 1, 16])\n"
     ]
    },
    {
     "name": "stderr",
     "output_type": "stream",
     "text": [
      "avg train loss: 0.6932: 100%|██████████| 1/1 [00:01<00:00,  1.23s/it]\n",
      "avg val loss: 0.6933: 100%|██████████| 1/1 [00:00<00:00,  6.45it/s]\n"
     ]
    },
    {
     "name": "stdout",
     "output_type": "stream",
     "text": [
      "Secondblock torch.Size([1304, 41, 1, 16])\n",
      "---  Accuracy : 0.5023006200790405 \n",
      "\n",
      "Waiting += 1\n",
      "\n",
      "Starting epoch 6 / 100\n"
     ]
    },
    {
     "name": "stderr",
     "output_type": "stream",
     "text": [
      "  0%|          | 0/1 [00:00<?, ?it/s]"
     ]
    },
    {
     "name": "stdout",
     "output_type": "stream",
     "text": [
      "Secondblock torch.Size([5216, 41, 1, 16])\n"
     ]
    },
    {
     "name": "stderr",
     "output_type": "stream",
     "text": [
      "avg train loss: 0.6934: 100%|██████████| 1/1 [00:01<00:00,  1.07s/it]\n",
      "avg val loss: 0.6934: 100%|██████████| 1/1 [00:00<00:00,  6.54it/s]\n"
     ]
    },
    {
     "name": "stdout",
     "output_type": "stream",
     "text": [
      "Secondblock torch.Size([1304, 41, 1, 16])\n",
      "---  Accuracy : 0.5030674934387207 \n",
      "\n",
      "Waiting += 1\n",
      "\n",
      "Starting epoch 7 / 100\n"
     ]
    },
    {
     "name": "stderr",
     "output_type": "stream",
     "text": [
      "  0%|          | 0/1 [00:00<?, ?it/s]"
     ]
    },
    {
     "name": "stdout",
     "output_type": "stream",
     "text": [
      "Secondblock torch.Size([5216, 41, 1, 16])\n"
     ]
    },
    {
     "name": "stderr",
     "output_type": "stream",
     "text": [
      "avg train loss: 0.6935: 100%|██████████| 1/1 [00:01<00:00,  1.02s/it]\n",
      "avg val loss: 0.6935: 100%|██████████| 1/1 [00:00<00:00,  6.53it/s]\n"
     ]
    },
    {
     "name": "stdout",
     "output_type": "stream",
     "text": [
      "Secondblock torch.Size([1304, 41, 1, 16])\n",
      "---  Accuracy : 0.5023006200790405 \n",
      "\n",
      "Waiting += 1\n",
      "\n",
      "Starting epoch 8 / 100\n"
     ]
    },
    {
     "name": "stderr",
     "output_type": "stream",
     "text": [
      "  0%|          | 0/1 [00:00<?, ?it/s]"
     ]
    },
    {
     "name": "stdout",
     "output_type": "stream",
     "text": [
      "Secondblock torch.Size([5216, 41, 1, 16])\n"
     ]
    },
    {
     "name": "stderr",
     "output_type": "stream",
     "text": [
      "avg train loss: 0.6937: 100%|██████████| 1/1 [00:00<00:00,  1.03it/s]\n",
      "avg val loss: 0.6935: 100%|██████████| 1/1 [00:00<00:00,  6.03it/s]\n"
     ]
    },
    {
     "name": "stdout",
     "output_type": "stream",
     "text": [
      "Secondblock torch.Size([1304, 41, 1, 16])\n",
      "---  Accuracy : 0.5023006200790405 \n",
      "\n",
      "Waiting += 1\n",
      "\n",
      "Starting epoch 9 / 100\n"
     ]
    },
    {
     "name": "stderr",
     "output_type": "stream",
     "text": [
      "  0%|          | 0/1 [00:00<?, ?it/s]"
     ]
    },
    {
     "name": "stdout",
     "output_type": "stream",
     "text": [
      "Secondblock torch.Size([5216, 41, 1, 16])\n"
     ]
    },
    {
     "name": "stderr",
     "output_type": "stream",
     "text": [
      "avg train loss: 0.6936: 100%|██████████| 1/1 [00:00<00:00,  1.01it/s]\n",
      "avg val loss: 0.6934: 100%|██████████| 1/1 [00:00<00:00,  6.97it/s]\n"
     ]
    },
    {
     "name": "stdout",
     "output_type": "stream",
     "text": [
      "Secondblock torch.Size([1304, 41, 1, 16])\n",
      "---  Accuracy : 0.5030674934387207 \n",
      "\n",
      "Waiting += 1\n",
      "\n",
      "Starting epoch 10 / 100\n"
     ]
    },
    {
     "name": "stderr",
     "output_type": "stream",
     "text": [
      "  0%|          | 0/1 [00:00<?, ?it/s]"
     ]
    },
    {
     "name": "stdout",
     "output_type": "stream",
     "text": [
      "Secondblock torch.Size([5216, 41, 1, 16])\n"
     ]
    },
    {
     "name": "stderr",
     "output_type": "stream",
     "text": [
      "avg train loss: 0.6936: 100%|██████████| 1/1 [00:00<00:00,  1.09it/s]\n",
      "avg val loss: 0.6933: 100%|██████████| 1/1 [00:00<00:00,  7.16it/s]\n"
     ]
    },
    {
     "name": "stdout",
     "output_type": "stream",
     "text": [
      "Secondblock torch.Size([1304, 41, 1, 16])\n",
      "---  Accuracy : 0.5023006200790405 \n",
      "\n",
      "Waiting += 1\n",
      "\n",
      "Starting epoch 11 / 100\n"
     ]
    },
    {
     "name": "stderr",
     "output_type": "stream",
     "text": [
      "  0%|          | 0/1 [00:00<?, ?it/s]"
     ]
    },
    {
     "name": "stdout",
     "output_type": "stream",
     "text": [
      "Secondblock torch.Size([5216, 41, 1, 16])\n"
     ]
    },
    {
     "name": "stderr",
     "output_type": "stream",
     "text": [
      "avg train loss: 0.6934: 100%|██████████| 1/1 [00:01<00:00,  1.64s/it]\n",
      "avg val loss: 0.6932: 100%|██████████| 1/1 [00:00<00:00,  6.95it/s]\n"
     ]
    },
    {
     "name": "stdout",
     "output_type": "stream",
     "text": [
      "Secondblock torch.Size([1304, 41, 1, 16])\n",
      "---  Accuracy : 0.5038343667984009 \n",
      "\n",
      "Waiting += 1\n",
      "\n",
      "Starting epoch 12 / 100\n"
     ]
    },
    {
     "name": "stderr",
     "output_type": "stream",
     "text": [
      "  0%|          | 0/1 [00:00<?, ?it/s]"
     ]
    },
    {
     "name": "stdout",
     "output_type": "stream",
     "text": [
      "Secondblock torch.Size([5216, 41, 1, 16])\n"
     ]
    },
    {
     "name": "stderr",
     "output_type": "stream",
     "text": [
      "avg train loss: 0.6933: 100%|██████████| 1/1 [00:00<00:00,  1.02it/s]\n",
      "avg val loss: 0.6932: 100%|██████████| 1/1 [00:00<00:00,  6.29it/s]\n"
     ]
    },
    {
     "name": "stdout",
     "output_type": "stream",
     "text": [
      "Secondblock torch.Size([1304, 41, 1, 16])\n",
      "---  Accuracy : 0.4992331266403198 \n",
      "\n",
      "\n",
      "best val loss 0.6932 -> 0.6932\n",
      "\n",
      "Starting epoch 13 / 100\n"
     ]
    },
    {
     "name": "stderr",
     "output_type": "stream",
     "text": [
      "  0%|          | 0/1 [00:00<?, ?it/s]"
     ]
    },
    {
     "name": "stdout",
     "output_type": "stream",
     "text": [
      "Secondblock torch.Size([5216, 41, 1, 16])\n"
     ]
    },
    {
     "name": "stderr",
     "output_type": "stream",
     "text": [
      "avg train loss: 0.6932: 100%|██████████| 1/1 [00:00<00:00,  1.02it/s]\n",
      "avg val loss: 0.6932: 100%|██████████| 1/1 [00:00<00:00,  6.99it/s]\n"
     ]
    },
    {
     "name": "stdout",
     "output_type": "stream",
     "text": [
      "Secondblock torch.Size([1304, 41, 1, 16])\n",
      "---  Accuracy : 0.5084356069564819 \n",
      "\n",
      "\n",
      "best val loss 0.6932 -> 0.6932\n",
      "\n",
      "Starting epoch 14 / 100\n"
     ]
    },
    {
     "name": "stderr",
     "output_type": "stream",
     "text": [
      "  0%|          | 0/1 [00:00<?, ?it/s]"
     ]
    },
    {
     "name": "stdout",
     "output_type": "stream",
     "text": [
      "Secondblock torch.Size([5216, 41, 1, 16])\n"
     ]
    },
    {
     "name": "stderr",
     "output_type": "stream",
     "text": [
      "avg train loss: 0.6931: 100%|██████████| 1/1 [00:00<00:00,  1.07it/s]\n",
      "avg val loss: 0.6932: 100%|██████████| 1/1 [00:00<00:00,  6.90it/s]\n"
     ]
    },
    {
     "name": "stdout",
     "output_type": "stream",
     "text": [
      "Secondblock torch.Size([1304, 41, 1, 16])\n",
      "---  Accuracy : 0.5015337467193604 \n",
      "\n",
      "Waiting += 1\n",
      "\n",
      "Starting epoch 15 / 100\n"
     ]
    },
    {
     "name": "stderr",
     "output_type": "stream",
     "text": [
      "  0%|          | 0/1 [00:00<?, ?it/s]"
     ]
    },
    {
     "name": "stdout",
     "output_type": "stream",
     "text": [
      "Secondblock torch.Size([5216, 41, 1, 16])\n"
     ]
    },
    {
     "name": "stderr",
     "output_type": "stream",
     "text": [
      "avg train loss: 0.6932: 100%|██████████| 1/1 [00:00<00:00,  1.08it/s]\n",
      "avg val loss: 0.6933: 100%|██████████| 1/1 [00:00<00:00,  7.16it/s]\n"
     ]
    },
    {
     "name": "stdout",
     "output_type": "stream",
     "text": [
      "Secondblock torch.Size([1304, 41, 1, 16])\n",
      "---  Accuracy : 0.5 \n",
      "\n",
      "Waiting += 1\n",
      "\n",
      "Starting epoch 16 / 100\n"
     ]
    },
    {
     "name": "stderr",
     "output_type": "stream",
     "text": [
      "  0%|          | 0/1 [00:00<?, ?it/s]"
     ]
    },
    {
     "name": "stdout",
     "output_type": "stream",
     "text": [
      "Secondblock torch.Size([5216, 41, 1, 16])\n"
     ]
    },
    {
     "name": "stderr",
     "output_type": "stream",
     "text": [
      "avg train loss: 0.6932: 100%|██████████| 1/1 [00:00<00:00,  1.05it/s]\n",
      "avg val loss: 0.6933: 100%|██████████| 1/1 [00:00<00:00,  7.70it/s]\n"
     ]
    },
    {
     "name": "stdout",
     "output_type": "stream",
     "text": [
      "Secondblock torch.Size([1304, 41, 1, 16])\n",
      "---  Accuracy : 0.49233129620552063 \n",
      "\n",
      "Waiting += 1\n",
      "\n",
      "Starting epoch 17 / 100\n"
     ]
    },
    {
     "name": "stderr",
     "output_type": "stream",
     "text": [
      "  0%|          | 0/1 [00:00<?, ?it/s]"
     ]
    },
    {
     "name": "stdout",
     "output_type": "stream",
     "text": [
      "Secondblock torch.Size([5216, 41, 1, 16])\n"
     ]
    },
    {
     "name": "stderr",
     "output_type": "stream",
     "text": [
      "avg train loss: 0.6932: 100%|██████████| 1/1 [00:01<00:00,  1.05s/it]\n",
      "avg val loss: 0.6934: 100%|██████████| 1/1 [00:00<00:00,  7.12it/s]\n"
     ]
    },
    {
     "name": "stdout",
     "output_type": "stream",
     "text": [
      "Secondblock torch.Size([1304, 41, 1, 16])\n",
      "---  Accuracy : 0.493865042924881 \n",
      "\n",
      "Waiting += 1\n",
      "\n",
      "Starting epoch 18 / 100\n"
     ]
    },
    {
     "name": "stderr",
     "output_type": "stream",
     "text": [
      "  0%|          | 0/1 [00:00<?, ?it/s]"
     ]
    },
    {
     "name": "stdout",
     "output_type": "stream",
     "text": [
      "Secondblock torch.Size([5216, 41, 1, 16])\n"
     ]
    },
    {
     "name": "stderr",
     "output_type": "stream",
     "text": [
      "avg train loss: 0.6933: 100%|██████████| 1/1 [00:00<00:00,  1.06it/s]\n",
      "avg val loss: 0.6934: 100%|██████████| 1/1 [00:00<00:00,  6.76it/s]\n"
     ]
    },
    {
     "name": "stdout",
     "output_type": "stream",
     "text": [
      "Secondblock torch.Size([1304, 41, 1, 16])\n",
      "---  Accuracy : 0.493865042924881 \n",
      "\n",
      "Waiting += 1\n",
      "\n",
      "Starting epoch 19 / 100\n"
     ]
    },
    {
     "name": "stderr",
     "output_type": "stream",
     "text": [
      "  0%|          | 0/1 [00:00<?, ?it/s]"
     ]
    },
    {
     "name": "stdout",
     "output_type": "stream",
     "text": [
      "Secondblock torch.Size([5216, 41, 1, 16])\n"
     ]
    },
    {
     "name": "stderr",
     "output_type": "stream",
     "text": [
      "avg train loss: 0.6933: 100%|██████████| 1/1 [00:01<00:00,  1.04s/it]\n",
      "avg val loss: 0.6934: 100%|██████████| 1/1 [00:00<00:00,  6.88it/s]\n"
     ]
    },
    {
     "name": "stdout",
     "output_type": "stream",
     "text": [
      "Secondblock torch.Size([1304, 41, 1, 16])\n",
      "---  Accuracy : 0.493865042924881 \n",
      "\n",
      "Waiting += 1\n",
      "\n",
      "Starting epoch 20 / 100\n"
     ]
    },
    {
     "name": "stderr",
     "output_type": "stream",
     "text": [
      "  0%|          | 0/1 [00:00<?, ?it/s]"
     ]
    },
    {
     "name": "stdout",
     "output_type": "stream",
     "text": [
      "Secondblock torch.Size([5216, 41, 1, 16])\n"
     ]
    },
    {
     "name": "stderr",
     "output_type": "stream",
     "text": [
      "avg train loss: 0.6933: 100%|██████████| 1/1 [00:01<00:00,  1.05s/it]\n",
      "avg val loss: 0.6933: 100%|██████████| 1/1 [00:00<00:00,  7.05it/s]\n"
     ]
    },
    {
     "name": "stdout",
     "output_type": "stream",
     "text": [
      "Secondblock torch.Size([1304, 41, 1, 16])\n",
      "---  Accuracy : 0.49156442284584045 \n",
      "\n",
      "Waiting += 1\n",
      "\n",
      "Starting epoch 21 / 100\n"
     ]
    },
    {
     "name": "stderr",
     "output_type": "stream",
     "text": [
      "  0%|          | 0/1 [00:00<?, ?it/s]"
     ]
    },
    {
     "name": "stdout",
     "output_type": "stream",
     "text": [
      "Secondblock torch.Size([5216, 41, 1, 16])\n"
     ]
    },
    {
     "name": "stderr",
     "output_type": "stream",
     "text": [
      "avg train loss: 0.6932: 100%|██████████| 1/1 [00:01<00:00,  1.04s/it]\n",
      "avg val loss: 0.6933: 100%|██████████| 1/1 [00:00<00:00,  6.65it/s]\n"
     ]
    },
    {
     "name": "stdout",
     "output_type": "stream",
     "text": [
      "Secondblock torch.Size([1304, 41, 1, 16])\n",
      "---  Accuracy : 0.49539875984191895 \n",
      "\n",
      "Waiting += 1\n",
      "\n",
      "Starting epoch 22 / 100\n"
     ]
    },
    {
     "name": "stderr",
     "output_type": "stream",
     "text": [
      "  0%|          | 0/1 [00:00<?, ?it/s]"
     ]
    },
    {
     "name": "stdout",
     "output_type": "stream",
     "text": [
      "Secondblock torch.Size([5216, 41, 1, 16])\n"
     ]
    },
    {
     "name": "stderr",
     "output_type": "stream",
     "text": [
      "avg train loss: 0.6932: 100%|██████████| 1/1 [00:00<00:00,  1.05it/s]\n",
      "avg val loss: 0.6932: 100%|██████████| 1/1 [00:00<00:00,  6.98it/s]\n"
     ]
    },
    {
     "name": "stdout",
     "output_type": "stream",
     "text": [
      "Secondblock torch.Size([1304, 41, 1, 16])\n",
      "---  Accuracy : 0.5076687335968018 \n",
      "\n",
      "Waiting += 1\n",
      "\n",
      "Starting epoch 23 / 100\n"
     ]
    },
    {
     "name": "stderr",
     "output_type": "stream",
     "text": [
      "  0%|          | 0/1 [00:00<?, ?it/s]"
     ]
    },
    {
     "name": "stdout",
     "output_type": "stream",
     "text": [
      "Secondblock torch.Size([5216, 41, 1, 16])\n"
     ]
    },
    {
     "name": "stderr",
     "output_type": "stream",
     "text": [
      "avg train loss: 0.6931: 100%|██████████| 1/1 [00:01<00:00,  1.37s/it]\n",
      "avg val loss: 0.6932: 100%|██████████| 1/1 [00:00<00:00,  7.11it/s]\n"
     ]
    },
    {
     "name": "stdout",
     "output_type": "stream",
     "text": [
      "Secondblock torch.Size([1304, 41, 1, 16])\n",
      "---  Accuracy : 0.5076687335968018 \n",
      "\n",
      "Waiting += 1\n",
      "\n",
      "Starting epoch 24 / 100\n"
     ]
    },
    {
     "name": "stderr",
     "output_type": "stream",
     "text": [
      "  0%|          | 0/1 [00:00<?, ?it/s]"
     ]
    },
    {
     "name": "stdout",
     "output_type": "stream",
     "text": [
      "Secondblock torch.Size([5216, 41, 1, 16])\n"
     ]
    },
    {
     "name": "stderr",
     "output_type": "stream",
     "text": [
      "avg train loss: 0.6931: 100%|██████████| 1/1 [00:00<00:00,  1.06it/s]\n",
      "avg val loss: 0.6931: 100%|██████████| 1/1 [00:00<00:00,  6.03it/s]\n"
     ]
    },
    {
     "name": "stdout",
     "output_type": "stream",
     "text": [
      "Secondblock torch.Size([1304, 41, 1, 16])\n",
      "---  Accuracy : 0.5069018602371216 \n",
      "\n",
      "\n",
      "best val loss 0.6932 -> 0.6931\n",
      "\n",
      "Starting epoch 25 / 100\n"
     ]
    },
    {
     "name": "stderr",
     "output_type": "stream",
     "text": [
      "  0%|          | 0/1 [00:00<?, ?it/s]"
     ]
    },
    {
     "name": "stdout",
     "output_type": "stream",
     "text": [
      "Secondblock torch.Size([5216, 41, 1, 16])\n"
     ]
    },
    {
     "name": "stderr",
     "output_type": "stream",
     "text": [
      "avg train loss: 0.6931: 100%|██████████| 1/1 [00:01<00:00,  1.04s/it]\n",
      "avg val loss: 0.6931: 100%|██████████| 1/1 [00:00<00:00,  6.74it/s]\n"
     ]
    },
    {
     "name": "stdout",
     "output_type": "stream",
     "text": [
      "Secondblock torch.Size([1304, 41, 1, 16])\n",
      "---  Accuracy : 0.5030674934387207 \n",
      "\n",
      "\n",
      "best val loss 0.6931 -> 0.6931\n",
      "\n",
      "Starting epoch 26 / 100\n"
     ]
    },
    {
     "name": "stderr",
     "output_type": "stream",
     "text": [
      "  0%|          | 0/1 [00:00<?, ?it/s]"
     ]
    },
    {
     "name": "stdout",
     "output_type": "stream",
     "text": [
      "Secondblock torch.Size([5216, 41, 1, 16])\n"
     ]
    },
    {
     "name": "stderr",
     "output_type": "stream",
     "text": [
      "avg train loss: 0.6931: 100%|██████████| 1/1 [00:00<00:00,  1.00it/s]\n",
      "avg val loss: 0.6931: 100%|██████████| 1/1 [00:00<00:00,  7.94it/s]\n"
     ]
    },
    {
     "name": "stdout",
     "output_type": "stream",
     "text": [
      "Secondblock torch.Size([1304, 41, 1, 16])\n",
      "---  Accuracy : 0.5076687335968018 \n",
      "\n",
      "\n",
      "best val loss 0.6931 -> 0.6931\n",
      "\n",
      "Starting epoch 27 / 100\n"
     ]
    },
    {
     "name": "stderr",
     "output_type": "stream",
     "text": [
      "  0%|          | 0/1 [00:00<?, ?it/s]"
     ]
    },
    {
     "name": "stdout",
     "output_type": "stream",
     "text": [
      "Secondblock torch.Size([5216, 41, 1, 16])\n"
     ]
    },
    {
     "name": "stderr",
     "output_type": "stream",
     "text": [
      "avg train loss: 0.6931: 100%|██████████| 1/1 [00:00<00:00,  1.15it/s]\n",
      "avg val loss: 0.6931: 100%|██████████| 1/1 [00:00<00:00,  7.62it/s]\n"
     ]
    },
    {
     "name": "stdout",
     "output_type": "stream",
     "text": [
      "Secondblock torch.Size([1304, 41, 1, 16])\n",
      "---  Accuracy : 0.4992331266403198 \n",
      "\n",
      "Waiting += 1\n",
      "\n",
      "Starting epoch 28 / 100\n"
     ]
    },
    {
     "name": "stderr",
     "output_type": "stream",
     "text": [
      "  0%|          | 0/1 [00:00<?, ?it/s]"
     ]
    },
    {
     "name": "stdout",
     "output_type": "stream",
     "text": [
      "Secondblock torch.Size([5216, 41, 1, 16])\n"
     ]
    },
    {
     "name": "stderr",
     "output_type": "stream",
     "text": [
      "avg train loss: 0.6931: 100%|██████████| 1/1 [00:00<00:00,  1.10it/s]\n",
      "avg val loss: 0.6931: 100%|██████████| 1/1 [00:00<00:00,  5.17it/s]\n"
     ]
    },
    {
     "name": "stdout",
     "output_type": "stream",
     "text": [
      "Secondblock torch.Size([1304, 41, 1, 16])\n",
      "---  Accuracy : 0.5007668733596802 \n",
      "\n",
      "Waiting += 1\n",
      "\n",
      "Starting epoch 29 / 100\n"
     ]
    },
    {
     "name": "stderr",
     "output_type": "stream",
     "text": [
      "  0%|          | 0/1 [00:00<?, ?it/s]"
     ]
    },
    {
     "name": "stdout",
     "output_type": "stream",
     "text": [
      "Secondblock torch.Size([5216, 41, 1, 16])\n"
     ]
    },
    {
     "name": "stderr",
     "output_type": "stream",
     "text": [
      "avg train loss: 0.6931: 100%|██████████| 1/1 [00:00<00:00,  1.07it/s]\n",
      "avg val loss: 0.6931: 100%|██████████| 1/1 [00:00<00:00,  5.99it/s]\n"
     ]
    },
    {
     "name": "stdout",
     "output_type": "stream",
     "text": [
      "Secondblock torch.Size([1304, 41, 1, 16])\n",
      "---  Accuracy : 0.5007668733596802 \n",
      "\n",
      "\n",
      "best val loss 0.6931 -> 0.6931\n",
      "\n",
      "Starting epoch 30 / 100\n"
     ]
    },
    {
     "name": "stderr",
     "output_type": "stream",
     "text": [
      "  0%|          | 0/1 [00:00<?, ?it/s]"
     ]
    },
    {
     "name": "stdout",
     "output_type": "stream",
     "text": [
      "Secondblock torch.Size([5216, 41, 1, 16])\n"
     ]
    },
    {
     "name": "stderr",
     "output_type": "stream",
     "text": [
      "avg train loss: 0.6931: 100%|██████████| 1/1 [00:01<00:00,  1.56s/it]\n",
      "avg val loss: 0.6931: 100%|██████████| 1/1 [00:00<00:00,  7.20it/s]\n"
     ]
    },
    {
     "name": "stdout",
     "output_type": "stream",
     "text": [
      "Secondblock torch.Size([1304, 41, 1, 16])\n",
      "---  Accuracy : 0.5 \n",
      "\n",
      "\n",
      "best val loss 0.6931 -> 0.6931\n",
      "\n",
      "Starting epoch 31 / 100\n"
     ]
    },
    {
     "name": "stderr",
     "output_type": "stream",
     "text": [
      "  0%|          | 0/1 [00:00<?, ?it/s]"
     ]
    },
    {
     "name": "stdout",
     "output_type": "stream",
     "text": [
      "Secondblock torch.Size([5216, 41, 1, 16])\n"
     ]
    },
    {
     "name": "stderr",
     "output_type": "stream",
     "text": [
      "avg train loss: 0.6931: 100%|██████████| 1/1 [00:01<00:00,  1.34s/it]\n",
      "avg val loss: 0.6931: 100%|██████████| 1/1 [00:00<00:00,  6.87it/s]\n"
     ]
    },
    {
     "name": "stdout",
     "output_type": "stream",
     "text": [
      "Secondblock torch.Size([1304, 41, 1, 16])\n",
      "---  Accuracy : 0.5 \n",
      "\n",
      "\n",
      "best val loss 0.6931 -> 0.6931\n",
      "\n",
      "Starting epoch 32 / 100\n"
     ]
    },
    {
     "name": "stderr",
     "output_type": "stream",
     "text": [
      "  0%|          | 0/1 [00:00<?, ?it/s]"
     ]
    },
    {
     "name": "stdout",
     "output_type": "stream",
     "text": [
      "Secondblock torch.Size([5216, 41, 1, 16])\n"
     ]
    },
    {
     "name": "stderr",
     "output_type": "stream",
     "text": [
      "avg train loss: 0.6931: 100%|██████████| 1/1 [00:00<00:00,  1.07it/s]\n",
      "avg val loss: 0.6931: 100%|██████████| 1/1 [00:00<00:00,  7.27it/s]\n"
     ]
    },
    {
     "name": "stdout",
     "output_type": "stream",
     "text": [
      "Secondblock torch.Size([1304, 41, 1, 16])\n",
      "---  Accuracy : 0.5069018602371216 \n",
      "\n",
      "\n",
      "best val loss 0.6931 -> 0.6931\n",
      "\n",
      "Starting epoch 33 / 100\n"
     ]
    },
    {
     "name": "stderr",
     "output_type": "stream",
     "text": [
      "  0%|          | 0/1 [00:00<?, ?it/s]"
     ]
    },
    {
     "name": "stdout",
     "output_type": "stream",
     "text": [
      "Secondblock torch.Size([5216, 41, 1, 16])\n"
     ]
    },
    {
     "name": "stderr",
     "output_type": "stream",
     "text": [
      "avg train loss: 0.6931: 100%|██████████| 1/1 [00:01<00:00,  1.01s/it]\n",
      "avg val loss: 0.6931: 100%|██████████| 1/1 [00:00<00:00,  5.82it/s]\n"
     ]
    },
    {
     "name": "stdout",
     "output_type": "stream",
     "text": [
      "Secondblock torch.Size([1304, 41, 1, 16])\n",
      "---  Accuracy : 0.5069018602371216 \n",
      "\n",
      "\n",
      "best val loss 0.6931 -> 0.6931\n",
      "\n",
      "Starting epoch 34 / 100\n"
     ]
    },
    {
     "name": "stderr",
     "output_type": "stream",
     "text": [
      "  0%|          | 0/1 [00:00<?, ?it/s]"
     ]
    },
    {
     "name": "stdout",
     "output_type": "stream",
     "text": [
      "Secondblock torch.Size([5216, 41, 1, 16])\n"
     ]
    },
    {
     "name": "stderr",
     "output_type": "stream",
     "text": [
      "avg train loss: 0.6931: 100%|██████████| 1/1 [00:01<00:00,  1.07s/it]\n",
      "avg val loss: 0.6931: 100%|██████████| 1/1 [00:00<00:00,  7.53it/s]\n"
     ]
    },
    {
     "name": "stdout",
     "output_type": "stream",
     "text": [
      "Secondblock torch.Size([1304, 41, 1, 16])\n",
      "---  Accuracy : 0.5069018602371216 \n",
      "\n",
      "Waiting += 1\n",
      "\n",
      "Starting epoch 35 / 100\n"
     ]
    },
    {
     "name": "stderr",
     "output_type": "stream",
     "text": [
      "  0%|          | 0/1 [00:00<?, ?it/s]"
     ]
    },
    {
     "name": "stdout",
     "output_type": "stream",
     "text": [
      "Secondblock torch.Size([5216, 41, 1, 16])\n"
     ]
    },
    {
     "name": "stderr",
     "output_type": "stream",
     "text": [
      "avg train loss: 0.6931: 100%|██████████| 1/1 [00:01<00:00,  1.06s/it]\n",
      "avg val loss: 0.6931: 100%|██████████| 1/1 [00:00<00:00,  6.15it/s]\n"
     ]
    },
    {
     "name": "stdout",
     "output_type": "stream",
     "text": [
      "Secondblock torch.Size([1304, 41, 1, 16])\n",
      "---  Accuracy : 0.5092024803161621 \n",
      "\n",
      "Waiting += 1\n",
      "\n",
      "Starting epoch 36 / 100\n"
     ]
    },
    {
     "name": "stderr",
     "output_type": "stream",
     "text": [
      "  0%|          | 0/1 [00:00<?, ?it/s]"
     ]
    },
    {
     "name": "stdout",
     "output_type": "stream",
     "text": [
      "Secondblock torch.Size([5216, 41, 1, 16])\n"
     ]
    },
    {
     "name": "stderr",
     "output_type": "stream",
     "text": [
      "avg train loss: 0.6931: 100%|██████████| 1/1 [00:00<00:00,  1.04it/s]\n",
      "avg val loss: 0.6931: 100%|██████████| 1/1 [00:00<00:00,  7.22it/s]\n"
     ]
    },
    {
     "name": "stdout",
     "output_type": "stream",
     "text": [
      "Secondblock torch.Size([1304, 41, 1, 16])\n",
      "---  Accuracy : 0.5130367875099182 \n",
      "\n",
      "Waiting += 1\n",
      "\n",
      "Starting epoch 37 / 100\n"
     ]
    },
    {
     "name": "stderr",
     "output_type": "stream",
     "text": [
      "  0%|          | 0/1 [00:00<?, ?it/s]"
     ]
    },
    {
     "name": "stdout",
     "output_type": "stream",
     "text": [
      "Secondblock torch.Size([5216, 41, 1, 16])\n"
     ]
    },
    {
     "name": "stderr",
     "output_type": "stream",
     "text": [
      "avg train loss: 0.6931: 100%|██████████| 1/1 [00:00<00:00,  1.05it/s]\n",
      "avg val loss: 0.6931: 100%|██████████| 1/1 [00:00<00:00,  5.72it/s]\n"
     ]
    },
    {
     "name": "stdout",
     "output_type": "stream",
     "text": [
      "Secondblock torch.Size([1304, 41, 1, 16])\n",
      "---  Accuracy : 0.5061349868774414 \n",
      "\n",
      "Waiting += 1\n",
      "\n",
      "Starting epoch 38 / 100\n"
     ]
    },
    {
     "name": "stderr",
     "output_type": "stream",
     "text": [
      "  0%|          | 0/1 [00:00<?, ?it/s]"
     ]
    },
    {
     "name": "stdout",
     "output_type": "stream",
     "text": [
      "Secondblock torch.Size([5216, 41, 1, 16])\n"
     ]
    },
    {
     "name": "stderr",
     "output_type": "stream",
     "text": [
      "avg train loss: 0.6931: 100%|██████████| 1/1 [00:01<00:00,  1.11s/it]\n",
      "avg val loss: 0.6931: 100%|██████████| 1/1 [00:00<00:00,  6.17it/s]\n"
     ]
    },
    {
     "name": "stdout",
     "output_type": "stream",
     "text": [
      "Secondblock torch.Size([1304, 41, 1, 16])\n",
      "---  Accuracy : 0.5038343667984009 \n",
      "\n",
      "Waiting += 1\n",
      "\n",
      "Starting epoch 39 / 100\n"
     ]
    },
    {
     "name": "stderr",
     "output_type": "stream",
     "text": [
      "  0%|          | 0/1 [00:00<?, ?it/s]"
     ]
    },
    {
     "name": "stdout",
     "output_type": "stream",
     "text": [
      "Secondblock torch.Size([5216, 41, 1, 16])\n"
     ]
    },
    {
     "name": "stderr",
     "output_type": "stream",
     "text": [
      "avg train loss: 0.6931: 100%|██████████| 1/1 [00:00<00:00,  1.04it/s]\n",
      "avg val loss: 0.6931: 100%|██████████| 1/1 [00:00<00:00,  6.53it/s]\n"
     ]
    },
    {
     "name": "stdout",
     "output_type": "stream",
     "text": [
      "Secondblock torch.Size([1304, 41, 1, 16])\n",
      "---  Accuracy : 0.5030674934387207 \n",
      "\n",
      "Waiting += 1\n",
      "\n",
      "Starting epoch 40 / 100\n"
     ]
    },
    {
     "name": "stderr",
     "output_type": "stream",
     "text": [
      "  0%|          | 0/1 [00:00<?, ?it/s]"
     ]
    },
    {
     "name": "stdout",
     "output_type": "stream",
     "text": [
      "Secondblock torch.Size([5216, 41, 1, 16])\n"
     ]
    },
    {
     "name": "stderr",
     "output_type": "stream",
     "text": [
      "avg train loss: 0.6931: 100%|██████████| 1/1 [00:00<00:00,  1.02it/s]\n",
      "avg val loss: 0.6931: 100%|██████████| 1/1 [00:00<00:00,  7.07it/s]\n"
     ]
    },
    {
     "name": "stdout",
     "output_type": "stream",
     "text": [
      "Secondblock torch.Size([1304, 41, 1, 16])\n",
      "---  Accuracy : 0.504601240158081 \n",
      "\n",
      "Waiting += 1\n",
      "\n",
      "Starting epoch 41 / 100\n"
     ]
    },
    {
     "name": "stderr",
     "output_type": "stream",
     "text": [
      "  0%|          | 0/1 [00:00<?, ?it/s]"
     ]
    },
    {
     "name": "stdout",
     "output_type": "stream",
     "text": [
      "Secondblock torch.Size([5216, 41, 1, 16])\n"
     ]
    },
    {
     "name": "stderr",
     "output_type": "stream",
     "text": [
      "avg train loss: 0.6931: 100%|██████████| 1/1 [00:01<00:00,  1.04s/it]\n",
      "avg val loss: 0.6931: 100%|██████████| 1/1 [00:00<00:00,  5.39it/s]\n"
     ]
    },
    {
     "name": "stdout",
     "output_type": "stream",
     "text": [
      "Secondblock torch.Size([1304, 41, 1, 16])\n",
      "---  Accuracy : 0.5130367875099182 \n",
      "\n",
      "Waiting += 1\n",
      "\n",
      "Starting epoch 42 / 100\n"
     ]
    },
    {
     "name": "stderr",
     "output_type": "stream",
     "text": [
      "  0%|          | 0/1 [00:00<?, ?it/s]"
     ]
    },
    {
     "name": "stdout",
     "output_type": "stream",
     "text": [
      "Secondblock torch.Size([5216, 41, 1, 16])\n"
     ]
    },
    {
     "name": "stderr",
     "output_type": "stream",
     "text": [
      "avg train loss: 0.6931: 100%|██████████| 1/1 [00:01<00:00,  1.15s/it]\n",
      "avg val loss: 0.6931: 100%|██████████| 1/1 [00:00<00:00,  6.61it/s]\n"
     ]
    },
    {
     "name": "stdout",
     "output_type": "stream",
     "text": [
      "Secondblock torch.Size([1304, 41, 1, 16])\n",
      "---  Accuracy : 0.5214723944664001 \n",
      "\n",
      "\n",
      "best val loss 0.6931 -> 0.6931\n",
      "\n",
      "Starting epoch 43 / 100\n"
     ]
    },
    {
     "name": "stderr",
     "output_type": "stream",
     "text": [
      "  0%|          | 0/1 [00:00<?, ?it/s]"
     ]
    },
    {
     "name": "stdout",
     "output_type": "stream",
     "text": [
      "Secondblock torch.Size([5216, 41, 1, 16])\n"
     ]
    },
    {
     "name": "stderr",
     "output_type": "stream",
     "text": [
      "avg train loss: 0.6930: 100%|██████████| 1/1 [00:00<00:00,  1.04it/s]\n",
      "avg val loss: 0.6931: 100%|██████████| 1/1 [00:00<00:00,  7.21it/s]\n"
     ]
    },
    {
     "name": "stdout",
     "output_type": "stream",
     "text": [
      "Secondblock torch.Size([1304, 41, 1, 16])\n",
      "---  Accuracy : 0.5092024803161621 \n",
      "\n",
      "\n",
      "best val loss 0.6931 -> 0.6931\n",
      "\n",
      "Starting epoch 44 / 100\n"
     ]
    },
    {
     "name": "stderr",
     "output_type": "stream",
     "text": [
      "  0%|          | 0/1 [00:00<?, ?it/s]"
     ]
    },
    {
     "name": "stdout",
     "output_type": "stream",
     "text": [
      "Secondblock torch.Size([5216, 41, 1, 16])\n"
     ]
    },
    {
     "name": "stderr",
     "output_type": "stream",
     "text": [
      "avg train loss: 0.6930: 100%|██████████| 1/1 [00:01<00:00,  1.21s/it]\n",
      "avg val loss: 0.6930: 100%|██████████| 1/1 [00:00<00:00,  6.90it/s]\n"
     ]
    },
    {
     "name": "stdout",
     "output_type": "stream",
     "text": [
      "Secondblock torch.Size([1304, 41, 1, 16])\n",
      "---  Accuracy : 0.5084356069564819 \n",
      "\n",
      "\n",
      "best val loss 0.6931 -> 0.6930\n",
      "\n",
      "Starting epoch 45 / 100\n"
     ]
    },
    {
     "name": "stderr",
     "output_type": "stream",
     "text": [
      "  0%|          | 0/1 [00:00<?, ?it/s]"
     ]
    },
    {
     "name": "stdout",
     "output_type": "stream",
     "text": [
      "Secondblock torch.Size([5216, 41, 1, 16])\n"
     ]
    },
    {
     "name": "stderr",
     "output_type": "stream",
     "text": [
      "avg train loss: 0.6930: 100%|██████████| 1/1 [00:02<00:00,  2.29s/it]\n",
      "avg val loss: 0.6930: 100%|██████████| 1/1 [00:00<00:00,  4.03it/s]\n"
     ]
    },
    {
     "name": "stdout",
     "output_type": "stream",
     "text": [
      "Secondblock torch.Size([1304, 41, 1, 16])\n",
      "---  Accuracy : 0.5092024803161621 \n",
      "\n",
      "\n",
      "best val loss 0.6930 -> 0.6930\n",
      "\n",
      "Starting epoch 46 / 100\n"
     ]
    },
    {
     "name": "stderr",
     "output_type": "stream",
     "text": [
      "  0%|          | 0/1 [00:00<?, ?it/s]"
     ]
    },
    {
     "name": "stdout",
     "output_type": "stream",
     "text": [
      "Secondblock torch.Size([5216, 41, 1, 16])\n"
     ]
    },
    {
     "name": "stderr",
     "output_type": "stream",
     "text": [
      "avg train loss: 0.6930: 100%|██████████| 1/1 [00:01<00:00,  1.29s/it]\n",
      "avg val loss: 0.6930: 100%|██████████| 1/1 [00:00<00:00,  6.85it/s]\n"
     ]
    },
    {
     "name": "stdout",
     "output_type": "stream",
     "text": [
      "Secondblock torch.Size([1304, 41, 1, 16])\n",
      "---  Accuracy : 0.504601240158081 \n",
      "\n",
      "\n",
      "best val loss 0.6930 -> 0.6930\n",
      "\n",
      "Starting epoch 47 / 100\n"
     ]
    },
    {
     "name": "stderr",
     "output_type": "stream",
     "text": [
      "  0%|          | 0/1 [00:00<?, ?it/s]"
     ]
    },
    {
     "name": "stdout",
     "output_type": "stream",
     "text": [
      "Secondblock torch.Size([5216, 41, 1, 16])\n"
     ]
    },
    {
     "name": "stderr",
     "output_type": "stream",
     "text": [
      "avg train loss: 0.6930: 100%|██████████| 1/1 [00:01<00:00,  1.05s/it]\n",
      "avg val loss: 0.6930: 100%|██████████| 1/1 [00:00<00:00,  6.96it/s]\n"
     ]
    },
    {
     "name": "stdout",
     "output_type": "stream",
     "text": [
      "Secondblock torch.Size([1304, 41, 1, 16])\n",
      "---  Accuracy : 0.49233129620552063 \n",
      "\n",
      "\n",
      "best val loss 0.6930 -> 0.6930\n",
      "\n",
      "Starting epoch 48 / 100\n"
     ]
    },
    {
     "name": "stderr",
     "output_type": "stream",
     "text": [
      "  0%|          | 0/1 [00:00<?, ?it/s]"
     ]
    },
    {
     "name": "stdout",
     "output_type": "stream",
     "text": [
      "Secondblock torch.Size([5216, 41, 1, 16])\n"
     ]
    },
    {
     "name": "stderr",
     "output_type": "stream",
     "text": [
      "avg train loss: 0.6930: 100%|██████████| 1/1 [00:01<00:00,  1.26s/it]\n",
      "avg val loss: 0.6930: 100%|██████████| 1/1 [00:00<00:00,  5.30it/s]\n"
     ]
    },
    {
     "name": "stdout",
     "output_type": "stream",
     "text": [
      "Secondblock torch.Size([1304, 41, 1, 16])\n",
      "---  Accuracy : 0.5030674934387207 \n",
      "\n",
      "\n",
      "best val loss 0.6930 -> 0.6930\n",
      "\n",
      "Starting epoch 49 / 100\n"
     ]
    },
    {
     "name": "stderr",
     "output_type": "stream",
     "text": [
      "  0%|          | 0/1 [00:00<?, ?it/s]"
     ]
    },
    {
     "name": "stdout",
     "output_type": "stream",
     "text": [
      "Secondblock torch.Size([5216, 41, 1, 16])\n"
     ]
    },
    {
     "name": "stderr",
     "output_type": "stream",
     "text": [
      "avg train loss: 0.6930: 100%|██████████| 1/1 [00:00<00:00,  1.08it/s]\n",
      "avg val loss: 0.6930: 100%|██████████| 1/1 [00:00<00:00,  6.63it/s]\n"
     ]
    },
    {
     "name": "stdout",
     "output_type": "stream",
     "text": [
      "Secondblock torch.Size([1304, 41, 1, 16])\n",
      "---  Accuracy : 0.493865042924881 \n",
      "\n",
      "\n",
      "best val loss 0.6930 -> 0.6930\n",
      "\n",
      "Starting epoch 50 / 100\n"
     ]
    },
    {
     "name": "stderr",
     "output_type": "stream",
     "text": [
      "  0%|          | 0/1 [00:00<?, ?it/s]"
     ]
    },
    {
     "name": "stdout",
     "output_type": "stream",
     "text": [
      "Secondblock torch.Size([5216, 41, 1, 16])\n"
     ]
    },
    {
     "name": "stderr",
     "output_type": "stream",
     "text": [
      "avg train loss: 0.6930: 100%|██████████| 1/1 [00:00<00:00,  1.13it/s]\n",
      "avg val loss: 0.6930: 100%|██████████| 1/1 [00:00<00:00,  9.76it/s]\n"
     ]
    },
    {
     "name": "stdout",
     "output_type": "stream",
     "text": [
      "Secondblock torch.Size([1304, 41, 1, 16])\n",
      "---  Accuracy : 0.49846625328063965 \n",
      "\n",
      "\n",
      "best val loss 0.6930 -> 0.6930\n",
      "\n",
      "Starting epoch 51 / 100\n"
     ]
    },
    {
     "name": "stderr",
     "output_type": "stream",
     "text": [
      "  0%|          | 0/1 [00:00<?, ?it/s]"
     ]
    },
    {
     "name": "stdout",
     "output_type": "stream",
     "text": [
      "Secondblock torch.Size([5216, 41, 1, 16])\n"
     ]
    },
    {
     "name": "stderr",
     "output_type": "stream",
     "text": [
      "avg train loss: 0.6930: 100%|██████████| 1/1 [00:00<00:00,  1.24it/s]\n",
      "avg val loss: 0.6930: 100%|██████████| 1/1 [00:00<00:00,  8.68it/s]\n"
     ]
    },
    {
     "name": "stdout",
     "output_type": "stream",
     "text": [
      "Secondblock torch.Size([1304, 41, 1, 16])\n",
      "---  Accuracy : 0.5076687335968018 \n",
      "\n",
      "\n",
      "best val loss 0.6930 -> 0.6930\n",
      "\n",
      "Starting epoch 52 / 100\n"
     ]
    },
    {
     "name": "stderr",
     "output_type": "stream",
     "text": [
      "  0%|          | 0/1 [00:00<?, ?it/s]"
     ]
    },
    {
     "name": "stdout",
     "output_type": "stream",
     "text": [
      "Secondblock torch.Size([5216, 41, 1, 16])\n"
     ]
    },
    {
     "name": "stderr",
     "output_type": "stream",
     "text": [
      "avg train loss: 0.6930: 100%|██████████| 1/1 [00:00<00:00,  1.20it/s]\n",
      "avg val loss: 0.6930: 100%|██████████| 1/1 [00:00<00:00,  9.49it/s]\n"
     ]
    },
    {
     "name": "stdout",
     "output_type": "stream",
     "text": [
      "Secondblock torch.Size([1304, 41, 1, 16])\n",
      "---  Accuracy : 0.5076687335968018 \n",
      "\n",
      "\n",
      "best val loss 0.6930 -> 0.6930\n",
      "\n",
      "Starting epoch 53 / 100\n"
     ]
    },
    {
     "name": "stderr",
     "output_type": "stream",
     "text": [
      "  0%|          | 0/1 [00:00<?, ?it/s]"
     ]
    },
    {
     "name": "stdout",
     "output_type": "stream",
     "text": [
      "Secondblock torch.Size([5216, 41, 1, 16])\n"
     ]
    },
    {
     "name": "stderr",
     "output_type": "stream",
     "text": [
      "avg train loss: 0.6930: 100%|██████████| 1/1 [00:00<00:00,  1.04it/s]\n",
      "avg val loss: 0.6930: 100%|██████████| 1/1 [00:00<00:00,  8.91it/s]\n"
     ]
    },
    {
     "name": "stdout",
     "output_type": "stream",
     "text": [
      "Secondblock torch.Size([1304, 41, 1, 16])\n",
      "---  Accuracy : 0.5069018602371216 \n",
      "\n",
      "Waiting += 1\n",
      "\n",
      "Starting epoch 54 / 100\n"
     ]
    },
    {
     "name": "stderr",
     "output_type": "stream",
     "text": [
      "  0%|          | 0/1 [00:00<?, ?it/s]"
     ]
    },
    {
     "name": "stdout",
     "output_type": "stream",
     "text": [
      "Secondblock torch.Size([5216, 41, 1, 16])\n"
     ]
    },
    {
     "name": "stderr",
     "output_type": "stream",
     "text": [
      "avg train loss: 0.6930: 100%|██████████| 1/1 [00:00<00:00,  1.28it/s]\n",
      "avg val loss: 0.6930: 100%|██████████| 1/1 [00:00<00:00,  2.83it/s]\n"
     ]
    },
    {
     "name": "stdout",
     "output_type": "stream",
     "text": [
      "Secondblock torch.Size([1304, 41, 1, 16])\n",
      "---  Accuracy : 0.5099693536758423 \n",
      "\n",
      "Waiting += 1\n",
      "\n",
      "Starting epoch 55 / 100\n"
     ]
    },
    {
     "name": "stderr",
     "output_type": "stream",
     "text": [
      "  0%|          | 0/1 [00:00<?, ?it/s]"
     ]
    },
    {
     "name": "stdout",
     "output_type": "stream",
     "text": [
      "Secondblock torch.Size([5216, 41, 1, 16])\n"
     ]
    },
    {
     "name": "stderr",
     "output_type": "stream",
     "text": [
      "avg train loss: 0.6930: 100%|██████████| 1/1 [00:01<00:00,  1.10s/it]\n",
      "avg val loss: 0.6930: 100%|██████████| 1/1 [00:00<00:00,  7.70it/s]\n"
     ]
    },
    {
     "name": "stdout",
     "output_type": "stream",
     "text": [
      "Secondblock torch.Size([1304, 41, 1, 16])\n",
      "---  Accuracy : 0.5130367875099182 \n",
      "\n",
      "Waiting += 1\n",
      "\n",
      "Starting epoch 56 / 100\n"
     ]
    },
    {
     "name": "stderr",
     "output_type": "stream",
     "text": [
      "  0%|          | 0/1 [00:00<?, ?it/s]"
     ]
    },
    {
     "name": "stdout",
     "output_type": "stream",
     "text": [
      "Secondblock torch.Size([5216, 41, 1, 16])\n"
     ]
    },
    {
     "name": "stderr",
     "output_type": "stream",
     "text": [
      "avg train loss: 0.6930: 100%|██████████| 1/1 [00:01<00:00,  1.79s/it]\n",
      "avg val loss: 0.6930: 100%|██████████| 1/1 [00:00<00:00,  4.46it/s]\n"
     ]
    },
    {
     "name": "stdout",
     "output_type": "stream",
     "text": [
      "Secondblock torch.Size([1304, 41, 1, 16])\n",
      "---  Accuracy : 0.5176380276679993 \n",
      "\n",
      "Waiting += 1\n",
      "\n",
      "Starting epoch 57 / 100\n"
     ]
    },
    {
     "name": "stderr",
     "output_type": "stream",
     "text": [
      "  0%|          | 0/1 [00:00<?, ?it/s]"
     ]
    },
    {
     "name": "stdout",
     "output_type": "stream",
     "text": [
      "Secondblock torch.Size([5216, 41, 1, 16])\n"
     ]
    },
    {
     "name": "stderr",
     "output_type": "stream",
     "text": [
      "avg train loss: 0.6930: 100%|██████████| 1/1 [00:01<00:00,  1.16s/it]\n",
      "avg val loss: 0.6930: 100%|██████████| 1/1 [00:00<00:00,  7.13it/s]\n"
     ]
    },
    {
     "name": "stdout",
     "output_type": "stream",
     "text": [
      "Secondblock torch.Size([1304, 41, 1, 16])\n",
      "---  Accuracy : 0.5168711543083191 \n",
      "\n",
      "Waiting += 1\n",
      "\n",
      "Starting epoch 58 / 100\n"
     ]
    },
    {
     "name": "stderr",
     "output_type": "stream",
     "text": [
      "  0%|          | 0/1 [00:00<?, ?it/s]"
     ]
    },
    {
     "name": "stdout",
     "output_type": "stream",
     "text": [
      "Secondblock torch.Size([5216, 41, 1, 16])\n"
     ]
    },
    {
     "name": "stderr",
     "output_type": "stream",
     "text": [
      "avg train loss: 0.6930: 100%|██████████| 1/1 [00:00<00:00,  1.01it/s]\n",
      "avg val loss: 0.6930: 100%|██████████| 1/1 [00:00<00:00,  8.68it/s]\n"
     ]
    },
    {
     "name": "stdout",
     "output_type": "stream",
     "text": [
      "Secondblock torch.Size([1304, 41, 1, 16])\n",
      "---  Accuracy : 0.5191717743873596 \n",
      "\n",
      "\n",
      "best val loss 0.6930 -> 0.6930\n",
      "\n",
      "Starting epoch 59 / 100\n"
     ]
    },
    {
     "name": "stderr",
     "output_type": "stream",
     "text": [
      "  0%|          | 0/1 [00:00<?, ?it/s]"
     ]
    },
    {
     "name": "stdout",
     "output_type": "stream",
     "text": [
      "Secondblock torch.Size([5216, 41, 1, 16])\n"
     ]
    },
    {
     "name": "stderr",
     "output_type": "stream",
     "text": [
      "avg train loss: 0.6930: 100%|██████████| 1/1 [00:00<00:00,  1.28it/s]\n",
      "avg val loss: 0.6930: 100%|██████████| 1/1 [00:00<00:00,  7.48it/s]\n"
     ]
    },
    {
     "name": "stdout",
     "output_type": "stream",
     "text": [
      "Secondblock torch.Size([1304, 41, 1, 16])\n",
      "---  Accuracy : 0.5168711543083191 \n",
      "\n",
      "\n",
      "best val loss 0.6930 -> 0.6930\n",
      "\n",
      "Starting epoch 60 / 100\n"
     ]
    },
    {
     "name": "stderr",
     "output_type": "stream",
     "text": [
      "  0%|          | 0/1 [00:00<?, ?it/s]"
     ]
    },
    {
     "name": "stdout",
     "output_type": "stream",
     "text": [
      "Secondblock torch.Size([5216, 41, 1, 16])\n"
     ]
    },
    {
     "name": "stderr",
     "output_type": "stream",
     "text": [
      "avg train loss: 0.6930: 100%|██████████| 1/1 [00:01<00:00,  1.17s/it]\n",
      "avg val loss: 0.6930: 100%|██████████| 1/1 [00:00<00:00,  7.42it/s]\n"
     ]
    },
    {
     "name": "stdout",
     "output_type": "stream",
     "text": [
      "Secondblock torch.Size([1304, 41, 1, 16])\n",
      "---  Accuracy : 0.5130367875099182 \n",
      "\n",
      "\n",
      "best val loss 0.6930 -> 0.6930\n",
      "\n",
      "Starting epoch 61 / 100\n"
     ]
    },
    {
     "name": "stderr",
     "output_type": "stream",
     "text": [
      "  0%|          | 0/1 [00:00<?, ?it/s]"
     ]
    },
    {
     "name": "stdout",
     "output_type": "stream",
     "text": [
      "Secondblock torch.Size([5216, 41, 1, 16])\n"
     ]
    },
    {
     "name": "stderr",
     "output_type": "stream",
     "text": [
      "avg train loss: 0.6930: 100%|██████████| 1/1 [00:00<00:00,  1.01it/s]\n",
      "avg val loss: 0.6930: 100%|██████████| 1/1 [00:00<00:00,  5.82it/s]\n"
     ]
    },
    {
     "name": "stdout",
     "output_type": "stream",
     "text": [
      "Secondblock torch.Size([1304, 41, 1, 16])\n",
      "---  Accuracy : 0.5199386477470398 \n",
      "\n",
      "\n",
      "best val loss 0.6930 -> 0.6930\n",
      "\n",
      "Starting epoch 62 / 100\n"
     ]
    },
    {
     "name": "stderr",
     "output_type": "stream",
     "text": [
      "  0%|          | 0/1 [00:00<?, ?it/s]"
     ]
    },
    {
     "name": "stdout",
     "output_type": "stream",
     "text": [
      "Secondblock torch.Size([5216, 41, 1, 16])\n"
     ]
    },
    {
     "name": "stderr",
     "output_type": "stream",
     "text": [
      "avg train loss: 0.6930: 100%|██████████| 1/1 [00:00<00:00,  1.02it/s]\n",
      "avg val loss: 0.6930: 100%|██████████| 1/1 [00:00<00:00,  7.29it/s]\n"
     ]
    },
    {
     "name": "stdout",
     "output_type": "stream",
     "text": [
      "Secondblock torch.Size([1304, 41, 1, 16])\n",
      "---  Accuracy : 0.5084356069564819 \n",
      "\n",
      "\n",
      "best val loss 0.6930 -> 0.6930\n",
      "\n",
      "Starting epoch 63 / 100\n"
     ]
    },
    {
     "name": "stderr",
     "output_type": "stream",
     "text": [
      "  0%|          | 0/1 [00:00<?, ?it/s]"
     ]
    },
    {
     "name": "stdout",
     "output_type": "stream",
     "text": [
      "Secondblock torch.Size([5216, 41, 1, 16])\n"
     ]
    },
    {
     "name": "stderr",
     "output_type": "stream",
     "text": [
      "avg train loss: 0.6930: 100%|██████████| 1/1 [00:00<00:00,  1.11it/s]\n",
      "avg val loss: 0.6930: 100%|██████████| 1/1 [00:00<00:00,  8.47it/s]\n"
     ]
    },
    {
     "name": "stdout",
     "output_type": "stream",
     "text": [
      "Secondblock torch.Size([1304, 41, 1, 16])\n",
      "---  Accuracy : 0.5076687335968018 \n",
      "\n",
      "\n",
      "best val loss 0.6930 -> 0.6930\n",
      "\n",
      "Starting epoch 64 / 100\n"
     ]
    },
    {
     "name": "stderr",
     "output_type": "stream",
     "text": [
      "  0%|          | 0/1 [00:00<?, ?it/s]"
     ]
    },
    {
     "name": "stdout",
     "output_type": "stream",
     "text": [
      "Secondblock torch.Size([5216, 41, 1, 16])\n"
     ]
    },
    {
     "name": "stderr",
     "output_type": "stream",
     "text": [
      "avg train loss: 0.6930: 100%|██████████| 1/1 [00:00<00:00,  1.28it/s]\n",
      "avg val loss: 0.6930: 100%|██████████| 1/1 [00:00<00:00,  8.61it/s]\n"
     ]
    },
    {
     "name": "stdout",
     "output_type": "stream",
     "text": [
      "Secondblock torch.Size([1304, 41, 1, 16])\n",
      "---  Accuracy : 0.5084356069564819 \n",
      "\n",
      "\n",
      "best val loss 0.6930 -> 0.6930\n",
      "\n",
      "Starting epoch 65 / 100\n"
     ]
    },
    {
     "name": "stderr",
     "output_type": "stream",
     "text": [
      "  0%|          | 0/1 [00:00<?, ?it/s]"
     ]
    },
    {
     "name": "stdout",
     "output_type": "stream",
     "text": [
      "Secondblock torch.Size([5216, 41, 1, 16])\n"
     ]
    },
    {
     "name": "stderr",
     "output_type": "stream",
     "text": [
      "avg train loss: 0.6929: 100%|██████████| 1/1 [00:00<00:00,  1.32it/s]\n",
      "avg val loss: 0.6930: 100%|██████████| 1/1 [00:00<00:00,  6.70it/s]\n"
     ]
    },
    {
     "name": "stdout",
     "output_type": "stream",
     "text": [
      "Secondblock torch.Size([1304, 41, 1, 16])\n",
      "---  Accuracy : 0.5115030407905579 \n",
      "\n",
      "\n",
      "best val loss 0.6930 -> 0.6930\n",
      "\n",
      "Starting epoch 66 / 100\n"
     ]
    },
    {
     "name": "stderr",
     "output_type": "stream",
     "text": [
      "  0%|          | 0/1 [00:00<?, ?it/s]"
     ]
    },
    {
     "name": "stdout",
     "output_type": "stream",
     "text": [
      "Secondblock torch.Size([5216, 41, 1, 16])\n"
     ]
    },
    {
     "name": "stderr",
     "output_type": "stream",
     "text": [
      "avg train loss: 0.6929: 100%|██████████| 1/1 [00:00<00:00,  1.08it/s]\n",
      "avg val loss: 0.6929: 100%|██████████| 1/1 [00:00<00:00,  8.64it/s]\n"
     ]
    },
    {
     "name": "stdout",
     "output_type": "stream",
     "text": [
      "Secondblock torch.Size([1304, 41, 1, 16])\n",
      "---  Accuracy : 0.5099693536758423 \n",
      "\n",
      "\n",
      "best val loss 0.6930 -> 0.6929\n",
      "\n",
      "Starting epoch 67 / 100\n"
     ]
    },
    {
     "name": "stderr",
     "output_type": "stream",
     "text": [
      "  0%|          | 0/1 [00:00<?, ?it/s]"
     ]
    },
    {
     "name": "stdout",
     "output_type": "stream",
     "text": [
      "Secondblock torch.Size([5216, 41, 1, 16])\n"
     ]
    },
    {
     "name": "stderr",
     "output_type": "stream",
     "text": [
      "avg train loss: 0.6929: 100%|██████████| 1/1 [00:00<00:00,  1.32it/s]\n",
      "avg val loss: 0.6929: 100%|██████████| 1/1 [00:00<00:00,  7.62it/s]\n"
     ]
    },
    {
     "name": "stdout",
     "output_type": "stream",
     "text": [
      "Secondblock torch.Size([1304, 41, 1, 16])\n",
      "---  Accuracy : 0.5115030407905579 \n",
      "\n",
      "\n",
      "best val loss 0.6929 -> 0.6929\n",
      "\n",
      "Starting epoch 68 / 100\n"
     ]
    },
    {
     "name": "stderr",
     "output_type": "stream",
     "text": [
      "  0%|          | 0/1 [00:00<?, ?it/s]"
     ]
    },
    {
     "name": "stdout",
     "output_type": "stream",
     "text": [
      "Secondblock torch.Size([5216, 41, 1, 16])\n"
     ]
    },
    {
     "name": "stderr",
     "output_type": "stream",
     "text": [
      "avg train loss: 0.6929: 100%|██████████| 1/1 [00:00<00:00,  1.21it/s]\n",
      "avg val loss: 0.6929: 100%|██████████| 1/1 [00:00<00:00,  8.20it/s]\n"
     ]
    },
    {
     "name": "stdout",
     "output_type": "stream",
     "text": [
      "Secondblock torch.Size([1304, 41, 1, 16])\n",
      "---  Accuracy : 0.5076687335968018 \n",
      "\n",
      "\n",
      "best val loss 0.6929 -> 0.6929\n",
      "\n",
      "Starting epoch 69 / 100\n"
     ]
    },
    {
     "name": "stderr",
     "output_type": "stream",
     "text": [
      "  0%|          | 0/1 [00:00<?, ?it/s]"
     ]
    },
    {
     "name": "stdout",
     "output_type": "stream",
     "text": [
      "Secondblock torch.Size([5216, 41, 1, 16])\n"
     ]
    },
    {
     "name": "stderr",
     "output_type": "stream",
     "text": [
      "avg train loss: 0.6929: 100%|██████████| 1/1 [00:00<00:00,  1.26it/s]\n",
      "avg val loss: 0.6929: 100%|██████████| 1/1 [00:00<00:00,  7.91it/s]\n"
     ]
    },
    {
     "name": "stdout",
     "output_type": "stream",
     "text": [
      "Secondblock torch.Size([1304, 41, 1, 16])\n",
      "---  Accuracy : 0.5084356069564819 \n",
      "\n",
      "\n",
      "best val loss 0.6929 -> 0.6929\n",
      "\n",
      "Starting epoch 70 / 100\n"
     ]
    },
    {
     "name": "stderr",
     "output_type": "stream",
     "text": [
      "  0%|          | 0/1 [00:00<?, ?it/s]"
     ]
    },
    {
     "name": "stdout",
     "output_type": "stream",
     "text": [
      "Secondblock torch.Size([5216, 41, 1, 16])\n"
     ]
    },
    {
     "name": "stderr",
     "output_type": "stream",
     "text": [
      "avg train loss: 0.6929: 100%|██████████| 1/1 [00:00<00:00,  1.13it/s]\n",
      "avg val loss: 0.6929: 100%|██████████| 1/1 [00:00<00:00,  8.95it/s]\n"
     ]
    },
    {
     "name": "stdout",
     "output_type": "stream",
     "text": [
      "Secondblock torch.Size([1304, 41, 1, 16])\n",
      "---  Accuracy : 0.5069018602371216 \n",
      "\n",
      "\n",
      "best val loss 0.6929 -> 0.6929\n",
      "\n",
      "Starting epoch 71 / 100\n"
     ]
    },
    {
     "name": "stderr",
     "output_type": "stream",
     "text": [
      "  0%|          | 0/1 [00:00<?, ?it/s]"
     ]
    },
    {
     "name": "stdout",
     "output_type": "stream",
     "text": [
      "Secondblock torch.Size([5216, 41, 1, 16])\n"
     ]
    },
    {
     "name": "stderr",
     "output_type": "stream",
     "text": [
      "avg train loss: 0.6929: 100%|██████████| 1/1 [00:00<00:00,  1.21it/s]\n",
      "avg val loss: 0.6929: 100%|██████████| 1/1 [00:00<00:00,  8.61it/s]\n"
     ]
    },
    {
     "name": "stdout",
     "output_type": "stream",
     "text": [
      "Secondblock torch.Size([1304, 41, 1, 16])\n",
      "---  Accuracy : 0.5053681135177612 \n",
      "\n",
      "\n",
      "best val loss 0.6929 -> 0.6929\n",
      "\n",
      "Starting epoch 72 / 100\n"
     ]
    },
    {
     "name": "stderr",
     "output_type": "stream",
     "text": [
      "  0%|          | 0/1 [00:00<?, ?it/s]"
     ]
    },
    {
     "name": "stdout",
     "output_type": "stream",
     "text": [
      "Secondblock torch.Size([5216, 41, 1, 16])\n"
     ]
    },
    {
     "name": "stderr",
     "output_type": "stream",
     "text": [
      "avg train loss: 0.6929: 100%|██████████| 1/1 [00:00<00:00,  1.24it/s]\n",
      "avg val loss: 0.6929: 100%|██████████| 1/1 [00:00<00:00,  9.57it/s]\n"
     ]
    },
    {
     "name": "stdout",
     "output_type": "stream",
     "text": [
      "Secondblock torch.Size([1304, 41, 1, 16])\n",
      "---  Accuracy : 0.5107361674308777 \n",
      "\n",
      "\n",
      "best val loss 0.6929 -> 0.6929\n",
      "\n",
      "Starting epoch 73 / 100\n"
     ]
    },
    {
     "name": "stderr",
     "output_type": "stream",
     "text": [
      "  0%|          | 0/1 [00:00<?, ?it/s]"
     ]
    },
    {
     "name": "stdout",
     "output_type": "stream",
     "text": [
      "Secondblock torch.Size([5216, 41, 1, 16])\n"
     ]
    },
    {
     "name": "stderr",
     "output_type": "stream",
     "text": [
      "avg train loss: 0.6929: 100%|██████████| 1/1 [00:00<00:00,  1.29it/s]\n",
      "avg val loss: 0.6929: 100%|██████████| 1/1 [00:00<00:00,  8.54it/s]\n"
     ]
    },
    {
     "name": "stdout",
     "output_type": "stream",
     "text": [
      "Secondblock torch.Size([1304, 41, 1, 16])\n",
      "---  Accuracy : 0.5145705342292786 \n",
      "\n",
      "\n",
      "best val loss 0.6929 -> 0.6929\n",
      "\n",
      "Starting epoch 74 / 100\n"
     ]
    },
    {
     "name": "stderr",
     "output_type": "stream",
     "text": [
      "  0%|          | 0/1 [00:00<?, ?it/s]"
     ]
    },
    {
     "name": "stdout",
     "output_type": "stream",
     "text": [
      "Secondblock torch.Size([5216, 41, 1, 16])\n"
     ]
    },
    {
     "name": "stderr",
     "output_type": "stream",
     "text": [
      "avg train loss: 0.6929: 100%|██████████| 1/1 [00:01<00:00,  1.38s/it]\n",
      "avg val loss: 0.6929: 100%|██████████| 1/1 [00:00<00:00,  6.65it/s]\n"
     ]
    },
    {
     "name": "stdout",
     "output_type": "stream",
     "text": [
      "Secondblock torch.Size([1304, 41, 1, 16])\n",
      "---  Accuracy : 0.5184049010276794 \n",
      "\n",
      "\n",
      "best val loss 0.6929 -> 0.6929\n",
      "\n",
      "Starting epoch 75 / 100\n"
     ]
    },
    {
     "name": "stderr",
     "output_type": "stream",
     "text": [
      "  0%|          | 0/1 [00:00<?, ?it/s]"
     ]
    },
    {
     "name": "stdout",
     "output_type": "stream",
     "text": [
      "Secondblock torch.Size([5216, 41, 1, 16])\n"
     ]
    },
    {
     "name": "stderr",
     "output_type": "stream",
     "text": [
      "avg train loss: 0.6929: 100%|██████████| 1/1 [00:00<00:00,  1.03it/s]\n",
      "avg val loss: 0.6929: 100%|██████████| 1/1 [00:00<00:00,  7.27it/s]\n"
     ]
    },
    {
     "name": "stdout",
     "output_type": "stream",
     "text": [
      "Secondblock torch.Size([1304, 41, 1, 16])\n",
      "---  Accuracy : 0.5168711543083191 \n",
      "\n",
      "\n",
      "best val loss 0.6929 -> 0.6929\n",
      "\n",
      "Starting epoch 76 / 100\n"
     ]
    },
    {
     "name": "stderr",
     "output_type": "stream",
     "text": [
      "  0%|          | 0/1 [00:00<?, ?it/s]"
     ]
    },
    {
     "name": "stdout",
     "output_type": "stream",
     "text": [
      "Secondblock torch.Size([5216, 41, 1, 16])\n"
     ]
    },
    {
     "name": "stderr",
     "output_type": "stream",
     "text": [
      "avg train loss: 0.6929: 100%|██████████| 1/1 [00:00<00:00,  1.35it/s]\n",
      "avg val loss: 0.6929: 100%|██████████| 1/1 [00:00<00:00, 12.20it/s]\n"
     ]
    },
    {
     "name": "stdout",
     "output_type": "stream",
     "text": [
      "Secondblock torch.Size([1304, 41, 1, 16])\n",
      "---  Accuracy : 0.5107361674308777 \n",
      "\n",
      "\n",
      "best val loss 0.6929 -> 0.6929\n",
      "\n",
      "Starting epoch 77 / 100\n"
     ]
    },
    {
     "name": "stderr",
     "output_type": "stream",
     "text": [
      "  0%|          | 0/1 [00:00<?, ?it/s]"
     ]
    },
    {
     "name": "stdout",
     "output_type": "stream",
     "text": [
      "Secondblock torch.Size([5216, 41, 1, 16])\n"
     ]
    },
    {
     "name": "stderr",
     "output_type": "stream",
     "text": [
      "avg train loss: 0.6929: 100%|██████████| 1/1 [00:00<00:00,  1.36it/s]\n",
      "avg val loss: 0.6929: 100%|██████████| 1/1 [00:00<00:00,  8.40it/s]\n"
     ]
    },
    {
     "name": "stdout",
     "output_type": "stream",
     "text": [
      "Secondblock torch.Size([1304, 41, 1, 16])\n",
      "---  Accuracy : 0.512269914150238 \n",
      "\n",
      "\n",
      "best val loss 0.6929 -> 0.6929\n",
      "\n",
      "Starting epoch 78 / 100\n"
     ]
    },
    {
     "name": "stderr",
     "output_type": "stream",
     "text": [
      "  0%|          | 0/1 [00:00<?, ?it/s]"
     ]
    },
    {
     "name": "stdout",
     "output_type": "stream",
     "text": [
      "Secondblock torch.Size([5216, 41, 1, 16])\n"
     ]
    },
    {
     "name": "stderr",
     "output_type": "stream",
     "text": [
      "avg train loss: 0.6929: 100%|██████████| 1/1 [00:00<00:00,  1.19it/s]\n",
      "avg val loss: 0.6929: 100%|██████████| 1/1 [00:00<00:00,  8.68it/s]\n"
     ]
    },
    {
     "name": "stdout",
     "output_type": "stream",
     "text": [
      "Secondblock torch.Size([1304, 41, 1, 16])\n",
      "---  Accuracy : 0.5084356069564819 \n",
      "\n",
      "\n",
      "best val loss 0.6929 -> 0.6929\n",
      "\n",
      "Starting epoch 79 / 100\n"
     ]
    },
    {
     "name": "stderr",
     "output_type": "stream",
     "text": [
      "  0%|          | 0/1 [00:00<?, ?it/s]"
     ]
    },
    {
     "name": "stdout",
     "output_type": "stream",
     "text": [
      "Secondblock torch.Size([5216, 41, 1, 16])\n"
     ]
    },
    {
     "name": "stderr",
     "output_type": "stream",
     "text": [
      "avg train loss: 0.6929: 100%|██████████| 1/1 [00:00<00:00,  1.31it/s]\n",
      "avg val loss: 0.6929: 100%|██████████| 1/1 [00:00<00:00,  9.40it/s]\n"
     ]
    },
    {
     "name": "stdout",
     "output_type": "stream",
     "text": [
      "Secondblock torch.Size([1304, 41, 1, 16])\n",
      "---  Accuracy : 0.5038343667984009 \n",
      "\n",
      "\n",
      "best val loss 0.6929 -> 0.6929\n",
      "\n",
      "Starting epoch 80 / 100\n"
     ]
    },
    {
     "name": "stderr",
     "output_type": "stream",
     "text": [
      "  0%|          | 0/1 [00:00<?, ?it/s]"
     ]
    },
    {
     "name": "stdout",
     "output_type": "stream",
     "text": [
      "Secondblock torch.Size([5216, 41, 1, 16])\n"
     ]
    },
    {
     "name": "stderr",
     "output_type": "stream",
     "text": [
      "avg train loss: 0.6929: 100%|██████████| 1/1 [00:00<00:00,  1.25it/s]\n",
      "avg val loss: 0.6929: 100%|██████████| 1/1 [00:00<00:00,  9.49it/s]\n"
     ]
    },
    {
     "name": "stdout",
     "output_type": "stream",
     "text": [
      "Secondblock torch.Size([1304, 41, 1, 16])\n",
      "---  Accuracy : 0.5069018602371216 \n",
      "\n",
      "\n",
      "best val loss 0.6929 -> 0.6929\n",
      "\n",
      "Starting epoch 81 / 100\n"
     ]
    },
    {
     "name": "stderr",
     "output_type": "stream",
     "text": [
      "  0%|          | 0/1 [00:00<?, ?it/s]"
     ]
    },
    {
     "name": "stdout",
     "output_type": "stream",
     "text": [
      "Secondblock torch.Size([5216, 41, 1, 16])\n"
     ]
    },
    {
     "name": "stderr",
     "output_type": "stream",
     "text": [
      "avg train loss: 0.6929: 100%|██████████| 1/1 [00:00<00:00,  1.27it/s]\n",
      "avg val loss: 0.6929: 100%|██████████| 1/1 [00:00<00:00, 10.35it/s]\n"
     ]
    },
    {
     "name": "stdout",
     "output_type": "stream",
     "text": [
      "Secondblock torch.Size([1304, 41, 1, 16])\n",
      "---  Accuracy : 0.5107361674308777 \n",
      "\n",
      "\n",
      "best val loss 0.6929 -> 0.6929\n",
      "\n",
      "Starting epoch 82 / 100\n"
     ]
    },
    {
     "name": "stderr",
     "output_type": "stream",
     "text": [
      "  0%|          | 0/1 [00:00<?, ?it/s]"
     ]
    },
    {
     "name": "stdout",
     "output_type": "stream",
     "text": [
      "Secondblock torch.Size([5216, 41, 1, 16])\n"
     ]
    },
    {
     "name": "stderr",
     "output_type": "stream",
     "text": [
      "avg train loss: 0.6929: 100%|██████████| 1/1 [00:00<00:00,  1.18it/s]\n",
      "avg val loss: 0.6929: 100%|██████████| 1/1 [00:00<00:00,  9.31it/s]\n"
     ]
    },
    {
     "name": "stdout",
     "output_type": "stream",
     "text": [
      "Secondblock torch.Size([1304, 41, 1, 16])\n",
      "---  Accuracy : 0.5084356069564819 \n",
      "\n",
      "\n",
      "best val loss 0.6929 -> 0.6929\n",
      "\n",
      "Starting epoch 83 / 100\n"
     ]
    },
    {
     "name": "stderr",
     "output_type": "stream",
     "text": [
      "  0%|          | 0/1 [00:00<?, ?it/s]"
     ]
    },
    {
     "name": "stdout",
     "output_type": "stream",
     "text": [
      "Secondblock torch.Size([5216, 41, 1, 16])\n"
     ]
    },
    {
     "name": "stderr",
     "output_type": "stream",
     "text": [
      "avg train loss: 0.6929: 100%|██████████| 1/1 [00:00<00:00,  1.36it/s]\n",
      "avg val loss: 0.6929: 100%|██████████| 1/1 [00:00<00:00,  9.03it/s]\n"
     ]
    },
    {
     "name": "stdout",
     "output_type": "stream",
     "text": [
      "Secondblock torch.Size([1304, 41, 1, 16])\n",
      "---  Accuracy : 0.5092024803161621 \n",
      "\n",
      "\n",
      "best val loss 0.6929 -> 0.6929\n",
      "\n",
      "Starting epoch 84 / 100\n"
     ]
    },
    {
     "name": "stderr",
     "output_type": "stream",
     "text": [
      "  0%|          | 0/1 [00:00<?, ?it/s]"
     ]
    },
    {
     "name": "stdout",
     "output_type": "stream",
     "text": [
      "Secondblock torch.Size([5216, 41, 1, 16])\n"
     ]
    },
    {
     "name": "stderr",
     "output_type": "stream",
     "text": [
      "avg train loss: 0.6929: 100%|██████████| 1/1 [00:00<00:00,  1.36it/s]\n",
      "avg val loss: 0.6929: 100%|██████████| 1/1 [00:00<00:00,  9.49it/s]\n"
     ]
    },
    {
     "name": "stdout",
     "output_type": "stream",
     "text": [
      "Secondblock torch.Size([1304, 41, 1, 16])\n",
      "---  Accuracy : 0.5115030407905579 \n",
      "\n",
      "\n",
      "best val loss 0.6929 -> 0.6929\n",
      "\n",
      "Starting epoch 85 / 100\n"
     ]
    },
    {
     "name": "stderr",
     "output_type": "stream",
     "text": [
      "  0%|          | 0/1 [00:00<?, ?it/s]"
     ]
    },
    {
     "name": "stdout",
     "output_type": "stream",
     "text": [
      "Secondblock torch.Size([5216, 41, 1, 16])\n"
     ]
    },
    {
     "name": "stderr",
     "output_type": "stream",
     "text": [
      "avg train loss: 0.6928: 100%|██████████| 1/1 [00:00<00:00,  1.09it/s]\n",
      "avg val loss: 0.6929: 100%|██████████| 1/1 [00:00<00:00,  8.43it/s]\n"
     ]
    },
    {
     "name": "stdout",
     "output_type": "stream",
     "text": [
      "Secondblock torch.Size([1304, 41, 1, 16])\n",
      "---  Accuracy : 0.5099693536758423 \n",
      "\n",
      "\n",
      "best val loss 0.6929 -> 0.6929\n",
      "\n",
      "Starting epoch 86 / 100\n"
     ]
    },
    {
     "name": "stderr",
     "output_type": "stream",
     "text": [
      "  0%|          | 0/1 [00:00<?, ?it/s]"
     ]
    },
    {
     "name": "stdout",
     "output_type": "stream",
     "text": [
      "Secondblock torch.Size([5216, 41, 1, 16])\n"
     ]
    },
    {
     "name": "stderr",
     "output_type": "stream",
     "text": [
      "avg train loss: 0.6928: 100%|██████████| 1/1 [00:00<00:00,  1.21it/s]\n",
      "avg val loss: 0.6929: 100%|██████████| 1/1 [00:00<00:00,  9.58it/s]\n"
     ]
    },
    {
     "name": "stdout",
     "output_type": "stream",
     "text": [
      "Secondblock torch.Size([1304, 41, 1, 16])\n",
      "---  Accuracy : 0.5084356069564819 \n",
      "\n",
      "\n",
      "best val loss 0.6929 -> 0.6929\n",
      "\n",
      "Starting epoch 87 / 100\n"
     ]
    },
    {
     "name": "stderr",
     "output_type": "stream",
     "text": [
      "  0%|          | 0/1 [00:00<?, ?it/s]"
     ]
    },
    {
     "name": "stdout",
     "output_type": "stream",
     "text": [
      "Secondblock torch.Size([5216, 41, 1, 16])\n"
     ]
    },
    {
     "name": "stderr",
     "output_type": "stream",
     "text": [
      "avg train loss: 0.6928: 100%|██████████| 1/1 [00:00<00:00,  1.27it/s]\n",
      "avg val loss: 0.6929: 100%|██████████| 1/1 [00:00<00:00,  4.25it/s]\n"
     ]
    },
    {
     "name": "stdout",
     "output_type": "stream",
     "text": [
      "Secondblock torch.Size([1304, 41, 1, 16])\n",
      "---  Accuracy : 0.5069018602371216 \n",
      "\n",
      "\n",
      "best val loss 0.6929 -> 0.6929\n",
      "\n",
      "Starting epoch 88 / 100\n"
     ]
    },
    {
     "name": "stderr",
     "output_type": "stream",
     "text": [
      "  0%|          | 0/1 [00:00<?, ?it/s]"
     ]
    },
    {
     "name": "stdout",
     "output_type": "stream",
     "text": [
      "Secondblock torch.Size([5216, 41, 1, 16])\n"
     ]
    },
    {
     "name": "stderr",
     "output_type": "stream",
     "text": [
      "avg train loss: 0.6928: 100%|██████████| 1/1 [00:01<00:00,  1.31s/it]\n",
      "avg val loss: 0.6929: 100%|██████████| 1/1 [00:00<00:00,  8.81it/s]\n"
     ]
    },
    {
     "name": "stdout",
     "output_type": "stream",
     "text": [
      "Secondblock torch.Size([1304, 41, 1, 16])\n",
      "---  Accuracy : 0.5069018602371216 \n",
      "\n",
      "\n",
      "best val loss 0.6929 -> 0.6929\n",
      "\n",
      "Starting epoch 89 / 100\n"
     ]
    },
    {
     "name": "stderr",
     "output_type": "stream",
     "text": [
      "  0%|          | 0/1 [00:00<?, ?it/s]"
     ]
    },
    {
     "name": "stdout",
     "output_type": "stream",
     "text": [
      "Secondblock torch.Size([5216, 41, 1, 16])\n"
     ]
    },
    {
     "name": "stderr",
     "output_type": "stream",
     "text": [
      "avg train loss: 0.6928: 100%|██████████| 1/1 [00:01<00:00,  1.00s/it]\n",
      "avg val loss: 0.6929: 100%|██████████| 1/1 [00:00<00:00,  8.16it/s]\n"
     ]
    },
    {
     "name": "stdout",
     "output_type": "stream",
     "text": [
      "Secondblock torch.Size([1304, 41, 1, 16])\n",
      "---  Accuracy : 0.5084356069564819 \n",
      "\n",
      "\n",
      "best val loss 0.6929 -> 0.6929\n",
      "\n",
      "Starting epoch 90 / 100\n"
     ]
    },
    {
     "name": "stderr",
     "output_type": "stream",
     "text": [
      "  0%|          | 0/1 [00:00<?, ?it/s]"
     ]
    },
    {
     "name": "stdout",
     "output_type": "stream",
     "text": [
      "Secondblock torch.Size([5216, 41, 1, 16])\n"
     ]
    },
    {
     "name": "stderr",
     "output_type": "stream",
     "text": [
      "avg train loss: 0.6928: 100%|██████████| 1/1 [00:01<00:00,  1.16s/it]\n",
      "avg val loss: 0.6929: 100%|██████████| 1/1 [00:00<00:00,  4.40it/s]\n"
     ]
    },
    {
     "name": "stdout",
     "output_type": "stream",
     "text": [
      "Secondblock torch.Size([1304, 41, 1, 16])\n",
      "---  Accuracy : 0.5084356069564819 \n",
      "\n",
      "\n",
      "best val loss 0.6929 -> 0.6929\n",
      "\n",
      "Starting epoch 91 / 100\n"
     ]
    },
    {
     "name": "stderr",
     "output_type": "stream",
     "text": [
      "  0%|          | 0/1 [00:00<?, ?it/s]"
     ]
    },
    {
     "name": "stdout",
     "output_type": "stream",
     "text": [
      "Secondblock torch.Size([5216, 41, 1, 16])\n"
     ]
    },
    {
     "name": "stderr",
     "output_type": "stream",
     "text": [
      "avg train loss: 0.6928: 100%|██████████| 1/1 [00:01<00:00,  1.12s/it]\n",
      "  0%|          | 0/1 [00:00<?, ?it/s]"
     ]
    },
    {
     "name": "stdout",
     "output_type": "stream",
     "text": [
      "Secondblock torch.Size([1304, 41, 1, 16])\n"
     ]
    },
    {
     "name": "stderr",
     "output_type": "stream",
     "text": [
      "avg val loss: 0.6929: 100%|██████████| 1/1 [00:00<00:00,  1.55it/s]\n"
     ]
    },
    {
     "name": "stdout",
     "output_type": "stream",
     "text": [
      "---  Accuracy : 0.5069018602371216 \n",
      "\n",
      "\n",
      "best val loss 0.6929 -> 0.6929\n",
      "\n",
      "Starting epoch 92 / 100\n"
     ]
    },
    {
     "name": "stderr",
     "output_type": "stream",
     "text": [
      "  0%|          | 0/1 [00:00<?, ?it/s]"
     ]
    },
    {
     "name": "stdout",
     "output_type": "stream",
     "text": [
      "Secondblock torch.Size([5216, 41, 1, 16])\n"
     ]
    },
    {
     "name": "stderr",
     "output_type": "stream",
     "text": [
      "avg train loss: 0.6928: 100%|██████████| 1/1 [00:01<00:00,  1.00s/it]\n",
      "avg val loss: 0.6929: 100%|██████████| 1/1 [00:00<00:00,  8.76it/s]\n"
     ]
    },
    {
     "name": "stdout",
     "output_type": "stream",
     "text": [
      "Secondblock torch.Size([1304, 41, 1, 16])\n",
      "---  Accuracy : 0.5107361674308777 \n",
      "\n",
      "\n",
      "best val loss 0.6929 -> 0.6929\n",
      "\n",
      "Starting epoch 93 / 100\n"
     ]
    },
    {
     "name": "stderr",
     "output_type": "stream",
     "text": [
      "  0%|          | 0/1 [00:00<?, ?it/s]"
     ]
    },
    {
     "name": "stdout",
     "output_type": "stream",
     "text": [
      "Secondblock torch.Size([5216, 41, 1, 16])\n"
     ]
    },
    {
     "name": "stderr",
     "output_type": "stream",
     "text": [
      "avg train loss: 0.6928: 100%|██████████| 1/1 [00:00<00:00,  1.14it/s]\n",
      "avg val loss: 0.6928: 100%|██████████| 1/1 [00:00<00:00,  9.40it/s]\n"
     ]
    },
    {
     "name": "stdout",
     "output_type": "stream",
     "text": [
      "Secondblock torch.Size([1304, 41, 1, 16])\n",
      "---  Accuracy : 0.5099693536758423 \n",
      "\n",
      "\n",
      "best val loss 0.6929 -> 0.6928\n",
      "\n",
      "Starting epoch 94 / 100\n"
     ]
    },
    {
     "name": "stderr",
     "output_type": "stream",
     "text": [
      "  0%|          | 0/1 [00:00<?, ?it/s]"
     ]
    },
    {
     "name": "stdout",
     "output_type": "stream",
     "text": [
      "Secondblock torch.Size([5216, 41, 1, 16])\n"
     ]
    },
    {
     "name": "stderr",
     "output_type": "stream",
     "text": [
      "avg train loss: 0.6928: 100%|██████████| 1/1 [00:01<00:00,  1.29s/it]\n",
      "avg val loss: 0.6928: 100%|██████████| 1/1 [00:00<00:00,  5.64it/s]\n"
     ]
    },
    {
     "name": "stdout",
     "output_type": "stream",
     "text": [
      "Secondblock torch.Size([1304, 41, 1, 16])\n",
      "---  Accuracy : 0.5145705342292786 \n",
      "\n",
      "\n",
      "best val loss 0.6928 -> 0.6928\n",
      "\n",
      "Starting epoch 95 / 100\n"
     ]
    },
    {
     "name": "stderr",
     "output_type": "stream",
     "text": [
      "  0%|          | 0/1 [00:00<?, ?it/s]"
     ]
    },
    {
     "name": "stdout",
     "output_type": "stream",
     "text": [
      "Secondblock torch.Size([5216, 41, 1, 16])\n"
     ]
    },
    {
     "name": "stderr",
     "output_type": "stream",
     "text": [
      "avg train loss: 0.6928: 100%|██████████| 1/1 [00:01<00:00,  1.20s/it]\n",
      "avg val loss: 0.6928: 100%|██████████| 1/1 [00:00<00:00,  6.08it/s]\n"
     ]
    },
    {
     "name": "stdout",
     "output_type": "stream",
     "text": [
      "Secondblock torch.Size([1304, 41, 1, 16])\n",
      "---  Accuracy : 0.5092024803161621 \n",
      "\n",
      "\n",
      "best val loss 0.6928 -> 0.6928\n",
      "\n",
      "Starting epoch 96 / 100\n"
     ]
    },
    {
     "name": "stderr",
     "output_type": "stream",
     "text": [
      "  0%|          | 0/1 [00:00<?, ?it/s]"
     ]
    },
    {
     "name": "stdout",
     "output_type": "stream",
     "text": [
      "Secondblock torch.Size([5216, 41, 1, 16])\n"
     ]
    },
    {
     "name": "stderr",
     "output_type": "stream",
     "text": [
      "avg train loss: 0.6928: 100%|██████████| 1/1 [00:01<00:00,  1.05s/it]\n",
      "avg val loss: 0.6928: 100%|██████████| 1/1 [00:00<00:00,  6.57it/s]\n"
     ]
    },
    {
     "name": "stdout",
     "output_type": "stream",
     "text": [
      "Secondblock torch.Size([1304, 41, 1, 16])\n",
      "---  Accuracy : 0.5076687335968018 \n",
      "\n",
      "\n",
      "best val loss 0.6928 -> 0.6928\n",
      "\n",
      "Starting epoch 97 / 100\n"
     ]
    },
    {
     "name": "stderr",
     "output_type": "stream",
     "text": [
      "  0%|          | 0/1 [00:00<?, ?it/s]"
     ]
    },
    {
     "name": "stdout",
     "output_type": "stream",
     "text": [
      "Secondblock torch.Size([5216, 41, 1, 16])\n"
     ]
    },
    {
     "name": "stderr",
     "output_type": "stream",
     "text": [
      "avg train loss: 0.6928: 100%|██████████| 1/1 [00:01<00:00,  1.04s/it]\n",
      "avg val loss: 0.6928: 100%|██████████| 1/1 [00:00<00:00,  4.40it/s]\n"
     ]
    },
    {
     "name": "stdout",
     "output_type": "stream",
     "text": [
      "Secondblock torch.Size([1304, 41, 1, 16])\n",
      "---  Accuracy : 0.5099693536758423 \n",
      "\n",
      "\n",
      "best val loss 0.6928 -> 0.6928\n",
      "\n",
      "Starting epoch 98 / 100\n"
     ]
    },
    {
     "name": "stderr",
     "output_type": "stream",
     "text": [
      "  0%|          | 0/1 [00:00<?, ?it/s]"
     ]
    },
    {
     "name": "stdout",
     "output_type": "stream",
     "text": [
      "Secondblock torch.Size([5216, 41, 1, 16])\n"
     ]
    },
    {
     "name": "stderr",
     "output_type": "stream",
     "text": [
      "avg train loss: 0.6928: 100%|██████████| 1/1 [00:00<00:00,  1.15it/s]\n",
      "avg val loss: 0.6928: 100%|██████████| 1/1 [00:00<00:00,  7.42it/s]\n"
     ]
    },
    {
     "name": "stdout",
     "output_type": "stream",
     "text": [
      "Secondblock torch.Size([1304, 41, 1, 16])\n",
      "---  Accuracy : 0.5084356069564819 \n",
      "\n",
      "\n",
      "best val loss 0.6928 -> 0.6928\n",
      "\n",
      "Starting epoch 99 / 100\n"
     ]
    },
    {
     "name": "stderr",
     "output_type": "stream",
     "text": [
      "  0%|          | 0/1 [00:00<?, ?it/s]"
     ]
    },
    {
     "name": "stdout",
     "output_type": "stream",
     "text": [
      "Secondblock torch.Size([5216, 41, 1, 16])\n"
     ]
    },
    {
     "name": "stderr",
     "output_type": "stream",
     "text": [
      "avg train loss: 0.6928: 100%|██████████| 1/1 [00:00<00:00,  1.20it/s]\n",
      "  0%|          | 0/1 [00:00<?, ?it/s]"
     ]
    },
    {
     "name": "stdout",
     "output_type": "stream",
     "text": [
      "Secondblock torch.Size([1304, 41, 1, 16])\n"
     ]
    },
    {
     "name": "stderr",
     "output_type": "stream",
     "text": [
      "avg val loss: 0.6928: 100%|██████████| 1/1 [00:00<00:00,  2.90it/s]\n"
     ]
    },
    {
     "name": "stdout",
     "output_type": "stream",
     "text": [
      "---  Accuracy : 0.5092024803161621 \n",
      "\n",
      "\n",
      "best val loss 0.6928 -> 0.6928\n",
      "\n",
      "Starting epoch 100 / 100\n"
     ]
    },
    {
     "name": "stderr",
     "output_type": "stream",
     "text": [
      "  0%|          | 0/1 [00:00<?, ?it/s]"
     ]
    },
    {
     "name": "stdout",
     "output_type": "stream",
     "text": [
      "Secondblock torch.Size([5216, 41, 1, 16])\n"
     ]
    },
    {
     "name": "stderr",
     "output_type": "stream",
     "text": [
      "avg train loss: 0.6928: 100%|██████████| 1/1 [00:00<00:00,  1.11it/s]\n",
      "avg val loss: 0.6928: 100%|██████████| 1/1 [00:00<00:00,  8.23it/s]"
     ]
    },
    {
     "name": "stdout",
     "output_type": "stream",
     "text": [
      "Secondblock torch.Size([1304, 41, 1, 16])\n",
      "---  Accuracy : 0.5084356069564819 \n",
      "\n",
      "\n",
      "best val loss 0.6928 -> 0.6928\n"
     ]
    },
    {
     "name": "stderr",
     "output_type": "stream",
     "text": [
      "\n"
     ]
    },
    {
     "data": {
      "text/plain": [
       "SingleNet(\n",
       "  (temporalConv): Conv1d(1, 8, kernel_size=(3, 1), stride=(1,))\n",
       "  (spatialConv): Conv1d(8, 8, kernel_size=(1, 1), stride=(1,))\n",
       "  (maxPooling): MaxPool2d(kernel_size=(1, 3), stride=(1, 3), padding=0, dilation=1, ceil_mode=False)\n",
       "  (firstConv): Conv1d(8, 8, kernel_size=(1, 1), stride=(1,))\n",
       "  (secondConv): Conv1d(8, 33, kernel_size=(1, 1), stride=(1,))\n",
       "  (thirdConv): Conv1d(33, 33, kernel_size=(1, 1), stride=(1,))\n",
       "  (maxPooling2): MaxPool2d(kernel_size=(1, 3), stride=(1, 3), padding=0, dilation=1, ceil_mode=False)\n",
       "  (classify): Conv1d(41, 41, kernel_size=(1, 11), stride=(1,))\n",
       "  (maxPooling3): MaxPool2d(kernel_size=(1, 3), stride=(1, 3), padding=0, dilation=1, ceil_mode=False)\n",
       "  (flatten): Flatten(start_dim=1, end_dim=-1)\n",
       "  (elu): ELU(alpha=1.0)\n",
       "  (fully): Linear(in_features=82, out_features=2, bias=True)\n",
       ")"
      ]
     },
     "execution_count": 28,
     "metadata": {},
     "output_type": "execute_result"
    }
   ],
   "source": [
    "# Train\n",
    "from common import train\n",
    "\n",
    "lr = 1e-4\n",
    "n_epochs = 1\n",
    "patience = 100\n",
    "\n",
    "model.to(device=device) \n",
    "optimizer = optim.Adam(model.parameters(), lr=lr,weight_decay=1e-4)\n",
    "\n",
    "train(model, loader_train, loader_valid, optimizer, n_epochs, patience, device)"
   ]
  },
  {
   "cell_type": "code",
   "execution_count": 32,
   "metadata": {},
   "outputs": [
    {
     "name": "stdout",
     "output_type": "stream",
     "text": [
      "Secondblock torch.Size([10, 41, 1, 16])\n",
      "tensor([[1],\n",
      "        [1],\n",
      "        [1],\n",
      "        [0],\n",
      "        [1],\n",
      "        [1],\n",
      "        [1],\n",
      "        [1],\n",
      "        [1],\n",
      "        [1]])\n"
     ]
    }
   ],
   "source": [
    "# Test model works:\n",
    "\n",
    "n_samples_test = 10\n",
    "y_test = torch.randint(0, 2, (n_samples_test,))\n",
    "y_pred = model.forward(torch.randn(n_samples_test, 1, *epochs_data.shape[1:]))\n",
    "output = F.nll_loss(y_pred, y_test)\n",
    "_, top_class = y_pred.topk(1, dim=1)\n",
    "print(top_class)\n"
   ]
  },
  {
   "cell_type": "code",
   "execution_count": null,
   "metadata": {},
   "outputs": [],
   "source": []
  },
  {
   "cell_type": "code",
   "execution_count": null,
   "metadata": {},
   "outputs": [],
   "source": []
  }
 ],
 "metadata": {
  "interpreter": {
   "hash": "38ae246934a7cd8e2aa0ce1a37b33766718792e8e777147d6c6548b2d965aeb7"
  },
  "kernelspec": {
   "display_name": "Python 3.8.0 64-bit ('tf_gpu': conda)",
   "name": "python3"
  },
  "language_info": {
   "codemirror_mode": {
    "name": "ipython",
    "version": 3
   },
   "file_extension": ".py",
   "mimetype": "text/x-python",
   "name": "python",
   "nbconvert_exporter": "python",
   "pygments_lexer": "ipython3",
   "version": "3.8.0"
  },
  "orig_nbformat": 4
 },
 "nbformat": 4,
 "nbformat_minor": 2
}
