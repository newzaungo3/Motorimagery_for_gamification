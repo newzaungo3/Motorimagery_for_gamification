{
 "cells": [
  {
   "cell_type": "code",
   "execution_count": 1,
   "metadata": {},
   "outputs": [],
   "source": [
    "import numpy as np\n",
    "import matplotlib.pyplot as plt\n",
    "\n",
    "from sklearn.pipeline import Pipeline\n",
    "from sklearn.discriminant_analysis import LinearDiscriminantAnalysis\n",
    "from sklearn.model_selection import ShuffleSplit, cross_val_score\n",
    "import mne\n",
    "from mne import Epochs, pick_types, events_from_annotations\n",
    "from mne.channels import make_standard_montage\n",
    "from mne.io import concatenate_raws, read_raw_edf,read_raw_edf,read_raw_gdf,read_raw_fif\n",
    "from mne.datasets import eegbci\n",
    "from mne.decoding import CSP"
   ]
  },
  {
   "cell_type": "code",
   "execution_count": 2,
   "metadata": {},
   "outputs": [
    {
     "name": "stdout",
     "output_type": "stream",
     "text": [
      "Opening raw data file dataset\\2b_moabb\\train\\0-raw.fif...\n",
      "    Range : 0 ... 604802 =      0.000 ...  2419.208 secs\n",
      "Ready.\n",
      "Reading 0 ... 604802  =      0.000 ...  2419.208 secs...\n",
      "Opening raw data file dataset\\2b_moabb\\train\\1-raw.fif...\n",
      "    Range : 0 ... 552451 =      0.000 ...  2209.804 secs\n",
      "Ready.\n",
      "Reading 0 ... 552451  =      0.000 ...  2209.804 secs...\n",
      "Opening raw data file dataset\\2b_moabb\\train\\10-raw.fif...\n",
      "    Range : 0 ... 604802 =      0.000 ...  2419.208 secs\n",
      "Ready.\n",
      "Reading 0 ... 604802  =      0.000 ...  2419.208 secs...\n",
      "Opening raw data file dataset\\2b_moabb\\train\\11-raw.fif...\n",
      "    Range : 0 ... 604802 =      0.000 ...  2419.208 secs\n",
      "Ready.\n",
      "Reading 0 ... 604802  =      0.000 ...  2419.208 secs...\n",
      "Opening raw data file dataset\\2b_moabb\\train\\12-raw.fif...\n",
      "    Range : 0 ... 464674 =      0.000 ...  1858.696 secs\n",
      "Ready.\n",
      "Reading 0 ... 464674  =      0.000 ...  1858.696 secs...\n",
      "Opening raw data file dataset\\2b_moabb\\train\\13-raw.fif...\n",
      "    Range : 0 ... 464674 =      0.000 ...  1858.696 secs\n",
      "Ready.\n",
      "Reading 0 ... 464674  =      0.000 ...  1858.696 secs...\n",
      "Opening raw data file dataset\\2b_moabb\\train\\14-raw.fif...\n",
      "    Range : 0 ... 463618 =      0.000 ...  1854.472 secs\n",
      "Ready.\n",
      "Reading 0 ... 463618  =      0.000 ...  1854.472 secs...\n",
      "Opening raw data file dataset\\2b_moabb\\train\\15-raw.fif...\n",
      "    Range : 0 ... 604802 =      0.000 ...  2419.208 secs\n",
      "Ready.\n",
      "Reading 0 ... 604802  =      0.000 ...  2419.208 secs...\n",
      "Opening raw data file dataset\\2b_moabb\\train\\16-raw.fif...\n",
      "    Range : 0 ... 696265 =      0.000 ...  2785.060 secs\n",
      "Ready.\n",
      "Reading 0 ... 696265  =      0.000 ...  2785.060 secs...\n",
      "Opening raw data file dataset\\2b_moabb\\train\\17-raw.fif...\n",
      "    Range : 0 ... 468558 =      0.000 ...  1874.232 secs\n",
      "Ready.\n",
      "Reading 0 ... 468558  =      0.000 ...  1874.232 secs...\n",
      "Opening raw data file dataset\\2b_moabb\\train\\18-raw.fif...\n",
      "    Range : 0 ... 467478 =      0.000 ...  1869.912 secs\n",
      "Ready.\n",
      "Reading 0 ... 467478  =      0.000 ...  1869.912 secs...\n",
      "Opening raw data file dataset\\2b_moabb\\train\\19-raw.fif...\n",
      "    Range : 0 ... 466050 =      0.000 ...  1864.200 secs\n",
      "Ready.\n",
      "Reading 0 ... 466050  =      0.000 ...  1864.200 secs...\n",
      "Opening raw data file dataset\\2b_moabb\\train\\2-raw.fif...\n",
      "    Range : 0 ... 469010 =      0.000 ...  1876.040 secs\n",
      "Ready.\n",
      "Reading 0 ... 469010  =      0.000 ...  1876.040 secs...\n",
      "Opening raw data file dataset\\2b_moabb\\train\\20-raw.fif...\n",
      "    Range : 0 ... 604802 =      0.000 ...  2419.208 secs\n",
      "Ready.\n",
      "Reading 0 ... 604802  =      0.000 ...  2419.208 secs...\n",
      "Opening raw data file dataset\\2b_moabb\\train\\21-raw.fif...\n",
      "    Range : 0 ... 696265 =      0.000 ...  2785.060 secs\n",
      "Ready.\n",
      "Reading 0 ... 696265  =      0.000 ...  2785.060 secs...\n",
      "Opening raw data file dataset\\2b_moabb\\train\\22-raw.fif...\n",
      "    Range : 0 ... 461874 =      0.000 ...  1847.496 secs\n",
      "Ready.\n",
      "Reading 0 ... 461874  =      0.000 ...  1847.496 secs...\n",
      "Opening raw data file dataset\\2b_moabb\\train\\23-raw.fif...\n",
      "    Range : 0 ... 417019 =      0.000 ...  1668.076 secs\n",
      "Ready.\n",
      "Reading 0 ... 417019  =      0.000 ...  1668.076 secs...\n",
      "Opening raw data file dataset\\2b_moabb\\train\\24-raw.fif...\n",
      "    Range : 0 ... 464958 =      0.000 ...  1859.832 secs\n",
      "Ready.\n",
      "Reading 0 ... 464958  =      0.000 ...  1859.832 secs...\n",
      "Opening raw data file dataset\\2b_moabb\\train\\25-raw.fif...\n",
      "    Range : 0 ... 604802 =      0.000 ...  2419.208 secs\n",
      "Ready.\n",
      "Reading 0 ... 604802  =      0.000 ...  2419.208 secs...\n",
      "Opening raw data file dataset\\2b_moabb\\train\\26-raw.fif...\n",
      "    Range : 0 ... 604802 =      0.000 ...  2419.208 secs\n",
      "Ready.\n",
      "Reading 0 ... 604802  =      0.000 ...  2419.208 secs...\n",
      "Opening raw data file dataset\\2b_moabb\\train\\27-raw.fif...\n",
      "    Range : 0 ... 470390 =      0.000 ...  1881.560 secs\n",
      "Ready.\n",
      "Reading 0 ... 470390  =      0.000 ...  1881.560 secs...\n",
      "Opening raw data file dataset\\2b_moabb\\train\\28-raw.fif...\n",
      "    Range : 0 ... 469990 =      0.000 ...  1879.960 secs\n",
      "Ready.\n",
      "Reading 0 ... 469990  =      0.000 ...  1879.960 secs...\n",
      "Opening raw data file dataset\\2b_moabb\\train\\29-raw.fif...\n",
      "    Range : 0 ... 460902 =      0.000 ...  1843.608 secs\n",
      "Ready.\n",
      "Reading 0 ... 460902  =      0.000 ...  1843.608 secs...\n",
      "Opening raw data file dataset\\2b_moabb\\train\\3-raw.fif...\n",
      "    Range : 0 ... 466313 =      0.000 ...  1865.252 secs\n",
      "Ready.\n",
      "Reading 0 ... 466313  =      0.000 ...  1865.252 secs...\n",
      "Opening raw data file dataset\\2b_moabb\\train\\30-raw.fif...\n",
      "    Range : 0 ... 604802 =      0.000 ...  2419.208 secs\n",
      "Ready.\n",
      "Reading 0 ... 604802  =      0.000 ...  2419.208 secs...\n",
      "Opening raw data file dataset\\2b_moabb\\train\\31-raw.fif...\n",
      "    Range : 0 ... 604802 =      0.000 ...  2419.208 secs\n",
      "Ready.\n",
      "Reading 0 ... 604802  =      0.000 ...  2419.208 secs...\n",
      "Opening raw data file dataset\\2b_moabb\\train\\32-raw.fif...\n",
      "    Range : 0 ... 466726 =      0.000 ...  1866.904 secs\n",
      "Ready.\n",
      "Reading 0 ... 466726  =      0.000 ...  1866.904 secs...\n",
      "Opening raw data file dataset\\2b_moabb\\train\\33-raw.fif...\n",
      "    Range : 0 ... 470343 =      0.000 ...  1881.372 secs\n",
      "Ready.\n",
      "Reading 0 ... 470343  =      0.000 ...  1881.372 secs...\n",
      "Opening raw data file dataset\\2b_moabb\\train\\34-raw.fif...\n",
      "    Range : 0 ... 460894 =      0.000 ...  1843.576 secs\n",
      "Ready.\n",
      "Reading 0 ... 460894  =      0.000 ...  1843.576 secs...\n",
      "Opening raw data file dataset\\2b_moabb\\train\\35-raw.fif...\n",
      "    Range : 0 ... 787728 =      0.000 ...  3150.912 secs\n",
      "Ready.\n",
      "Reading 0 ... 787728  =      0.000 ...  3150.912 secs...\n",
      "Opening raw data file dataset\\2b_moabb\\train\\36-raw.fif...\n",
      "    Range : 0 ... 604802 =      0.000 ...  2419.208 secs\n",
      "Ready.\n",
      "Reading 0 ... 604802  =      0.000 ...  2419.208 secs...\n",
      "Opening raw data file dataset\\2b_moabb\\train\\37-raw.fif...\n",
      "    Range : 0 ... 474834 =      0.000 ...  1899.336 secs\n",
      "Ready.\n",
      "Reading 0 ... 474834  =      0.000 ...  1899.336 secs...\n",
      "Opening raw data file dataset\\2b_moabb\\train\\38-raw.fif...\n",
      "    Range : 0 ... 474834 =      0.000 ...  1899.336 secs\n",
      "Ready.\n",
      "Reading 0 ... 474834  =      0.000 ...  1899.336 secs...\n",
      "Opening raw data file dataset\\2b_moabb\\train\\39-raw.fif...\n",
      "    Range : 0 ... 464306 =      0.000 ...  1857.224 secs\n",
      "Ready.\n",
      "Reading 0 ... 464306  =      0.000 ...  1857.224 secs...\n",
      "Opening raw data file dataset\\2b_moabb\\train\\4-raw.fif...\n",
      "    Range : 0 ... 474362 =      0.000 ...  1897.448 secs\n",
      "Ready.\n",
      "Reading 0 ... 474362  =      0.000 ...  1897.448 secs...\n",
      "Opening raw data file dataset\\2b_moabb\\train\\40-raw.fif...\n",
      "    Range : 0 ... 604802 =      0.000 ...  2419.208 secs\n",
      "Ready.\n",
      "Reading 0 ... 604802  =      0.000 ...  2419.208 secs...\n",
      "Opening raw data file dataset\\2b_moabb\\train\\41-raw.fif...\n",
      "    Range : 0 ... 604802 =      0.000 ...  2419.208 secs\n",
      "Ready.\n",
      "Reading 0 ... 604802  =      0.000 ...  2419.208 secs...\n",
      "Opening raw data file dataset\\2b_moabb\\train\\42-raw.fif...\n",
      "    Range : 0 ... 460730 =      0.000 ...  1842.920 secs\n",
      "Ready.\n",
      "Reading 0 ... 460730  =      0.000 ...  1842.920 secs...\n",
      "Opening raw data file dataset\\2b_moabb\\train\\43-raw.fif...\n",
      "    Range : 0 ... 466802 =      0.000 ...  1867.208 secs\n",
      "Ready.\n",
      "Reading 0 ... 466802  =      0.000 ...  1867.208 secs...\n",
      "Opening raw data file dataset\\2b_moabb\\train\\44-raw.fif...\n",
      "    Range : 0 ... 458570 =      0.000 ...  1834.280 secs\n",
      "Ready.\n",
      "Reading 0 ... 458570  =      0.000 ...  1834.280 secs...\n",
      "Opening raw data file dataset\\2b_moabb\\train\\5-raw.fif...\n",
      "    Range : 0 ... 604802 =      0.000 ...  2419.208 secs\n",
      "Ready.\n",
      "Reading 0 ... 604802  =      0.000 ...  2419.208 secs...\n",
      "Opening raw data file dataset\\2b_moabb\\train\\6-raw.fif...\n",
      "    Range : 0 ... 604802 =      0.000 ...  2419.208 secs\n",
      "Ready.\n",
      "Reading 0 ... 604802  =      0.000 ...  2419.208 secs...\n",
      "Opening raw data file dataset\\2b_moabb\\train\\7-raw.fif...\n",
      "    Range : 0 ... 464154 =      0.000 ...  1856.616 secs\n",
      "Ready.\n",
      "Reading 0 ... 464154  =      0.000 ...  1856.616 secs...\n",
      "Opening raw data file dataset\\2b_moabb\\train\\8-raw.fif...\n",
      "    Range : 0 ... 361829 =      0.000 ...  1447.316 secs\n",
      "Ready.\n",
      "Reading 0 ... 361829  =      0.000 ...  1447.316 secs...\n",
      "Opening raw data file dataset\\2b_moabb\\train\\9-raw.fif...\n",
      "    Range : 0 ... 473686 =      0.000 ...  1894.744 secs\n",
      "Ready.\n",
      "Reading 0 ... 473686  =      0.000 ...  1894.744 secs...\n",
      "<Info | 10 non-empty values\n",
      " bads: []\n",
      " ch_names: C3, Cz, C4, EOG1, EOG2, EOG3, stim\n",
      " chs: 3 EEG, 3 EOG, 1 Stimulus\n",
      " custom_ref_applied: False\n",
      " dig: 6 items (3 Cardinal, 3 EEG)\n",
      " file_id: 4 items (dict)\n",
      " highpass: 0.0 Hz\n",
      " lowpass: 125.0 Hz\n",
      " meas_date: unspecified\n",
      " meas_id: 4 items (dict)\n",
      " nchan: 7\n",
      " projs: []\n",
      " sfreq: 250.0 Hz\n",
      ">\n",
      "Filtering raw data in 45 contiguous segments\n",
      "Setting up band-pass filter from 0.5 - 1e+02 Hz\n",
      "\n",
      "FIR filter parameters\n",
      "---------------------\n",
      "Designing a one-pass, zero-phase, non-causal bandpass filter:\n",
      "- Windowed time-domain design (firwin) method\n",
      "- Hamming window with 0.0194 passband ripple and 53 dB stopband attenuation\n",
      "- Lower passband edge: 0.50\n",
      "- Lower transition bandwidth: 0.50 Hz (-6 dB cutoff frequency: 0.25 Hz)\n",
      "- Upper passband edge: 100.00 Hz\n",
      "- Upper transition bandwidth: 25.00 Hz (-6 dB cutoff frequency: 112.50 Hz)\n",
      "- Filter length: 1651 samples (6.604 sec)\n",
      "\n",
      "Setting up band-stop filter from 49 - 51 Hz\n",
      "\n",
      "FIR filter parameters\n",
      "---------------------\n",
      "Designing a one-pass, zero-phase, non-causal bandstop filter:\n",
      "- Windowed time-domain design (firwin) method\n",
      "- Hamming window with 0.0194 passband ripple and 53 dB stopband attenuation\n",
      "- Lower passband edge: 49.38\n",
      "- Lower transition bandwidth: 0.50 Hz (-6 dB cutoff frequency: 49.12 Hz)\n",
      "- Upper passband edge: 50.62 Hz\n",
      "- Upper transition bandwidth: 0.50 Hz (-6 dB cutoff frequency: 50.88 Hz)\n",
      "- Filter length: 1651 samples (6.604 sec)\n",
      "\n",
      "Used Annotations descriptions: ['left_hand', 'right_hand']\n",
      "[[   55889        0        1]\n",
      " [   58249        0        2]\n",
      " [   62817        0        1]\n",
      " ...\n",
      " [23639657        0        1]\n",
      " [23641945        0        2]\n",
      " [23644321        0        1]]\n",
      "[0 1 2]\n",
      "Not setting metadata\n",
      "Not setting metadata\n",
      "6520 matching events found\n",
      "No baseline correction applied\n",
      "0 projection items activated\n",
      "Loading data for 6520 events and 251 original time points ...\n",
      "0 bad epochs dropped\n"
     ]
    }
   ],
   "source": [
    "def get_data():\n",
    "    #path = \"dataset\\\\bci_dataset\\\\train\"\n",
    "    #2b path \n",
    "    path = \"dataset\\\\2b_moabb\\\\train\"\n",
    "    #2b file\n",
    "    test_path = \"dataset\\\\2b_moabb\\\\train\\\\0-raw.fif\"\n",
    "    #2a path\n",
    "    #path = \"dataset\\\\2amoabb\\\\train\"\n",
    "    \n",
    "    #listed all data into list\n",
    "    files = os.listdir(path)\n",
    "    data_path = []\n",
    "    for f in files:\n",
    "        file = os.path.join(path,f)\n",
    "        data_path.append(file)\n",
    "        \n",
    "    \n",
    "    #tmin, tmax = -0.2, 0.4\n",
    "    tmin, tmax = 1, 2\n",
    "    event_id = dict(left=1, right = 2)\n",
    "\n",
    "    #first is all data path second is one file\n",
    "    #All subject\n",
    "    raw = concatenate_raws([read_raw_fif(f, preload=True) for f in data_path])\n",
    "    #one subject\n",
    "    #raw = concatenate_raws([read_raw_fif(test_path, preload=True)])\n",
    "    \n",
    "    \n",
    "    raw_data = raw.copy()\n",
    "    print(raw_data.info)\n",
    "    # strip channel names of \".\" characters\n",
    "    raw_data.rename_channels(lambda x: x.strip('.'))\n",
    "\n",
    "    # Apply band-pass filter\n",
    "    #skip_by_annotation='edge'\n",
    "    raw_data.filter(l_freq=0.5, h_freq=100,skip_by_annotation='edge')\n",
    "    raw_data.notch_filter(50)\n",
    "\n",
    "    events, _ = events_from_annotations(raw_data)\n",
    "    print(events)\n",
    "    \n",
    "    picks = pick_types(raw_data.info, meg=False, eeg=True, stim=False, eog=False,\n",
    "                       exclude='bads')\n",
    "    print(picks)\n",
    "    #delete eog band\n",
    "    #picks = np.delete(picks,[3,4,5])\n",
    "    \n",
    "    # Read epochs (train will be done only between 1 and 2s)\n",
    "    # reject_criteria = dict( eeg=100e-6)       # 100 µV\n",
    "    epochs = Epochs(raw_data, events, event_id, tmin, tmax, proj=True, picks=picks,\n",
    "                    baseline=None,preload=True)\n",
    "    #epochs.crop(tmin=1., tmax=None)\n",
    "    labels = epochs.events[:, -1]-1\n",
    "    return epochs.get_data(), labels,epochs,raw_data\n",
    "\n",
    "\n",
    "epochs_data, labels,epochs1,raw= get_data()"
   ]
  },
  {
   "cell_type": "code",
   "execution_count": 3,
   "metadata": {},
   "outputs": [
    {
     "name": "stdout",
     "output_type": "stream",
     "text": [
      "(6520, 3, 251)\n",
      "(6520,)\n",
      "3\n",
      "[0 1 0 ... 0 1 0]\n",
      "['C3', 'Cz', 'C4', 'EOG1', 'EOG2', 'EOG3', 'stim']\n",
      "7\n"
     ]
    }
   ],
   "source": [
    "# 280 events(epoch)\n",
    "# 22 channel\n",
    "# 256 Time(samples)\n",
    "#(event,channel,time)\n",
    "print(epochs_data.shape)\n",
    "print(labels.shape)\n",
    "print(epochs_data.shape[1])\n",
    "print(labels)\n",
    "print(raw.info['ch_names'])\n",
    "print(raw.info['nchan'])"
   ]
  },
  {
   "cell_type": "code",
   "execution_count": 7,
   "metadata": {},
   "outputs": [
    {
     "name": "stdout",
     "output_type": "stream",
     "text": [
      "(6520, 3, 251)\n",
      "(6520,)\n"
     ]
    }
   ],
   "source": [
    "X = epochs_data.copy()\n",
    "y = labels\n",
    "print(X.shape)\n",
    "print(y.shape)"
   ]
  },
  {
   "cell_type": "code",
   "execution_count": 8,
   "metadata": {},
   "outputs": [],
   "source": [
    "import torch\n",
    "import torch.nn as nn\n",
    "import torch.nn.functional as F\n"
   ]
  },
  {
   "cell_type": "code",
   "execution_count": 9,
   "metadata": {},
   "outputs": [],
   "source": [
    "class casual(nn.Module):\n",
    "    def __init__(self,kernel_size=3,dilation=1):\n",
    "        super(casual, self).__init__()\n",
    "        self.pad = (kernel_size - 1) * dilation\n",
    "        self.casual1 = nn.Conv1d(in_channels=3,out_channels=6,kernel_size=kernel_size,stride=1,padding=self.pad,dilation=dilation)\n",
    "        self.casual2 = nn.Conv1d(in_channels=6,out_channels=12,kernel_size=kernel_size,stride=1,padding=self.pad,dilation=dilation)\n",
    "        self.conv1_1 = nn.Conv1d(in_channels=3,out_channels=12,\n",
    "                                                        kernel_size=1,stride=1,padding=0,dilation=1)\n",
    "    def forward(self,x):\n",
    "        x_iden = x\n",
    "        x = self.casual1(x)\n",
    "        x = x[:,:,:-self.pad]\n",
    "        print(x.shape)\n",
    "        x = self.casual2(x)\n",
    "        x = x[:,:,:-self.pad]\n",
    "        print(x.shape)\n",
    "        x_iden = self.conv1_1(x_iden)\n",
    "        print(x_iden.shape)\n",
    "        x = x + x_iden\n",
    "        return x"
   ]
  },
  {
   "cell_type": "code",
   "execution_count": 10,
   "metadata": {},
   "outputs": [],
   "source": [
    "class First_SingleNet(nn.Module):\n",
    "    def __init__(self):\n",
    "        super().__init__()\n",
    "\n",
    "        # define model architecture\n",
    "        # torch.Size([36, 1, 64, 256])\n",
    "        # temporal convolutional kernel 25 filter with size(11,1)\n",
    "        #input [224, 1, 22, 256]\n",
    "        # new input [96, 1, 3, 151]\n",
    "        #A block\n",
    "        \n",
    "        #Temporal torch.Size([5216, 8, 1, 151])\n",
    "        self.temporalConv = nn.Conv1d(in_channels=3,out_channels=8,kernel_size=3,stride=1)\n",
    "        self.batchnorm1 = nn.BatchNorm1d(8,affine=False)\n",
    "        #Spatial torch.Size([5216, 8, 1, 151])\n",
    "        self.spatialConv = nn.Conv1d(in_channels=8,out_channels=8,kernel_size=1,stride=1)\n",
    "        self.batchnorm2 = nn.BatchNorm1d(8,affine=False)\n",
    "        #Maxx torch.Size([5216, 41, 1, 2])\n",
    "        self.maxPooling = nn.MaxPool1d(3)\n",
    "        \n",
    "        #B block\n",
    "        # 1st convo output [25,1,371]\n",
    "        #input [224, 8, 1, 85]\n",
    "        # new input [96, 8, 1, 50]\n",
    "        \n",
    "        self.firstConv = nn.Conv1d(in_channels=8, out_channels=8,kernel_size=1,stride=1)\n",
    "        self.batchnorm3 = nn.BatchNorm1d(8, False)\n",
    "        self.secondConv = nn.Conv1d(in_channels=8, out_channels=33,kernel_size=1,stride=1)\n",
    "        self.batchnorm4 = nn.BatchNorm1d(8, False)\n",
    "        self.maxPooling2 = nn.MaxPool1d(3)\n",
    "        # out Secondblock torch.Size([5216, 41, 1, 16])\n",
    "        \n",
    "        #C block\n",
    "        #input [224, 41, 1, 28]\n",
    "        #new input [96, 41, 1, 16]\n",
    "        \n",
    "        self.classify = nn.Conv1d(in_channels=16,out_channels=41,kernel_size=1,stride=1)\n",
    "        self.batchnorm5 = nn.BatchNorm1d(41, False) \n",
    "        #Classify torch.Size([5216, 41, 1, 6])\n",
    "        self.maxPooling3 = nn.MaxPool1d(3)\n",
    "        #Maxx torch.Size([5216, 41, 1, 2])\n",
    "        self.flatten = nn.Flatten()\n",
    "        #flatter torch.Size([5216, 82])\n",
    "        self.elu = nn.ELU()\n",
    "        #elu torch.Size([5216, 82])\n",
    "        self.fully = nn.Linear(369,2) \n",
    "        #fully torch.Size([5216, 2])\n",
    "        \n",
    "        \n",
    "    def forward(self, x):\n",
    "        #Conv1d(1,ch,kernel_size=10) on tensor [batch=1, channels=1, time=400]\n",
    "        \n",
    "        x = self.temporalConv(x)\n",
    "        x = self.batchnorm1(x)\n",
    "        x = self.elu(x)\n",
    "        x = F.dropout(x, 0.5)\n",
    "        \n",
    "        x = self.spatialConv(x)\n",
    "        x = self.batchnorm2(x)\n",
    "        x = self.elu(x)\n",
    "        x = F.dropout(x, 0.5)\n",
    "        x = self.maxPooling(x)\n",
    "\n",
    "        \n",
    "        out2 = self.firstConv(x)\n",
    "        out2 = self.batchnorm3(x)\n",
    "        out2 = self.elu(out2)\n",
    "        out2 = F.dropout(out2,0.5)\n",
    "        \n",
    "        out2 = self.secondConv(out2)\n",
    "        out2 = self.batchnorm4(x)\n",
    "        out2 = self.elu(out2)\n",
    "        out2 = F.dropout(out2,0.5)\n",
    "        out3 = torch.cat((x,out2),1)\n",
    "        out3 = self.maxPooling2(out3)\n",
    "        \n",
    "        \n",
    "        out3 = self.classify(out3)\n",
    "        out3 = self.batchnorm5(out3)\n",
    "        out3 = self.elu(out3)\n",
    "        out3 = F.dropout(out3,0.5)\n",
    "        out3 = self.maxPooling3(out3)\n",
    "        out3 = self.flatten(out3)\n",
    "        out3 = self.elu(out3)\n",
    "        out3 = self.fully(out3)\n",
    "        out3 = self.elu(out3)\n",
    "        out3 = F.log_softmax(out3, dim=1)\n",
    "        \n",
    "        return out3"
   ]
  },
  {
   "cell_type": "code",
   "execution_count": 12,
   "metadata": {},
   "outputs": [
    {
     "ename": "TypeError",
     "evalue": "__init__() missing 2 required positional arguments: 'out_channels' and 'kernel_size'",
     "output_type": "error",
     "traceback": [
      "\u001b[1;31m---------------------------------------------------------------------------\u001b[0m",
      "\u001b[1;31mTypeError\u001b[0m                                 Traceback (most recent call last)",
      "\u001b[1;32m<ipython-input-12-76a16c4d44c7>\u001b[0m in \u001b[0;36m<module>\u001b[1;34m\u001b[0m\n\u001b[0;32m     20\u001b[0m \u001b[1;33m\u001b[0m\u001b[0m\n\u001b[0;32m     21\u001b[0m \u001b[1;33m\u001b[0m\u001b[0m\n\u001b[1;32m---> 22\u001b[1;33m \u001b[0mmodels\u001b[0m \u001b[1;33m=\u001b[0m \u001b[0mCNN\u001b[0m\u001b[1;33m(\u001b[0m\u001b[1;33m)\u001b[0m\u001b[1;33m\u001b[0m\u001b[1;33m\u001b[0m\u001b[0m\n\u001b[0m\u001b[0;32m     23\u001b[0m \u001b[1;32mfor\u001b[0m \u001b[0mindex\u001b[0m\u001b[1;33m,\u001b[0m\u001b[1;33m(\u001b[0m\u001b[0mx\u001b[0m\u001b[1;33m,\u001b[0m\u001b[0my\u001b[0m\u001b[1;33m)\u001b[0m \u001b[1;32min\u001b[0m \u001b[0menumerate\u001b[0m\u001b[1;33m(\u001b[0m\u001b[0mtrain_iterator\u001b[0m\u001b[1;33m)\u001b[0m\u001b[1;33m:\u001b[0m\u001b[1;33m\u001b[0m\u001b[1;33m\u001b[0m\u001b[0m\n\u001b[0;32m     24\u001b[0m     \u001b[0mx\u001b[0m \u001b[1;33m=\u001b[0m \u001b[0mx\u001b[0m\u001b[1;33m.\u001b[0m\u001b[0mto\u001b[0m\u001b[1;33m(\u001b[0m\u001b[0mdevice\u001b[0m\u001b[1;33m=\u001b[0m\u001b[0mdevice\u001b[0m\u001b[1;33m,\u001b[0m \u001b[0mdtype\u001b[0m\u001b[1;33m=\u001b[0m\u001b[0mtorch\u001b[0m\u001b[1;33m.\u001b[0m\u001b[0mfloat32\u001b[0m\u001b[1;33m)\u001b[0m\u001b[1;33m\u001b[0m\u001b[1;33m\u001b[0m\u001b[0m\n",
      "\u001b[1;32m<ipython-input-12-76a16c4d44c7>\u001b[0m in \u001b[0;36m__init__\u001b[1;34m(self, kernel_size, dilation)\u001b[0m\n\u001b[0;32m      5\u001b[0m         \u001b[0mself\u001b[0m\u001b[1;33m.\u001b[0m\u001b[0mtemporal\u001b[0m\u001b[1;33m=\u001b[0m \u001b[0mnn\u001b[0m\u001b[1;33m.\u001b[0m\u001b[0mConv1d\u001b[0m\u001b[1;33m(\u001b[0m\u001b[0min_channels\u001b[0m\u001b[1;33m=\u001b[0m\u001b[1;36m3\u001b[0m\u001b[1;33m,\u001b[0m\u001b[0mout_channels\u001b[0m\u001b[1;33m=\u001b[0m\u001b[1;36m25\u001b[0m\u001b[1;33m,\u001b[0m\u001b[0mkernel_size\u001b[0m\u001b[1;33m=\u001b[0m\u001b[1;36m11\u001b[0m\u001b[1;33m,\u001b[0m\u001b[0mstride\u001b[0m\u001b[1;33m=\u001b[0m\u001b[1;36m1\u001b[0m\u001b[1;33m)\u001b[0m\u001b[1;33m\u001b[0m\u001b[1;33m\u001b[0m\u001b[0m\n\u001b[0;32m      6\u001b[0m         \u001b[0mself\u001b[0m\u001b[1;33m.\u001b[0m\u001b[0mleaky\u001b[0m \u001b[1;33m=\u001b[0m \u001b[0mnn\u001b[0m\u001b[1;33m.\u001b[0m\u001b[0mLeakyReLU\u001b[0m\u001b[1;33m(\u001b[0m\u001b[1;33m)\u001b[0m\u001b[1;33m\u001b[0m\u001b[1;33m\u001b[0m\u001b[0m\n\u001b[1;32m----> 7\u001b[1;33m         \u001b[0mself\u001b[0m\u001b[1;33m.\u001b[0m\u001b[0mspatial\u001b[0m \u001b[1;33m=\u001b[0m \u001b[0mnn\u001b[0m\u001b[1;33m.\u001b[0m\u001b[0mConv1d\u001b[0m\u001b[1;33m(\u001b[0m\u001b[0min_channels\u001b[0m\u001b[1;33m=\u001b[0m\u001b[1;36m25\u001b[0m\u001b[1;33m)\u001b[0m\u001b[1;33m\u001b[0m\u001b[1;33m\u001b[0m\u001b[0m\n\u001b[0m\u001b[0;32m      8\u001b[0m \u001b[1;33m\u001b[0m\u001b[0m\n\u001b[0;32m      9\u001b[0m \u001b[1;33m\u001b[0m\u001b[0m\n",
      "\u001b[1;31mTypeError\u001b[0m: __init__() missing 2 required positional arguments: 'out_channels' and 'kernel_size'"
     ]
    }
   ],
   "source": [
    "class CNN(nn.Module):\n",
    "    def __init__(self,kernel_size=3,dilation=1):\n",
    "        super(CNN, self).__init__()\n",
    "        self.pad = (kernel_size - 1) * dilation\n",
    "        self.temporal= nn.Conv1d(in_channels=3,out_channels=25,kernel_size=11,stride=1)\n",
    "        self.leaky = nn.LeakyReLU()\n",
    "        self.spatial = nn.Conv1d(in_channels=25)\n",
    "        \n",
    "        \n",
    "        \n",
    "    def forward(self,x):\n",
    "        print(x.shape)\n",
    "        x = self.temporal(x)\n",
    "        x = self.leaky(x)\n",
    "        x = F.dropout(x,0.5)\n",
    "        print(x.shape)\n",
    "        \n",
    "        \n",
    "        return x\n",
    "\n",
    "\n",
    "models = CNN()\n",
    "for index,(x,y) in enumerate(train_iterator):\n",
    "    x = x.to(device=device, dtype=torch.float32)\n",
    "    y = x.to(device=device, dtype=torch.int64)\n",
    "    print(x.shape)\n",
    "    models(x)\n",
    "    break"
   ]
  },
  {
   "cell_type": "code",
   "execution_count": 13,
   "metadata": {},
   "outputs": [],
   "source": [
    "device = 'cpu'\n",
    "models = First_SingleNet()"
   ]
  },
  {
   "cell_type": "code",
   "execution_count": 14,
   "metadata": {},
   "outputs": [],
   "source": [
    "import torch.optim as optim\n",
    "\n",
    "learning_rate = 0.01\n",
    "\n",
    "optimizer = optim.Adam(models.parameters())\n",
    "criterion = nn.CrossEntropyLoss()\n",
    "optimizer = torch.optim.Adam(models.parameters(), lr=learning_rate)"
   ]
  },
  {
   "cell_type": "code",
   "execution_count": 15,
   "metadata": {},
   "outputs": [
    {
     "name": "stdout",
     "output_type": "stream",
     "text": [
      "torch.Size([64, 3, 251])\n",
      "torch.Size([64, 3, 251])\n",
      "torch.Size([64, 3, 251])\n",
      "torch.Size([64, 3, 251])\n",
      "torch.Size([64, 3, 251])\n",
      "torch.Size([64, 3, 251])\n",
      "torch.Size([64, 3, 251])\n",
      "torch.Size([64, 3, 251])\n",
      "torch.Size([64, 3, 251])\n",
      "torch.Size([64, 3, 251])\n",
      "torch.Size([64, 3, 251])\n",
      "torch.Size([64, 3, 251])\n",
      "torch.Size([64, 3, 251])\n",
      "torch.Size([64, 3, 251])\n",
      "torch.Size([64, 3, 251])\n",
      "torch.Size([64, 3, 251])\n",
      "torch.Size([64, 3, 251])\n",
      "torch.Size([64, 3, 251])\n",
      "torch.Size([64, 3, 251])\n",
      "torch.Size([64, 3, 251])\n",
      "torch.Size([64, 3, 251])\n",
      "torch.Size([64, 3, 251])\n",
      "torch.Size([64, 3, 251])\n",
      "torch.Size([64, 3, 251])\n",
      "torch.Size([64, 3, 251])\n",
      "torch.Size([64, 3, 251])\n",
      "torch.Size([64, 3, 251])\n",
      "torch.Size([64, 3, 251])\n",
      "torch.Size([64, 3, 251])\n",
      "torch.Size([64, 3, 251])\n",
      "torch.Size([64, 3, 251])\n",
      "torch.Size([64, 3, 251])\n",
      "torch.Size([64, 3, 251])\n",
      "torch.Size([64, 3, 251])\n",
      "torch.Size([64, 3, 251])\n",
      "torch.Size([64, 3, 251])\n",
      "torch.Size([64, 3, 251])\n",
      "torch.Size([64, 3, 251])\n",
      "torch.Size([64, 3, 251])\n",
      "torch.Size([64, 3, 251])\n",
      "torch.Size([64, 3, 251])\n",
      "torch.Size([64, 3, 251])\n",
      "torch.Size([64, 3, 251])\n",
      "torch.Size([64, 3, 251])\n",
      "torch.Size([64, 3, 251])\n",
      "torch.Size([64, 3, 251])\n",
      "torch.Size([64, 3, 251])\n",
      "torch.Size([64, 3, 251])\n",
      "torch.Size([64, 3, 251])\n",
      "torch.Size([64, 3, 251])\n",
      "torch.Size([64, 3, 251])\n",
      "torch.Size([64, 3, 251])\n",
      "torch.Size([64, 3, 251])\n",
      "torch.Size([64, 3, 251])\n",
      "torch.Size([64, 3, 251])\n",
      "torch.Size([64, 3, 251])\n",
      "torch.Size([64, 3, 251])\n",
      "torch.Size([64, 3, 251])\n",
      "torch.Size([64, 3, 251])\n",
      "torch.Size([64, 3, 251])\n",
      "torch.Size([64, 3, 251])\n",
      "torch.Size([64, 3, 251])\n",
      "torch.Size([64, 3, 251])\n",
      "torch.Size([64, 3, 251])\n",
      "torch.Size([64, 3, 251])\n",
      "torch.Size([64, 3, 251])\n",
      "torch.Size([64, 3, 251])\n",
      "torch.Size([64, 3, 251])\n",
      "torch.Size([64, 3, 251])\n",
      "torch.Size([64, 3, 251])\n",
      "torch.Size([64, 3, 251])\n",
      "torch.Size([20, 3, 251])\n"
     ]
    }
   ],
   "source": [
    "from torch.utils.data import TensorDataset\n",
    "\n",
    "X_torch = torch.from_numpy(X).double()\n",
    "y_torch = torch.from_numpy(y)\n",
    "# Define dataset\n",
    "ds = TensorDataset(X_torch, y_torch)\n",
    "\n",
    "#Train test split\n",
    "train_size = int(X_torch.size()[0] * 0.7)\n",
    "valid_size = int(X_torch.size()[0] * 0.2)\n",
    "test_size = int(X_torch.size()[0] * 0.1)\n",
    "\n",
    "train_set, valid_set, test_set = torch.utils.data.random_split(ds, [train_size, valid_size, test_size])\n",
    "\n",
    "BATCH_SIZE = 64 #keeping it binary so it fits GPU\n",
    "#Train set loader\n",
    "train_iterator = torch.utils.data.DataLoader(dataset=train_set, \n",
    "                                           batch_size=BATCH_SIZE, \n",
    "                                           shuffle=True)\n",
    "#Validation set loader\n",
    "valid_iterator = torch.utils.data.DataLoader(dataset=valid_set, \n",
    "                                           batch_size=BATCH_SIZE, \n",
    "                                           shuffle=True)\n",
    "\n",
    "#Test set loader\n",
    "test_iterator = torch.utils.data.DataLoader(dataset=test_set, \n",
    "                                          batch_size=BATCH_SIZE, \n",
    "                                          shuffle=True)\n",
    "\n",
    "for index,(x,y) in enumerate(train_iterator):\n",
    "    print(x.shape)"
   ]
  },
  {
   "cell_type": "code",
   "execution_count": 11,
   "metadata": {},
   "outputs": [],
   "source": [
    "def train(model, iterator, optimizer, criterion):\n",
    "    total = 0\n",
    "    correct = 0\n",
    "    epoch_loss = 0\n",
    "    epoch_acc = 0\n",
    "    \n",
    "    model.train()\n",
    "    \n",
    "    for batch, labels in iterator:\n",
    "        print(batch.shape)\n",
    "        #Move tensors to the configured device\n",
    "        batch = batch.to(device)\n",
    "        labels = labels.to(device)\n",
    "        \n",
    "        #Forward pass\n",
    "        outputs = model(batch)\n",
    "        print(\"Out\" + str(outputs.shape))\n",
    "        loss = criterion(outputs, labels)\n",
    "        \n",
    "        # Backward and optimize\n",
    "        optimizer.zero_grad()\n",
    "        loss.backward()\n",
    "        optimizer.step()\n",
    "                \n",
    "        #check accuracy\n",
    "        predictions = model(batch.float())\n",
    "        _, predicted = torch.max(predictions.data, 1)  #returns max value, indices\n",
    "        total += labels.size(0)  #keep track of total\n",
    "        correct += (predicted == labels).sum().item()  #.item() give the raw number\n",
    "        acc = 100 * (correct / total)\n",
    "                \n",
    "        epoch_loss += loss.item()\n",
    "        epoch_acc = acc\n",
    "        \n",
    "    return epoch_loss / len(iterator), epoch_acc, predicted"
   ]
  },
  {
   "cell_type": "code",
   "execution_count": 12,
   "metadata": {},
   "outputs": [],
   "source": [
    "def evaluate(model, iterator, criterion):\n",
    "    \n",
    "    total = 0\n",
    "    correct = 0\n",
    "    epoch_loss = 0\n",
    "    epoch_acc = 0\n",
    "    \n",
    "    model.eval()\n",
    "    \n",
    "    with torch.no_grad():\n",
    "    \n",
    "        for batch, labels in iterator:\n",
    "            \n",
    "            #Move tensors to the configured device\n",
    "            batch = batch#.to(device)\n",
    "            labels = labels#.to(device)\n",
    "\n",
    "            predictions = model(batch.float())\n",
    "            loss = criterion(predictions, labels)\n",
    "\n",
    "            _, predicted = torch.max(predictions.data, 1)  #returns max value, indices\n",
    "            \n",
    "            total += labels.size(0)  #keep track of total\n",
    "            correct += (predicted == labels).sum().item()  #.item() give the raw number\n",
    "            acc = 100 * (correct / total)\n",
    "            \n",
    "            epoch_loss += loss.item()\n",
    "            epoch_acc += acc\n",
    "        \n",
    "    return epoch_loss / len(iterator), epoch_acc / len(iterator) , predicted"
   ]
  },
  {
   "cell_type": "code",
   "execution_count": 13,
   "metadata": {},
   "outputs": [],
   "source": [
    "import time\n",
    "\n",
    "def epoch_time(start_time, end_time):\n",
    "    elapsed_time = end_time - start_time\n",
    "    elapsed_mins = int(elapsed_time / 60)\n",
    "    elapsed_secs = int(elapsed_time - (elapsed_mins * 60))\n",
    "    return elapsed_mins, elapsed_secs"
   ]
  },
  {
   "cell_type": "code",
   "execution_count": 14,
   "metadata": {},
   "outputs": [
    {
     "data": {
      "text/plain": [
       "'N_EPOCHS = 200\\n\\nbest_valid_loss = float(\\'inf\\')\\nstart_time = time.time()\\n\\nfor epoch in range(N_EPOCHS):\\n    start_time = time.time()\\n\\n    train_loss, train_acc, predicted_train = train(models, train_iterator, optimizer, criterion)\\n    valid_loss, valid_acc, predicted_eval = evaluate(models, valid_iterator, criterion)\\n\\n    end_time = time.time()\\n\\n    epoch_mins, epoch_secs = epoch_time(start_time, end_time)\\n        \\n    if (epoch+1) % 20 == 0:\\n        print(f\\'Epoch: {epoch+1:02} | Epoch Time: {epoch_mins}m {epoch_secs}s\\')\\n        print(f\\'\\tTrain Loss: {train_loss:.3f} | Train Acc: {train_acc:.2f}%\\')\\n        print(f\\'\\t Val. Loss: {valid_loss:.3f} |  Val. Acc: {valid_acc:.2f}%\\')\\n            \\n        print(predicted_train)\\n        print(predicted_eval)\\n            \\n    if valid_loss < best_valid_loss:\\n        best_valid_loss = valid_loss\\n        print(\"Model:{} saved.\".format(type(model).__name__))\\n        #torch.save(model.state_dict(), \\'models/checkpoint.pth.tar\\')\\n        best_model_index = i         \\n           '"
      ]
     },
     "execution_count": 14,
     "metadata": {},
     "output_type": "execute_result"
    }
   ],
   "source": [
    "'''N_EPOCHS = 200\n",
    "\n",
    "best_valid_loss = float('inf')\n",
    "start_time = time.time()\n",
    "\n",
    "for epoch in range(N_EPOCHS):\n",
    "    start_time = time.time()\n",
    "\n",
    "    train_loss, train_acc, predicted_train = train(models, train_iterator, optimizer, criterion)\n",
    "    valid_loss, valid_acc, predicted_eval = evaluate(models, valid_iterator, criterion)\n",
    "\n",
    "    end_time = time.time()\n",
    "\n",
    "    epoch_mins, epoch_secs = epoch_time(start_time, end_time)\n",
    "        \n",
    "    if (epoch+1) % 20 == 0:\n",
    "        print(f'Epoch: {epoch+1:02} | Epoch Time: {epoch_mins}m {epoch_secs}s')\n",
    "        print(f'\\tTrain Loss: {train_loss:.3f} | Train Acc: {train_acc:.2f}%')\n",
    "        print(f'\\t Val. Loss: {valid_loss:.3f} |  Val. Acc: {valid_acc:.2f}%')\n",
    "            \n",
    "        print(predicted_train)\n",
    "        print(predicted_eval)\n",
    "            \n",
    "    if valid_loss < best_valid_loss:\n",
    "        best_valid_loss = valid_loss\n",
    "        print(\"Model:{} saved.\".format(type(model).__name__))\n",
    "        #torch.save(model.state_dict(), 'models/checkpoint.pth.tar')\n",
    "        best_model_index = i         \n",
    "           '''"
   ]
  },
  {
   "cell_type": "code",
   "execution_count": 25,
   "metadata": {},
   "outputs": [
    {
     "name": "stdout",
     "output_type": "stream",
     "text": [
      "\n",
      "Starting epoch 1 / 300\n"
     ]
    },
    {
     "name": "stderr",
     "output_type": "stream",
     "text": [
      "avg train loss: 0.72: 100%|██████████| 72/72 [00:01<00:00, 43.67it/s]\n"
     ]
    },
    {
     "name": "stdout",
     "output_type": "stream",
     "text": [
      "---  Accuracy Training set : 49.52 % \n",
      "\n"
     ]
    },
    {
     "name": "stderr",
     "output_type": "stream",
     "text": [
      "avg val loss: 0.69: 100%|██████████| 21/21 [00:00<00:00, 110.38it/s]\n"
     ]
    },
    {
     "name": "stdout",
     "output_type": "stream",
     "text": [
      "---  Accuracy Validation set: 51.38 % \n",
      "\n",
      "\n",
      "best val loss inf -> 0.6938\n",
      "\n",
      "Starting epoch 2 / 300\n"
     ]
    },
    {
     "name": "stderr",
     "output_type": "stream",
     "text": [
      "avg train loss: 0.71: 100%|██████████| 72/72 [00:01<00:00, 50.97it/s]\n"
     ]
    },
    {
     "name": "stdout",
     "output_type": "stream",
     "text": [
      "---  Accuracy Training set : 49.50 % \n",
      "\n"
     ]
    },
    {
     "name": "stderr",
     "output_type": "stream",
     "text": [
      "avg val loss: 0.72: 100%|██████████| 21/21 [00:00<00:00, 111.95it/s]\n"
     ]
    },
    {
     "name": "stdout",
     "output_type": "stream",
     "text": [
      "---  Accuracy Validation set: 48.16 % \n",
      "\n",
      "Waiting += 1\n",
      "\n",
      "Starting epoch 3 / 300\n"
     ]
    },
    {
     "name": "stderr",
     "output_type": "stream",
     "text": [
      "avg train loss: 0.70: 100%|██████████| 72/72 [00:01<00:00, 48.49it/s]\n"
     ]
    },
    {
     "name": "stdout",
     "output_type": "stream",
     "text": [
      "---  Accuracy Training set : 51.12 % \n",
      "\n"
     ]
    },
    {
     "name": "stderr",
     "output_type": "stream",
     "text": [
      "avg val loss: 0.94: 100%|██████████| 21/21 [00:00<00:00, 81.68it/s]\n"
     ]
    },
    {
     "name": "stdout",
     "output_type": "stream",
     "text": [
      "---  Accuracy Validation set: 48.39 % \n",
      "\n",
      "Waiting += 1\n",
      "\n",
      "Starting epoch 4 / 300\n"
     ]
    },
    {
     "name": "stderr",
     "output_type": "stream",
     "text": [
      "avg train loss: 0.70: 100%|██████████| 72/72 [00:01<00:00, 50.66it/s]\n"
     ]
    },
    {
     "name": "stdout",
     "output_type": "stream",
     "text": [
      "---  Accuracy Training set : 50.96 % \n",
      "\n"
     ]
    },
    {
     "name": "stderr",
     "output_type": "stream",
     "text": [
      "avg val loss: 0.72: 100%|██████████| 21/21 [00:00<00:00, 119.26it/s]\n"
     ]
    },
    {
     "name": "stdout",
     "output_type": "stream",
     "text": [
      "---  Accuracy Validation set: 48.62 % \n",
      "\n",
      "Waiting += 1\n",
      "\n",
      "Starting epoch 5 / 300\n"
     ]
    },
    {
     "name": "stderr",
     "output_type": "stream",
     "text": [
      "avg train loss: 0.70: 100%|██████████| 72/72 [00:01<00:00, 52.16it/s]\n"
     ]
    },
    {
     "name": "stdout",
     "output_type": "stream",
     "text": [
      "---  Accuracy Training set : 49.82 % \n",
      "\n"
     ]
    },
    {
     "name": "stderr",
     "output_type": "stream",
     "text": [
      "avg val loss: 0.69: 100%|██████████| 21/21 [00:00<00:00, 65.25it/s]\n"
     ]
    },
    {
     "name": "stdout",
     "output_type": "stream",
     "text": [
      "---  Accuracy Validation set: 48.16 % \n",
      "\n",
      "Waiting += 1\n",
      "\n",
      "Starting epoch 6 / 300\n"
     ]
    },
    {
     "name": "stderr",
     "output_type": "stream",
     "text": [
      "avg train loss: 0.69: 100%|██████████| 72/72 [00:01<00:00, 51.32it/s]\n"
     ]
    },
    {
     "name": "stdout",
     "output_type": "stream",
     "text": [
      "---  Accuracy Training set : 49.93 % \n",
      "\n"
     ]
    },
    {
     "name": "stderr",
     "output_type": "stream",
     "text": [
      "avg val loss: 0.69: 100%|██████████| 21/21 [00:00<00:00, 112.36it/s]\n"
     ]
    },
    {
     "name": "stdout",
     "output_type": "stream",
     "text": [
      "---  Accuracy Validation set: 48.31 % \n",
      "\n",
      "Waiting += 1\n",
      "\n",
      "Starting epoch 7 / 300\n"
     ]
    },
    {
     "name": "stderr",
     "output_type": "stream",
     "text": [
      "avg train loss: 0.69: 100%|██████████| 72/72 [00:01<00:00, 56.55it/s]\n"
     ]
    },
    {
     "name": "stdout",
     "output_type": "stream",
     "text": [
      "---  Accuracy Training set : 50.68 % \n",
      "\n"
     ]
    },
    {
     "name": "stderr",
     "output_type": "stream",
     "text": [
      "avg val loss: 0.69: 100%|██████████| 21/21 [00:00<00:00, 118.64it/s]\n"
     ]
    },
    {
     "name": "stdout",
     "output_type": "stream",
     "text": [
      "---  Accuracy Validation set: 48.31 % \n",
      "\n",
      "Waiting += 1\n",
      "\n",
      "Starting epoch 8 / 300\n"
     ]
    },
    {
     "name": "stderr",
     "output_type": "stream",
     "text": [
      "avg train loss: 0.70: 100%|██████████| 72/72 [00:01<00:00, 53.09it/s]\n"
     ]
    },
    {
     "name": "stdout",
     "output_type": "stream",
     "text": [
      "---  Accuracy Training set : 50.85 % \n",
      "\n"
     ]
    },
    {
     "name": "stderr",
     "output_type": "stream",
     "text": [
      "avg val loss: 0.69: 100%|██████████| 21/21 [00:00<00:00, 114.28it/s]\n"
     ]
    },
    {
     "name": "stdout",
     "output_type": "stream",
     "text": [
      "---  Accuracy Validation set: 48.31 % \n",
      "\n",
      "Waiting += 1\n",
      "\n",
      "Starting epoch 9 / 300\n"
     ]
    },
    {
     "name": "stderr",
     "output_type": "stream",
     "text": [
      "avg train loss: 0.69: 100%|██████████| 72/72 [00:01<00:00, 56.61it/s]\n"
     ]
    },
    {
     "name": "stdout",
     "output_type": "stream",
     "text": [
      "---  Accuracy Training set : 49.89 % \n",
      "\n"
     ]
    },
    {
     "name": "stderr",
     "output_type": "stream",
     "text": [
      "avg val loss: 0.70: 100%|██████████| 21/21 [00:00<00:00, 119.07it/s]\n"
     ]
    },
    {
     "name": "stdout",
     "output_type": "stream",
     "text": [
      "---  Accuracy Validation set: 48.39 % \n",
      "\n",
      "Waiting += 1\n",
      "\n",
      "Starting epoch 10 / 300\n"
     ]
    },
    {
     "name": "stderr",
     "output_type": "stream",
     "text": [
      "avg train loss: 0.69: 100%|██████████| 72/72 [00:01<00:00, 49.61it/s]\n"
     ]
    },
    {
     "name": "stdout",
     "output_type": "stream",
     "text": [
      "---  Accuracy Training set : 50.61 % \n",
      "\n"
     ]
    },
    {
     "name": "stderr",
     "output_type": "stream",
     "text": [
      "avg val loss: 0.69: 100%|██████████| 21/21 [00:00<00:00, 104.63it/s]\n"
     ]
    },
    {
     "name": "stdout",
     "output_type": "stream",
     "text": [
      "---  Accuracy Validation set: 48.31 % \n",
      "\n",
      "Waiting += 1\n",
      "\n",
      "Starting epoch 11 / 300\n"
     ]
    },
    {
     "name": "stderr",
     "output_type": "stream",
     "text": [
      "avg train loss: 0.69: 100%|██████████| 72/72 [00:01<00:00, 55.19it/s]\n"
     ]
    },
    {
     "name": "stdout",
     "output_type": "stream",
     "text": [
      "---  Accuracy Training set : 50.57 % \n",
      "\n"
     ]
    },
    {
     "name": "stderr",
     "output_type": "stream",
     "text": [
      "avg val loss: 0.69: 100%|██████████| 21/21 [00:00<00:00, 75.68it/s]\n"
     ]
    },
    {
     "name": "stdout",
     "output_type": "stream",
     "text": [
      "---  Accuracy Validation set: 48.39 % \n",
      "\n",
      "Waiting += 1\n",
      "\n",
      "Starting epoch 12 / 300\n"
     ]
    },
    {
     "name": "stderr",
     "output_type": "stream",
     "text": [
      "avg train loss: 0.69: 100%|██████████| 72/72 [00:01<00:00, 47.55it/s]\n"
     ]
    },
    {
     "name": "stdout",
     "output_type": "stream",
     "text": [
      "---  Accuracy Training set : 49.36 % \n",
      "\n"
     ]
    },
    {
     "name": "stderr",
     "output_type": "stream",
     "text": [
      "avg val loss: 0.69: 100%|██████████| 21/21 [00:00<00:00, 111.85it/s]\n"
     ]
    },
    {
     "name": "stdout",
     "output_type": "stream",
     "text": [
      "---  Accuracy Validation set: 48.39 % \n",
      "\n",
      "Waiting += 1\n",
      "\n",
      "Starting epoch 13 / 300\n"
     ]
    },
    {
     "name": "stderr",
     "output_type": "stream",
     "text": [
      "avg train loss: 0.69: 100%|██████████| 72/72 [00:01<00:00, 52.19it/s]\n"
     ]
    },
    {
     "name": "stdout",
     "output_type": "stream",
     "text": [
      "---  Accuracy Training set : 50.33 % \n",
      "\n"
     ]
    },
    {
     "name": "stderr",
     "output_type": "stream",
     "text": [
      "avg val loss: 0.69: 100%|██████████| 21/21 [00:00<00:00, 113.89it/s]\n"
     ]
    },
    {
     "name": "stdout",
     "output_type": "stream",
     "text": [
      "---  Accuracy Validation set: 48.31 % \n",
      "\n",
      "Waiting += 1\n",
      "\n",
      "Starting epoch 14 / 300\n"
     ]
    },
    {
     "name": "stderr",
     "output_type": "stream",
     "text": [
      "avg train loss: 0.69: 100%|██████████| 72/72 [00:01<00:00, 54.97it/s]\n"
     ]
    },
    {
     "name": "stdout",
     "output_type": "stream",
     "text": [
      "---  Accuracy Training set : 51.25 % \n",
      "\n"
     ]
    },
    {
     "name": "stderr",
     "output_type": "stream",
     "text": [
      "avg val loss: 0.69: 100%|██████████| 21/21 [00:00<00:00, 105.94it/s]\n"
     ]
    },
    {
     "name": "stdout",
     "output_type": "stream",
     "text": [
      "---  Accuracy Validation set: 48.54 % \n",
      "\n",
      "Waiting += 1\n",
      "\n",
      "Starting epoch 15 / 300\n"
     ]
    },
    {
     "name": "stderr",
     "output_type": "stream",
     "text": [
      "avg train loss: 0.69: 100%|██████████| 72/72 [00:01<00:00, 52.38it/s]\n"
     ]
    },
    {
     "name": "stdout",
     "output_type": "stream",
     "text": [
      "---  Accuracy Training set : 49.61 % \n",
      "\n"
     ]
    },
    {
     "name": "stderr",
     "output_type": "stream",
     "text": [
      "avg val loss: 0.70: 100%|██████████| 21/21 [00:00<00:00, 98.92it/s] \n"
     ]
    },
    {
     "name": "stdout",
     "output_type": "stream",
     "text": [
      "---  Accuracy Validation set: 48.01 % \n",
      "\n",
      "Waiting += 1\n",
      "\n",
      "Starting epoch 16 / 300\n"
     ]
    },
    {
     "name": "stderr",
     "output_type": "stream",
     "text": [
      "avg train loss: 0.69: 100%|██████████| 72/72 [00:01<00:00, 55.83it/s]\n"
     ]
    },
    {
     "name": "stdout",
     "output_type": "stream",
     "text": [
      "---  Accuracy Training set : 50.66 % \n",
      "\n"
     ]
    },
    {
     "name": "stderr",
     "output_type": "stream",
     "text": [
      "avg val loss: 0.69: 100%|██████████| 21/21 [00:00<00:00, 105.57it/s]\n"
     ]
    },
    {
     "name": "stdout",
     "output_type": "stream",
     "text": [
      "---  Accuracy Validation set: 48.24 % \n",
      "\n",
      "Waiting += 1\n",
      "\n",
      "Starting epoch 17 / 300\n"
     ]
    },
    {
     "name": "stderr",
     "output_type": "stream",
     "text": [
      "avg train loss: 0.69: 100%|██████████| 72/72 [00:01<00:00, 49.79it/s]\n"
     ]
    },
    {
     "name": "stdout",
     "output_type": "stream",
     "text": [
      "---  Accuracy Training set : 50.74 % \n",
      "\n"
     ]
    },
    {
     "name": "stderr",
     "output_type": "stream",
     "text": [
      "avg val loss: 0.69: 100%|██████████| 21/21 [00:00<00:00, 85.67it/s]\n"
     ]
    },
    {
     "name": "stdout",
     "output_type": "stream",
     "text": [
      "---  Accuracy Validation set: 48.31 % \n",
      "\n",
      "Waiting += 1\n",
      "\n",
      "Starting epoch 18 / 300\n"
     ]
    },
    {
     "name": "stderr",
     "output_type": "stream",
     "text": [
      "avg train loss: 0.69: 100%|██████████| 72/72 [00:01<00:00, 36.57it/s]\n"
     ]
    },
    {
     "name": "stdout",
     "output_type": "stream",
     "text": [
      "---  Accuracy Training set : 50.02 % \n",
      "\n"
     ]
    },
    {
     "name": "stderr",
     "output_type": "stream",
     "text": [
      "avg val loss: 0.69: 100%|██████████| 21/21 [00:00<00:00, 82.01it/s]\n"
     ]
    },
    {
     "name": "stdout",
     "output_type": "stream",
     "text": [
      "---  Accuracy Validation set: 48.31 % \n",
      "\n",
      "Waiting += 1\n",
      "\n",
      "Starting epoch 19 / 300\n"
     ]
    },
    {
     "name": "stderr",
     "output_type": "stream",
     "text": [
      "avg train loss: 0.69: 100%|██████████| 72/72 [00:01<00:00, 45.82it/s]\n"
     ]
    },
    {
     "name": "stdout",
     "output_type": "stream",
     "text": [
      "---  Accuracy Training set : 50.20 % \n",
      "\n"
     ]
    },
    {
     "name": "stderr",
     "output_type": "stream",
     "text": [
      "avg val loss: 0.69: 100%|██████████| 21/21 [00:00<00:00, 97.85it/s]\n"
     ]
    },
    {
     "name": "stdout",
     "output_type": "stream",
     "text": [
      "---  Accuracy Validation set: 48.47 % \n",
      "\n",
      "Waiting += 1\n",
      "\n",
      "Starting epoch 20 / 300\n"
     ]
    },
    {
     "name": "stderr",
     "output_type": "stream",
     "text": [
      "avg train loss: 0.69: 100%|██████████| 72/72 [00:01<00:00, 48.41it/s]\n"
     ]
    },
    {
     "name": "stdout",
     "output_type": "stream",
     "text": [
      "---  Accuracy Training set : 52.02 % \n",
      "\n"
     ]
    },
    {
     "name": "stderr",
     "output_type": "stream",
     "text": [
      "avg val loss: 0.71: 100%|██████████| 21/21 [00:00<00:00, 106.96it/s]\n"
     ]
    },
    {
     "name": "stdout",
     "output_type": "stream",
     "text": [
      "---  Accuracy Validation set: 48.24 % \n",
      "\n",
      "Waiting += 1\n",
      "\n",
      "Starting epoch 21 / 300\n"
     ]
    },
    {
     "name": "stderr",
     "output_type": "stream",
     "text": [
      "avg train loss: 0.69: 100%|██████████| 72/72 [00:01<00:00, 49.16it/s]\n"
     ]
    },
    {
     "name": "stdout",
     "output_type": "stream",
     "text": [
      "---  Accuracy Training set : 51.60 % \n",
      "\n"
     ]
    },
    {
     "name": "stderr",
     "output_type": "stream",
     "text": [
      "avg val loss: 0.69: 100%|██████████| 21/21 [00:00<00:00, 100.80it/s]\n"
     ]
    },
    {
     "name": "stdout",
     "output_type": "stream",
     "text": [
      "---  Accuracy Validation set: 48.85 % \n",
      "\n",
      "Waiting += 1\n",
      "\n",
      "Starting epoch 22 / 300\n"
     ]
    },
    {
     "name": "stderr",
     "output_type": "stream",
     "text": [
      "avg train loss: 0.69: 100%|██████████| 72/72 [00:01<00:00, 55.65it/s]\n"
     ]
    },
    {
     "name": "stdout",
     "output_type": "stream",
     "text": [
      "---  Accuracy Training set : 51.16 % \n",
      "\n"
     ]
    },
    {
     "name": "stderr",
     "output_type": "stream",
     "text": [
      "avg val loss: 0.69: 100%|██████████| 21/21 [00:00<00:00, 94.23it/s]\n"
     ]
    },
    {
     "name": "stdout",
     "output_type": "stream",
     "text": [
      "---  Accuracy Validation set: 48.31 % \n",
      "\n",
      "Waiting += 1\n",
      "\n",
      "Starting epoch 23 / 300\n"
     ]
    },
    {
     "name": "stderr",
     "output_type": "stream",
     "text": [
      "avg train loss: 0.69: 100%|██████████| 72/72 [00:01<00:00, 52.58it/s]\n"
     ]
    },
    {
     "name": "stdout",
     "output_type": "stream",
     "text": [
      "---  Accuracy Training set : 50.77 % \n",
      "\n"
     ]
    },
    {
     "name": "stderr",
     "output_type": "stream",
     "text": [
      "avg val loss: 0.69: 100%|██████████| 21/21 [00:00<00:00, 68.41it/s]\n"
     ]
    },
    {
     "name": "stdout",
     "output_type": "stream",
     "text": [
      "---  Accuracy Validation set: 48.31 % \n",
      "\n",
      "Waiting += 1\n",
      "\n",
      "Starting epoch 24 / 300\n"
     ]
    },
    {
     "name": "stderr",
     "output_type": "stream",
     "text": [
      "avg train loss: 0.69: 100%|██████████| 72/72 [00:01<00:00, 50.05it/s]\n"
     ]
    },
    {
     "name": "stdout",
     "output_type": "stream",
     "text": [
      "---  Accuracy Training set : 54.14 % \n",
      "\n"
     ]
    },
    {
     "name": "stderr",
     "output_type": "stream",
     "text": [
      "avg val loss: 0.69: 100%|██████████| 21/21 [00:00<00:00, 99.42it/s] \n"
     ]
    },
    {
     "name": "stdout",
     "output_type": "stream",
     "text": [
      "---  Accuracy Validation set: 48.31 % \n",
      "\n",
      "Waiting += 1\n",
      "\n",
      "Starting epoch 25 / 300\n"
     ]
    },
    {
     "name": "stderr",
     "output_type": "stream",
     "text": [
      "avg train loss: 0.69: 100%|██████████| 72/72 [00:01<00:00, 47.30it/s]\n"
     ]
    },
    {
     "name": "stdout",
     "output_type": "stream",
     "text": [
      "---  Accuracy Training set : 51.84 % \n",
      "\n"
     ]
    },
    {
     "name": "stderr",
     "output_type": "stream",
     "text": [
      "avg val loss: 0.69: 100%|██████████| 21/21 [00:00<00:00, 70.14it/s]\n"
     ]
    },
    {
     "name": "stdout",
     "output_type": "stream",
     "text": [
      "---  Accuracy Validation set: 48.31 % \n",
      "\n",
      "Waiting += 1\n",
      "\n",
      "Starting epoch 26 / 300\n"
     ]
    },
    {
     "name": "stderr",
     "output_type": "stream",
     "text": [
      "avg train loss: 0.69: 100%|██████████| 72/72 [00:01<00:00, 48.11it/s]\n"
     ]
    },
    {
     "name": "stdout",
     "output_type": "stream",
     "text": [
      "---  Accuracy Training set : 52.45 % \n",
      "\n"
     ]
    },
    {
     "name": "stderr",
     "output_type": "stream",
     "text": [
      "avg val loss: 0.69: 100%|██████████| 21/21 [00:00<00:00, 93.25it/s]\n"
     ]
    },
    {
     "name": "stdout",
     "output_type": "stream",
     "text": [
      "---  Accuracy Validation set: 48.31 % \n",
      "\n",
      "Waiting += 1\n",
      "\n",
      "Starting epoch 27 / 300\n"
     ]
    },
    {
     "name": "stderr",
     "output_type": "stream",
     "text": [
      "avg train loss: 0.69: 100%|██████████| 72/72 [00:01<00:00, 51.91it/s]\n"
     ]
    },
    {
     "name": "stdout",
     "output_type": "stream",
     "text": [
      "---  Accuracy Training set : 52.37 % \n",
      "\n"
     ]
    },
    {
     "name": "stderr",
     "output_type": "stream",
     "text": [
      "avg val loss: 0.69: 100%|██████████| 21/21 [00:00<00:00, 118.49it/s]\n"
     ]
    },
    {
     "name": "stdout",
     "output_type": "stream",
     "text": [
      "---  Accuracy Validation set: 48.31 % \n",
      "\n",
      "Waiting += 1\n",
      "\n",
      "Starting epoch 28 / 300\n"
     ]
    },
    {
     "name": "stderr",
     "output_type": "stream",
     "text": [
      "avg train loss: 0.69: 100%|██████████| 72/72 [00:01<00:00, 52.72it/s]\n"
     ]
    },
    {
     "name": "stdout",
     "output_type": "stream",
     "text": [
      "---  Accuracy Training set : 51.67 % \n",
      "\n"
     ]
    },
    {
     "name": "stderr",
     "output_type": "stream",
     "text": [
      "avg val loss: 0.69: 100%|██████████| 21/21 [00:00<00:00, 120.51it/s]\n"
     ]
    },
    {
     "name": "stdout",
     "output_type": "stream",
     "text": [
      "---  Accuracy Validation set: 48.39 % \n",
      "\n",
      "Waiting += 1\n",
      "\n",
      "Starting epoch 29 / 300\n"
     ]
    },
    {
     "name": "stderr",
     "output_type": "stream",
     "text": [
      "avg train loss: 0.69: 100%|██████████| 72/72 [00:01<00:00, 51.06it/s]\n"
     ]
    },
    {
     "name": "stdout",
     "output_type": "stream",
     "text": [
      "---  Accuracy Training set : 52.76 % \n",
      "\n"
     ]
    },
    {
     "name": "stderr",
     "output_type": "stream",
     "text": [
      "avg val loss: 0.71: 100%|██████████| 21/21 [00:00<00:00, 58.12it/s]\n"
     ]
    },
    {
     "name": "stdout",
     "output_type": "stream",
     "text": [
      "---  Accuracy Validation set: 48.24 % \n",
      "\n",
      "Waiting += 1\n",
      "\n",
      "Starting epoch 30 / 300\n"
     ]
    },
    {
     "name": "stderr",
     "output_type": "stream",
     "text": [
      "avg train loss: 0.69: 100%|██████████| 72/72 [00:01<00:00, 53.03it/s]\n"
     ]
    },
    {
     "name": "stdout",
     "output_type": "stream",
     "text": [
      "---  Accuracy Training set : 51.73 % \n",
      "\n"
     ]
    },
    {
     "name": "stderr",
     "output_type": "stream",
     "text": [
      "avg val loss: 0.70: 100%|██████████| 21/21 [00:00<00:00, 107.22it/s]\n"
     ]
    },
    {
     "name": "stdout",
     "output_type": "stream",
     "text": [
      "---  Accuracy Validation set: 48.08 % \n",
      "\n",
      "Waiting += 1\n",
      "\n",
      "Starting epoch 31 / 300\n"
     ]
    },
    {
     "name": "stderr",
     "output_type": "stream",
     "text": [
      "avg train loss: 0.69: 100%|██████████| 72/72 [00:01<00:00, 58.53it/s]\n"
     ]
    },
    {
     "name": "stdout",
     "output_type": "stream",
     "text": [
      "---  Accuracy Training set : 53.83 % \n",
      "\n"
     ]
    },
    {
     "name": "stderr",
     "output_type": "stream",
     "text": [
      "avg val loss: 2.06: 100%|██████████| 21/21 [00:00<00:00, 113.52it/s]\n"
     ]
    },
    {
     "name": "stdout",
     "output_type": "stream",
     "text": [
      "---  Accuracy Validation set: 51.30 % \n",
      "\n",
      "Waiting += 1\n",
      "\n",
      "Starting epoch 32 / 300\n"
     ]
    },
    {
     "name": "stderr",
     "output_type": "stream",
     "text": [
      "avg train loss: 0.69: 100%|██████████| 72/72 [00:01<00:00, 57.93it/s]\n"
     ]
    },
    {
     "name": "stdout",
     "output_type": "stream",
     "text": [
      "---  Accuracy Training set : 54.25 % \n",
      "\n"
     ]
    },
    {
     "name": "stderr",
     "output_type": "stream",
     "text": [
      "avg val loss: 1.12: 100%|██████████| 21/21 [00:00<00:00, 92.09it/s]\n"
     ]
    },
    {
     "name": "stdout",
     "output_type": "stream",
     "text": [
      "---  Accuracy Validation set: 47.93 % \n",
      "\n",
      "Waiting += 1\n",
      "\n",
      "Starting epoch 33 / 300\n"
     ]
    },
    {
     "name": "stderr",
     "output_type": "stream",
     "text": [
      "avg train loss: 0.69: 100%|██████████| 72/72 [00:01<00:00, 55.62it/s]\n"
     ]
    },
    {
     "name": "stdout",
     "output_type": "stream",
     "text": [
      "---  Accuracy Training set : 54.14 % \n",
      "\n"
     ]
    },
    {
     "name": "stderr",
     "output_type": "stream",
     "text": [
      "avg val loss: 0.84: 100%|██████████| 21/21 [00:00<00:00, 94.42it/s]\n"
     ]
    },
    {
     "name": "stdout",
     "output_type": "stream",
     "text": [
      "---  Accuracy Validation set: 47.55 % \n",
      "\n",
      "Waiting += 1\n",
      "\n",
      "Starting epoch 34 / 300\n"
     ]
    },
    {
     "name": "stderr",
     "output_type": "stream",
     "text": [
      "avg train loss: 0.69: 100%|██████████| 72/72 [00:01<00:00, 59.38it/s]\n"
     ]
    },
    {
     "name": "stdout",
     "output_type": "stream",
     "text": [
      "---  Accuracy Training set : 54.82 % \n",
      "\n"
     ]
    },
    {
     "name": "stderr",
     "output_type": "stream",
     "text": [
      "avg val loss: 0.69: 100%|██████████| 21/21 [00:00<00:00, 107.67it/s]\n"
     ]
    },
    {
     "name": "stdout",
     "output_type": "stream",
     "text": [
      "---  Accuracy Validation set: 48.31 % \n",
      "\n",
      "Waiting += 1\n",
      "\n",
      "Starting epoch 35 / 300\n"
     ]
    },
    {
     "name": "stderr",
     "output_type": "stream",
     "text": [
      "avg train loss: 0.69: 100%|██████████| 72/72 [00:01<00:00, 58.47it/s]\n"
     ]
    },
    {
     "name": "stdout",
     "output_type": "stream",
     "text": [
      "---  Accuracy Training set : 55.00 % \n",
      "\n"
     ]
    },
    {
     "name": "stderr",
     "output_type": "stream",
     "text": [
      "avg val loss: 0.69: 100%|██████████| 21/21 [00:00<00:00, 98.69it/s]\n"
     ]
    },
    {
     "name": "stdout",
     "output_type": "stream",
     "text": [
      "---  Accuracy Validation set: 48.47 % \n",
      "\n",
      "Waiting += 1\n",
      "\n",
      "Starting epoch 36 / 300\n"
     ]
    },
    {
     "name": "stderr",
     "output_type": "stream",
     "text": [
      "avg train loss: 0.68: 100%|██████████| 72/72 [00:01<00:00, 51.87it/s]\n"
     ]
    },
    {
     "name": "stdout",
     "output_type": "stream",
     "text": [
      "---  Accuracy Training set : 55.04 % \n",
      "\n"
     ]
    },
    {
     "name": "stderr",
     "output_type": "stream",
     "text": [
      "avg val loss: 52.27: 100%|██████████| 21/21 [00:00<00:00, 65.98it/s]\n"
     ]
    },
    {
     "name": "stdout",
     "output_type": "stream",
     "text": [
      "---  Accuracy Validation set: 51.07 % \n",
      "\n",
      "Waiting += 1\n",
      "\n",
      "Starting epoch 37 / 300\n"
     ]
    },
    {
     "name": "stderr",
     "output_type": "stream",
     "text": [
      "avg train loss: 0.68: 100%|██████████| 72/72 [00:01<00:00, 56.70it/s]\n"
     ]
    },
    {
     "name": "stdout",
     "output_type": "stream",
     "text": [
      "---  Accuracy Training set : 56.73 % \n",
      "\n"
     ]
    },
    {
     "name": "stderr",
     "output_type": "stream",
     "text": [
      "avg val loss: 0.93: 100%|██████████| 21/21 [00:00<00:00, 78.97it/s]\n"
     ]
    },
    {
     "name": "stdout",
     "output_type": "stream",
     "text": [
      "---  Accuracy Validation set: 48.39 % \n",
      "\n",
      "Waiting += 1\n",
      "\n",
      "Starting epoch 38 / 300\n"
     ]
    },
    {
     "name": "stderr",
     "output_type": "stream",
     "text": [
      "avg train loss: 0.68: 100%|██████████| 72/72 [00:01<00:00, 58.29it/s]\n"
     ]
    },
    {
     "name": "stdout",
     "output_type": "stream",
     "text": [
      "---  Accuracy Training set : 57.32 % \n",
      "\n"
     ]
    },
    {
     "name": "stderr",
     "output_type": "stream",
     "text": [
      "avg val loss: 1.17: 100%|██████████| 21/21 [00:00<00:00, 100.49it/s]\n"
     ]
    },
    {
     "name": "stdout",
     "output_type": "stream",
     "text": [
      "---  Accuracy Validation set: 47.93 % \n",
      "\n",
      "Waiting += 1\n",
      "\n",
      "Starting epoch 39 / 300\n"
     ]
    },
    {
     "name": "stderr",
     "output_type": "stream",
     "text": [
      "avg train loss: 0.67: 100%|██████████| 72/72 [00:01<00:00, 52.30it/s]\n"
     ]
    },
    {
     "name": "stdout",
     "output_type": "stream",
     "text": [
      "---  Accuracy Training set : 58.13 % \n",
      "\n"
     ]
    },
    {
     "name": "stderr",
     "output_type": "stream",
     "text": [
      "avg val loss: 2.10: 100%|██████████| 21/21 [00:00<00:00, 87.45it/s]\n"
     ]
    },
    {
     "name": "stdout",
     "output_type": "stream",
     "text": [
      "---  Accuracy Validation set: 48.31 % \n",
      "\n",
      "Waiting += 1\n",
      "\n",
      "Starting epoch 40 / 300\n"
     ]
    },
    {
     "name": "stderr",
     "output_type": "stream",
     "text": [
      "avg train loss: 0.67: 100%|██████████| 72/72 [00:01<00:00, 57.88it/s]\n"
     ]
    },
    {
     "name": "stdout",
     "output_type": "stream",
     "text": [
      "---  Accuracy Training set : 57.91 % \n",
      "\n"
     ]
    },
    {
     "name": "stderr",
     "output_type": "stream",
     "text": [
      "avg val loss: 13.35: 100%|██████████| 21/21 [00:00<00:00, 89.68it/s]\n"
     ]
    },
    {
     "name": "stdout",
     "output_type": "stream",
     "text": [
      "---  Accuracy Validation set: 48.31 % \n",
      "\n",
      "Waiting += 1\n",
      "\n",
      "Starting epoch 41 / 300\n"
     ]
    },
    {
     "name": "stderr",
     "output_type": "stream",
     "text": [
      "avg train loss: 0.67: 100%|██████████| 72/72 [00:01<00:00, 58.16it/s]\n"
     ]
    },
    {
     "name": "stdout",
     "output_type": "stream",
     "text": [
      "---  Accuracy Training set : 58.28 % \n",
      "\n"
     ]
    },
    {
     "name": "stderr",
     "output_type": "stream",
     "text": [
      "avg val loss: 1.46: 100%|██████████| 21/21 [00:00<00:00, 114.29it/s]\n"
     ]
    },
    {
     "name": "stdout",
     "output_type": "stream",
     "text": [
      "---  Accuracy Validation set: 48.24 % \n",
      "\n",
      "Waiting += 1\n",
      "\n",
      "Starting epoch 42 / 300\n"
     ]
    },
    {
     "name": "stderr",
     "output_type": "stream",
     "text": [
      "avg train loss: 0.67: 100%|██████████| 72/72 [00:01<00:00, 58.35it/s]\n"
     ]
    },
    {
     "name": "stdout",
     "output_type": "stream",
     "text": [
      "---  Accuracy Training set : 58.87 % \n",
      "\n"
     ]
    },
    {
     "name": "stderr",
     "output_type": "stream",
     "text": [
      "avg val loss: 1.23: 100%|██████████| 21/21 [00:00<00:00, 77.66it/s]\n"
     ]
    },
    {
     "name": "stdout",
     "output_type": "stream",
     "text": [
      "---  Accuracy Validation set: 48.93 % \n",
      "\n",
      "Waiting += 1\n",
      "\n",
      "Starting epoch 43 / 300\n"
     ]
    },
    {
     "name": "stderr",
     "output_type": "stream",
     "text": [
      "avg train loss: 0.66: 100%|██████████| 72/72 [00:01<00:00, 54.64it/s]\n"
     ]
    },
    {
     "name": "stdout",
     "output_type": "stream",
     "text": [
      "---  Accuracy Training set : 60.78 % \n",
      "\n"
     ]
    },
    {
     "name": "stderr",
     "output_type": "stream",
     "text": [
      "avg val loss: 0.99: 100%|██████████| 21/21 [00:00<00:00, 104.91it/s]\n"
     ]
    },
    {
     "name": "stdout",
     "output_type": "stream",
     "text": [
      "---  Accuracy Validation set: 48.47 % \n",
      "\n",
      "Waiting += 1\n",
      "\n",
      "Starting epoch 44 / 300\n"
     ]
    },
    {
     "name": "stderr",
     "output_type": "stream",
     "text": [
      "avg train loss: 0.66: 100%|██████████| 72/72 [00:01<00:00, 58.62it/s]\n"
     ]
    },
    {
     "name": "stdout",
     "output_type": "stream",
     "text": [
      "---  Accuracy Training set : 59.90 % \n",
      "\n"
     ]
    },
    {
     "name": "stderr",
     "output_type": "stream",
     "text": [
      "avg val loss: 9.74: 100%|██████████| 21/21 [00:00<00:00, 98.47it/s]\n"
     ]
    },
    {
     "name": "stdout",
     "output_type": "stream",
     "text": [
      "---  Accuracy Validation set: 48.31 % \n",
      "\n",
      "Waiting += 1\n",
      "\n",
      "Starting epoch 45 / 300\n"
     ]
    },
    {
     "name": "stderr",
     "output_type": "stream",
     "text": [
      "avg train loss: 0.66: 100%|██████████| 72/72 [00:01<00:00, 45.26it/s]\n"
     ]
    },
    {
     "name": "stdout",
     "output_type": "stream",
     "text": [
      "---  Accuracy Training set : 58.94 % \n",
      "\n"
     ]
    },
    {
     "name": "stderr",
     "output_type": "stream",
     "text": [
      "avg val loss: 12.91: 100%|██████████| 21/21 [00:00<00:00, 63.19it/s]\n"
     ]
    },
    {
     "name": "stdout",
     "output_type": "stream",
     "text": [
      "---  Accuracy Validation set: 51.30 % \n",
      "\n",
      "Waiting += 1\n",
      "\n",
      "Starting epoch 46 / 300\n"
     ]
    },
    {
     "name": "stderr",
     "output_type": "stream",
     "text": [
      "avg train loss: 0.66: 100%|██████████| 72/72 [00:01<00:00, 40.68it/s]\n"
     ]
    },
    {
     "name": "stdout",
     "output_type": "stream",
     "text": [
      "---  Accuracy Training set : 59.93 % \n",
      "\n"
     ]
    },
    {
     "name": "stderr",
     "output_type": "stream",
     "text": [
      "avg val loss: 1.89: 100%|██████████| 21/21 [00:00<00:00, 67.51it/s]\n"
     ]
    },
    {
     "name": "stdout",
     "output_type": "stream",
     "text": [
      "---  Accuracy Validation set: 48.47 % \n",
      "\n",
      "Waiting += 1\n",
      "\n",
      "Starting epoch 47 / 300\n"
     ]
    },
    {
     "name": "stderr",
     "output_type": "stream",
     "text": [
      "avg train loss: 0.66: 100%|██████████| 72/72 [00:01<00:00, 45.00it/s]\n"
     ]
    },
    {
     "name": "stdout",
     "output_type": "stream",
     "text": [
      "---  Accuracy Training set : 60.80 % \n",
      "\n"
     ]
    },
    {
     "name": "stderr",
     "output_type": "stream",
     "text": [
      "avg val loss: 0.94: 100%|██████████| 21/21 [00:00<00:00, 87.13it/s]\n"
     ]
    },
    {
     "name": "stdout",
     "output_type": "stream",
     "text": [
      "---  Accuracy Validation set: 48.31 % \n",
      "\n",
      "Waiting += 1\n",
      "\n",
      "Starting epoch 48 / 300\n"
     ]
    },
    {
     "name": "stderr",
     "output_type": "stream",
     "text": [
      "avg train loss: 0.66: 100%|██████████| 72/72 [00:01<00:00, 48.24it/s]\n"
     ]
    },
    {
     "name": "stdout",
     "output_type": "stream",
     "text": [
      "---  Accuracy Training set : 60.39 % \n",
      "\n"
     ]
    },
    {
     "name": "stderr",
     "output_type": "stream",
     "text": [
      "avg val loss: 59.74: 100%|██████████| 21/21 [00:00<00:00, 81.28it/s]\n"
     ]
    },
    {
     "name": "stdout",
     "output_type": "stream",
     "text": [
      "---  Accuracy Validation set: 51.84 % \n",
      "\n",
      "Waiting += 1\n",
      "\n",
      "Starting epoch 49 / 300\n"
     ]
    },
    {
     "name": "stderr",
     "output_type": "stream",
     "text": [
      "avg train loss: 0.66: 100%|██████████| 72/72 [00:01<00:00, 50.45it/s]\n"
     ]
    },
    {
     "name": "stdout",
     "output_type": "stream",
     "text": [
      "---  Accuracy Training set : 60.47 % \n",
      "\n"
     ]
    },
    {
     "name": "stderr",
     "output_type": "stream",
     "text": [
      "avg val loss: 21.96: 100%|██████████| 21/21 [00:00<00:00, 82.59it/s]\n"
     ]
    },
    {
     "name": "stdout",
     "output_type": "stream",
     "text": [
      "---  Accuracy Validation set: 48.31 % \n",
      "\n",
      "Waiting += 1\n",
      "\n",
      "Starting epoch 50 / 300\n"
     ]
    },
    {
     "name": "stderr",
     "output_type": "stream",
     "text": [
      "avg train loss: 0.66: 100%|██████████| 72/72 [00:01<00:00, 50.90it/s]\n"
     ]
    },
    {
     "name": "stdout",
     "output_type": "stream",
     "text": [
      "---  Accuracy Training set : 60.58 % \n",
      "\n"
     ]
    },
    {
     "name": "stderr",
     "output_type": "stream",
     "text": [
      "avg val loss: 9.74: 100%|██████████| 21/21 [00:00<00:00, 77.66it/s]\n"
     ]
    },
    {
     "name": "stdout",
     "output_type": "stream",
     "text": [
      "---  Accuracy Validation set: 49.69 % \n",
      "\n",
      "Waiting += 1\n",
      "\n",
      "Starting epoch 51 / 300\n"
     ]
    },
    {
     "name": "stderr",
     "output_type": "stream",
     "text": [
      "avg train loss: 0.66: 100%|██████████| 72/72 [00:01<00:00, 46.00it/s]\n"
     ]
    },
    {
     "name": "stdout",
     "output_type": "stream",
     "text": [
      "---  Accuracy Training set : 61.31 % \n",
      "\n"
     ]
    },
    {
     "name": "stderr",
     "output_type": "stream",
     "text": [
      "avg val loss: 24.95: 100%|██████████| 21/21 [00:00<00:00, 81.71it/s]\n"
     ]
    },
    {
     "name": "stdout",
     "output_type": "stream",
     "text": [
      "---  Accuracy Validation set: 51.07 % \n",
      "\n",
      "Waiting += 1\n",
      "\n",
      "Starting epoch 52 / 300\n"
     ]
    },
    {
     "name": "stderr",
     "output_type": "stream",
     "text": [
      "avg train loss: 0.66: 100%|██████████| 72/72 [00:01<00:00, 46.81it/s]\n"
     ]
    },
    {
     "name": "stdout",
     "output_type": "stream",
     "text": [
      "---  Accuracy Training set : 60.54 % \n",
      "\n"
     ]
    },
    {
     "name": "stderr",
     "output_type": "stream",
     "text": [
      "avg val loss: 126.55: 100%|██████████| 21/21 [00:00<00:00, 93.36it/s]\n"
     ]
    },
    {
     "name": "stdout",
     "output_type": "stream",
     "text": [
      "---  Accuracy Validation set: 51.69 % \n",
      "\n",
      "Waiting += 1\n",
      "\n",
      "Starting epoch 53 / 300\n"
     ]
    },
    {
     "name": "stderr",
     "output_type": "stream",
     "text": [
      "avg train loss: 0.66: 100%|██████████| 72/72 [00:01<00:00, 57.47it/s]\n"
     ]
    },
    {
     "name": "stdout",
     "output_type": "stream",
     "text": [
      "---  Accuracy Training set : 61.39 % \n",
      "\n"
     ]
    },
    {
     "name": "stderr",
     "output_type": "stream",
     "text": [
      "avg val loss: 8.10: 100%|██████████| 21/21 [00:00<00:00, 111.83it/s]\n"
     ]
    },
    {
     "name": "stdout",
     "output_type": "stream",
     "text": [
      "---  Accuracy Validation set: 48.70 % \n",
      "\n",
      "Waiting += 1\n",
      "\n",
      "Starting epoch 54 / 300\n"
     ]
    },
    {
     "name": "stderr",
     "output_type": "stream",
     "text": [
      "avg train loss: 0.65: 100%|██████████| 72/72 [00:01<00:00, 53.47it/s]\n"
     ]
    },
    {
     "name": "stdout",
     "output_type": "stream",
     "text": [
      "---  Accuracy Training set : 61.79 % \n",
      "\n"
     ]
    },
    {
     "name": "stderr",
     "output_type": "stream",
     "text": [
      "avg val loss: 91.32: 100%|██████████| 21/21 [00:00<00:00, 83.62it/s]\n"
     ]
    },
    {
     "name": "stdout",
     "output_type": "stream",
     "text": [
      "---  Accuracy Validation set: 48.31 % \n",
      "\n",
      "Waiting += 1\n",
      "\n",
      "Starting epoch 55 / 300\n"
     ]
    },
    {
     "name": "stderr",
     "output_type": "stream",
     "text": [
      "avg train loss: 0.66: 100%|██████████| 72/72 [00:01<00:00, 56.91it/s]\n"
     ]
    },
    {
     "name": "stdout",
     "output_type": "stream",
     "text": [
      "---  Accuracy Training set : 61.26 % \n",
      "\n"
     ]
    },
    {
     "name": "stderr",
     "output_type": "stream",
     "text": [
      "avg val loss: 10.53: 100%|██████████| 21/21 [00:00<00:00, 113.06it/s]\n"
     ]
    },
    {
     "name": "stdout",
     "output_type": "stream",
     "text": [
      "---  Accuracy Validation set: 51.69 % \n",
      "\n",
      "Waiting += 1\n",
      "\n",
      "Starting epoch 56 / 300\n"
     ]
    },
    {
     "name": "stderr",
     "output_type": "stream",
     "text": [
      "avg train loss: 0.66: 100%|██████████| 72/72 [00:01<00:00, 56.80it/s]\n"
     ]
    },
    {
     "name": "stdout",
     "output_type": "stream",
     "text": [
      "---  Accuracy Training set : 61.44 % \n",
      "\n"
     ]
    },
    {
     "name": "stderr",
     "output_type": "stream",
     "text": [
      "avg val loss: 1.69: 100%|██████████| 21/21 [00:00<00:00, 93.69it/s]\n"
     ]
    },
    {
     "name": "stdout",
     "output_type": "stream",
     "text": [
      "---  Accuracy Validation set: 49.85 % \n",
      "\n",
      "Waiting += 1\n",
      "\n",
      "Starting epoch 57 / 300\n"
     ]
    },
    {
     "name": "stderr",
     "output_type": "stream",
     "text": [
      "avg train loss: 0.65: 100%|██████████| 72/72 [00:01<00:00, 56.23it/s]\n"
     ]
    },
    {
     "name": "stdout",
     "output_type": "stream",
     "text": [
      "---  Accuracy Training set : 62.16 % \n",
      "\n"
     ]
    },
    {
     "name": "stderr",
     "output_type": "stream",
     "text": [
      "avg val loss: 6.42: 100%|██████████| 21/21 [00:00<00:00, 86.38it/s]\n"
     ]
    },
    {
     "name": "stdout",
     "output_type": "stream",
     "text": [
      "---  Accuracy Validation set: 49.54 % \n",
      "\n",
      "Waiting += 1\n",
      "\n",
      "Starting epoch 58 / 300\n"
     ]
    },
    {
     "name": "stderr",
     "output_type": "stream",
     "text": [
      "avg train loss: 0.65: 100%|██████████| 72/72 [00:01<00:00, 46.50it/s]\n"
     ]
    },
    {
     "name": "stdout",
     "output_type": "stream",
     "text": [
      "---  Accuracy Training set : 61.81 % \n",
      "\n"
     ]
    },
    {
     "name": "stderr",
     "output_type": "stream",
     "text": [
      "avg val loss: 2.63: 100%|██████████| 21/21 [00:00<00:00, 98.56it/s] \n"
     ]
    },
    {
     "name": "stdout",
     "output_type": "stream",
     "text": [
      "---  Accuracy Validation set: 48.39 % \n",
      "\n",
      "Waiting += 1\n",
      "\n",
      "Starting epoch 59 / 300\n"
     ]
    },
    {
     "name": "stderr",
     "output_type": "stream",
     "text": [
      "avg train loss: 0.65: 100%|██████████| 72/72 [00:01<00:00, 47.94it/s]\n"
     ]
    },
    {
     "name": "stdout",
     "output_type": "stream",
     "text": [
      "---  Accuracy Training set : 62.05 % \n",
      "\n"
     ]
    },
    {
     "name": "stderr",
     "output_type": "stream",
     "text": [
      "avg val loss: 2.24: 100%|██████████| 21/21 [00:00<00:00, 106.01it/s]\n"
     ]
    },
    {
     "name": "stdout",
     "output_type": "stream",
     "text": [
      "---  Accuracy Validation set: 49.23 % \n",
      "\n",
      "Waiting += 1\n",
      "\n",
      "Starting epoch 60 / 300\n"
     ]
    },
    {
     "name": "stderr",
     "output_type": "stream",
     "text": [
      "avg train loss: 0.65: 100%|██████████| 72/72 [00:01<00:00, 56.73it/s]\n"
     ]
    },
    {
     "name": "stdout",
     "output_type": "stream",
     "text": [
      "---  Accuracy Training set : 61.88 % \n",
      "\n"
     ]
    },
    {
     "name": "stderr",
     "output_type": "stream",
     "text": [
      "avg val loss: 60.68: 100%|██████████| 21/21 [00:00<00:00, 88.99it/s]\n"
     ]
    },
    {
     "name": "stdout",
     "output_type": "stream",
     "text": [
      "---  Accuracy Validation set: 51.69 % \n",
      "\n",
      "Waiting += 1\n",
      "\n",
      "Starting epoch 61 / 300\n"
     ]
    },
    {
     "name": "stderr",
     "output_type": "stream",
     "text": [
      "avg train loss: 0.65: 100%|██████████| 72/72 [00:01<00:00, 52.07it/s]\n"
     ]
    },
    {
     "name": "stdout",
     "output_type": "stream",
     "text": [
      "---  Accuracy Training set : 61.88 % \n",
      "\n"
     ]
    },
    {
     "name": "stderr",
     "output_type": "stream",
     "text": [
      "avg val loss: 1.06: 100%|██████████| 21/21 [00:00<00:00, 101.18it/s]\n"
     ]
    },
    {
     "name": "stdout",
     "output_type": "stream",
     "text": [
      "---  Accuracy Validation set: 48.70 % \n",
      "\n",
      "Waiting += 1\n",
      "\n",
      "Starting epoch 62 / 300\n"
     ]
    },
    {
     "name": "stderr",
     "output_type": "stream",
     "text": [
      "avg train loss: 0.65: 100%|██████████| 72/72 [00:01<00:00, 55.85it/s]\n"
     ]
    },
    {
     "name": "stdout",
     "output_type": "stream",
     "text": [
      "---  Accuracy Training set : 61.55 % \n",
      "\n"
     ]
    },
    {
     "name": "stderr",
     "output_type": "stream",
     "text": [
      "avg val loss: 2.27: 100%|██████████| 21/21 [00:00<00:00, 94.12it/s]\n"
     ]
    },
    {
     "name": "stdout",
     "output_type": "stream",
     "text": [
      "---  Accuracy Validation set: 47.32 % \n",
      "\n",
      "Waiting += 1\n",
      "\n",
      "Starting epoch 63 / 300\n"
     ]
    },
    {
     "name": "stderr",
     "output_type": "stream",
     "text": [
      "avg train loss: 0.65: 100%|██████████| 72/72 [00:01<00:00, 55.38it/s]\n"
     ]
    },
    {
     "name": "stdout",
     "output_type": "stream",
     "text": [
      "---  Accuracy Training set : 62.58 % \n",
      "\n"
     ]
    },
    {
     "name": "stderr",
     "output_type": "stream",
     "text": [
      "avg val loss: 0.98: 100%|██████████| 21/21 [00:00<00:00, 87.96it/s]\n"
     ]
    },
    {
     "name": "stdout",
     "output_type": "stream",
     "text": [
      "---  Accuracy Validation set: 48.47 % \n",
      "\n",
      "Waiting += 1\n",
      "\n",
      "Starting epoch 64 / 300\n"
     ]
    },
    {
     "name": "stderr",
     "output_type": "stream",
     "text": [
      "avg train loss: 0.65: 100%|██████████| 72/72 [00:01<00:00, 47.90it/s]\n"
     ]
    },
    {
     "name": "stdout",
     "output_type": "stream",
     "text": [
      "---  Accuracy Training set : 62.47 % \n",
      "\n"
     ]
    },
    {
     "name": "stderr",
     "output_type": "stream",
     "text": [
      "avg val loss: 5.07: 100%|██████████| 21/21 [00:00<00:00, 93.03it/s]\n"
     ]
    },
    {
     "name": "stdout",
     "output_type": "stream",
     "text": [
      "---  Accuracy Validation set: 49.31 % \n",
      "\n",
      "Waiting += 1\n",
      "\n",
      "Starting epoch 65 / 300\n"
     ]
    },
    {
     "name": "stderr",
     "output_type": "stream",
     "text": [
      "avg train loss: 0.65: 100%|██████████| 72/72 [00:01<00:00, 52.01it/s]\n"
     ]
    },
    {
     "name": "stdout",
     "output_type": "stream",
     "text": [
      "---  Accuracy Training set : 62.42 % \n",
      "\n"
     ]
    },
    {
     "name": "stderr",
     "output_type": "stream",
     "text": [
      "avg val loss: 0.69: 100%|██████████| 21/21 [00:00<00:00, 105.21it/s]\n"
     ]
    },
    {
     "name": "stdout",
     "output_type": "stream",
     "text": [
      "---  Accuracy Validation set: 48.31 % \n",
      "\n",
      "Waiting += 1\n",
      "\n",
      "Starting epoch 66 / 300\n"
     ]
    },
    {
     "name": "stderr",
     "output_type": "stream",
     "text": [
      "avg train loss: 0.65: 100%|██████████| 72/72 [00:01<00:00, 54.83it/s]\n"
     ]
    },
    {
     "name": "stdout",
     "output_type": "stream",
     "text": [
      "---  Accuracy Training set : 62.29 % \n",
      "\n"
     ]
    },
    {
     "name": "stderr",
     "output_type": "stream",
     "text": [
      "avg val loss: 1.01: 100%|██████████| 21/21 [00:00<00:00, 97.67it/s]\n"
     ]
    },
    {
     "name": "stdout",
     "output_type": "stream",
     "text": [
      "---  Accuracy Validation set: 48.31 % \n",
      "\n",
      "Waiting += 1\n",
      "\n",
      "Starting epoch 67 / 300\n"
     ]
    },
    {
     "name": "stderr",
     "output_type": "stream",
     "text": [
      "avg train loss: 0.65: 100%|██████████| 72/72 [00:01<00:00, 50.72it/s]\n"
     ]
    },
    {
     "name": "stdout",
     "output_type": "stream",
     "text": [
      "---  Accuracy Training set : 62.12 % \n",
      "\n"
     ]
    },
    {
     "name": "stderr",
     "output_type": "stream",
     "text": [
      "avg val loss: 7.67: 100%|██████████| 21/21 [00:00<00:00, 100.19it/s]\n"
     ]
    },
    {
     "name": "stdout",
     "output_type": "stream",
     "text": [
      "---  Accuracy Validation set: 52.53 % \n",
      "\n",
      "Waiting += 1\n",
      "\n",
      "Starting epoch 68 / 300\n"
     ]
    },
    {
     "name": "stderr",
     "output_type": "stream",
     "text": [
      "avg train loss: 0.65: 100%|██████████| 72/72 [00:01<00:00, 55.04it/s]\n"
     ]
    },
    {
     "name": "stdout",
     "output_type": "stream",
     "text": [
      "---  Accuracy Training set : 61.50 % \n",
      "\n"
     ]
    },
    {
     "name": "stderr",
     "output_type": "stream",
     "text": [
      "avg val loss: 48.87: 100%|██████████| 21/21 [00:00<00:00, 112.72it/s]\n"
     ]
    },
    {
     "name": "stdout",
     "output_type": "stream",
     "text": [
      "---  Accuracy Validation set: 51.69 % \n",
      "\n",
      "Waiting += 1\n",
      "\n",
      "Starting epoch 69 / 300\n"
     ]
    },
    {
     "name": "stderr",
     "output_type": "stream",
     "text": [
      "avg train loss: 0.64: 100%|██████████| 72/72 [00:01<00:00, 55.74it/s]\n"
     ]
    },
    {
     "name": "stdout",
     "output_type": "stream",
     "text": [
      "---  Accuracy Training set : 62.36 % \n",
      "\n"
     ]
    },
    {
     "name": "stderr",
     "output_type": "stream",
     "text": [
      "avg val loss: 0.78: 100%|██████████| 21/21 [00:00<00:00, 106.86it/s]\n"
     ]
    },
    {
     "name": "stdout",
     "output_type": "stream",
     "text": [
      "---  Accuracy Validation set: 48.24 % \n",
      "\n",
      "Waiting += 1\n",
      "\n",
      "Starting epoch 70 / 300\n"
     ]
    },
    {
     "name": "stderr",
     "output_type": "stream",
     "text": [
      "avg train loss: 0.64: 100%|██████████| 72/72 [00:01<00:00, 51.70it/s]\n"
     ]
    },
    {
     "name": "stdout",
     "output_type": "stream",
     "text": [
      "---  Accuracy Training set : 62.49 % \n",
      "\n"
     ]
    },
    {
     "name": "stderr",
     "output_type": "stream",
     "text": [
      "avg val loss: 1.54: 100%|██████████| 21/21 [00:00<00:00, 118.47it/s]\n"
     ]
    },
    {
     "name": "stdout",
     "output_type": "stream",
     "text": [
      "---  Accuracy Validation set: 47.93 % \n",
      "\n",
      "Waiting += 1\n",
      "\n",
      "Starting epoch 71 / 300\n"
     ]
    },
    {
     "name": "stderr",
     "output_type": "stream",
     "text": [
      "avg train loss: 0.65: 100%|██████████| 72/72 [00:01<00:00, 53.40it/s]\n"
     ]
    },
    {
     "name": "stdout",
     "output_type": "stream",
     "text": [
      "---  Accuracy Training set : 61.61 % \n",
      "\n"
     ]
    },
    {
     "name": "stderr",
     "output_type": "stream",
     "text": [
      "avg val loss: 0.74: 100%|██████████| 21/21 [00:00<00:00, 112.38it/s]\n"
     ]
    },
    {
     "name": "stdout",
     "output_type": "stream",
     "text": [
      "---  Accuracy Validation set: 49.31 % \n",
      "\n",
      "Waiting += 1\n",
      "\n",
      "Starting epoch 72 / 300\n"
     ]
    },
    {
     "name": "stderr",
     "output_type": "stream",
     "text": [
      "avg train loss: 0.64: 100%|██████████| 72/72 [00:01<00:00, 54.60it/s]\n"
     ]
    },
    {
     "name": "stdout",
     "output_type": "stream",
     "text": [
      "---  Accuracy Training set : 62.97 % \n",
      "\n"
     ]
    },
    {
     "name": "stderr",
     "output_type": "stream",
     "text": [
      "avg val loss: 82.37: 100%|██████████| 21/21 [00:00<00:00, 89.92it/s]\n"
     ]
    },
    {
     "name": "stdout",
     "output_type": "stream",
     "text": [
      "---  Accuracy Validation set: 51.69 % \n",
      "\n",
      "Waiting += 1\n",
      "\n",
      "Starting epoch 73 / 300\n"
     ]
    },
    {
     "name": "stderr",
     "output_type": "stream",
     "text": [
      "avg train loss: 0.65: 100%|██████████| 72/72 [00:01<00:00, 52.05it/s]\n"
     ]
    },
    {
     "name": "stdout",
     "output_type": "stream",
     "text": [
      "---  Accuracy Training set : 62.75 % \n",
      "\n"
     ]
    },
    {
     "name": "stderr",
     "output_type": "stream",
     "text": [
      "avg val loss: 18.01: 100%|██████████| 21/21 [00:00<00:00, 95.10it/s]\n"
     ]
    },
    {
     "name": "stdout",
     "output_type": "stream",
     "text": [
      "---  Accuracy Validation set: 51.23 % \n",
      "\n",
      "Waiting += 1\n",
      "\n",
      "Starting epoch 74 / 300\n"
     ]
    },
    {
     "name": "stderr",
     "output_type": "stream",
     "text": [
      "avg train loss: 0.64: 100%|██████████| 72/72 [00:01<00:00, 55.32it/s]\n"
     ]
    },
    {
     "name": "stdout",
     "output_type": "stream",
     "text": [
      "---  Accuracy Training set : 62.55 % \n",
      "\n"
     ]
    },
    {
     "name": "stderr",
     "output_type": "stream",
     "text": [
      "avg val loss: 14.00: 100%|██████████| 21/21 [00:00<00:00, 100.76it/s]\n"
     ]
    },
    {
     "name": "stdout",
     "output_type": "stream",
     "text": [
      "---  Accuracy Validation set: 52.38 % \n",
      "\n",
      "Waiting += 1\n",
      "\n",
      "Starting epoch 75 / 300\n"
     ]
    },
    {
     "name": "stderr",
     "output_type": "stream",
     "text": [
      "avg train loss: 0.64: 100%|██████████| 72/72 [00:01<00:00, 53.32it/s]\n"
     ]
    },
    {
     "name": "stdout",
     "output_type": "stream",
     "text": [
      "---  Accuracy Training set : 62.73 % \n",
      "\n"
     ]
    },
    {
     "name": "stderr",
     "output_type": "stream",
     "text": [
      "avg val loss: 73.19: 100%|██████████| 21/21 [00:00<00:00, 90.72it/s]\n"
     ]
    },
    {
     "name": "stdout",
     "output_type": "stream",
     "text": [
      "---  Accuracy Validation set: 51.69 % \n",
      "\n",
      "Waiting += 1\n",
      "\n",
      "Starting epoch 76 / 300\n"
     ]
    },
    {
     "name": "stderr",
     "output_type": "stream",
     "text": [
      "avg train loss: 0.65: 100%|██████████| 72/72 [00:01<00:00, 54.04it/s]\n"
     ]
    },
    {
     "name": "stdout",
     "output_type": "stream",
     "text": [
      "---  Accuracy Training set : 61.28 % \n",
      "\n"
     ]
    },
    {
     "name": "stderr",
     "output_type": "stream",
     "text": [
      "avg val loss: 23.54: 100%|██████████| 21/21 [00:00<00:00, 69.70it/s]\n"
     ]
    },
    {
     "name": "stdout",
     "output_type": "stream",
     "text": [
      "---  Accuracy Validation set: 48.31 % \n",
      "\n",
      "Waiting += 1\n",
      "\n",
      "Starting epoch 77 / 300\n"
     ]
    },
    {
     "name": "stderr",
     "output_type": "stream",
     "text": [
      "avg train loss: 0.64: 100%|██████████| 72/72 [00:01<00:00, 54.75it/s]\n"
     ]
    },
    {
     "name": "stdout",
     "output_type": "stream",
     "text": [
      "---  Accuracy Training set : 62.25 % \n",
      "\n"
     ]
    },
    {
     "name": "stderr",
     "output_type": "stream",
     "text": [
      "avg val loss: 14.60: 100%|██████████| 21/21 [00:00<00:00, 93.58it/s]\n"
     ]
    },
    {
     "name": "stdout",
     "output_type": "stream",
     "text": [
      "---  Accuracy Validation set: 48.31 % \n",
      "\n",
      "Waiting += 1\n",
      "\n",
      "Starting epoch 78 / 300\n"
     ]
    },
    {
     "name": "stderr",
     "output_type": "stream",
     "text": [
      "avg train loss: 0.65: 100%|██████████| 72/72 [00:01<00:00, 55.55it/s]\n"
     ]
    },
    {
     "name": "stdout",
     "output_type": "stream",
     "text": [
      "---  Accuracy Training set : 62.36 % \n",
      "\n"
     ]
    },
    {
     "name": "stderr",
     "output_type": "stream",
     "text": [
      "avg val loss: 0.90: 100%|██████████| 21/21 [00:00<00:00, 109.41it/s]\n"
     ]
    },
    {
     "name": "stdout",
     "output_type": "stream",
     "text": [
      "---  Accuracy Validation set: 48.24 % \n",
      "\n",
      "Waiting += 1\n",
      "\n",
      "Starting epoch 79 / 300\n"
     ]
    },
    {
     "name": "stderr",
     "output_type": "stream",
     "text": [
      "avg train loss: 0.64: 100%|██████████| 72/72 [00:01<00:00, 54.54it/s]\n"
     ]
    },
    {
     "name": "stdout",
     "output_type": "stream",
     "text": [
      "---  Accuracy Training set : 62.36 % \n",
      "\n"
     ]
    },
    {
     "name": "stderr",
     "output_type": "stream",
     "text": [
      "avg val loss: 1.80: 100%|██████████| 21/21 [00:00<00:00, 111.21it/s]\n"
     ]
    },
    {
     "name": "stdout",
     "output_type": "stream",
     "text": [
      "---  Accuracy Validation set: 52.53 % \n",
      "\n",
      "Waiting += 1\n",
      "\n",
      "Starting epoch 80 / 300\n"
     ]
    },
    {
     "name": "stderr",
     "output_type": "stream",
     "text": [
      "avg train loss: 0.64: 100%|██████████| 72/72 [00:01<00:00, 51.41it/s]\n"
     ]
    },
    {
     "name": "stdout",
     "output_type": "stream",
     "text": [
      "---  Accuracy Training set : 62.91 % \n",
      "\n"
     ]
    },
    {
     "name": "stderr",
     "output_type": "stream",
     "text": [
      "avg val loss: 4.99: 100%|██████████| 21/21 [00:00<00:00, 86.56it/s]\n"
     ]
    },
    {
     "name": "stdout",
     "output_type": "stream",
     "text": [
      "---  Accuracy Validation set: 49.23 % \n",
      "\n",
      "Waiting += 1\n",
      "\n",
      "Starting epoch 81 / 300\n"
     ]
    },
    {
     "name": "stderr",
     "output_type": "stream",
     "text": [
      "avg train loss: 0.64: 100%|██████████| 72/72 [00:01<00:00, 54.84it/s]\n"
     ]
    },
    {
     "name": "stdout",
     "output_type": "stream",
     "text": [
      "---  Accuracy Training set : 62.66 % \n",
      "\n"
     ]
    },
    {
     "name": "stderr",
     "output_type": "stream",
     "text": [
      "avg val loss: 11.93: 100%|██████████| 21/21 [00:00<00:00, 96.21it/s]\n"
     ]
    },
    {
     "name": "stdout",
     "output_type": "stream",
     "text": [
      "---  Accuracy Validation set: 50.08 % \n",
      "\n",
      "Waiting += 1\n",
      "\n",
      "Starting epoch 82 / 300\n"
     ]
    },
    {
     "name": "stderr",
     "output_type": "stream",
     "text": [
      "avg train loss: 0.64: 100%|██████████| 72/72 [00:01<00:00, 54.82it/s]\n"
     ]
    },
    {
     "name": "stdout",
     "output_type": "stream",
     "text": [
      "---  Accuracy Training set : 62.73 % \n",
      "\n"
     ]
    },
    {
     "name": "stderr",
     "output_type": "stream",
     "text": [
      "avg val loss: 26.29: 100%|██████████| 21/21 [00:00<00:00, 91.46it/s]\n"
     ]
    },
    {
     "name": "stdout",
     "output_type": "stream",
     "text": [
      "---  Accuracy Validation set: 51.99 % \n",
      "\n",
      "Waiting += 1\n",
      "\n",
      "Starting epoch 83 / 300\n"
     ]
    },
    {
     "name": "stderr",
     "output_type": "stream",
     "text": [
      "avg train loss: 0.64: 100%|██████████| 72/72 [00:01<00:00, 43.10it/s]\n"
     ]
    },
    {
     "name": "stdout",
     "output_type": "stream",
     "text": [
      "---  Accuracy Training set : 63.39 % \n",
      "\n"
     ]
    },
    {
     "name": "stderr",
     "output_type": "stream",
     "text": [
      "avg val loss: 0.69: 100%|██████████| 21/21 [00:00<00:00, 79.84it/s]\n"
     ]
    },
    {
     "name": "stdout",
     "output_type": "stream",
     "text": [
      "---  Accuracy Validation set: 48.31 % \n",
      "\n",
      "Waiting += 1\n",
      "\n",
      "Starting epoch 84 / 300\n"
     ]
    },
    {
     "name": "stderr",
     "output_type": "stream",
     "text": [
      "avg train loss: 0.64: 100%|██████████| 72/72 [00:01<00:00, 45.63it/s]\n"
     ]
    },
    {
     "name": "stdout",
     "output_type": "stream",
     "text": [
      "---  Accuracy Training set : 63.48 % \n",
      "\n"
     ]
    },
    {
     "name": "stderr",
     "output_type": "stream",
     "text": [
      "avg val loss: 0.72: 100%|██████████| 21/21 [00:00<00:00, 56.86it/s]\n"
     ]
    },
    {
     "name": "stdout",
     "output_type": "stream",
     "text": [
      "---  Accuracy Validation set: 48.16 % \n",
      "\n",
      "Waiting += 1\n",
      "\n",
      "Starting epoch 85 / 300\n"
     ]
    },
    {
     "name": "stderr",
     "output_type": "stream",
     "text": [
      "avg train loss: 0.64: 100%|██████████| 72/72 [00:01<00:00, 37.14it/s]\n"
     ]
    },
    {
     "name": "stdout",
     "output_type": "stream",
     "text": [
      "---  Accuracy Training set : 64.00 % \n",
      "\n"
     ]
    },
    {
     "name": "stderr",
     "output_type": "stream",
     "text": [
      "avg val loss: 1.33: 100%|██████████| 21/21 [00:00<00:00, 46.26it/s]\n"
     ]
    },
    {
     "name": "stdout",
     "output_type": "stream",
     "text": [
      "---  Accuracy Validation set: 51.69 % \n",
      "\n",
      "Waiting += 1\n",
      "\n",
      "Starting epoch 86 / 300\n"
     ]
    },
    {
     "name": "stderr",
     "output_type": "stream",
     "text": [
      "avg train loss: 0.64: 100%|██████████| 72/72 [00:02<00:00, 34.31it/s]\n"
     ]
    },
    {
     "name": "stdout",
     "output_type": "stream",
     "text": [
      "---  Accuracy Training set : 63.80 % \n",
      "\n"
     ]
    },
    {
     "name": "stderr",
     "output_type": "stream",
     "text": [
      "avg val loss: 1.49: 100%|██████████| 21/21 [00:00<00:00, 89.44it/s]\n"
     ]
    },
    {
     "name": "stdout",
     "output_type": "stream",
     "text": [
      "---  Accuracy Validation set: 48.31 % \n",
      "\n",
      "Waiting += 1\n",
      "\n",
      "Starting epoch 87 / 300\n"
     ]
    },
    {
     "name": "stderr",
     "output_type": "stream",
     "text": [
      "avg train loss: 0.64: 100%|██████████| 72/72 [00:01<00:00, 52.61it/s]\n"
     ]
    },
    {
     "name": "stdout",
     "output_type": "stream",
     "text": [
      "---  Accuracy Training set : 64.02 % \n",
      "\n"
     ]
    },
    {
     "name": "stderr",
     "output_type": "stream",
     "text": [
      "avg val loss: 2.11: 100%|██████████| 21/21 [00:00<00:00, 113.51it/s]\n"
     ]
    },
    {
     "name": "stdout",
     "output_type": "stream",
     "text": [
      "---  Accuracy Validation set: 51.61 % \n",
      "\n",
      "Waiting += 1\n",
      "\n",
      "Starting epoch 88 / 300\n"
     ]
    },
    {
     "name": "stderr",
     "output_type": "stream",
     "text": [
      "avg train loss: 0.64: 100%|██████████| 72/72 [00:01<00:00, 50.42it/s]\n"
     ]
    },
    {
     "name": "stdout",
     "output_type": "stream",
     "text": [
      "---  Accuracy Training set : 63.01 % \n",
      "\n"
     ]
    },
    {
     "name": "stderr",
     "output_type": "stream",
     "text": [
      "avg val loss: 0.97: 100%|██████████| 21/21 [00:00<00:00, 82.33it/s]\n"
     ]
    },
    {
     "name": "stdout",
     "output_type": "stream",
     "text": [
      "---  Accuracy Validation set: 48.31 % \n",
      "\n",
      "Waiting += 1\n",
      "\n",
      "Starting epoch 89 / 300\n"
     ]
    },
    {
     "name": "stderr",
     "output_type": "stream",
     "text": [
      "avg train loss: 0.64: 100%|██████████| 72/72 [00:01<00:00, 44.25it/s]\n"
     ]
    },
    {
     "name": "stdout",
     "output_type": "stream",
     "text": [
      "---  Accuracy Training set : 64.11 % \n",
      "\n"
     ]
    },
    {
     "name": "stderr",
     "output_type": "stream",
     "text": [
      "avg val loss: 18.74: 100%|██████████| 21/21 [00:00<00:00, 76.28it/s]\n"
     ]
    },
    {
     "name": "stdout",
     "output_type": "stream",
     "text": [
      "---  Accuracy Validation set: 52.07 % \n",
      "\n",
      "Waiting += 1\n",
      "\n",
      "Starting epoch 90 / 300\n"
     ]
    },
    {
     "name": "stderr",
     "output_type": "stream",
     "text": [
      "avg train loss: 0.63: 100%|██████████| 72/72 [00:01<00:00, 40.10it/s]\n"
     ]
    },
    {
     "name": "stdout",
     "output_type": "stream",
     "text": [
      "---  Accuracy Training set : 63.39 % \n",
      "\n"
     ]
    },
    {
     "name": "stderr",
     "output_type": "stream",
     "text": [
      "avg val loss: 1.54: 100%|██████████| 21/21 [00:00<00:00, 61.93it/s]\n"
     ]
    },
    {
     "name": "stdout",
     "output_type": "stream",
     "text": [
      "---  Accuracy Validation set: 50.08 % \n",
      "\n",
      "Waiting += 1\n",
      "\n",
      "Starting epoch 91 / 300\n"
     ]
    },
    {
     "name": "stderr",
     "output_type": "stream",
     "text": [
      "avg train loss: 0.63: 100%|██████████| 72/72 [00:02<00:00, 31.85it/s]\n"
     ]
    },
    {
     "name": "stdout",
     "output_type": "stream",
     "text": [
      "---  Accuracy Training set : 64.22 % \n",
      "\n"
     ]
    },
    {
     "name": "stderr",
     "output_type": "stream",
     "text": [
      "avg val loss: 22.16: 100%|██████████| 21/21 [00:00<00:00, 48.63it/s]\n"
     ]
    },
    {
     "name": "stdout",
     "output_type": "stream",
     "text": [
      "---  Accuracy Validation set: 51.69 % \n",
      "\n",
      "Waiting += 1\n",
      "\n",
      "Starting epoch 92 / 300\n"
     ]
    },
    {
     "name": "stderr",
     "output_type": "stream",
     "text": [
      "avg train loss: 0.63: 100%|██████████| 72/72 [00:01<00:00, 44.67it/s]\n"
     ]
    },
    {
     "name": "stdout",
     "output_type": "stream",
     "text": [
      "---  Accuracy Training set : 63.45 % \n",
      "\n"
     ]
    },
    {
     "name": "stderr",
     "output_type": "stream",
     "text": [
      "avg val loss: 12.55: 100%|██████████| 21/21 [00:00<00:00, 62.94it/s]\n"
     ]
    },
    {
     "name": "stdout",
     "output_type": "stream",
     "text": [
      "---  Accuracy Validation set: 51.53 % \n",
      "\n",
      "Waiting += 1\n",
      "\n",
      "Starting epoch 93 / 300\n"
     ]
    },
    {
     "name": "stderr",
     "output_type": "stream",
     "text": [
      "avg train loss: 0.64: 100%|██████████| 72/72 [00:02<00:00, 35.33it/s]\n"
     ]
    },
    {
     "name": "stdout",
     "output_type": "stream",
     "text": [
      "---  Accuracy Training set : 63.67 % \n",
      "\n"
     ]
    },
    {
     "name": "stderr",
     "output_type": "stream",
     "text": [
      "avg val loss: 1.08: 100%|██████████| 21/21 [00:00<00:00, 62.34it/s]\n"
     ]
    },
    {
     "name": "stdout",
     "output_type": "stream",
     "text": [
      "---  Accuracy Validation set: 48.31 % \n",
      "\n",
      "Waiting += 1\n",
      "\n",
      "Starting epoch 94 / 300\n"
     ]
    },
    {
     "name": "stderr",
     "output_type": "stream",
     "text": [
      "avg train loss: 0.64: 100%|██████████| 72/72 [00:01<00:00, 45.27it/s]\n"
     ]
    },
    {
     "name": "stdout",
     "output_type": "stream",
     "text": [
      "---  Accuracy Training set : 63.69 % \n",
      "\n"
     ]
    },
    {
     "name": "stderr",
     "output_type": "stream",
     "text": [
      "avg val loss: 78.04: 100%|██████████| 21/21 [00:00<00:00, 80.90it/s]\n"
     ]
    },
    {
     "name": "stdout",
     "output_type": "stream",
     "text": [
      "---  Accuracy Validation set: 51.69 % \n",
      "\n",
      "Waiting += 1\n",
      "\n",
      "Starting epoch 95 / 300\n"
     ]
    },
    {
     "name": "stderr",
     "output_type": "stream",
     "text": [
      "avg train loss: 0.63: 100%|██████████| 72/72 [00:01<00:00, 44.53it/s]\n"
     ]
    },
    {
     "name": "stdout",
     "output_type": "stream",
     "text": [
      "---  Accuracy Training set : 63.67 % \n",
      "\n"
     ]
    },
    {
     "name": "stderr",
     "output_type": "stream",
     "text": [
      "avg val loss: 6.73: 100%|██████████| 21/21 [00:00<00:00, 102.72it/s]\n"
     ]
    },
    {
     "name": "stdout",
     "output_type": "stream",
     "text": [
      "---  Accuracy Validation set: 51.07 % \n",
      "\n",
      "Waiting += 1\n",
      "\n",
      "Starting epoch 96 / 300\n"
     ]
    },
    {
     "name": "stderr",
     "output_type": "stream",
     "text": [
      "avg train loss: 0.64: 100%|██████████| 72/72 [00:01<00:00, 48.29it/s]\n"
     ]
    },
    {
     "name": "stdout",
     "output_type": "stream",
     "text": [
      "---  Accuracy Training set : 62.62 % \n",
      "\n"
     ]
    },
    {
     "name": "stderr",
     "output_type": "stream",
     "text": [
      "avg val loss: 0.69: 100%|██████████| 21/21 [00:00<00:00, 84.26it/s]\n"
     ]
    },
    {
     "name": "stdout",
     "output_type": "stream",
     "text": [
      "---  Accuracy Validation set: 48.31 % \n",
      "\n",
      "Waiting += 1\n",
      "\n",
      "Starting epoch 97 / 300\n"
     ]
    },
    {
     "name": "stderr",
     "output_type": "stream",
     "text": [
      "avg train loss: 0.64: 100%|██████████| 72/72 [00:01<00:00, 42.89it/s]\n"
     ]
    },
    {
     "name": "stdout",
     "output_type": "stream",
     "text": [
      "---  Accuracy Training set : 63.45 % \n",
      "\n"
     ]
    },
    {
     "name": "stderr",
     "output_type": "stream",
     "text": [
      "avg val loss: 26.95: 100%|██████████| 21/21 [00:00<00:00, 71.24it/s]\n"
     ]
    },
    {
     "name": "stdout",
     "output_type": "stream",
     "text": [
      "---  Accuracy Validation set: 51.69 % \n",
      "\n",
      "Waiting += 1\n",
      "\n",
      "Starting epoch 98 / 300\n"
     ]
    },
    {
     "name": "stderr",
     "output_type": "stream",
     "text": [
      "avg train loss: 0.63: 100%|██████████| 72/72 [00:01<00:00, 43.22it/s]\n"
     ]
    },
    {
     "name": "stdout",
     "output_type": "stream",
     "text": [
      "---  Accuracy Training set : 64.20 % \n",
      "\n"
     ]
    },
    {
     "name": "stderr",
     "output_type": "stream",
     "text": [
      "avg val loss: 0.74: 100%|██████████| 21/21 [00:00<00:00, 69.39it/s]\n"
     ]
    },
    {
     "name": "stdout",
     "output_type": "stream",
     "text": [
      "---  Accuracy Validation set: 48.47 % \n",
      "\n",
      "Waiting += 1\n",
      "\n",
      "Starting epoch 99 / 300\n"
     ]
    },
    {
     "name": "stderr",
     "output_type": "stream",
     "text": [
      "avg train loss: 0.63: 100%|██████████| 72/72 [00:01<00:00, 46.35it/s]\n"
     ]
    },
    {
     "name": "stdout",
     "output_type": "stream",
     "text": [
      "---  Accuracy Training set : 64.37 % \n",
      "\n"
     ]
    },
    {
     "name": "stderr",
     "output_type": "stream",
     "text": [
      "avg val loss: 1.25: 100%|██████████| 21/21 [00:00<00:00, 100.53it/s]\n"
     ]
    },
    {
     "name": "stdout",
     "output_type": "stream",
     "text": [
      "---  Accuracy Validation set: 51.76 % \n",
      "\n",
      "Waiting += 1\n",
      "\n",
      "Starting epoch 100 / 300\n"
     ]
    },
    {
     "name": "stderr",
     "output_type": "stream",
     "text": [
      "avg train loss: 0.63: 100%|██████████| 72/72 [00:01<00:00, 46.64it/s]\n"
     ]
    },
    {
     "name": "stdout",
     "output_type": "stream",
     "text": [
      "---  Accuracy Training set : 64.70 % \n",
      "\n"
     ]
    },
    {
     "name": "stderr",
     "output_type": "stream",
     "text": [
      "avg val loss: 19.71: 100%|██████████| 21/21 [00:00<00:00, 79.45it/s]\n"
     ]
    },
    {
     "name": "stdout",
     "output_type": "stream",
     "text": [
      "---  Accuracy Validation set: 51.23 % \n",
      "\n",
      "Waiting += 1\n",
      "\n",
      "Starting epoch 101 / 300\n"
     ]
    },
    {
     "name": "stderr",
     "output_type": "stream",
     "text": [
      "avg train loss: 0.63: 100%|██████████| 72/72 [00:01<00:00, 47.97it/s]\n"
     ]
    },
    {
     "name": "stdout",
     "output_type": "stream",
     "text": [
      "---  Accuracy Training set : 63.58 % \n",
      "\n"
     ]
    },
    {
     "name": "stderr",
     "output_type": "stream",
     "text": [
      "avg val loss: 17.11: 100%|██████████| 21/21 [00:00<00:00, 87.31it/s]\n"
     ]
    },
    {
     "name": "stdout",
     "output_type": "stream",
     "text": [
      "---  Accuracy Validation set: 52.45 % \n",
      "\n",
      "Waiting += 1\n",
      "\n",
      "Starting epoch 102 / 300\n"
     ]
    },
    {
     "name": "stderr",
     "output_type": "stream",
     "text": [
      "avg train loss: 0.63: 100%|██████████| 72/72 [00:01<00:00, 48.96it/s]\n"
     ]
    },
    {
     "name": "stdout",
     "output_type": "stream",
     "text": [
      "---  Accuracy Training set : 64.64 % \n",
      "\n"
     ]
    },
    {
     "name": "stderr",
     "output_type": "stream",
     "text": [
      "avg val loss: 0.76: 100%|██████████| 21/21 [00:00<00:00, 75.20it/s]\n"
     ]
    },
    {
     "name": "stdout",
     "output_type": "stream",
     "text": [
      "---  Accuracy Validation set: 48.70 % \n",
      "\n",
      "Waiting += 1\n",
      "\n",
      "Starting epoch 103 / 300\n"
     ]
    },
    {
     "name": "stderr",
     "output_type": "stream",
     "text": [
      "avg train loss: 0.63: 100%|██████████| 72/72 [00:01<00:00, 46.19it/s]\n"
     ]
    },
    {
     "name": "stdout",
     "output_type": "stream",
     "text": [
      "---  Accuracy Training set : 64.04 % \n",
      "\n"
     ]
    },
    {
     "name": "stderr",
     "output_type": "stream",
     "text": [
      "avg val loss: 5.83: 100%|██████████| 21/21 [00:00<00:00, 80.78it/s]\n"
     ]
    },
    {
     "name": "stdout",
     "output_type": "stream",
     "text": [
      "---  Accuracy Validation set: 50.15 % \n",
      "\n",
      "Waiting += 1\n",
      "\n",
      "Starting epoch 104 / 300\n"
     ]
    },
    {
     "name": "stderr",
     "output_type": "stream",
     "text": [
      "avg train loss: 0.63: 100%|██████████| 72/72 [00:01<00:00, 46.57it/s]\n"
     ]
    },
    {
     "name": "stdout",
     "output_type": "stream",
     "text": [
      "---  Accuracy Training set : 64.61 % \n",
      "\n"
     ]
    },
    {
     "name": "stderr",
     "output_type": "stream",
     "text": [
      "avg val loss: 1.85: 100%|██████████| 21/21 [00:00<00:00, 87.75it/s]\n"
     ]
    },
    {
     "name": "stdout",
     "output_type": "stream",
     "text": [
      "---  Accuracy Validation set: 48.24 % \n",
      "\n",
      "Waiting += 1\n",
      "\n",
      "Starting epoch 105 / 300\n"
     ]
    },
    {
     "name": "stderr",
     "output_type": "stream",
     "text": [
      "avg train loss: 0.63: 100%|██████████| 72/72 [00:01<00:00, 46.85it/s]\n"
     ]
    },
    {
     "name": "stdout",
     "output_type": "stream",
     "text": [
      "---  Accuracy Training set : 63.67 % \n",
      "\n"
     ]
    },
    {
     "name": "stderr",
     "output_type": "stream",
     "text": [
      "avg val loss: 51.48: 100%|██████████| 21/21 [00:00<00:00, 91.76it/s]\n"
     ]
    },
    {
     "name": "stdout",
     "output_type": "stream",
     "text": [
      "---  Accuracy Validation set: 51.69 % \n",
      "\n",
      "Waiting += 1\n",
      "\n",
      "Starting epoch 106 / 300\n"
     ]
    },
    {
     "name": "stderr",
     "output_type": "stream",
     "text": [
      "avg train loss: 0.63: 100%|██████████| 72/72 [00:01<00:00, 46.31it/s]\n"
     ]
    },
    {
     "name": "stdout",
     "output_type": "stream",
     "text": [
      "---  Accuracy Training set : 63.08 % \n",
      "\n"
     ]
    },
    {
     "name": "stderr",
     "output_type": "stream",
     "text": [
      "avg val loss: 35.47: 100%|██████████| 21/21 [00:00<00:00, 88.29it/s]\n"
     ]
    },
    {
     "name": "stdout",
     "output_type": "stream",
     "text": [
      "---  Accuracy Validation set: 51.69 % \n",
      "\n",
      "Waiting += 1\n",
      "\n",
      "Starting epoch 107 / 300\n"
     ]
    },
    {
     "name": "stderr",
     "output_type": "stream",
     "text": [
      "avg train loss: 0.63: 100%|██████████| 72/72 [00:01<00:00, 48.37it/s]\n"
     ]
    },
    {
     "name": "stdout",
     "output_type": "stream",
     "text": [
      "---  Accuracy Training set : 63.83 % \n",
      "\n"
     ]
    },
    {
     "name": "stderr",
     "output_type": "stream",
     "text": [
      "avg val loss: 37.98: 100%|██████████| 21/21 [00:00<00:00, 85.35it/s]\n"
     ]
    },
    {
     "name": "stdout",
     "output_type": "stream",
     "text": [
      "---  Accuracy Validation set: 51.69 % \n",
      "\n",
      "Waiting += 1\n",
      "\n",
      "Starting epoch 108 / 300\n"
     ]
    },
    {
     "name": "stderr",
     "output_type": "stream",
     "text": [
      "avg train loss: 0.63: 100%|██████████| 72/72 [00:01<00:00, 47.06it/s]\n"
     ]
    },
    {
     "name": "stdout",
     "output_type": "stream",
     "text": [
      "---  Accuracy Training set : 64.68 % \n",
      "\n"
     ]
    },
    {
     "name": "stderr",
     "output_type": "stream",
     "text": [
      "avg val loss: 0.87: 100%|██████████| 21/21 [00:00<00:00, 91.62it/s]\n"
     ]
    },
    {
     "name": "stdout",
     "output_type": "stream",
     "text": [
      "---  Accuracy Validation set: 47.85 % \n",
      "\n",
      "Waiting += 1\n",
      "\n",
      "Starting epoch 109 / 300\n"
     ]
    },
    {
     "name": "stderr",
     "output_type": "stream",
     "text": [
      "avg train loss: 0.63: 100%|██████████| 72/72 [00:01<00:00, 43.43it/s]\n"
     ]
    },
    {
     "name": "stdout",
     "output_type": "stream",
     "text": [
      "---  Accuracy Training set : 64.86 % \n",
      "\n"
     ]
    },
    {
     "name": "stderr",
     "output_type": "stream",
     "text": [
      "avg val loss: 0.99: 100%|██████████| 21/21 [00:00<00:00, 84.71it/s]\n"
     ]
    },
    {
     "name": "stdout",
     "output_type": "stream",
     "text": [
      "---  Accuracy Validation set: 48.39 % \n",
      "\n",
      "Waiting += 1\n",
      "\n",
      "Starting epoch 110 / 300\n"
     ]
    },
    {
     "name": "stderr",
     "output_type": "stream",
     "text": [
      "avg train loss: 0.63: 100%|██████████| 72/72 [00:01<00:00, 50.01it/s]\n"
     ]
    },
    {
     "name": "stdout",
     "output_type": "stream",
     "text": [
      "---  Accuracy Training set : 64.64 % \n",
      "\n"
     ]
    },
    {
     "name": "stderr",
     "output_type": "stream",
     "text": [
      "avg val loss: 1.32: 100%|██████████| 21/21 [00:00<00:00, 80.32it/s]\n"
     ]
    },
    {
     "name": "stdout",
     "output_type": "stream",
     "text": [
      "---  Accuracy Validation set: 49.62 % \n",
      "\n",
      "Waiting += 1\n",
      "\n",
      "Starting epoch 111 / 300\n"
     ]
    },
    {
     "name": "stderr",
     "output_type": "stream",
     "text": [
      "avg train loss: 0.63: 100%|██████████| 72/72 [00:01<00:00, 47.85it/s]\n"
     ]
    },
    {
     "name": "stdout",
     "output_type": "stream",
     "text": [
      "---  Accuracy Training set : 63.32 % \n",
      "\n"
     ]
    },
    {
     "name": "stderr",
     "output_type": "stream",
     "text": [
      "avg val loss: 0.69: 100%|██████████| 21/21 [00:00<00:00, 93.26it/s]\n"
     ]
    },
    {
     "name": "stdout",
     "output_type": "stream",
     "text": [
      "---  Accuracy Validation set: 48.54 % \n",
      "\n",
      "Waiting += 1\n",
      "\n",
      "Starting epoch 112 / 300\n"
     ]
    },
    {
     "name": "stderr",
     "output_type": "stream",
     "text": [
      "avg train loss: 0.63: 100%|██████████| 72/72 [00:01<00:00, 44.57it/s]\n"
     ]
    },
    {
     "name": "stdout",
     "output_type": "stream",
     "text": [
      "---  Accuracy Training set : 64.15 % \n",
      "\n"
     ]
    },
    {
     "name": "stderr",
     "output_type": "stream",
     "text": [
      "avg val loss: 33.12: 100%|██████████| 21/21 [00:00<00:00, 66.97it/s]\n"
     ]
    },
    {
     "name": "stdout",
     "output_type": "stream",
     "text": [
      "---  Accuracy Validation set: 51.69 % \n",
      "\n",
      "Waiting += 1\n",
      "\n",
      "Starting epoch 113 / 300\n"
     ]
    },
    {
     "name": "stderr",
     "output_type": "stream",
     "text": [
      "avg train loss: 0.63: 100%|██████████| 72/72 [00:01<00:00, 47.76it/s]\n"
     ]
    },
    {
     "name": "stdout",
     "output_type": "stream",
     "text": [
      "---  Accuracy Training set : 64.35 % \n",
      "\n"
     ]
    },
    {
     "name": "stderr",
     "output_type": "stream",
     "text": [
      "avg val loss: 24.46: 100%|██████████| 21/21 [00:00<00:00, 98.16it/s]\n"
     ]
    },
    {
     "name": "stdout",
     "output_type": "stream",
     "text": [
      "---  Accuracy Validation set: 51.69 % \n",
      "\n",
      "Waiting += 1\n",
      "\n",
      "Starting epoch 114 / 300\n"
     ]
    },
    {
     "name": "stderr",
     "output_type": "stream",
     "text": [
      "avg train loss: 0.63: 100%|██████████| 72/72 [00:01<00:00, 41.61it/s]\n"
     ]
    },
    {
     "name": "stdout",
     "output_type": "stream",
     "text": [
      "---  Accuracy Training set : 64.75 % \n",
      "\n"
     ]
    },
    {
     "name": "stderr",
     "output_type": "stream",
     "text": [
      "avg val loss: 14.09: 100%|██████████| 21/21 [00:00<00:00, 78.82it/s]\n"
     ]
    },
    {
     "name": "stdout",
     "output_type": "stream",
     "text": [
      "---  Accuracy Validation set: 48.31 % \n",
      "\n",
      "Waiting += 1\n",
      "\n",
      "Starting epoch 115 / 300\n"
     ]
    },
    {
     "name": "stderr",
     "output_type": "stream",
     "text": [
      "avg train loss: 0.62: 100%|██████████| 72/72 [00:01<00:00, 46.10it/s]\n"
     ]
    },
    {
     "name": "stdout",
     "output_type": "stream",
     "text": [
      "---  Accuracy Training set : 64.02 % \n",
      "\n"
     ]
    },
    {
     "name": "stderr",
     "output_type": "stream",
     "text": [
      "avg val loss: 1.85: 100%|██████████| 21/21 [00:00<00:00, 71.14it/s]\n"
     ]
    },
    {
     "name": "stdout",
     "output_type": "stream",
     "text": [
      "---  Accuracy Validation set: 51.84 % \n",
      "\n",
      "Waiting += 1\n",
      "\n",
      "Starting epoch 116 / 300\n"
     ]
    },
    {
     "name": "stderr",
     "output_type": "stream",
     "text": [
      "avg train loss: 0.63: 100%|██████████| 72/72 [00:02<00:00, 33.10it/s]\n"
     ]
    },
    {
     "name": "stdout",
     "output_type": "stream",
     "text": [
      "---  Accuracy Training set : 64.31 % \n",
      "\n"
     ]
    },
    {
     "name": "stderr",
     "output_type": "stream",
     "text": [
      "avg val loss: 0.75: 100%|██████████| 21/21 [00:00<00:00, 44.99it/s]\n"
     ]
    },
    {
     "name": "stdout",
     "output_type": "stream",
     "text": [
      "---  Accuracy Validation set: 47.85 % \n",
      "\n",
      "Waiting += 1\n",
      "\n",
      "Starting epoch 117 / 300\n"
     ]
    },
    {
     "name": "stderr",
     "output_type": "stream",
     "text": [
      "avg train loss: 0.63: 100%|██████████| 72/72 [00:02<00:00, 32.70it/s]\n"
     ]
    },
    {
     "name": "stdout",
     "output_type": "stream",
     "text": [
      "---  Accuracy Training set : 64.07 % \n",
      "\n"
     ]
    },
    {
     "name": "stderr",
     "output_type": "stream",
     "text": [
      "avg val loss: 0.73: 100%|██████████| 21/21 [00:00<00:00, 82.25it/s]\n"
     ]
    },
    {
     "name": "stdout",
     "output_type": "stream",
     "text": [
      "---  Accuracy Validation set: 48.39 % \n",
      "\n",
      "Waiting += 1\n",
      "\n",
      "Starting epoch 118 / 300\n"
     ]
    },
    {
     "name": "stderr",
     "output_type": "stream",
     "text": [
      "avg train loss: 0.62: 100%|██████████| 72/72 [00:01<00:00, 52.51it/s]\n"
     ]
    },
    {
     "name": "stdout",
     "output_type": "stream",
     "text": [
      "---  Accuracy Training set : 65.14 % \n",
      "\n"
     ]
    },
    {
     "name": "stderr",
     "output_type": "stream",
     "text": [
      "avg val loss: 14.36: 100%|██████████| 21/21 [00:00<00:00, 112.92it/s]\n"
     ]
    },
    {
     "name": "stdout",
     "output_type": "stream",
     "text": [
      "---  Accuracy Validation set: 51.61 % \n",
      "\n",
      "Waiting += 1\n",
      "\n",
      "Starting epoch 119 / 300\n"
     ]
    },
    {
     "name": "stderr",
     "output_type": "stream",
     "text": [
      "avg train loss: 0.63: 100%|██████████| 72/72 [00:01<00:00, 50.82it/s]\n"
     ]
    },
    {
     "name": "stdout",
     "output_type": "stream",
     "text": [
      "---  Accuracy Training set : 63.98 % \n",
      "\n"
     ]
    },
    {
     "name": "stderr",
     "output_type": "stream",
     "text": [
      "avg val loss: 0.69: 100%|██████████| 21/21 [00:00<00:00, 82.37it/s] \n"
     ]
    },
    {
     "name": "stdout",
     "output_type": "stream",
     "text": [
      "---  Accuracy Validation set: 48.47 % \n",
      "\n",
      "Waiting += 1\n",
      "\n",
      "Starting epoch 120 / 300\n"
     ]
    },
    {
     "name": "stderr",
     "output_type": "stream",
     "text": [
      "avg train loss: 0.62: 100%|██████████| 72/72 [00:01<00:00, 45.79it/s]\n"
     ]
    },
    {
     "name": "stdout",
     "output_type": "stream",
     "text": [
      "---  Accuracy Training set : 63.96 % \n",
      "\n"
     ]
    },
    {
     "name": "stderr",
     "output_type": "stream",
     "text": [
      "avg val loss: 1.36: 100%|██████████| 21/21 [00:00<00:00, 96.54it/s]\n"
     ]
    },
    {
     "name": "stdout",
     "output_type": "stream",
     "text": [
      "---  Accuracy Validation set: 48.31 % \n",
      "\n",
      "Waiting += 1\n",
      "\n",
      "Starting epoch 121 / 300\n"
     ]
    },
    {
     "name": "stderr",
     "output_type": "stream",
     "text": [
      "avg train loss: 0.62: 100%|██████████| 72/72 [00:01<00:00, 50.72it/s]\n"
     ]
    },
    {
     "name": "stdout",
     "output_type": "stream",
     "text": [
      "---  Accuracy Training set : 64.40 % \n",
      "\n"
     ]
    },
    {
     "name": "stderr",
     "output_type": "stream",
     "text": [
      "avg val loss: 7.60: 100%|██████████| 21/21 [00:00<00:00, 105.84it/s]\n"
     ]
    },
    {
     "name": "stdout",
     "output_type": "stream",
     "text": [
      "---  Accuracy Validation set: 51.53 % \n",
      "\n",
      "Waiting += 1\n",
      "\n",
      "Starting epoch 122 / 300\n"
     ]
    },
    {
     "name": "stderr",
     "output_type": "stream",
     "text": [
      "avg train loss: 0.63: 100%|██████████| 72/72 [00:01<00:00, 46.48it/s]\n"
     ]
    },
    {
     "name": "stdout",
     "output_type": "stream",
     "text": [
      "---  Accuracy Training set : 63.91 % \n",
      "\n"
     ]
    },
    {
     "name": "stderr",
     "output_type": "stream",
     "text": [
      "avg val loss: 0.84: 100%|██████████| 21/21 [00:00<00:00, 96.55it/s]\n"
     ]
    },
    {
     "name": "stdout",
     "output_type": "stream",
     "text": [
      "---  Accuracy Validation set: 48.54 % \n",
      "\n",
      "Waiting += 1\n",
      "\n",
      "Starting epoch 123 / 300\n"
     ]
    },
    {
     "name": "stderr",
     "output_type": "stream",
     "text": [
      "avg train loss: 0.62: 100%|██████████| 72/72 [00:01<00:00, 49.25it/s]\n"
     ]
    },
    {
     "name": "stdout",
     "output_type": "stream",
     "text": [
      "---  Accuracy Training set : 64.48 % \n",
      "\n"
     ]
    },
    {
     "name": "stderr",
     "output_type": "stream",
     "text": [
      "avg val loss: 20.54: 100%|██████████| 21/21 [00:00<00:00, 109.92it/s]\n"
     ]
    },
    {
     "name": "stdout",
     "output_type": "stream",
     "text": [
      "---  Accuracy Validation set: 48.31 % \n",
      "\n",
      "Waiting += 1\n",
      "\n",
      "Starting epoch 124 / 300\n"
     ]
    },
    {
     "name": "stderr",
     "output_type": "stream",
     "text": [
      "avg train loss: 0.62: 100%|██████████| 72/72 [00:01<00:00, 41.49it/s]\n"
     ]
    },
    {
     "name": "stdout",
     "output_type": "stream",
     "text": [
      "---  Accuracy Training set : 64.64 % \n",
      "\n"
     ]
    },
    {
     "name": "stderr",
     "output_type": "stream",
     "text": [
      "avg val loss: 0.73: 100%|██████████| 21/21 [00:00<00:00, 62.62it/s]\n"
     ]
    },
    {
     "name": "stdout",
     "output_type": "stream",
     "text": [
      "---  Accuracy Validation set: 48.31 % \n",
      "\n",
      "Waiting += 1\n",
      "\n",
      "Starting epoch 125 / 300\n"
     ]
    },
    {
     "name": "stderr",
     "output_type": "stream",
     "text": [
      "avg train loss: 0.62: 100%|██████████| 72/72 [00:02<00:00, 33.24it/s]\n"
     ]
    },
    {
     "name": "stdout",
     "output_type": "stream",
     "text": [
      "---  Accuracy Training set : 63.91 % \n",
      "\n"
     ]
    },
    {
     "name": "stderr",
     "output_type": "stream",
     "text": [
      "avg val loss: 0.69: 100%|██████████| 21/21 [00:00<00:00, 62.92it/s]\n"
     ]
    },
    {
     "name": "stdout",
     "output_type": "stream",
     "text": [
      "---  Accuracy Validation set: 48.39 % \n",
      "\n",
      "Waiting += 1\n",
      "\n",
      "Starting epoch 126 / 300\n"
     ]
    },
    {
     "name": "stderr",
     "output_type": "stream",
     "text": [
      "avg train loss: 0.62: 100%|██████████| 72/72 [00:01<00:00, 37.64it/s]\n"
     ]
    },
    {
     "name": "stdout",
     "output_type": "stream",
     "text": [
      "---  Accuracy Training set : 64.44 % \n",
      "\n"
     ]
    },
    {
     "name": "stderr",
     "output_type": "stream",
     "text": [
      "avg val loss: 24.01: 100%|██████████| 21/21 [00:00<00:00, 96.20it/s]\n"
     ]
    },
    {
     "name": "stdout",
     "output_type": "stream",
     "text": [
      "---  Accuracy Validation set: 51.69 % \n",
      "\n",
      "Waiting += 1\n",
      "\n",
      "Starting epoch 127 / 300\n"
     ]
    },
    {
     "name": "stderr",
     "output_type": "stream",
     "text": [
      "avg train loss: 0.62: 100%|██████████| 72/72 [00:01<00:00, 47.45it/s]\n"
     ]
    },
    {
     "name": "stdout",
     "output_type": "stream",
     "text": [
      "---  Accuracy Training set : 65.71 % \n",
      "\n"
     ]
    },
    {
     "name": "stderr",
     "output_type": "stream",
     "text": [
      "avg val loss: 1.07: 100%|██████████| 21/21 [00:00<00:00, 69.67it/s]\n"
     ]
    },
    {
     "name": "stdout",
     "output_type": "stream",
     "text": [
      "---  Accuracy Validation set: 48.31 % \n",
      "\n",
      "Waiting += 1\n",
      "\n",
      "Starting epoch 128 / 300\n"
     ]
    },
    {
     "name": "stderr",
     "output_type": "stream",
     "text": [
      "avg train loss: 0.62: 100%|██████████| 72/72 [00:01<00:00, 39.21it/s]\n"
     ]
    },
    {
     "name": "stdout",
     "output_type": "stream",
     "text": [
      "---  Accuracy Training set : 65.01 % \n",
      "\n"
     ]
    },
    {
     "name": "stderr",
     "output_type": "stream",
     "text": [
      "avg val loss: 0.70: 100%|██████████| 21/21 [00:00<00:00, 89.66it/s]\n"
     ]
    },
    {
     "name": "stdout",
     "output_type": "stream",
     "text": [
      "---  Accuracy Validation set: 48.31 % \n",
      "\n",
      "Waiting += 1\n",
      "\n",
      "Starting epoch 129 / 300\n"
     ]
    },
    {
     "name": "stderr",
     "output_type": "stream",
     "text": [
      "avg train loss: 0.63: 100%|██████████| 72/72 [00:01<00:00, 51.78it/s]\n"
     ]
    },
    {
     "name": "stdout",
     "output_type": "stream",
     "text": [
      "---  Accuracy Training set : 65.67 % \n",
      "\n"
     ]
    },
    {
     "name": "stderr",
     "output_type": "stream",
     "text": [
      "avg val loss: 0.80: 100%|██████████| 21/21 [00:00<00:00, 78.22it/s]\n"
     ]
    },
    {
     "name": "stdout",
     "output_type": "stream",
     "text": [
      "---  Accuracy Validation set: 49.23 % \n",
      "\n",
      "Waiting += 1\n",
      "\n",
      "Starting epoch 130 / 300\n"
     ]
    },
    {
     "name": "stderr",
     "output_type": "stream",
     "text": [
      "avg train loss: 0.62: 100%|██████████| 72/72 [00:01<00:00, 47.29it/s]\n"
     ]
    },
    {
     "name": "stdout",
     "output_type": "stream",
     "text": [
      "---  Accuracy Training set : 64.83 % \n",
      "\n"
     ]
    },
    {
     "name": "stderr",
     "output_type": "stream",
     "text": [
      "avg val loss: 26.53: 100%|██████████| 21/21 [00:00<00:00, 53.24it/s]\n"
     ]
    },
    {
     "name": "stdout",
     "output_type": "stream",
     "text": [
      "---  Accuracy Validation set: 51.69 % \n",
      "\n",
      "Waiting += 1\n",
      "\n",
      "Starting epoch 131 / 300\n"
     ]
    },
    {
     "name": "stderr",
     "output_type": "stream",
     "text": [
      "avg train loss: 0.62: 100%|██████████| 72/72 [00:01<00:00, 39.29it/s]\n"
     ]
    },
    {
     "name": "stdout",
     "output_type": "stream",
     "text": [
      "---  Accuracy Training set : 65.38 % \n",
      "\n"
     ]
    },
    {
     "name": "stderr",
     "output_type": "stream",
     "text": [
      "avg val loss: 0.87: 100%|██████████| 21/21 [00:00<00:00, 70.46it/s]\n"
     ]
    },
    {
     "name": "stdout",
     "output_type": "stream",
     "text": [
      "---  Accuracy Validation set: 48.77 % \n",
      "\n",
      "Waiting += 1\n",
      "\n",
      "Starting epoch 132 / 300\n"
     ]
    },
    {
     "name": "stderr",
     "output_type": "stream",
     "text": [
      "avg train loss: 0.62: 100%|██████████| 72/72 [00:01<00:00, 45.05it/s]\n"
     ]
    },
    {
     "name": "stdout",
     "output_type": "stream",
     "text": [
      "---  Accuracy Training set : 64.92 % \n",
      "\n"
     ]
    },
    {
     "name": "stderr",
     "output_type": "stream",
     "text": [
      "avg val loss: 9.82: 100%|██████████| 21/21 [00:00<00:00, 92.15it/s]\n"
     ]
    },
    {
     "name": "stdout",
     "output_type": "stream",
     "text": [
      "---  Accuracy Validation set: 51.76 % \n",
      "\n",
      "Waiting += 1\n",
      "\n",
      "Starting epoch 133 / 300\n"
     ]
    },
    {
     "name": "stderr",
     "output_type": "stream",
     "text": [
      "avg train loss: 0.63: 100%|██████████| 72/72 [00:01<00:00, 54.98it/s]\n"
     ]
    },
    {
     "name": "stdout",
     "output_type": "stream",
     "text": [
      "---  Accuracy Training set : 64.83 % \n",
      "\n"
     ]
    },
    {
     "name": "stderr",
     "output_type": "stream",
     "text": [
      "avg val loss: 38.85: 100%|██████████| 21/21 [00:00<00:00, 86.55it/s]\n"
     ]
    },
    {
     "name": "stdout",
     "output_type": "stream",
     "text": [
      "---  Accuracy Validation set: 51.69 % \n",
      "\n",
      "Waiting += 1\n",
      "\n",
      "Starting epoch 134 / 300\n"
     ]
    },
    {
     "name": "stderr",
     "output_type": "stream",
     "text": [
      "avg train loss: 0.62: 100%|██████████| 72/72 [00:01<00:00, 51.61it/s]\n"
     ]
    },
    {
     "name": "stdout",
     "output_type": "stream",
     "text": [
      "---  Accuracy Training set : 65.56 % \n",
      "\n"
     ]
    },
    {
     "name": "stderr",
     "output_type": "stream",
     "text": [
      "avg val loss: 27.57: 100%|██████████| 21/21 [00:00<00:00, 108.24it/s]\n"
     ]
    },
    {
     "name": "stdout",
     "output_type": "stream",
     "text": [
      "---  Accuracy Validation set: 51.69 % \n",
      "\n",
      "Waiting += 1\n",
      "\n",
      "Starting epoch 135 / 300\n"
     ]
    },
    {
     "name": "stderr",
     "output_type": "stream",
     "text": [
      "avg train loss: 0.61: 100%|██████████| 72/72 [00:01<00:00, 45.24it/s]\n"
     ]
    },
    {
     "name": "stdout",
     "output_type": "stream",
     "text": [
      "---  Accuracy Training set : 65.97 % \n",
      "\n"
     ]
    },
    {
     "name": "stderr",
     "output_type": "stream",
     "text": [
      "avg val loss: 57.19: 100%|██████████| 21/21 [00:00<00:00, 72.78it/s]\n"
     ]
    },
    {
     "name": "stdout",
     "output_type": "stream",
     "text": [
      "---  Accuracy Validation set: 51.69 % \n",
      "\n",
      "Waiting += 1\n",
      "\n",
      "Starting epoch 136 / 300\n"
     ]
    },
    {
     "name": "stderr",
     "output_type": "stream",
     "text": [
      "avg train loss: 0.63: 100%|██████████| 72/72 [00:01<00:00, 51.80it/s]\n"
     ]
    },
    {
     "name": "stdout",
     "output_type": "stream",
     "text": [
      "---  Accuracy Training set : 64.57 % \n",
      "\n"
     ]
    },
    {
     "name": "stderr",
     "output_type": "stream",
     "text": [
      "avg val loss: 10.29: 100%|██████████| 21/21 [00:00<00:00, 96.73it/s]\n"
     ]
    },
    {
     "name": "stdout",
     "output_type": "stream",
     "text": [
      "---  Accuracy Validation set: 51.53 % \n",
      "\n",
      "Waiting += 1\n",
      "\n",
      "Starting epoch 137 / 300\n"
     ]
    },
    {
     "name": "stderr",
     "output_type": "stream",
     "text": [
      "avg train loss: 0.62: 100%|██████████| 72/72 [00:01<00:00, 54.72it/s]\n"
     ]
    },
    {
     "name": "stdout",
     "output_type": "stream",
     "text": [
      "---  Accuracy Training set : 65.47 % \n",
      "\n"
     ]
    },
    {
     "name": "stderr",
     "output_type": "stream",
     "text": [
      "avg val loss: 0.70: 100%|██████████| 21/21 [00:00<00:00, 110.52it/s]\n"
     ]
    },
    {
     "name": "stdout",
     "output_type": "stream",
     "text": [
      "---  Accuracy Validation set: 48.47 % \n",
      "\n",
      "Waiting += 1\n",
      "\n",
      "Starting epoch 138 / 300\n"
     ]
    },
    {
     "name": "stderr",
     "output_type": "stream",
     "text": [
      "avg train loss: 0.62: 100%|██████████| 72/72 [00:01<00:00, 51.51it/s]\n"
     ]
    },
    {
     "name": "stdout",
     "output_type": "stream",
     "text": [
      "---  Accuracy Training set : 65.14 % \n",
      "\n"
     ]
    },
    {
     "name": "stderr",
     "output_type": "stream",
     "text": [
      "avg val loss: 0.81: 100%|██████████| 21/21 [00:00<00:00, 107.69it/s]\n"
     ]
    },
    {
     "name": "stdout",
     "output_type": "stream",
     "text": [
      "---  Accuracy Validation set: 49.39 % \n",
      "\n",
      "Waiting += 1\n",
      "\n",
      "Starting epoch 139 / 300\n"
     ]
    },
    {
     "name": "stderr",
     "output_type": "stream",
     "text": [
      "avg train loss: 0.62: 100%|██████████| 72/72 [00:01<00:00, 55.10it/s]\n"
     ]
    },
    {
     "name": "stdout",
     "output_type": "stream",
     "text": [
      "---  Accuracy Training set : 64.88 % \n",
      "\n"
     ]
    },
    {
     "name": "stderr",
     "output_type": "stream",
     "text": [
      "avg val loss: 0.70: 100%|██████████| 21/21 [00:00<00:00, 120.27it/s]\n"
     ]
    },
    {
     "name": "stdout",
     "output_type": "stream",
     "text": [
      "---  Accuracy Validation set: 51.07 % \n",
      "\n",
      "Waiting += 1\n",
      "\n",
      "Starting epoch 140 / 300\n"
     ]
    },
    {
     "name": "stderr",
     "output_type": "stream",
     "text": [
      "avg train loss: 0.63: 100%|██████████| 72/72 [00:01<00:00, 51.55it/s]\n"
     ]
    },
    {
     "name": "stdout",
     "output_type": "stream",
     "text": [
      "---  Accuracy Training set : 64.50 % \n",
      "\n"
     ]
    },
    {
     "name": "stderr",
     "output_type": "stream",
     "text": [
      "avg val loss: 0.84: 100%|██████████| 21/21 [00:00<00:00, 107.94it/s]\n"
     ]
    },
    {
     "name": "stdout",
     "output_type": "stream",
     "text": [
      "---  Accuracy Validation set: 47.01 % \n",
      "\n",
      "Waiting += 1\n",
      "\n",
      "Starting epoch 141 / 300\n"
     ]
    },
    {
     "name": "stderr",
     "output_type": "stream",
     "text": [
      "avg train loss: 0.62: 100%|██████████| 72/72 [00:01<00:00, 49.01it/s]\n"
     ]
    },
    {
     "name": "stdout",
     "output_type": "stream",
     "text": [
      "---  Accuracy Training set : 64.48 % \n",
      "\n"
     ]
    },
    {
     "name": "stderr",
     "output_type": "stream",
     "text": [
      "avg val loss: 8.54: 100%|██████████| 21/21 [00:00<00:00, 93.80it/s]\n"
     ]
    },
    {
     "name": "stdout",
     "output_type": "stream",
     "text": [
      "---  Accuracy Validation set: 51.92 % \n",
      "\n",
      "Waiting += 1\n",
      "\n",
      "Starting epoch 142 / 300\n"
     ]
    },
    {
     "name": "stderr",
     "output_type": "stream",
     "text": [
      "avg train loss: 0.62: 100%|██████████| 72/72 [00:01<00:00, 46.48it/s]\n"
     ]
    },
    {
     "name": "stdout",
     "output_type": "stream",
     "text": [
      "---  Accuracy Training set : 64.99 % \n",
      "\n"
     ]
    },
    {
     "name": "stderr",
     "output_type": "stream",
     "text": [
      "avg val loss: 1.91: 100%|██████████| 21/21 [00:00<00:00, 87.60it/s] \n"
     ]
    },
    {
     "name": "stdout",
     "output_type": "stream",
     "text": [
      "---  Accuracy Validation set: 52.22 % \n",
      "\n",
      "Waiting += 1\n",
      "\n",
      "Starting epoch 143 / 300\n"
     ]
    },
    {
     "name": "stderr",
     "output_type": "stream",
     "text": [
      "avg train loss: 0.62: 100%|██████████| 72/72 [00:01<00:00, 39.91it/s]\n"
     ]
    },
    {
     "name": "stdout",
     "output_type": "stream",
     "text": [
      "---  Accuracy Training set : 65.05 % \n",
      "\n"
     ]
    },
    {
     "name": "stderr",
     "output_type": "stream",
     "text": [
      "avg val loss: 4.96: 100%|██████████| 21/21 [00:00<00:00, 92.28it/s]\n"
     ]
    },
    {
     "name": "stdout",
     "output_type": "stream",
     "text": [
      "---  Accuracy Validation set: 51.69 % \n",
      "\n",
      "Waiting += 1\n",
      "\n",
      "Starting epoch 144 / 300\n"
     ]
    },
    {
     "name": "stderr",
     "output_type": "stream",
     "text": [
      "avg train loss: 0.62: 100%|██████████| 72/72 [00:02<00:00, 35.99it/s]\n"
     ]
    },
    {
     "name": "stdout",
     "output_type": "stream",
     "text": [
      "---  Accuracy Training set : 66.35 % \n",
      "\n"
     ]
    },
    {
     "name": "stderr",
     "output_type": "stream",
     "text": [
      "avg val loss: 2.83: 100%|██████████| 21/21 [00:00<00:00, 95.73it/s]\n"
     ]
    },
    {
     "name": "stdout",
     "output_type": "stream",
     "text": [
      "---  Accuracy Validation set: 48.31 % \n",
      "\n",
      "Waiting += 1\n",
      "\n",
      "Starting epoch 145 / 300\n"
     ]
    },
    {
     "name": "stderr",
     "output_type": "stream",
     "text": [
      "avg train loss: 0.62: 100%|██████████| 72/72 [00:01<00:00, 42.02it/s]\n"
     ]
    },
    {
     "name": "stdout",
     "output_type": "stream",
     "text": [
      "---  Accuracy Training set : 65.32 % \n",
      "\n"
     ]
    },
    {
     "name": "stderr",
     "output_type": "stream",
     "text": [
      "avg val loss: 18.64: 100%|██████████| 21/21 [00:00<00:00, 67.70it/s]\n"
     ]
    },
    {
     "name": "stdout",
     "output_type": "stream",
     "text": [
      "---  Accuracy Validation set: 51.69 % \n",
      "\n",
      "Waiting += 1\n",
      "\n",
      "Starting epoch 146 / 300\n"
     ]
    },
    {
     "name": "stderr",
     "output_type": "stream",
     "text": [
      "avg train loss: 0.62: 100%|██████████| 72/72 [00:02<00:00, 34.04it/s]\n"
     ]
    },
    {
     "name": "stdout",
     "output_type": "stream",
     "text": [
      "---  Accuracy Training set : 64.83 % \n",
      "\n"
     ]
    },
    {
     "name": "stderr",
     "output_type": "stream",
     "text": [
      "avg val loss: 1.11: 100%|██████████| 21/21 [00:00<00:00, 105.78it/s]\n"
     ]
    },
    {
     "name": "stdout",
     "output_type": "stream",
     "text": [
      "---  Accuracy Validation set: 48.54 % \n",
      "\n",
      "Waiting += 1\n",
      "\n",
      "Starting epoch 147 / 300\n"
     ]
    },
    {
     "name": "stderr",
     "output_type": "stream",
     "text": [
      "avg train loss: 0.61: 100%|██████████| 72/72 [00:01<00:00, 51.39it/s]\n"
     ]
    },
    {
     "name": "stdout",
     "output_type": "stream",
     "text": [
      "---  Accuracy Training set : 66.02 % \n",
      "\n"
     ]
    },
    {
     "name": "stderr",
     "output_type": "stream",
     "text": [
      "avg val loss: 2.43: 100%|██████████| 21/21 [00:00<00:00, 93.78it/s]\n"
     ]
    },
    {
     "name": "stdout",
     "output_type": "stream",
     "text": [
      "---  Accuracy Validation set: 50.77 % \n",
      "\n",
      "Waiting += 1\n",
      "\n",
      "Starting epoch 148 / 300\n"
     ]
    },
    {
     "name": "stderr",
     "output_type": "stream",
     "text": [
      "avg train loss: 0.61: 100%|██████████| 72/72 [00:02<00:00, 26.18it/s]\n"
     ]
    },
    {
     "name": "stdout",
     "output_type": "stream",
     "text": [
      "---  Accuracy Training set : 65.71 % \n",
      "\n"
     ]
    },
    {
     "name": "stderr",
     "output_type": "stream",
     "text": [
      "avg val loss: 0.69: 100%|██████████| 21/21 [00:00<00:00, 39.12it/s]\n"
     ]
    },
    {
     "name": "stdout",
     "output_type": "stream",
     "text": [
      "---  Accuracy Validation set: 48.85 % \n",
      "\n",
      "Waiting += 1\n",
      "\n",
      "Starting epoch 149 / 300\n"
     ]
    },
    {
     "name": "stderr",
     "output_type": "stream",
     "text": [
      "avg train loss: 0.62: 100%|██████████| 72/72 [00:01<00:00, 38.24it/s]\n"
     ]
    },
    {
     "name": "stdout",
     "output_type": "stream",
     "text": [
      "---  Accuracy Training set : 65.58 % \n",
      "\n"
     ]
    },
    {
     "name": "stderr",
     "output_type": "stream",
     "text": [
      "avg val loss: 0.69: 100%|██████████| 21/21 [00:00<00:00, 96.32it/s]\n"
     ]
    },
    {
     "name": "stdout",
     "output_type": "stream",
     "text": [
      "---  Accuracy Validation set: 48.31 % \n",
      "\n",
      "Waiting += 1\n",
      "\n",
      "Starting epoch 150 / 300\n"
     ]
    },
    {
     "name": "stderr",
     "output_type": "stream",
     "text": [
      "avg train loss: 0.62: 100%|██████████| 72/72 [00:01<00:00, 45.51it/s]\n"
     ]
    },
    {
     "name": "stdout",
     "output_type": "stream",
     "text": [
      "---  Accuracy Training set : 66.13 % \n",
      "\n"
     ]
    },
    {
     "name": "stderr",
     "output_type": "stream",
     "text": [
      "avg val loss: 3.24: 100%|██████████| 21/21 [00:00<00:00, 92.05it/s]\n"
     ]
    },
    {
     "name": "stdout",
     "output_type": "stream",
     "text": [
      "---  Accuracy Validation set: 50.69 % \n",
      "\n",
      "Waiting += 1\n",
      "\n",
      "Starting epoch 151 / 300\n"
     ]
    },
    {
     "name": "stderr",
     "output_type": "stream",
     "text": [
      "avg train loss: 0.62: 100%|██████████| 72/72 [00:01<00:00, 48.68it/s]\n"
     ]
    },
    {
     "name": "stdout",
     "output_type": "stream",
     "text": [
      "---  Accuracy Training set : 65.75 % \n",
      "\n"
     ]
    },
    {
     "name": "stderr",
     "output_type": "stream",
     "text": [
      "avg val loss: 1.41: 100%|██████████| 21/21 [00:00<00:00, 111.08it/s]\n"
     ]
    },
    {
     "name": "stdout",
     "output_type": "stream",
     "text": [
      "---  Accuracy Validation set: 51.84 % \n",
      "\n",
      "Waiting += 1\n",
      "\n",
      "Starting epoch 152 / 300\n"
     ]
    },
    {
     "name": "stderr",
     "output_type": "stream",
     "text": [
      "avg train loss: 0.61: 100%|██████████| 72/72 [00:01<00:00, 50.94it/s]\n"
     ]
    },
    {
     "name": "stdout",
     "output_type": "stream",
     "text": [
      "---  Accuracy Training set : 66.17 % \n",
      "\n"
     ]
    },
    {
     "name": "stderr",
     "output_type": "stream",
     "text": [
      "avg val loss: 3.28: 100%|██████████| 21/21 [00:00<00:00, 109.74it/s]\n"
     ]
    },
    {
     "name": "stdout",
     "output_type": "stream",
     "text": [
      "---  Accuracy Validation set: 48.54 % \n",
      "\n",
      "Waiting += 1\n",
      "\n",
      "Starting epoch 153 / 300\n"
     ]
    },
    {
     "name": "stderr",
     "output_type": "stream",
     "text": [
      "avg train loss: 0.62: 100%|██████████| 72/72 [00:01<00:00, 51.30it/s]\n"
     ]
    },
    {
     "name": "stdout",
     "output_type": "stream",
     "text": [
      "---  Accuracy Training set : 65.12 % \n",
      "\n"
     ]
    },
    {
     "name": "stderr",
     "output_type": "stream",
     "text": [
      "avg val loss: 14.52: 100%|██████████| 21/21 [00:00<00:00, 92.62it/s]\n"
     ]
    },
    {
     "name": "stdout",
     "output_type": "stream",
     "text": [
      "---  Accuracy Validation set: 51.69 % \n",
      "\n",
      "Waiting += 1\n",
      "\n",
      "Starting epoch 154 / 300\n"
     ]
    },
    {
     "name": "stderr",
     "output_type": "stream",
     "text": [
      "avg train loss: 0.62: 100%|██████████| 72/72 [00:01<00:00, 44.55it/s]\n"
     ]
    },
    {
     "name": "stdout",
     "output_type": "stream",
     "text": [
      "---  Accuracy Training set : 65.03 % \n",
      "\n"
     ]
    },
    {
     "name": "stderr",
     "output_type": "stream",
     "text": [
      "avg val loss: 0.69: 100%|██████████| 21/21 [00:00<00:00, 94.15it/s]\n"
     ]
    },
    {
     "name": "stdout",
     "output_type": "stream",
     "text": [
      "---  Accuracy Validation set: 48.31 % \n",
      "\n",
      "Waiting += 1\n",
      "\n",
      "Starting epoch 155 / 300\n"
     ]
    },
    {
     "name": "stderr",
     "output_type": "stream",
     "text": [
      "avg train loss: 0.62: 100%|██████████| 72/72 [00:01<00:00, 55.29it/s]\n"
     ]
    },
    {
     "name": "stdout",
     "output_type": "stream",
     "text": [
      "---  Accuracy Training set : 65.99 % \n",
      "\n"
     ]
    },
    {
     "name": "stderr",
     "output_type": "stream",
     "text": [
      "avg val loss: 2.38: 100%|██████████| 21/21 [00:00<00:00, 107.61it/s]\n"
     ]
    },
    {
     "name": "stdout",
     "output_type": "stream",
     "text": [
      "---  Accuracy Validation set: 48.24 % \n",
      "\n",
      "Waiting += 1\n",
      "\n",
      "Starting epoch 156 / 300\n"
     ]
    },
    {
     "name": "stderr",
     "output_type": "stream",
     "text": [
      "avg train loss: 0.62: 100%|██████████| 72/72 [00:01<00:00, 56.23it/s]\n"
     ]
    },
    {
     "name": "stdout",
     "output_type": "stream",
     "text": [
      "---  Accuracy Training set : 65.43 % \n",
      "\n"
     ]
    },
    {
     "name": "stderr",
     "output_type": "stream",
     "text": [
      "avg val loss: 1.39: 100%|██████████| 21/21 [00:00<00:00, 119.73it/s]\n"
     ]
    },
    {
     "name": "stdout",
     "output_type": "stream",
     "text": [
      "---  Accuracy Validation set: 52.45 % \n",
      "\n",
      "Waiting += 1\n",
      "\n",
      "Starting epoch 157 / 300\n"
     ]
    },
    {
     "name": "stderr",
     "output_type": "stream",
     "text": [
      "avg train loss: 0.61: 100%|██████████| 72/72 [00:01<00:00, 51.60it/s]\n"
     ]
    },
    {
     "name": "stdout",
     "output_type": "stream",
     "text": [
      "---  Accuracy Training set : 66.30 % \n",
      "\n"
     ]
    },
    {
     "name": "stderr",
     "output_type": "stream",
     "text": [
      "avg val loss: 1.15: 100%|██████████| 21/21 [00:00<00:00, 112.86it/s]\n"
     ]
    },
    {
     "name": "stdout",
     "output_type": "stream",
     "text": [
      "---  Accuracy Validation set: 48.31 % \n",
      "\n",
      "Waiting += 1\n",
      "\n",
      "Starting epoch 158 / 300\n"
     ]
    },
    {
     "name": "stderr",
     "output_type": "stream",
     "text": [
      "avg train loss: 0.61: 100%|██████████| 72/72 [00:01<00:00, 48.47it/s]\n"
     ]
    },
    {
     "name": "stdout",
     "output_type": "stream",
     "text": [
      "---  Accuracy Training set : 65.40 % \n",
      "\n"
     ]
    },
    {
     "name": "stderr",
     "output_type": "stream",
     "text": [
      "avg val loss: 2.74: 100%|██████████| 21/21 [00:00<00:00, 94.33it/s]\n"
     ]
    },
    {
     "name": "stdout",
     "output_type": "stream",
     "text": [
      "---  Accuracy Validation set: 52.91 % \n",
      "\n",
      "Waiting += 1\n",
      "\n",
      "Starting epoch 159 / 300\n"
     ]
    },
    {
     "name": "stderr",
     "output_type": "stream",
     "text": [
      "avg train loss: 0.62: 100%|██████████| 72/72 [00:01<00:00, 54.86it/s]\n"
     ]
    },
    {
     "name": "stdout",
     "output_type": "stream",
     "text": [
      "---  Accuracy Training set : 65.34 % \n",
      "\n"
     ]
    },
    {
     "name": "stderr",
     "output_type": "stream",
     "text": [
      "avg val loss: 6.49: 100%|██████████| 21/21 [00:00<00:00, 104.70it/s]\n"
     ]
    },
    {
     "name": "stdout",
     "output_type": "stream",
     "text": [
      "---  Accuracy Validation set: 51.76 % \n",
      "\n",
      "Waiting += 1\n",
      "\n",
      "Starting epoch 160 / 300\n"
     ]
    },
    {
     "name": "stderr",
     "output_type": "stream",
     "text": [
      "avg train loss: 0.62: 100%|██████████| 72/72 [00:01<00:00, 51.84it/s]\n"
     ]
    },
    {
     "name": "stdout",
     "output_type": "stream",
     "text": [
      "---  Accuracy Training set : 64.86 % \n",
      "\n"
     ]
    },
    {
     "name": "stderr",
     "output_type": "stream",
     "text": [
      "avg val loss: 16.88: 100%|██████████| 21/21 [00:00<00:00, 97.76it/s]\n"
     ]
    },
    {
     "name": "stdout",
     "output_type": "stream",
     "text": [
      "---  Accuracy Validation set: 51.30 % \n",
      "\n",
      "Waiting += 1\n",
      "\n",
      "Starting epoch 161 / 300\n"
     ]
    },
    {
     "name": "stderr",
     "output_type": "stream",
     "text": [
      "avg train loss: 0.61: 100%|██████████| 72/72 [00:01<00:00, 56.21it/s]\n"
     ]
    },
    {
     "name": "stdout",
     "output_type": "stream",
     "text": [
      "---  Accuracy Training set : 65.84 % \n",
      "\n"
     ]
    },
    {
     "name": "stderr",
     "output_type": "stream",
     "text": [
      "avg val loss: 0.72: 100%|██████████| 21/21 [00:00<00:00, 116.46it/s]\n"
     ]
    },
    {
     "name": "stdout",
     "output_type": "stream",
     "text": [
      "---  Accuracy Validation set: 48.54 % \n",
      "\n",
      "Waiting += 1\n",
      "\n",
      "Starting epoch 162 / 300\n"
     ]
    },
    {
     "name": "stderr",
     "output_type": "stream",
     "text": [
      "avg train loss: 0.61: 100%|██████████| 72/72 [00:01<00:00, 54.96it/s]\n"
     ]
    },
    {
     "name": "stdout",
     "output_type": "stream",
     "text": [
      "---  Accuracy Training set : 65.73 % \n",
      "\n"
     ]
    },
    {
     "name": "stderr",
     "output_type": "stream",
     "text": [
      "avg val loss: 0.69: 100%|██████████| 21/21 [00:00<00:00, 103.68it/s]\n"
     ]
    },
    {
     "name": "stdout",
     "output_type": "stream",
     "text": [
      "---  Accuracy Validation set: 48.31 % \n",
      "\n",
      "Waiting += 1\n",
      "\n",
      "Starting epoch 163 / 300\n"
     ]
    },
    {
     "name": "stderr",
     "output_type": "stream",
     "text": [
      "avg train loss: 0.61: 100%|██████████| 72/72 [00:01<00:00, 52.63it/s]\n"
     ]
    },
    {
     "name": "stdout",
     "output_type": "stream",
     "text": [
      "---  Accuracy Training set : 65.84 % \n",
      "\n"
     ]
    },
    {
     "name": "stderr",
     "output_type": "stream",
     "text": [
      "avg val loss: 0.69: 100%|██████████| 21/21 [00:00<00:00, 94.01it/s]\n"
     ]
    },
    {
     "name": "stdout",
     "output_type": "stream",
     "text": [
      "---  Accuracy Validation set: 48.31 % \n",
      "\n",
      "Waiting += 1\n",
      "\n",
      "Starting epoch 164 / 300\n"
     ]
    },
    {
     "name": "stderr",
     "output_type": "stream",
     "text": [
      "avg train loss: 0.61: 100%|██████████| 72/72 [00:01<00:00, 55.89it/s]\n"
     ]
    },
    {
     "name": "stdout",
     "output_type": "stream",
     "text": [
      "---  Accuracy Training set : 65.91 % \n",
      "\n"
     ]
    },
    {
     "name": "stderr",
     "output_type": "stream",
     "text": [
      "avg val loss: 14.09: 100%|██████████| 21/21 [00:00<00:00, 104.53it/s]\n"
     ]
    },
    {
     "name": "stdout",
     "output_type": "stream",
     "text": [
      "---  Accuracy Validation set: 51.69 % \n",
      "\n",
      "Waiting += 1\n",
      "\n",
      "Starting epoch 165 / 300\n"
     ]
    },
    {
     "name": "stderr",
     "output_type": "stream",
     "text": [
      "avg train loss: 0.61: 100%|██████████| 72/72 [00:01<00:00, 56.63it/s]\n"
     ]
    },
    {
     "name": "stdout",
     "output_type": "stream",
     "text": [
      "---  Accuracy Training set : 65.62 % \n",
      "\n"
     ]
    },
    {
     "name": "stderr",
     "output_type": "stream",
     "text": [
      "avg val loss: 0.71: 100%|██████████| 21/21 [00:00<00:00, 105.81it/s]\n"
     ]
    },
    {
     "name": "stdout",
     "output_type": "stream",
     "text": [
      "---  Accuracy Validation set: 47.01 % \n",
      "\n",
      "Waiting += 1\n",
      "\n",
      "Starting epoch 166 / 300\n"
     ]
    },
    {
     "name": "stderr",
     "output_type": "stream",
     "text": [
      "avg train loss: 0.61: 100%|██████████| 72/72 [00:01<00:00, 54.91it/s]\n"
     ]
    },
    {
     "name": "stdout",
     "output_type": "stream",
     "text": [
      "---  Accuracy Training set : 66.48 % \n",
      "\n"
     ]
    },
    {
     "name": "stderr",
     "output_type": "stream",
     "text": [
      "avg val loss: 0.73: 100%|██████████| 21/21 [00:00<00:00, 87.60it/s]\n"
     ]
    },
    {
     "name": "stdout",
     "output_type": "stream",
     "text": [
      "---  Accuracy Validation set: 48.39 % \n",
      "\n",
      "Waiting += 1\n",
      "\n",
      "Starting epoch 167 / 300\n"
     ]
    },
    {
     "name": "stderr",
     "output_type": "stream",
     "text": [
      "avg train loss: 0.62: 100%|██████████| 72/72 [00:01<00:00, 46.65it/s]\n"
     ]
    },
    {
     "name": "stdout",
     "output_type": "stream",
     "text": [
      "---  Accuracy Training set : 65.18 % \n",
      "\n"
     ]
    },
    {
     "name": "stderr",
     "output_type": "stream",
     "text": [
      "avg val loss: 0.76: 100%|██████████| 21/21 [00:00<00:00, 92.93it/s]\n"
     ]
    },
    {
     "name": "stdout",
     "output_type": "stream",
     "text": [
      "---  Accuracy Validation set: 49.46 % \n",
      "\n",
      "Waiting += 1\n",
      "\n",
      "Starting epoch 168 / 300\n"
     ]
    },
    {
     "name": "stderr",
     "output_type": "stream",
     "text": [
      "avg train loss: 0.61: 100%|██████████| 72/72 [00:01<00:00, 44.98it/s]\n"
     ]
    },
    {
     "name": "stdout",
     "output_type": "stream",
     "text": [
      "---  Accuracy Training set : 65.34 % \n",
      "\n"
     ]
    },
    {
     "name": "stderr",
     "output_type": "stream",
     "text": [
      "avg val loss: 0.93: 100%|██████████| 21/21 [00:00<00:00, 87.07it/s]\n"
     ]
    },
    {
     "name": "stdout",
     "output_type": "stream",
     "text": [
      "---  Accuracy Validation set: 48.70 % \n",
      "\n",
      "Waiting += 1\n",
      "\n",
      "Starting epoch 169 / 300\n"
     ]
    },
    {
     "name": "stderr",
     "output_type": "stream",
     "text": [
      "avg train loss: 0.61: 100%|██████████| 72/72 [00:01<00:00, 37.34it/s]\n"
     ]
    },
    {
     "name": "stdout",
     "output_type": "stream",
     "text": [
      "---  Accuracy Training set : 65.67 % \n",
      "\n"
     ]
    },
    {
     "name": "stderr",
     "output_type": "stream",
     "text": [
      "avg val loss: 3.23: 100%|██████████| 21/21 [00:00<00:00, 78.82it/s]\n"
     ]
    },
    {
     "name": "stdout",
     "output_type": "stream",
     "text": [
      "---  Accuracy Validation set: 50.69 % \n",
      "\n",
      "Waiting += 1\n",
      "\n",
      "Starting epoch 170 / 300\n"
     ]
    },
    {
     "name": "stderr",
     "output_type": "stream",
     "text": [
      "avg train loss: 0.61: 100%|██████████| 72/72 [00:01<00:00, 41.66it/s]\n"
     ]
    },
    {
     "name": "stdout",
     "output_type": "stream",
     "text": [
      "---  Accuracy Training set : 65.36 % \n",
      "\n"
     ]
    },
    {
     "name": "stderr",
     "output_type": "stream",
     "text": [
      "avg val loss: 1.43: 100%|██████████| 21/21 [00:00<00:00, 113.47it/s]\n"
     ]
    },
    {
     "name": "stdout",
     "output_type": "stream",
     "text": [
      "---  Accuracy Validation set: 50.69 % \n",
      "\n",
      "Waiting += 1\n",
      "\n",
      "Starting epoch 171 / 300\n"
     ]
    },
    {
     "name": "stderr",
     "output_type": "stream",
     "text": [
      "avg train loss: 0.62: 100%|██████████| 72/72 [00:01<00:00, 43.28it/s]\n"
     ]
    },
    {
     "name": "stdout",
     "output_type": "stream",
     "text": [
      "---  Accuracy Training set : 64.92 % \n",
      "\n"
     ]
    },
    {
     "name": "stderr",
     "output_type": "stream",
     "text": [
      "avg val loss: 3.93: 100%|██████████| 21/21 [00:00<00:00, 84.91it/s]\n"
     ]
    },
    {
     "name": "stdout",
     "output_type": "stream",
     "text": [
      "---  Accuracy Validation set: 50.84 % \n",
      "\n",
      "Waiting += 1\n",
      "\n",
      "Starting epoch 172 / 300\n"
     ]
    },
    {
     "name": "stderr",
     "output_type": "stream",
     "text": [
      "avg train loss: 0.61: 100%|██████████| 72/72 [00:01<00:00, 44.12it/s]\n"
     ]
    },
    {
     "name": "stdout",
     "output_type": "stream",
     "text": [
      "---  Accuracy Training set : 65.93 % \n",
      "\n"
     ]
    },
    {
     "name": "stderr",
     "output_type": "stream",
     "text": [
      "avg val loss: 0.97: 100%|██████████| 21/21 [00:00<00:00, 74.47it/s]\n"
     ]
    },
    {
     "name": "stdout",
     "output_type": "stream",
     "text": [
      "---  Accuracy Validation set: 48.47 % \n",
      "\n",
      "Waiting += 1\n",
      "\n",
      "Starting epoch 173 / 300\n"
     ]
    },
    {
     "name": "stderr",
     "output_type": "stream",
     "text": [
      "avg train loss: 0.61: 100%|██████████| 72/72 [00:01<00:00, 50.95it/s]\n"
     ]
    },
    {
     "name": "stdout",
     "output_type": "stream",
     "text": [
      "---  Accuracy Training set : 65.80 % \n",
      "\n"
     ]
    },
    {
     "name": "stderr",
     "output_type": "stream",
     "text": [
      "avg val loss: 1.01: 100%|██████████| 21/21 [00:00<00:00, 120.06it/s]\n"
     ]
    },
    {
     "name": "stdout",
     "output_type": "stream",
     "text": [
      "---  Accuracy Validation set: 48.31 % \n",
      "\n",
      "Waiting += 1\n",
      "\n",
      "Starting epoch 174 / 300\n"
     ]
    },
    {
     "name": "stderr",
     "output_type": "stream",
     "text": [
      "avg train loss: 0.61: 100%|██████████| 72/72 [00:01<00:00, 56.08it/s]\n"
     ]
    },
    {
     "name": "stdout",
     "output_type": "stream",
     "text": [
      "---  Accuracy Training set : 65.49 % \n",
      "\n"
     ]
    },
    {
     "name": "stderr",
     "output_type": "stream",
     "text": [
      "avg val loss: 19.24: 100%|██████████| 21/21 [00:00<00:00, 98.64it/s] \n"
     ]
    },
    {
     "name": "stdout",
     "output_type": "stream",
     "text": [
      "---  Accuracy Validation set: 51.69 % \n",
      "\n",
      "Waiting += 1\n",
      "\n",
      "Starting epoch 175 / 300\n"
     ]
    },
    {
     "name": "stderr",
     "output_type": "stream",
     "text": [
      "avg train loss: 0.61: 100%|██████████| 72/72 [00:01<00:00, 46.67it/s]\n"
     ]
    },
    {
     "name": "stdout",
     "output_type": "stream",
     "text": [
      "---  Accuracy Training set : 65.84 % \n",
      "\n"
     ]
    },
    {
     "name": "stderr",
     "output_type": "stream",
     "text": [
      "avg val loss: 0.70: 100%|██████████| 21/21 [00:00<00:00, 83.88it/s]\n"
     ]
    },
    {
     "name": "stdout",
     "output_type": "stream",
     "text": [
      "---  Accuracy Validation set: 48.31 % \n",
      "\n",
      "Waiting += 1\n",
      "\n",
      "Starting epoch 176 / 300\n"
     ]
    },
    {
     "name": "stderr",
     "output_type": "stream",
     "text": [
      "avg train loss: 0.61: 100%|██████████| 72/72 [00:01<00:00, 39.29it/s]\n"
     ]
    },
    {
     "name": "stdout",
     "output_type": "stream",
     "text": [
      "---  Accuracy Training set : 65.95 % \n",
      "\n"
     ]
    },
    {
     "name": "stderr",
     "output_type": "stream",
     "text": [
      "avg val loss: 22.54: 100%|██████████| 21/21 [00:00<00:00, 53.12it/s]\n"
     ]
    },
    {
     "name": "stdout",
     "output_type": "stream",
     "text": [
      "---  Accuracy Validation set: 51.69 % \n",
      "\n",
      "Waiting += 1\n",
      "\n",
      "Starting epoch 177 / 300\n"
     ]
    },
    {
     "name": "stderr",
     "output_type": "stream",
     "text": [
      "avg train loss: 0.61: 100%|██████████| 72/72 [00:01<00:00, 36.30it/s]\n"
     ]
    },
    {
     "name": "stdout",
     "output_type": "stream",
     "text": [
      "---  Accuracy Training set : 66.08 % \n",
      "\n"
     ]
    },
    {
     "name": "stderr",
     "output_type": "stream",
     "text": [
      "avg val loss: 3.47: 100%|██████████| 21/21 [00:00<00:00, 66.57it/s]\n"
     ]
    },
    {
     "name": "stdout",
     "output_type": "stream",
     "text": [
      "---  Accuracy Validation set: 51.07 % \n",
      "\n",
      "Waiting += 1\n",
      "\n",
      "Starting epoch 178 / 300\n"
     ]
    },
    {
     "name": "stderr",
     "output_type": "stream",
     "text": [
      "avg train loss: 0.61: 100%|██████████| 72/72 [00:02<00:00, 35.23it/s]\n"
     ]
    },
    {
     "name": "stdout",
     "output_type": "stream",
     "text": [
      "---  Accuracy Training set : 66.37 % \n",
      "\n"
     ]
    },
    {
     "name": "stderr",
     "output_type": "stream",
     "text": [
      "avg val loss: 1.37: 100%|██████████| 21/21 [00:00<00:00, 74.93it/s]\n"
     ]
    },
    {
     "name": "stdout",
     "output_type": "stream",
     "text": [
      "---  Accuracy Validation set: 47.70 % \n",
      "\n",
      "Waiting += 1\n",
      "\n",
      "Starting epoch 179 / 300\n"
     ]
    },
    {
     "name": "stderr",
     "output_type": "stream",
     "text": [
      "avg train loss: 0.61: 100%|██████████| 72/72 [00:02<00:00, 35.74it/s]\n"
     ]
    },
    {
     "name": "stdout",
     "output_type": "stream",
     "text": [
      "---  Accuracy Training set : 66.19 % \n",
      "\n"
     ]
    },
    {
     "name": "stderr",
     "output_type": "stream",
     "text": [
      "avg val loss: 1.17: 100%|██████████| 21/21 [00:00<00:00, 73.96it/s]\n"
     ]
    },
    {
     "name": "stdout",
     "output_type": "stream",
     "text": [
      "---  Accuracy Validation set: 50.23 % \n",
      "\n",
      "Waiting += 1\n",
      "\n",
      "Starting epoch 180 / 300\n"
     ]
    },
    {
     "name": "stderr",
     "output_type": "stream",
     "text": [
      "avg train loss: 0.61: 100%|██████████| 72/72 [00:01<00:00, 40.80it/s]\n"
     ]
    },
    {
     "name": "stdout",
     "output_type": "stream",
     "text": [
      "---  Accuracy Training set : 65.43 % \n",
      "\n"
     ]
    },
    {
     "name": "stderr",
     "output_type": "stream",
     "text": [
      "avg val loss: 0.72: 100%|██████████| 21/21 [00:00<00:00, 78.99it/s]\n"
     ]
    },
    {
     "name": "stdout",
     "output_type": "stream",
     "text": [
      "---  Accuracy Validation set: 48.31 % \n",
      "\n",
      "Waiting += 1\n",
      "\n",
      "Starting epoch 181 / 300\n"
     ]
    },
    {
     "name": "stderr",
     "output_type": "stream",
     "text": [
      "avg train loss: 0.61: 100%|██████████| 72/72 [00:01<00:00, 42.55it/s]\n"
     ]
    },
    {
     "name": "stdout",
     "output_type": "stream",
     "text": [
      "---  Accuracy Training set : 65.80 % \n",
      "\n"
     ]
    },
    {
     "name": "stderr",
     "output_type": "stream",
     "text": [
      "avg val loss: 9.86: 100%|██████████| 21/21 [00:00<00:00, 78.78it/s]\n"
     ]
    },
    {
     "name": "stdout",
     "output_type": "stream",
     "text": [
      "---  Accuracy Validation set: 48.31 % \n",
      "\n",
      "Waiting += 1\n",
      "\n",
      "Starting epoch 182 / 300\n"
     ]
    },
    {
     "name": "stderr",
     "output_type": "stream",
     "text": [
      "avg train loss: 0.61: 100%|██████████| 72/72 [00:01<00:00, 42.46it/s]\n"
     ]
    },
    {
     "name": "stdout",
     "output_type": "stream",
     "text": [
      "---  Accuracy Training set : 65.80 % \n",
      "\n"
     ]
    },
    {
     "name": "stderr",
     "output_type": "stream",
     "text": [
      "avg val loss: 2.17: 100%|██████████| 21/21 [00:00<00:00, 103.44it/s]\n"
     ]
    },
    {
     "name": "stdout",
     "output_type": "stream",
     "text": [
      "---  Accuracy Validation set: 49.54 % \n",
      "\n",
      "Waiting += 1\n",
      "\n",
      "Starting epoch 183 / 300\n"
     ]
    },
    {
     "name": "stderr",
     "output_type": "stream",
     "text": [
      "avg train loss: 0.62: 100%|██████████| 72/72 [00:01<00:00, 39.89it/s]\n"
     ]
    },
    {
     "name": "stdout",
     "output_type": "stream",
     "text": [
      "---  Accuracy Training set : 65.53 % \n",
      "\n"
     ]
    },
    {
     "name": "stderr",
     "output_type": "stream",
     "text": [
      "avg val loss: 4.27: 100%|██████████| 21/21 [00:00<00:00, 78.14it/s]\n"
     ]
    },
    {
     "name": "stdout",
     "output_type": "stream",
     "text": [
      "---  Accuracy Validation set: 50.31 % \n",
      "\n",
      "Waiting += 1\n",
      "\n",
      "Starting epoch 184 / 300\n"
     ]
    },
    {
     "name": "stderr",
     "output_type": "stream",
     "text": [
      "avg train loss: 0.61: 100%|██████████| 72/72 [00:01<00:00, 42.30it/s]\n"
     ]
    },
    {
     "name": "stdout",
     "output_type": "stream",
     "text": [
      "---  Accuracy Training set : 65.84 % \n",
      "\n"
     ]
    },
    {
     "name": "stderr",
     "output_type": "stream",
     "text": [
      "avg val loss: 5.63: 100%|██████████| 21/21 [00:00<00:00, 78.62it/s]\n"
     ]
    },
    {
     "name": "stdout",
     "output_type": "stream",
     "text": [
      "---  Accuracy Validation set: 51.61 % \n",
      "\n",
      "Waiting += 1\n",
      "\n",
      "Starting epoch 185 / 300\n"
     ]
    },
    {
     "name": "stderr",
     "output_type": "stream",
     "text": [
      "avg train loss: 0.61: 100%|██████████| 72/72 [00:01<00:00, 43.64it/s]\n"
     ]
    },
    {
     "name": "stdout",
     "output_type": "stream",
     "text": [
      "---  Accuracy Training set : 66.17 % \n",
      "\n"
     ]
    },
    {
     "name": "stderr",
     "output_type": "stream",
     "text": [
      "avg val loss: 0.74: 100%|██████████| 21/21 [00:00<00:00, 79.42it/s]\n"
     ]
    },
    {
     "name": "stdout",
     "output_type": "stream",
     "text": [
      "---  Accuracy Validation set: 48.31 % \n",
      "\n",
      "Waiting += 1\n",
      "\n",
      "Starting epoch 186 / 300\n"
     ]
    },
    {
     "name": "stderr",
     "output_type": "stream",
     "text": [
      "avg train loss: 0.61: 100%|██████████| 72/72 [00:01<00:00, 38.21it/s]\n"
     ]
    },
    {
     "name": "stdout",
     "output_type": "stream",
     "text": [
      "---  Accuracy Training set : 66.06 % \n",
      "\n"
     ]
    },
    {
     "name": "stderr",
     "output_type": "stream",
     "text": [
      "avg val loss: 5.14: 100%|██████████| 21/21 [00:00<00:00, 91.54it/s]\n"
     ]
    },
    {
     "name": "stdout",
     "output_type": "stream",
     "text": [
      "---  Accuracy Validation set: 51.76 % \n",
      "\n",
      "Waiting += 1\n",
      "\n",
      "Starting epoch 187 / 300\n"
     ]
    },
    {
     "name": "stderr",
     "output_type": "stream",
     "text": [
      "avg train loss: 0.61: 100%|██████████| 72/72 [00:01<00:00, 43.02it/s]\n"
     ]
    },
    {
     "name": "stdout",
     "output_type": "stream",
     "text": [
      "---  Accuracy Training set : 65.05 % \n",
      "\n"
     ]
    },
    {
     "name": "stderr",
     "output_type": "stream",
     "text": [
      "avg val loss: 8.50: 100%|██████████| 21/21 [00:00<00:00, 100.75it/s]\n"
     ]
    },
    {
     "name": "stdout",
     "output_type": "stream",
     "text": [
      "---  Accuracy Validation set: 51.92 % \n",
      "\n",
      "Waiting += 1\n",
      "\n",
      "Starting epoch 188 / 300\n"
     ]
    },
    {
     "name": "stderr",
     "output_type": "stream",
     "text": [
      "avg train loss: 0.61: 100%|██████████| 72/72 [00:01<00:00, 50.60it/s]\n"
     ]
    },
    {
     "name": "stdout",
     "output_type": "stream",
     "text": [
      "---  Accuracy Training set : 66.02 % \n",
      "\n"
     ]
    },
    {
     "name": "stderr",
     "output_type": "stream",
     "text": [
      "avg val loss: 26.37: 100%|██████████| 21/21 [00:00<00:00, 84.45it/s]\n"
     ]
    },
    {
     "name": "stdout",
     "output_type": "stream",
     "text": [
      "---  Accuracy Validation set: 51.69 % \n",
      "\n",
      "Waiting += 1\n",
      "\n",
      "Starting epoch 189 / 300\n"
     ]
    },
    {
     "name": "stderr",
     "output_type": "stream",
     "text": [
      "avg train loss: 0.60: 100%|██████████| 72/72 [00:01<00:00, 49.10it/s]\n"
     ]
    },
    {
     "name": "stdout",
     "output_type": "stream",
     "text": [
      "---  Accuracy Training set : 66.37 % \n",
      "\n"
     ]
    },
    {
     "name": "stderr",
     "output_type": "stream",
     "text": [
      "avg val loss: 0.69: 100%|██████████| 21/21 [00:00<00:00, 76.21it/s]\n"
     ]
    },
    {
     "name": "stdout",
     "output_type": "stream",
     "text": [
      "---  Accuracy Validation set: 48.31 % \n",
      "\n",
      "Waiting += 1\n",
      "\n",
      "Starting epoch 190 / 300\n"
     ]
    },
    {
     "name": "stderr",
     "output_type": "stream",
     "text": [
      "avg train loss: 0.61: 100%|██████████| 72/72 [00:01<00:00, 47.39it/s]\n"
     ]
    },
    {
     "name": "stdout",
     "output_type": "stream",
     "text": [
      "---  Accuracy Training set : 65.95 % \n",
      "\n"
     ]
    },
    {
     "name": "stderr",
     "output_type": "stream",
     "text": [
      "avg val loss: 2.60: 100%|██████████| 21/21 [00:00<00:00, 111.35it/s]\n"
     ]
    },
    {
     "name": "stdout",
     "output_type": "stream",
     "text": [
      "---  Accuracy Validation set: 52.15 % \n",
      "\n",
      "Waiting += 1\n",
      "\n",
      "Starting epoch 191 / 300\n"
     ]
    },
    {
     "name": "stderr",
     "output_type": "stream",
     "text": [
      "avg train loss: 0.61: 100%|██████████| 72/72 [00:01<00:00, 49.58it/s]\n"
     ]
    },
    {
     "name": "stdout",
     "output_type": "stream",
     "text": [
      "---  Accuracy Training set : 65.32 % \n",
      "\n"
     ]
    },
    {
     "name": "stderr",
     "output_type": "stream",
     "text": [
      "avg val loss: 0.84: 100%|██████████| 21/21 [00:00<00:00, 107.51it/s]\n"
     ]
    },
    {
     "name": "stdout",
     "output_type": "stream",
     "text": [
      "---  Accuracy Validation set: 47.55 % \n",
      "\n",
      "Waiting += 1\n",
      "\n",
      "Starting epoch 192 / 300\n"
     ]
    },
    {
     "name": "stderr",
     "output_type": "stream",
     "text": [
      "avg train loss: 0.61: 100%|██████████| 72/72 [00:01<00:00, 43.31it/s]\n"
     ]
    },
    {
     "name": "stdout",
     "output_type": "stream",
     "text": [
      "---  Accuracy Training set : 66.48 % \n",
      "\n"
     ]
    },
    {
     "name": "stderr",
     "output_type": "stream",
     "text": [
      "avg val loss: 0.71: 100%|██████████| 21/21 [00:00<00:00, 71.35it/s]\n"
     ]
    },
    {
     "name": "stdout",
     "output_type": "stream",
     "text": [
      "---  Accuracy Validation set: 48.31 % \n",
      "\n",
      "Waiting += 1\n",
      "\n",
      "Starting epoch 193 / 300\n"
     ]
    },
    {
     "name": "stderr",
     "output_type": "stream",
     "text": [
      "avg train loss: 0.61: 100%|██████████| 72/72 [00:01<00:00, 38.52it/s]\n"
     ]
    },
    {
     "name": "stdout",
     "output_type": "stream",
     "text": [
      "---  Accuracy Training set : 66.39 % \n",
      "\n"
     ]
    },
    {
     "name": "stderr",
     "output_type": "stream",
     "text": [
      "avg val loss: 7.11: 100%|██████████| 21/21 [00:00<00:00, 82.05it/s]\n"
     ]
    },
    {
     "name": "stdout",
     "output_type": "stream",
     "text": [
      "---  Accuracy Validation set: 51.46 % \n",
      "\n",
      "Waiting += 1\n",
      "\n",
      "Starting epoch 194 / 300\n"
     ]
    },
    {
     "name": "stderr",
     "output_type": "stream",
     "text": [
      "avg train loss: 0.61: 100%|██████████| 72/72 [00:01<00:00, 43.60it/s]\n"
     ]
    },
    {
     "name": "stdout",
     "output_type": "stream",
     "text": [
      "---  Accuracy Training set : 66.26 % \n",
      "\n"
     ]
    },
    {
     "name": "stderr",
     "output_type": "stream",
     "text": [
      "avg val loss: 0.76: 100%|██████████| 21/21 [00:00<00:00, 91.55it/s]\n"
     ]
    },
    {
     "name": "stdout",
     "output_type": "stream",
     "text": [
      "---  Accuracy Validation set: 48.24 % \n",
      "\n",
      "Waiting += 1\n",
      "\n",
      "Starting epoch 195 / 300\n"
     ]
    },
    {
     "name": "stderr",
     "output_type": "stream",
     "text": [
      "avg train loss: 0.61: 100%|██████████| 72/72 [00:02<00:00, 35.19it/s]\n"
     ]
    },
    {
     "name": "stdout",
     "output_type": "stream",
     "text": [
      "---  Accuracy Training set : 66.21 % \n",
      "\n"
     ]
    },
    {
     "name": "stderr",
     "output_type": "stream",
     "text": [
      "avg val loss: 1.00: 100%|██████████| 21/21 [00:00<00:00, 85.85it/s]\n"
     ]
    },
    {
     "name": "stdout",
     "output_type": "stream",
     "text": [
      "---  Accuracy Validation set: 48.31 % \n",
      "\n",
      "Waiting += 1\n",
      "\n",
      "Starting epoch 196 / 300\n"
     ]
    },
    {
     "name": "stderr",
     "output_type": "stream",
     "text": [
      "avg train loss: 0.61: 100%|██████████| 72/72 [00:01<00:00, 45.99it/s]\n"
     ]
    },
    {
     "name": "stdout",
     "output_type": "stream",
     "text": [
      "---  Accuracy Training set : 66.70 % \n",
      "\n"
     ]
    },
    {
     "name": "stderr",
     "output_type": "stream",
     "text": [
      "avg val loss: 1.51: 100%|██████████| 21/21 [00:00<00:00, 94.74it/s]\n"
     ]
    },
    {
     "name": "stdout",
     "output_type": "stream",
     "text": [
      "---  Accuracy Validation set: 51.92 % \n",
      "\n",
      "Waiting += 1\n",
      "\n",
      "Starting epoch 197 / 300\n"
     ]
    },
    {
     "name": "stderr",
     "output_type": "stream",
     "text": [
      "avg train loss: 0.61: 100%|██████████| 72/72 [00:01<00:00, 49.81it/s]\n"
     ]
    },
    {
     "name": "stdout",
     "output_type": "stream",
     "text": [
      "---  Accuracy Training set : 65.84 % \n",
      "\n"
     ]
    },
    {
     "name": "stderr",
     "output_type": "stream",
     "text": [
      "avg val loss: 0.69: 100%|██████████| 21/21 [00:00<00:00, 89.01it/s]\n"
     ]
    },
    {
     "name": "stdout",
     "output_type": "stream",
     "text": [
      "---  Accuracy Validation set: 48.47 % \n",
      "\n",
      "Waiting += 1\n",
      "\n",
      "Starting epoch 198 / 300\n"
     ]
    },
    {
     "name": "stderr",
     "output_type": "stream",
     "text": [
      "avg train loss: 0.61: 100%|██████████| 72/72 [00:01<00:00, 46.45it/s]\n"
     ]
    },
    {
     "name": "stdout",
     "output_type": "stream",
     "text": [
      "---  Accuracy Training set : 65.53 % \n",
      "\n"
     ]
    },
    {
     "name": "stderr",
     "output_type": "stream",
     "text": [
      "avg val loss: 16.41: 100%|██████████| 21/21 [00:00<00:00, 102.89it/s]\n"
     ]
    },
    {
     "name": "stdout",
     "output_type": "stream",
     "text": [
      "---  Accuracy Validation set: 51.69 % \n",
      "\n",
      "Waiting += 1\n",
      "\n",
      "Starting epoch 199 / 300\n"
     ]
    },
    {
     "name": "stderr",
     "output_type": "stream",
     "text": [
      "avg train loss: 0.60: 100%|██████████| 72/72 [00:01<00:00, 50.31it/s]\n"
     ]
    },
    {
     "name": "stdout",
     "output_type": "stream",
     "text": [
      "---  Accuracy Training set : 66.54 % \n",
      "\n"
     ]
    },
    {
     "name": "stderr",
     "output_type": "stream",
     "text": [
      "avg val loss: 2.84: 100%|██████████| 21/21 [00:00<00:00, 84.03it/s]\n"
     ]
    },
    {
     "name": "stdout",
     "output_type": "stream",
     "text": [
      "---  Accuracy Validation set: 52.61 % \n",
      "\n",
      "Waiting += 1\n",
      "\n",
      "Starting epoch 200 / 300\n"
     ]
    },
    {
     "name": "stderr",
     "output_type": "stream",
     "text": [
      "avg train loss: 0.61: 100%|██████████| 72/72 [00:01<00:00, 48.43it/s]\n"
     ]
    },
    {
     "name": "stdout",
     "output_type": "stream",
     "text": [
      "---  Accuracy Training set : 67.00 % \n",
      "\n"
     ]
    },
    {
     "name": "stderr",
     "output_type": "stream",
     "text": [
      "avg val loss: 4.40: 100%|██████████| 21/21 [00:00<00:00, 88.80it/s]\n"
     ]
    },
    {
     "name": "stdout",
     "output_type": "stream",
     "text": [
      "---  Accuracy Validation set: 51.46 % \n",
      "\n",
      "Waiting += 1\n",
      "\n",
      "Starting epoch 201 / 300\n"
     ]
    },
    {
     "name": "stderr",
     "output_type": "stream",
     "text": [
      "avg train loss: 0.61: 100%|██████████| 72/72 [00:01<00:00, 49.46it/s]\n"
     ]
    },
    {
     "name": "stdout",
     "output_type": "stream",
     "text": [
      "---  Accuracy Training set : 65.51 % \n",
      "\n"
     ]
    },
    {
     "name": "stderr",
     "output_type": "stream",
     "text": [
      "avg val loss: 1.38: 100%|██████████| 21/21 [00:00<00:00, 83.91it/s]\n"
     ]
    },
    {
     "name": "stdout",
     "output_type": "stream",
     "text": [
      "---  Accuracy Validation set: 49.85 % \n",
      "\n",
      "Waiting += 1\n",
      "\n",
      "Starting epoch 202 / 300\n"
     ]
    },
    {
     "name": "stderr",
     "output_type": "stream",
     "text": [
      "avg train loss: 0.61: 100%|██████████| 72/72 [00:01<00:00, 49.98it/s]\n"
     ]
    },
    {
     "name": "stdout",
     "output_type": "stream",
     "text": [
      "---  Accuracy Training set : 65.99 % \n",
      "\n"
     ]
    },
    {
     "name": "stderr",
     "output_type": "stream",
     "text": [
      "avg val loss: 6.67: 100%|██████████| 21/21 [00:00<00:00, 91.11it/s]\n"
     ]
    },
    {
     "name": "stdout",
     "output_type": "stream",
     "text": [
      "---  Accuracy Validation set: 51.84 % \n",
      "\n",
      "Waiting += 1\n",
      "\n",
      "Starting epoch 203 / 300\n"
     ]
    },
    {
     "name": "stderr",
     "output_type": "stream",
     "text": [
      "avg train loss: 0.61: 100%|██████████| 72/72 [00:01<00:00, 44.96it/s]\n"
     ]
    },
    {
     "name": "stdout",
     "output_type": "stream",
     "text": [
      "---  Accuracy Training set : 65.56 % \n",
      "\n"
     ]
    },
    {
     "name": "stderr",
     "output_type": "stream",
     "text": [
      "avg val loss: 1.81: 100%|██████████| 21/21 [00:00<00:00, 98.85it/s]\n"
     ]
    },
    {
     "name": "stdout",
     "output_type": "stream",
     "text": [
      "---  Accuracy Validation set: 51.69 % \n",
      "\n",
      "Waiting += 1\n",
      "\n",
      "Starting epoch 204 / 300\n"
     ]
    },
    {
     "name": "stderr",
     "output_type": "stream",
     "text": [
      "avg train loss: 0.60: 100%|██████████| 72/72 [00:01<00:00, 43.63it/s]\n"
     ]
    },
    {
     "name": "stdout",
     "output_type": "stream",
     "text": [
      "---  Accuracy Training set : 67.07 % \n",
      "\n"
     ]
    },
    {
     "name": "stderr",
     "output_type": "stream",
     "text": [
      "avg val loss: 19.00: 100%|██████████| 21/21 [00:00<00:00, 94.54it/s]\n"
     ]
    },
    {
     "name": "stdout",
     "output_type": "stream",
     "text": [
      "---  Accuracy Validation set: 51.69 % \n",
      "\n",
      "Waiting += 1\n",
      "\n",
      "Starting epoch 205 / 300\n"
     ]
    },
    {
     "name": "stderr",
     "output_type": "stream",
     "text": [
      "avg train loss: 0.61: 100%|██████████| 72/72 [00:01<00:00, 50.58it/s]\n"
     ]
    },
    {
     "name": "stdout",
     "output_type": "stream",
     "text": [
      "---  Accuracy Training set : 66.43 % \n",
      "\n"
     ]
    },
    {
     "name": "stderr",
     "output_type": "stream",
     "text": [
      "avg val loss: 1.87: 100%|██████████| 21/21 [00:00<00:00, 95.16it/s]\n"
     ]
    },
    {
     "name": "stdout",
     "output_type": "stream",
     "text": [
      "---  Accuracy Validation set: 52.84 % \n",
      "\n",
      "Waiting += 1\n",
      "\n",
      "Starting epoch 206 / 300\n"
     ]
    },
    {
     "name": "stderr",
     "output_type": "stream",
     "text": [
      "avg train loss: 0.61: 100%|██████████| 72/72 [00:01<00:00, 48.44it/s]\n"
     ]
    },
    {
     "name": "stdout",
     "output_type": "stream",
     "text": [
      "---  Accuracy Training set : 66.37 % \n",
      "\n"
     ]
    },
    {
     "name": "stderr",
     "output_type": "stream",
     "text": [
      "avg val loss: 0.71: 100%|██████████| 21/21 [00:00<00:00, 97.52it/s]\n"
     ]
    },
    {
     "name": "stdout",
     "output_type": "stream",
     "text": [
      "---  Accuracy Validation set: 48.62 % \n",
      "\n",
      "Waiting += 1\n",
      "\n",
      "Starting epoch 207 / 300\n"
     ]
    },
    {
     "name": "stderr",
     "output_type": "stream",
     "text": [
      "avg train loss: 0.61: 100%|██████████| 72/72 [00:01<00:00, 50.97it/s]\n"
     ]
    },
    {
     "name": "stdout",
     "output_type": "stream",
     "text": [
      "---  Accuracy Training set : 66.26 % \n",
      "\n"
     ]
    },
    {
     "name": "stderr",
     "output_type": "stream",
     "text": [
      "avg val loss: 0.70: 100%|██████████| 21/21 [00:00<00:00, 90.51it/s]\n"
     ]
    },
    {
     "name": "stdout",
     "output_type": "stream",
     "text": [
      "---  Accuracy Validation set: 48.85 % \n",
      "\n",
      "Waiting += 1\n",
      "\n",
      "Starting epoch 208 / 300\n"
     ]
    },
    {
     "name": "stderr",
     "output_type": "stream",
     "text": [
      "avg train loss: 0.61: 100%|██████████| 72/72 [00:01<00:00, 51.51it/s]\n"
     ]
    },
    {
     "name": "stdout",
     "output_type": "stream",
     "text": [
      "---  Accuracy Training set : 67.35 % \n",
      "\n"
     ]
    },
    {
     "name": "stderr",
     "output_type": "stream",
     "text": [
      "avg val loss: 1.09: 100%|██████████| 21/21 [00:00<00:00, 111.40it/s]\n"
     ]
    },
    {
     "name": "stdout",
     "output_type": "stream",
     "text": [
      "---  Accuracy Validation set: 51.76 % \n",
      "\n",
      "Waiting += 1\n",
      "\n",
      "Starting epoch 209 / 300\n"
     ]
    },
    {
     "name": "stderr",
     "output_type": "stream",
     "text": [
      "avg train loss: 0.61: 100%|██████████| 72/72 [00:01<00:00, 49.13it/s]\n"
     ]
    },
    {
     "name": "stdout",
     "output_type": "stream",
     "text": [
      "---  Accuracy Training set : 66.52 % \n",
      "\n"
     ]
    },
    {
     "name": "stderr",
     "output_type": "stream",
     "text": [
      "avg val loss: 2.89: 100%|██████████| 21/21 [00:00<00:00, 111.01it/s]\n"
     ]
    },
    {
     "name": "stdout",
     "output_type": "stream",
     "text": [
      "---  Accuracy Validation set: 51.69 % \n",
      "\n",
      "Waiting += 1\n",
      "\n",
      "Starting epoch 210 / 300\n"
     ]
    },
    {
     "name": "stderr",
     "output_type": "stream",
     "text": [
      "avg train loss: 0.61: 100%|██████████| 72/72 [00:01<00:00, 50.95it/s]\n"
     ]
    },
    {
     "name": "stdout",
     "output_type": "stream",
     "text": [
      "---  Accuracy Training set : 66.81 % \n",
      "\n"
     ]
    },
    {
     "name": "stderr",
     "output_type": "stream",
     "text": [
      "avg val loss: 2.00: 100%|██████████| 21/21 [00:00<00:00, 96.26it/s]\n"
     ]
    },
    {
     "name": "stdout",
     "output_type": "stream",
     "text": [
      "---  Accuracy Validation set: 49.39 % \n",
      "\n",
      "Waiting += 1\n",
      "\n",
      "Starting epoch 211 / 300\n"
     ]
    },
    {
     "name": "stderr",
     "output_type": "stream",
     "text": [
      "avg train loss: 0.61: 100%|██████████| 72/72 [00:01<00:00, 51.47it/s]\n"
     ]
    },
    {
     "name": "stdout",
     "output_type": "stream",
     "text": [
      "---  Accuracy Training set : 66.70 % \n",
      "\n"
     ]
    },
    {
     "name": "stderr",
     "output_type": "stream",
     "text": [
      "avg val loss: 3.28: 100%|██████████| 21/21 [00:00<00:00, 109.23it/s]\n"
     ]
    },
    {
     "name": "stdout",
     "output_type": "stream",
     "text": [
      "---  Accuracy Validation set: 51.69 % \n",
      "\n",
      "Waiting += 1\n",
      "\n",
      "Starting epoch 212 / 300\n"
     ]
    },
    {
     "name": "stderr",
     "output_type": "stream",
     "text": [
      "avg train loss: 0.61: 100%|██████████| 72/72 [00:01<00:00, 48.20it/s]\n"
     ]
    },
    {
     "name": "stdout",
     "output_type": "stream",
     "text": [
      "---  Accuracy Training set : 66.24 % \n",
      "\n"
     ]
    },
    {
     "name": "stderr",
     "output_type": "stream",
     "text": [
      "avg val loss: 2.80: 100%|██████████| 21/21 [00:00<00:00, 102.10it/s]\n"
     ]
    },
    {
     "name": "stdout",
     "output_type": "stream",
     "text": [
      "---  Accuracy Validation set: 51.30 % \n",
      "\n",
      "Waiting += 1\n",
      "\n",
      "Starting epoch 213 / 300\n"
     ]
    },
    {
     "name": "stderr",
     "output_type": "stream",
     "text": [
      "avg train loss: 0.61: 100%|██████████| 72/72 [00:01<00:00, 44.06it/s]\n"
     ]
    },
    {
     "name": "stdout",
     "output_type": "stream",
     "text": [
      "---  Accuracy Training set : 66.87 % \n",
      "\n"
     ]
    },
    {
     "name": "stderr",
     "output_type": "stream",
     "text": [
      "avg val loss: 0.73: 100%|██████████| 21/21 [00:00<00:00, 85.28it/s]\n"
     ]
    },
    {
     "name": "stdout",
     "output_type": "stream",
     "text": [
      "---  Accuracy Validation set: 48.31 % \n",
      "\n",
      "Waiting += 1\n",
      "\n",
      "Starting epoch 214 / 300\n"
     ]
    },
    {
     "name": "stderr",
     "output_type": "stream",
     "text": [
      "avg train loss: 0.61: 100%|██████████| 72/72 [00:01<00:00, 52.60it/s]\n"
     ]
    },
    {
     "name": "stdout",
     "output_type": "stream",
     "text": [
      "---  Accuracy Training set : 66.28 % \n",
      "\n"
     ]
    },
    {
     "name": "stderr",
     "output_type": "stream",
     "text": [
      "avg val loss: 0.69: 100%|██████████| 21/21 [00:00<00:00, 101.90it/s]\n"
     ]
    },
    {
     "name": "stdout",
     "output_type": "stream",
     "text": [
      "---  Accuracy Validation set: 48.70 % \n",
      "\n",
      "Waiting += 1\n",
      "\n",
      "Starting epoch 215 / 300\n"
     ]
    },
    {
     "name": "stderr",
     "output_type": "stream",
     "text": [
      "avg train loss: 0.60: 100%|██████████| 72/72 [00:01<00:00, 49.59it/s]\n"
     ]
    },
    {
     "name": "stdout",
     "output_type": "stream",
     "text": [
      "---  Accuracy Training set : 66.56 % \n",
      "\n"
     ]
    },
    {
     "name": "stderr",
     "output_type": "stream",
     "text": [
      "avg val loss: 3.22: 100%|██████████| 21/21 [00:00<00:00, 97.67it/s]\n"
     ]
    },
    {
     "name": "stdout",
     "output_type": "stream",
     "text": [
      "---  Accuracy Validation set: 50.38 % \n",
      "\n",
      "Waiting += 1\n",
      "\n",
      "Starting epoch 216 / 300\n"
     ]
    },
    {
     "name": "stderr",
     "output_type": "stream",
     "text": [
      "avg train loss: 0.61: 100%|██████████| 72/72 [00:01<00:00, 48.22it/s]\n"
     ]
    },
    {
     "name": "stdout",
     "output_type": "stream",
     "text": [
      "---  Accuracy Training set : 66.15 % \n",
      "\n"
     ]
    },
    {
     "name": "stderr",
     "output_type": "stream",
     "text": [
      "avg val loss: 0.69: 100%|██████████| 21/21 [00:00<00:00, 83.62it/s]\n"
     ]
    },
    {
     "name": "stdout",
     "output_type": "stream",
     "text": [
      "---  Accuracy Validation set: 48.93 % \n",
      "\n",
      "Waiting += 1\n",
      "\n",
      "Starting epoch 217 / 300\n"
     ]
    },
    {
     "name": "stderr",
     "output_type": "stream",
     "text": [
      "avg train loss: 0.60: 100%|██████████| 72/72 [00:01<00:00, 38.33it/s]\n"
     ]
    },
    {
     "name": "stdout",
     "output_type": "stream",
     "text": [
      "---  Accuracy Training set : 66.76 % \n",
      "\n"
     ]
    },
    {
     "name": "stderr",
     "output_type": "stream",
     "text": [
      "avg val loss: 4.24: 100%|██████████| 21/21 [00:00<00:00, 94.03it/s]\n"
     ]
    },
    {
     "name": "stdout",
     "output_type": "stream",
     "text": [
      "---  Accuracy Validation set: 48.31 % \n",
      "\n",
      "Waiting += 1\n",
      "\n",
      "Starting epoch 218 / 300\n"
     ]
    },
    {
     "name": "stderr",
     "output_type": "stream",
     "text": [
      "avg train loss: 0.60: 100%|██████████| 72/72 [00:01<00:00, 44.69it/s]\n"
     ]
    },
    {
     "name": "stdout",
     "output_type": "stream",
     "text": [
      "---  Accuracy Training set : 66.89 % \n",
      "\n"
     ]
    },
    {
     "name": "stderr",
     "output_type": "stream",
     "text": [
      "avg val loss: 1.21: 100%|██████████| 21/21 [00:00<00:00, 98.56it/s]\n"
     ]
    },
    {
     "name": "stdout",
     "output_type": "stream",
     "text": [
      "---  Accuracy Validation set: 51.61 % \n",
      "\n",
      "Waiting += 1\n",
      "\n",
      "Starting epoch 219 / 300\n"
     ]
    },
    {
     "name": "stderr",
     "output_type": "stream",
     "text": [
      "avg train loss: 0.60: 100%|██████████| 72/72 [00:01<00:00, 47.41it/s]\n"
     ]
    },
    {
     "name": "stdout",
     "output_type": "stream",
     "text": [
      "---  Accuracy Training set : 66.26 % \n",
      "\n"
     ]
    },
    {
     "name": "stderr",
     "output_type": "stream",
     "text": [
      "avg val loss: 0.78: 100%|██████████| 21/21 [00:00<00:00, 92.90it/s]\n"
     ]
    },
    {
     "name": "stdout",
     "output_type": "stream",
     "text": [
      "---  Accuracy Validation set: 49.00 % \n",
      "\n",
      "Waiting += 1\n",
      "\n",
      "Starting epoch 220 / 300\n"
     ]
    },
    {
     "name": "stderr",
     "output_type": "stream",
     "text": [
      "avg train loss: 0.61: 100%|██████████| 72/72 [00:01<00:00, 52.58it/s]\n"
     ]
    },
    {
     "name": "stdout",
     "output_type": "stream",
     "text": [
      "---  Accuracy Training set : 66.10 % \n",
      "\n"
     ]
    },
    {
     "name": "stderr",
     "output_type": "stream",
     "text": [
      "avg val loss: 10.43: 100%|██████████| 21/21 [00:00<00:00, 108.07it/s]\n"
     ]
    },
    {
     "name": "stdout",
     "output_type": "stream",
     "text": [
      "---  Accuracy Validation set: 51.69 % \n",
      "\n",
      "Waiting += 1\n",
      "\n",
      "Starting epoch 221 / 300\n"
     ]
    },
    {
     "name": "stderr",
     "output_type": "stream",
     "text": [
      "avg train loss: 0.61: 100%|██████████| 72/72 [00:01<00:00, 49.42it/s]\n"
     ]
    },
    {
     "name": "stdout",
     "output_type": "stream",
     "text": [
      "---  Accuracy Training set : 66.81 % \n",
      "\n"
     ]
    },
    {
     "name": "stderr",
     "output_type": "stream",
     "text": [
      "avg val loss: 7.48: 100%|██████████| 21/21 [00:00<00:00, 101.58it/s]\n"
     ]
    },
    {
     "name": "stdout",
     "output_type": "stream",
     "text": [
      "---  Accuracy Validation set: 51.53 % \n",
      "\n",
      "Waiting += 1\n",
      "\n",
      "Starting epoch 222 / 300\n"
     ]
    },
    {
     "name": "stderr",
     "output_type": "stream",
     "text": [
      "avg train loss: 0.60: 100%|██████████| 72/72 [00:01<00:00, 51.83it/s]\n"
     ]
    },
    {
     "name": "stdout",
     "output_type": "stream",
     "text": [
      "---  Accuracy Training set : 66.59 % \n",
      "\n"
     ]
    },
    {
     "name": "stderr",
     "output_type": "stream",
     "text": [
      "avg val loss: 30.81: 100%|██████████| 21/21 [00:00<00:00, 92.69it/s]\n"
     ]
    },
    {
     "name": "stdout",
     "output_type": "stream",
     "text": [
      "---  Accuracy Validation set: 51.69 % \n",
      "\n",
      "Waiting += 1\n",
      "\n",
      "Starting epoch 223 / 300\n"
     ]
    },
    {
     "name": "stderr",
     "output_type": "stream",
     "text": [
      "avg train loss: 0.60: 100%|██████████| 72/72 [00:01<00:00, 52.15it/s]\n"
     ]
    },
    {
     "name": "stdout",
     "output_type": "stream",
     "text": [
      "---  Accuracy Training set : 67.51 % \n",
      "\n"
     ]
    },
    {
     "name": "stderr",
     "output_type": "stream",
     "text": [
      "avg val loss: 0.85: 100%|██████████| 21/21 [00:00<00:00, 94.69it/s]\n"
     ]
    },
    {
     "name": "stdout",
     "output_type": "stream",
     "text": [
      "---  Accuracy Validation set: 48.31 % \n",
      "\n",
      "Waiting += 1\n",
      "\n",
      "Starting epoch 224 / 300\n"
     ]
    },
    {
     "name": "stderr",
     "output_type": "stream",
     "text": [
      "avg train loss: 0.61: 100%|██████████| 72/72 [00:01<00:00, 45.63it/s]\n"
     ]
    },
    {
     "name": "stdout",
     "output_type": "stream",
     "text": [
      "---  Accuracy Training set : 66.89 % \n",
      "\n"
     ]
    },
    {
     "name": "stderr",
     "output_type": "stream",
     "text": [
      "avg val loss: 9.24: 100%|██████████| 21/21 [00:00<00:00, 110.98it/s]\n"
     ]
    },
    {
     "name": "stdout",
     "output_type": "stream",
     "text": [
      "---  Accuracy Validation set: 48.31 % \n",
      "\n",
      "Waiting += 1\n",
      "\n",
      "Starting epoch 225 / 300\n"
     ]
    },
    {
     "name": "stderr",
     "output_type": "stream",
     "text": [
      "avg train loss: 0.61: 100%|██████████| 72/72 [00:01<00:00, 42.24it/s]\n"
     ]
    },
    {
     "name": "stdout",
     "output_type": "stream",
     "text": [
      "---  Accuracy Training set : 66.30 % \n",
      "\n"
     ]
    },
    {
     "name": "stderr",
     "output_type": "stream",
     "text": [
      "avg val loss: 1.69: 100%|██████████| 21/21 [00:00<00:00, 76.62it/s]\n"
     ]
    },
    {
     "name": "stdout",
     "output_type": "stream",
     "text": [
      "---  Accuracy Validation set: 51.15 % \n",
      "\n",
      "Waiting += 1\n",
      "\n",
      "Starting epoch 226 / 300\n"
     ]
    },
    {
     "name": "stderr",
     "output_type": "stream",
     "text": [
      "avg train loss: 0.61: 100%|██████████| 72/72 [00:01<00:00, 42.18it/s]\n"
     ]
    },
    {
     "name": "stdout",
     "output_type": "stream",
     "text": [
      "---  Accuracy Training set : 65.62 % \n",
      "\n"
     ]
    },
    {
     "name": "stderr",
     "output_type": "stream",
     "text": [
      "avg val loss: 0.69: 100%|██████████| 21/21 [00:00<00:00, 68.36it/s]\n"
     ]
    },
    {
     "name": "stdout",
     "output_type": "stream",
     "text": [
      "---  Accuracy Validation set: 48.31 % \n",
      "\n",
      "Waiting += 1\n",
      "\n",
      "Starting epoch 227 / 300\n"
     ]
    },
    {
     "name": "stderr",
     "output_type": "stream",
     "text": [
      "avg train loss: 0.61: 100%|██████████| 72/72 [00:01<00:00, 39.65it/s]\n"
     ]
    },
    {
     "name": "stdout",
     "output_type": "stream",
     "text": [
      "---  Accuracy Training set : 66.59 % \n",
      "\n"
     ]
    },
    {
     "name": "stderr",
     "output_type": "stream",
     "text": [
      "avg val loss: 1.51: 100%|██████████| 21/21 [00:00<00:00, 86.86it/s]\n"
     ]
    },
    {
     "name": "stdout",
     "output_type": "stream",
     "text": [
      "---  Accuracy Validation set: 48.31 % \n",
      "\n",
      "Waiting += 1\n",
      "\n",
      "Starting epoch 228 / 300\n"
     ]
    },
    {
     "name": "stderr",
     "output_type": "stream",
     "text": [
      "avg train loss: 0.60: 100%|██████████| 72/72 [00:01<00:00, 47.63it/s]\n"
     ]
    },
    {
     "name": "stdout",
     "output_type": "stream",
     "text": [
      "---  Accuracy Training set : 66.50 % \n",
      "\n"
     ]
    },
    {
     "name": "stderr",
     "output_type": "stream",
     "text": [
      "avg val loss: 1.04: 100%|██████████| 21/21 [00:00<00:00, 93.71it/s]\n"
     ]
    },
    {
     "name": "stdout",
     "output_type": "stream",
     "text": [
      "---  Accuracy Validation set: 48.31 % \n",
      "\n",
      "Waiting += 1\n",
      "\n",
      "Starting epoch 229 / 300\n"
     ]
    },
    {
     "name": "stderr",
     "output_type": "stream",
     "text": [
      "avg train loss: 0.60: 100%|██████████| 72/72 [00:01<00:00, 46.40it/s]\n"
     ]
    },
    {
     "name": "stdout",
     "output_type": "stream",
     "text": [
      "---  Accuracy Training set : 67.00 % \n",
      "\n"
     ]
    },
    {
     "name": "stderr",
     "output_type": "stream",
     "text": [
      "avg val loss: 1.26: 100%|██████████| 21/21 [00:00<00:00, 97.98it/s]\n"
     ]
    },
    {
     "name": "stdout",
     "output_type": "stream",
     "text": [
      "---  Accuracy Validation set: 50.08 % \n",
      "\n",
      "Waiting += 1\n",
      "\n",
      "Starting epoch 230 / 300\n"
     ]
    },
    {
     "name": "stderr",
     "output_type": "stream",
     "text": [
      "avg train loss: 0.60: 100%|██████████| 72/72 [00:01<00:00, 45.10it/s]\n"
     ]
    },
    {
     "name": "stdout",
     "output_type": "stream",
     "text": [
      "---  Accuracy Training set : 66.72 % \n",
      "\n"
     ]
    },
    {
     "name": "stderr",
     "output_type": "stream",
     "text": [
      "avg val loss: 0.69: 100%|██████████| 21/21 [00:00<00:00, 83.73it/s]\n"
     ]
    },
    {
     "name": "stdout",
     "output_type": "stream",
     "text": [
      "---  Accuracy Validation set: 48.31 % \n",
      "\n",
      "Waiting += 1\n",
      "\n",
      "Starting epoch 231 / 300\n"
     ]
    },
    {
     "name": "stderr",
     "output_type": "stream",
     "text": [
      "avg train loss: 0.60: 100%|██████████| 72/72 [00:01<00:00, 47.42it/s]\n"
     ]
    },
    {
     "name": "stdout",
     "output_type": "stream",
     "text": [
      "---  Accuracy Training set : 66.48 % \n",
      "\n"
     ]
    },
    {
     "name": "stderr",
     "output_type": "stream",
     "text": [
      "avg val loss: 2.79: 100%|██████████| 21/21 [00:00<00:00, 91.17it/s]\n"
     ]
    },
    {
     "name": "stdout",
     "output_type": "stream",
     "text": [
      "---  Accuracy Validation set: 52.68 % \n",
      "\n",
      "Waiting += 1\n",
      "\n",
      "Starting epoch 232 / 300\n"
     ]
    },
    {
     "name": "stderr",
     "output_type": "stream",
     "text": [
      "avg train loss: 0.60: 100%|██████████| 72/72 [00:01<00:00, 38.56it/s]\n"
     ]
    },
    {
     "name": "stdout",
     "output_type": "stream",
     "text": [
      "---  Accuracy Training set : 66.85 % \n",
      "\n"
     ]
    },
    {
     "name": "stderr",
     "output_type": "stream",
     "text": [
      "avg val loss: 0.69: 100%|██████████| 21/21 [00:00<00:00, 107.12it/s]\n"
     ]
    },
    {
     "name": "stdout",
     "output_type": "stream",
     "text": [
      "---  Accuracy Validation set: 47.85 % \n",
      "\n",
      "Waiting += 1\n",
      "\n",
      "Starting epoch 233 / 300\n"
     ]
    },
    {
     "name": "stderr",
     "output_type": "stream",
     "text": [
      "avg train loss: 0.61: 100%|██████████| 72/72 [00:01<00:00, 52.35it/s]\n"
     ]
    },
    {
     "name": "stdout",
     "output_type": "stream",
     "text": [
      "---  Accuracy Training set : 66.17 % \n",
      "\n"
     ]
    },
    {
     "name": "stderr",
     "output_type": "stream",
     "text": [
      "avg val loss: 10.04: 100%|██████████| 21/21 [00:00<00:00, 91.97it/s]\n"
     ]
    },
    {
     "name": "stdout",
     "output_type": "stream",
     "text": [
      "---  Accuracy Validation set: 51.69 % \n",
      "\n",
      "Waiting += 1\n",
      "\n",
      "Starting epoch 234 / 300\n"
     ]
    },
    {
     "name": "stderr",
     "output_type": "stream",
     "text": [
      "avg train loss: 0.60: 100%|██████████| 72/72 [00:01<00:00, 44.49it/s]\n"
     ]
    },
    {
     "name": "stdout",
     "output_type": "stream",
     "text": [
      "---  Accuracy Training set : 66.52 % \n",
      "\n"
     ]
    },
    {
     "name": "stderr",
     "output_type": "stream",
     "text": [
      "avg val loss: 3.82: 100%|██████████| 21/21 [00:00<00:00, 79.66it/s]\n"
     ]
    },
    {
     "name": "stdout",
     "output_type": "stream",
     "text": [
      "---  Accuracy Validation set: 51.30 % \n",
      "\n",
      "Waiting += 1\n",
      "\n",
      "Starting epoch 235 / 300\n"
     ]
    },
    {
     "name": "stderr",
     "output_type": "stream",
     "text": [
      "avg train loss: 0.60: 100%|██████████| 72/72 [00:01<00:00, 44.84it/s]\n"
     ]
    },
    {
     "name": "stdout",
     "output_type": "stream",
     "text": [
      "---  Accuracy Training set : 66.81 % \n",
      "\n"
     ]
    },
    {
     "name": "stderr",
     "output_type": "stream",
     "text": [
      "avg val loss: 0.70: 100%|██████████| 21/21 [00:00<00:00, 101.06it/s]\n"
     ]
    },
    {
     "name": "stdout",
     "output_type": "stream",
     "text": [
      "---  Accuracy Validation set: 48.24 % \n",
      "\n",
      "Waiting += 1\n",
      "\n",
      "Starting epoch 236 / 300\n"
     ]
    },
    {
     "name": "stderr",
     "output_type": "stream",
     "text": [
      "avg train loss: 0.60: 100%|██████████| 72/72 [00:01<00:00, 51.20it/s]\n"
     ]
    },
    {
     "name": "stdout",
     "output_type": "stream",
     "text": [
      "---  Accuracy Training set : 66.96 % \n",
      "\n"
     ]
    },
    {
     "name": "stderr",
     "output_type": "stream",
     "text": [
      "avg val loss: 2.02: 100%|██████████| 21/21 [00:00<00:00, 91.39it/s]\n"
     ]
    },
    {
     "name": "stdout",
     "output_type": "stream",
     "text": [
      "---  Accuracy Validation set: 50.23 % \n",
      "\n",
      "Waiting += 1\n",
      "\n",
      "Starting epoch 237 / 300\n"
     ]
    },
    {
     "name": "stderr",
     "output_type": "stream",
     "text": [
      "avg train loss: 0.60: 100%|██████████| 72/72 [00:01<00:00, 37.27it/s]\n"
     ]
    },
    {
     "name": "stdout",
     "output_type": "stream",
     "text": [
      "---  Accuracy Training set : 66.72 % \n",
      "\n"
     ]
    },
    {
     "name": "stderr",
     "output_type": "stream",
     "text": [
      "avg val loss: 17.35: 100%|██████████| 21/21 [00:00<00:00, 92.78it/s]\n"
     ]
    },
    {
     "name": "stdout",
     "output_type": "stream",
     "text": [
      "---  Accuracy Validation set: 51.69 % \n",
      "\n",
      "Waiting += 1\n",
      "\n",
      "Starting epoch 238 / 300\n"
     ]
    },
    {
     "name": "stderr",
     "output_type": "stream",
     "text": [
      "avg train loss: 0.60: 100%|██████████| 72/72 [00:01<00:00, 42.71it/s]\n"
     ]
    },
    {
     "name": "stdout",
     "output_type": "stream",
     "text": [
      "---  Accuracy Training set : 66.74 % \n",
      "\n"
     ]
    },
    {
     "name": "stderr",
     "output_type": "stream",
     "text": [
      "avg val loss: 1.55: 100%|██████████| 21/21 [00:00<00:00, 85.67it/s] \n"
     ]
    },
    {
     "name": "stdout",
     "output_type": "stream",
     "text": [
      "---  Accuracy Validation set: 52.07 % \n",
      "\n",
      "Waiting += 1\n",
      "\n",
      "Starting epoch 239 / 300\n"
     ]
    },
    {
     "name": "stderr",
     "output_type": "stream",
     "text": [
      "avg train loss: 0.60: 100%|██████████| 72/72 [00:01<00:00, 38.26it/s]\n"
     ]
    },
    {
     "name": "stdout",
     "output_type": "stream",
     "text": [
      "---  Accuracy Training set : 67.42 % \n",
      "\n"
     ]
    },
    {
     "name": "stderr",
     "output_type": "stream",
     "text": [
      "avg val loss: 0.69: 100%|██████████| 21/21 [00:00<00:00, 90.44it/s]\n"
     ]
    },
    {
     "name": "stdout",
     "output_type": "stream",
     "text": [
      "---  Accuracy Validation set: 48.39 % \n",
      "\n",
      "Waiting += 1\n",
      "\n",
      "Starting epoch 240 / 300\n"
     ]
    },
    {
     "name": "stderr",
     "output_type": "stream",
     "text": [
      "avg train loss: 0.61: 100%|██████████| 72/72 [00:01<00:00, 42.96it/s]\n"
     ]
    },
    {
     "name": "stdout",
     "output_type": "stream",
     "text": [
      "---  Accuracy Training set : 66.41 % \n",
      "\n"
     ]
    },
    {
     "name": "stderr",
     "output_type": "stream",
     "text": [
      "avg val loss: 0.99: 100%|██████████| 21/21 [00:00<00:00, 95.60it/s] \n"
     ]
    },
    {
     "name": "stdout",
     "output_type": "stream",
     "text": [
      "---  Accuracy Validation set: 48.31 % \n",
      "\n",
      "Waiting += 1\n",
      "\n",
      "Starting epoch 241 / 300\n"
     ]
    },
    {
     "name": "stderr",
     "output_type": "stream",
     "text": [
      "avg train loss: 0.60: 100%|██████████| 72/72 [00:01<00:00, 49.40it/s]\n"
     ]
    },
    {
     "name": "stdout",
     "output_type": "stream",
     "text": [
      "---  Accuracy Training set : 66.50 % \n",
      "\n"
     ]
    },
    {
     "name": "stderr",
     "output_type": "stream",
     "text": [
      "avg val loss: 8.49: 100%|██████████| 21/21 [00:00<00:00, 92.12it/s]\n"
     ]
    },
    {
     "name": "stdout",
     "output_type": "stream",
     "text": [
      "---  Accuracy Validation set: 51.30 % \n",
      "\n",
      "Waiting += 1\n",
      "\n",
      "Starting epoch 242 / 300\n"
     ]
    },
    {
     "name": "stderr",
     "output_type": "stream",
     "text": [
      "avg train loss: 0.60: 100%|██████████| 72/72 [00:01<00:00, 51.61it/s]\n"
     ]
    },
    {
     "name": "stdout",
     "output_type": "stream",
     "text": [
      "---  Accuracy Training set : 67.16 % \n",
      "\n"
     ]
    },
    {
     "name": "stderr",
     "output_type": "stream",
     "text": [
      "avg val loss: 0.69: 100%|██████████| 21/21 [00:00<00:00, 102.49it/s]\n"
     ]
    },
    {
     "name": "stdout",
     "output_type": "stream",
     "text": [
      "---  Accuracy Validation set: 48.31 % \n",
      "\n",
      "Waiting += 1\n",
      "\n",
      "Starting epoch 243 / 300\n"
     ]
    },
    {
     "name": "stderr",
     "output_type": "stream",
     "text": [
      "avg train loss: 0.60: 100%|██████████| 72/72 [00:02<00:00, 35.86it/s]\n"
     ]
    },
    {
     "name": "stdout",
     "output_type": "stream",
     "text": [
      "---  Accuracy Training set : 67.53 % \n",
      "\n"
     ]
    },
    {
     "name": "stderr",
     "output_type": "stream",
     "text": [
      "avg val loss: 20.43: 100%|██████████| 21/21 [00:00<00:00, 71.40it/s]\n"
     ]
    },
    {
     "name": "stdout",
     "output_type": "stream",
     "text": [
      "---  Accuracy Validation set: 51.69 % \n",
      "\n",
      "Waiting += 1\n",
      "\n",
      "Starting epoch 244 / 300\n"
     ]
    },
    {
     "name": "stderr",
     "output_type": "stream",
     "text": [
      "avg train loss: 0.60: 100%|██████████| 72/72 [00:01<00:00, 47.08it/s]\n"
     ]
    },
    {
     "name": "stdout",
     "output_type": "stream",
     "text": [
      "---  Accuracy Training set : 67.24 % \n",
      "\n"
     ]
    },
    {
     "name": "stderr",
     "output_type": "stream",
     "text": [
      "avg val loss: 0.70: 100%|██████████| 21/21 [00:00<00:00, 95.18it/s] \n"
     ]
    },
    {
     "name": "stdout",
     "output_type": "stream",
     "text": [
      "---  Accuracy Validation set: 48.24 % \n",
      "\n",
      "Waiting += 1\n",
      "\n",
      "Starting epoch 245 / 300\n"
     ]
    },
    {
     "name": "stderr",
     "output_type": "stream",
     "text": [
      "avg train loss: 0.59: 100%|██████████| 72/72 [00:01<00:00, 42.73it/s]\n"
     ]
    },
    {
     "name": "stdout",
     "output_type": "stream",
     "text": [
      "---  Accuracy Training set : 67.44 % \n",
      "\n"
     ]
    },
    {
     "name": "stderr",
     "output_type": "stream",
     "text": [
      "avg val loss: 0.93: 100%|██████████| 21/21 [00:00<00:00, 91.50it/s]\n"
     ]
    },
    {
     "name": "stdout",
     "output_type": "stream",
     "text": [
      "---  Accuracy Validation set: 48.47 % \n",
      "\n",
      "Waiting += 1\n",
      "\n",
      "Starting epoch 246 / 300\n"
     ]
    },
    {
     "name": "stderr",
     "output_type": "stream",
     "text": [
      "avg train loss: 0.60: 100%|██████████| 72/72 [00:02<00:00, 35.36it/s]\n"
     ]
    },
    {
     "name": "stdout",
     "output_type": "stream",
     "text": [
      "---  Accuracy Training set : 66.74 % \n",
      "\n"
     ]
    },
    {
     "name": "stderr",
     "output_type": "stream",
     "text": [
      "avg val loss: 0.83: 100%|██████████| 21/21 [00:00<00:00, 80.89it/s]\n"
     ]
    },
    {
     "name": "stdout",
     "output_type": "stream",
     "text": [
      "---  Accuracy Validation set: 51.30 % \n",
      "\n",
      "Waiting += 1\n",
      "\n",
      "Starting epoch 247 / 300\n"
     ]
    },
    {
     "name": "stderr",
     "output_type": "stream",
     "text": [
      "avg train loss: 0.60: 100%|██████████| 72/72 [00:01<00:00, 50.45it/s]\n"
     ]
    },
    {
     "name": "stdout",
     "output_type": "stream",
     "text": [
      "---  Accuracy Training set : 67.35 % \n",
      "\n"
     ]
    },
    {
     "name": "stderr",
     "output_type": "stream",
     "text": [
      "avg val loss: 0.69: 100%|██████████| 21/21 [00:00<00:00, 126.04it/s]\n"
     ]
    },
    {
     "name": "stdout",
     "output_type": "stream",
     "text": [
      "---  Accuracy Validation set: 49.85 % \n",
      "\n",
      "Waiting += 1\n",
      "\n",
      "Starting epoch 248 / 300\n"
     ]
    },
    {
     "name": "stderr",
     "output_type": "stream",
     "text": [
      "avg train loss: 0.60: 100%|██████████| 72/72 [00:01<00:00, 48.34it/s]\n"
     ]
    },
    {
     "name": "stdout",
     "output_type": "stream",
     "text": [
      "---  Accuracy Training set : 66.78 % \n",
      "\n"
     ]
    },
    {
     "name": "stderr",
     "output_type": "stream",
     "text": [
      "avg val loss: 0.69: 100%|██████████| 21/21 [00:00<00:00, 88.41it/s]\n"
     ]
    },
    {
     "name": "stdout",
     "output_type": "stream",
     "text": [
      "---  Accuracy Validation set: 48.54 % \n",
      "\n",
      "Waiting += 1\n",
      "\n",
      "Starting epoch 249 / 300\n"
     ]
    },
    {
     "name": "stderr",
     "output_type": "stream",
     "text": [
      "avg train loss: 0.61: 100%|██████████| 72/72 [00:01<00:00, 42.47it/s]\n"
     ]
    },
    {
     "name": "stdout",
     "output_type": "stream",
     "text": [
      "---  Accuracy Training set : 66.50 % \n",
      "\n"
     ]
    },
    {
     "name": "stderr",
     "output_type": "stream",
     "text": [
      "avg val loss: 0.69: 100%|██████████| 21/21 [00:00<00:00, 85.62it/s]\n"
     ]
    },
    {
     "name": "stdout",
     "output_type": "stream",
     "text": [
      "---  Accuracy Validation set: 48.31 % \n",
      "\n",
      "Waiting += 1\n",
      "\n",
      "Starting epoch 250 / 300\n"
     ]
    },
    {
     "name": "stderr",
     "output_type": "stream",
     "text": [
      "avg train loss: 0.60: 100%|██████████| 72/72 [00:01<00:00, 36.08it/s]\n"
     ]
    },
    {
     "name": "stdout",
     "output_type": "stream",
     "text": [
      "---  Accuracy Training set : 66.61 % \n",
      "\n"
     ]
    },
    {
     "name": "stderr",
     "output_type": "stream",
     "text": [
      "avg val loss: 1.24: 100%|██████████| 21/21 [00:00<00:00, 98.60it/s]\n"
     ]
    },
    {
     "name": "stdout",
     "output_type": "stream",
     "text": [
      "---  Accuracy Validation set: 51.92 % \n",
      "\n",
      "Waiting += 1\n",
      "\n",
      "Starting epoch 251 / 300\n"
     ]
    },
    {
     "name": "stderr",
     "output_type": "stream",
     "text": [
      "avg train loss: 0.60: 100%|██████████| 72/72 [00:01<00:00, 52.12it/s]\n"
     ]
    },
    {
     "name": "stdout",
     "output_type": "stream",
     "text": [
      "---  Accuracy Training set : 67.44 % \n",
      "\n"
     ]
    },
    {
     "name": "stderr",
     "output_type": "stream",
     "text": [
      "avg val loss: 1.06: 100%|██████████| 21/21 [00:00<00:00, 119.71it/s]\n"
     ]
    },
    {
     "name": "stdout",
     "output_type": "stream",
     "text": [
      "---  Accuracy Validation set: 51.07 % \n",
      "\n",
      "Waiting += 1\n",
      "\n",
      "Starting epoch 252 / 300\n"
     ]
    },
    {
     "name": "stderr",
     "output_type": "stream",
     "text": [
      "avg train loss: 0.60: 100%|██████████| 72/72 [00:01<00:00, 56.35it/s]\n"
     ]
    },
    {
     "name": "stdout",
     "output_type": "stream",
     "text": [
      "---  Accuracy Training set : 67.05 % \n",
      "\n"
     ]
    },
    {
     "name": "stderr",
     "output_type": "stream",
     "text": [
      "avg val loss: 1.43: 100%|██████████| 21/21 [00:00<00:00, 114.16it/s]\n"
     ]
    },
    {
     "name": "stdout",
     "output_type": "stream",
     "text": [
      "---  Accuracy Validation set: 50.54 % \n",
      "\n",
      "Waiting += 1\n",
      "\n",
      "Starting epoch 253 / 300\n"
     ]
    },
    {
     "name": "stderr",
     "output_type": "stream",
     "text": [
      "avg train loss: 0.60: 100%|██████████| 72/72 [00:01<00:00, 46.62it/s]\n"
     ]
    },
    {
     "name": "stdout",
     "output_type": "stream",
     "text": [
      "---  Accuracy Training set : 66.37 % \n",
      "\n"
     ]
    },
    {
     "name": "stderr",
     "output_type": "stream",
     "text": [
      "avg val loss: 36.45: 100%|██████████| 21/21 [00:00<00:00, 83.39it/s]\n"
     ]
    },
    {
     "name": "stdout",
     "output_type": "stream",
     "text": [
      "---  Accuracy Validation set: 51.69 % \n",
      "\n",
      "Waiting += 1\n",
      "\n",
      "Starting epoch 254 / 300\n"
     ]
    },
    {
     "name": "stderr",
     "output_type": "stream",
     "text": [
      "avg train loss: 0.59: 100%|██████████| 72/72 [00:01<00:00, 38.98it/s]\n"
     ]
    },
    {
     "name": "stdout",
     "output_type": "stream",
     "text": [
      "---  Accuracy Training set : 67.84 % \n",
      "\n"
     ]
    },
    {
     "name": "stderr",
     "output_type": "stream",
     "text": [
      "avg val loss: 0.72: 100%|██████████| 21/21 [00:00<00:00, 92.95it/s]\n"
     ]
    },
    {
     "name": "stdout",
     "output_type": "stream",
     "text": [
      "---  Accuracy Validation set: 49.54 % \n",
      "\n",
      "Waiting += 1\n",
      "\n",
      "Starting epoch 255 / 300\n"
     ]
    },
    {
     "name": "stderr",
     "output_type": "stream",
     "text": [
      "avg train loss: 0.60: 100%|██████████| 72/72 [00:01<00:00, 37.68it/s]\n"
     ]
    },
    {
     "name": "stdout",
     "output_type": "stream",
     "text": [
      "---  Accuracy Training set : 66.70 % \n",
      "\n"
     ]
    },
    {
     "name": "stderr",
     "output_type": "stream",
     "text": [
      "avg val loss: 0.72: 100%|██████████| 21/21 [00:00<00:00, 95.89it/s]\n"
     ]
    },
    {
     "name": "stdout",
     "output_type": "stream",
     "text": [
      "---  Accuracy Validation set: 48.31 % \n",
      "\n",
      "Waiting += 1\n",
      "\n",
      "Starting epoch 256 / 300\n"
     ]
    },
    {
     "name": "stderr",
     "output_type": "stream",
     "text": [
      "avg train loss: 0.60: 100%|██████████| 72/72 [00:01<00:00, 51.20it/s]\n"
     ]
    },
    {
     "name": "stdout",
     "output_type": "stream",
     "text": [
      "---  Accuracy Training set : 67.44 % \n",
      "\n"
     ]
    },
    {
     "name": "stderr",
     "output_type": "stream",
     "text": [
      "avg val loss: 5.04: 100%|██████████| 21/21 [00:00<00:00, 111.66it/s]\n"
     ]
    },
    {
     "name": "stdout",
     "output_type": "stream",
     "text": [
      "---  Accuracy Validation set: 50.46 % \n",
      "\n",
      "Waiting += 1\n",
      "\n",
      "Starting epoch 257 / 300\n"
     ]
    },
    {
     "name": "stderr",
     "output_type": "stream",
     "text": [
      "avg train loss: 0.61: 100%|██████████| 72/72 [00:01<00:00, 43.78it/s]\n"
     ]
    },
    {
     "name": "stdout",
     "output_type": "stream",
     "text": [
      "---  Accuracy Training set : 66.30 % \n",
      "\n"
     ]
    },
    {
     "name": "stderr",
     "output_type": "stream",
     "text": [
      "avg val loss: 1.26: 100%|██████████| 21/21 [00:00<00:00, 109.14it/s]\n"
     ]
    },
    {
     "name": "stdout",
     "output_type": "stream",
     "text": [
      "---  Accuracy Validation set: 52.45 % \n",
      "\n",
      "Waiting += 1\n",
      "\n",
      "Starting epoch 258 / 300\n"
     ]
    },
    {
     "name": "stderr",
     "output_type": "stream",
     "text": [
      "avg train loss: 0.60: 100%|██████████| 72/72 [00:01<00:00, 48.30it/s]\n"
     ]
    },
    {
     "name": "stdout",
     "output_type": "stream",
     "text": [
      "---  Accuracy Training set : 66.72 % \n",
      "\n"
     ]
    },
    {
     "name": "stderr",
     "output_type": "stream",
     "text": [
      "avg val loss: 1.58: 100%|██████████| 21/21 [00:00<00:00, 79.78it/s]\n"
     ]
    },
    {
     "name": "stdout",
     "output_type": "stream",
     "text": [
      "---  Accuracy Validation set: 49.54 % \n",
      "\n",
      "Waiting += 1\n",
      "\n",
      "Starting epoch 259 / 300\n"
     ]
    },
    {
     "name": "stderr",
     "output_type": "stream",
     "text": [
      "avg train loss: 0.60: 100%|██████████| 72/72 [00:01<00:00, 47.51it/s]\n"
     ]
    },
    {
     "name": "stdout",
     "output_type": "stream",
     "text": [
      "---  Accuracy Training set : 66.28 % \n",
      "\n"
     ]
    },
    {
     "name": "stderr",
     "output_type": "stream",
     "text": [
      "avg val loss: 3.52: 100%|██████████| 21/21 [00:00<00:00, 111.87it/s]\n"
     ]
    },
    {
     "name": "stdout",
     "output_type": "stream",
     "text": [
      "---  Accuracy Validation set: 48.31 % \n",
      "\n",
      "Waiting += 1\n",
      "\n",
      "Starting epoch 260 / 300\n"
     ]
    },
    {
     "name": "stderr",
     "output_type": "stream",
     "text": [
      "avg train loss: 0.60: 100%|██████████| 72/72 [00:01<00:00, 56.75it/s]\n"
     ]
    },
    {
     "name": "stdout",
     "output_type": "stream",
     "text": [
      "---  Accuracy Training set : 67.20 % \n",
      "\n"
     ]
    },
    {
     "name": "stderr",
     "output_type": "stream",
     "text": [
      "avg val loss: 16.11: 100%|██████████| 21/21 [00:00<00:00, 106.54it/s]\n"
     ]
    },
    {
     "name": "stdout",
     "output_type": "stream",
     "text": [
      "---  Accuracy Validation set: 51.76 % \n",
      "\n",
      "Waiting += 1\n",
      "\n",
      "Starting epoch 261 / 300\n"
     ]
    },
    {
     "name": "stderr",
     "output_type": "stream",
     "text": [
      "avg train loss: 0.60: 100%|██████████| 72/72 [00:01<00:00, 54.16it/s]\n"
     ]
    },
    {
     "name": "stdout",
     "output_type": "stream",
     "text": [
      "---  Accuracy Training set : 68.01 % \n",
      "\n"
     ]
    },
    {
     "name": "stderr",
     "output_type": "stream",
     "text": [
      "avg val loss: 0.71: 100%|██████████| 21/21 [00:00<00:00, 89.02it/s]\n"
     ]
    },
    {
     "name": "stdout",
     "output_type": "stream",
     "text": [
      "---  Accuracy Validation set: 47.85 % \n",
      "\n",
      "Waiting += 1\n",
      "\n",
      "Starting epoch 262 / 300\n"
     ]
    },
    {
     "name": "stderr",
     "output_type": "stream",
     "text": [
      "avg train loss: 0.60: 100%|██████████| 72/72 [00:01<00:00, 44.91it/s]\n"
     ]
    },
    {
     "name": "stdout",
     "output_type": "stream",
     "text": [
      "---  Accuracy Training set : 66.87 % \n",
      "\n"
     ]
    },
    {
     "name": "stderr",
     "output_type": "stream",
     "text": [
      "avg val loss: 4.76: 100%|██████████| 21/21 [00:00<00:00, 82.15it/s]\n"
     ]
    },
    {
     "name": "stdout",
     "output_type": "stream",
     "text": [
      "---  Accuracy Validation set: 51.30 % \n",
      "\n",
      "Waiting += 1\n",
      "\n",
      "Starting epoch 263 / 300\n"
     ]
    },
    {
     "name": "stderr",
     "output_type": "stream",
     "text": [
      "avg train loss: 0.60: 100%|██████████| 72/72 [00:01<00:00, 50.41it/s]\n"
     ]
    },
    {
     "name": "stdout",
     "output_type": "stream",
     "text": [
      "---  Accuracy Training set : 66.65 % \n",
      "\n"
     ]
    },
    {
     "name": "stderr",
     "output_type": "stream",
     "text": [
      "avg val loss: 0.69: 100%|██████████| 21/21 [00:00<00:00, 103.61it/s]\n"
     ]
    },
    {
     "name": "stdout",
     "output_type": "stream",
     "text": [
      "---  Accuracy Validation set: 48.54 % \n",
      "\n",
      "Waiting += 1\n",
      "\n",
      "Starting epoch 264 / 300\n"
     ]
    },
    {
     "name": "stderr",
     "output_type": "stream",
     "text": [
      "avg train loss: 0.60: 100%|██████████| 72/72 [00:01<00:00, 57.59it/s]\n"
     ]
    },
    {
     "name": "stdout",
     "output_type": "stream",
     "text": [
      "---  Accuracy Training set : 66.91 % \n",
      "\n"
     ]
    },
    {
     "name": "stderr",
     "output_type": "stream",
     "text": [
      "avg val loss: 0.70: 100%|██████████| 21/21 [00:00<00:00, 114.15it/s]\n"
     ]
    },
    {
     "name": "stdout",
     "output_type": "stream",
     "text": [
      "---  Accuracy Validation set: 48.47 % \n",
      "\n",
      "Waiting += 1\n",
      "\n",
      "Starting epoch 265 / 300\n"
     ]
    },
    {
     "name": "stderr",
     "output_type": "stream",
     "text": [
      "avg train loss: 0.60: 100%|██████████| 72/72 [00:01<00:00, 51.53it/s]\n"
     ]
    },
    {
     "name": "stdout",
     "output_type": "stream",
     "text": [
      "---  Accuracy Training set : 67.35 % \n",
      "\n"
     ]
    },
    {
     "name": "stderr",
     "output_type": "stream",
     "text": [
      "avg val loss: 0.69: 100%|██████████| 21/21 [00:00<00:00, 96.61it/s]\n"
     ]
    },
    {
     "name": "stdout",
     "output_type": "stream",
     "text": [
      "---  Accuracy Validation set: 48.31 % \n",
      "\n",
      "Waiting += 1\n",
      "\n",
      "Starting epoch 266 / 300\n"
     ]
    },
    {
     "name": "stderr",
     "output_type": "stream",
     "text": [
      "avg train loss: 0.60: 100%|██████████| 72/72 [00:01<00:00, 56.17it/s]\n"
     ]
    },
    {
     "name": "stdout",
     "output_type": "stream",
     "text": [
      "---  Accuracy Training set : 67.07 % \n",
      "\n"
     ]
    },
    {
     "name": "stderr",
     "output_type": "stream",
     "text": [
      "avg val loss: 14.93: 100%|██████████| 21/21 [00:00<00:00, 109.85it/s]\n"
     ]
    },
    {
     "name": "stdout",
     "output_type": "stream",
     "text": [
      "---  Accuracy Validation set: 51.69 % \n",
      "\n",
      "Waiting += 1\n",
      "\n",
      "Starting epoch 267 / 300\n"
     ]
    },
    {
     "name": "stderr",
     "output_type": "stream",
     "text": [
      "avg train loss: 0.59: 100%|██████████| 72/72 [00:01<00:00, 56.04it/s]\n"
     ]
    },
    {
     "name": "stdout",
     "output_type": "stream",
     "text": [
      "---  Accuracy Training set : 67.53 % \n",
      "\n"
     ]
    },
    {
     "name": "stderr",
     "output_type": "stream",
     "text": [
      "avg val loss: 0.71: 100%|██████████| 21/21 [00:00<00:00, 114.52it/s]\n"
     ]
    },
    {
     "name": "stdout",
     "output_type": "stream",
     "text": [
      "---  Accuracy Validation set: 48.31 % \n",
      "\n",
      "Waiting += 1\n",
      "\n",
      "Starting epoch 268 / 300\n"
     ]
    },
    {
     "name": "stderr",
     "output_type": "stream",
     "text": [
      "avg train loss: 0.60: 100%|██████████| 72/72 [00:01<00:00, 45.06it/s]\n"
     ]
    },
    {
     "name": "stdout",
     "output_type": "stream",
     "text": [
      "---  Accuracy Training set : 67.22 % \n",
      "\n"
     ]
    },
    {
     "name": "stderr",
     "output_type": "stream",
     "text": [
      "avg val loss: 0.70: 100%|██████████| 21/21 [00:00<00:00, 103.32it/s]\n"
     ]
    },
    {
     "name": "stdout",
     "output_type": "stream",
     "text": [
      "---  Accuracy Validation set: 49.08 % \n",
      "\n",
      "Waiting += 1\n",
      "\n",
      "Starting epoch 269 / 300\n"
     ]
    },
    {
     "name": "stderr",
     "output_type": "stream",
     "text": [
      "avg train loss: 0.60: 100%|██████████| 72/72 [00:01<00:00, 56.83it/s]\n"
     ]
    },
    {
     "name": "stdout",
     "output_type": "stream",
     "text": [
      "---  Accuracy Training set : 66.70 % \n",
      "\n"
     ]
    },
    {
     "name": "stderr",
     "output_type": "stream",
     "text": [
      "avg val loss: 1.98: 100%|██████████| 21/21 [00:00<00:00, 116.26it/s]\n"
     ]
    },
    {
     "name": "stdout",
     "output_type": "stream",
     "text": [
      "---  Accuracy Validation set: 48.39 % \n",
      "\n",
      "Waiting += 1\n",
      "\n",
      "Starting epoch 270 / 300\n"
     ]
    },
    {
     "name": "stderr",
     "output_type": "stream",
     "text": [
      "avg train loss: 0.60: 100%|██████████| 72/72 [00:01<00:00, 52.33it/s]\n"
     ]
    },
    {
     "name": "stdout",
     "output_type": "stream",
     "text": [
      "---  Accuracy Training set : 67.57 % \n",
      "\n"
     ]
    },
    {
     "name": "stderr",
     "output_type": "stream",
     "text": [
      "avg val loss: 0.71: 100%|██████████| 21/21 [00:00<00:00, 96.58it/s] \n"
     ]
    },
    {
     "name": "stdout",
     "output_type": "stream",
     "text": [
      "---  Accuracy Validation set: 48.77 % \n",
      "\n",
      "Waiting += 1\n",
      "\n",
      "Starting epoch 271 / 300\n"
     ]
    },
    {
     "name": "stderr",
     "output_type": "stream",
     "text": [
      "avg train loss: 0.60: 100%|██████████| 72/72 [00:01<00:00, 49.76it/s]\n"
     ]
    },
    {
     "name": "stdout",
     "output_type": "stream",
     "text": [
      "---  Accuracy Training set : 66.50 % \n",
      "\n"
     ]
    },
    {
     "name": "stderr",
     "output_type": "stream",
     "text": [
      "avg val loss: 0.69: 100%|██████████| 21/21 [00:00<00:00, 109.33it/s]\n"
     ]
    },
    {
     "name": "stdout",
     "output_type": "stream",
     "text": [
      "---  Accuracy Validation set: 48.62 % \n",
      "\n",
      "Waiting += 1\n",
      "\n",
      "Starting epoch 272 / 300\n"
     ]
    },
    {
     "name": "stderr",
     "output_type": "stream",
     "text": [
      "avg train loss: 0.60: 100%|██████████| 72/72 [00:01<00:00, 44.99it/s]\n"
     ]
    },
    {
     "name": "stdout",
     "output_type": "stream",
     "text": [
      "---  Accuracy Training set : 67.22 % \n",
      "\n"
     ]
    },
    {
     "name": "stderr",
     "output_type": "stream",
     "text": [
      "avg val loss: 10.16: 100%|██████████| 21/21 [00:00<00:00, 86.26it/s]\n"
     ]
    },
    {
     "name": "stdout",
     "output_type": "stream",
     "text": [
      "---  Accuracy Validation set: 50.23 % \n",
      "\n",
      "Waiting += 1\n",
      "\n",
      "Starting epoch 273 / 300\n"
     ]
    },
    {
     "name": "stderr",
     "output_type": "stream",
     "text": [
      "avg train loss: 0.61: 100%|██████████| 72/72 [00:01<00:00, 55.01it/s]\n"
     ]
    },
    {
     "name": "stdout",
     "output_type": "stream",
     "text": [
      "---  Accuracy Training set : 66.72 % \n",
      "\n"
     ]
    },
    {
     "name": "stderr",
     "output_type": "stream",
     "text": [
      "avg val loss: 1.16: 100%|██████████| 21/21 [00:00<00:00, 109.81it/s]\n"
     ]
    },
    {
     "name": "stdout",
     "output_type": "stream",
     "text": [
      "---  Accuracy Validation set: 51.46 % \n",
      "\n",
      "Waiting += 1\n",
      "\n",
      "Starting epoch 274 / 300\n"
     ]
    },
    {
     "name": "stderr",
     "output_type": "stream",
     "text": [
      "avg train loss: 0.60: 100%|██████████| 72/72 [00:01<00:00, 46.03it/s]\n"
     ]
    },
    {
     "name": "stdout",
     "output_type": "stream",
     "text": [
      "---  Accuracy Training set : 67.70 % \n",
      "\n"
     ]
    },
    {
     "name": "stderr",
     "output_type": "stream",
     "text": [
      "avg val loss: 0.69: 100%|██████████| 21/21 [00:00<00:00, 105.15it/s]\n"
     ]
    },
    {
     "name": "stdout",
     "output_type": "stream",
     "text": [
      "---  Accuracy Validation set: 48.31 % \n",
      "\n",
      "Waiting += 1\n",
      "\n",
      "Starting epoch 275 / 300\n"
     ]
    },
    {
     "name": "stderr",
     "output_type": "stream",
     "text": [
      "avg train loss: 0.60: 100%|██████████| 72/72 [00:01<00:00, 44.91it/s]\n"
     ]
    },
    {
     "name": "stdout",
     "output_type": "stream",
     "text": [
      "---  Accuracy Training set : 66.70 % \n",
      "\n"
     ]
    },
    {
     "name": "stderr",
     "output_type": "stream",
     "text": [
      "avg val loss: 0.69: 100%|██████████| 21/21 [00:00<00:00, 102.60it/s]\n"
     ]
    },
    {
     "name": "stdout",
     "output_type": "stream",
     "text": [
      "---  Accuracy Validation set: 47.70 % \n",
      "\n",
      "Waiting += 1\n",
      "\n",
      "Starting epoch 276 / 300\n"
     ]
    },
    {
     "name": "stderr",
     "output_type": "stream",
     "text": [
      "avg train loss: 0.60: 100%|██████████| 72/72 [00:01<00:00, 57.52it/s]\n"
     ]
    },
    {
     "name": "stdout",
     "output_type": "stream",
     "text": [
      "---  Accuracy Training set : 66.81 % \n",
      "\n"
     ]
    },
    {
     "name": "stderr",
     "output_type": "stream",
     "text": [
      "avg val loss: 0.69: 100%|██████████| 21/21 [00:00<00:00, 127.14it/s]\n"
     ]
    },
    {
     "name": "stdout",
     "output_type": "stream",
     "text": [
      "---  Accuracy Validation set: 49.54 % \n",
      "\n",
      "Waiting += 1\n",
      "\n",
      "Starting epoch 277 / 300\n"
     ]
    },
    {
     "name": "stderr",
     "output_type": "stream",
     "text": [
      "avg train loss: 0.60: 100%|██████████| 72/72 [00:01<00:00, 53.06it/s]\n"
     ]
    },
    {
     "name": "stdout",
     "output_type": "stream",
     "text": [
      "---  Accuracy Training set : 66.98 % \n",
      "\n"
     ]
    },
    {
     "name": "stderr",
     "output_type": "stream",
     "text": [
      "avg val loss: 0.69: 100%|██████████| 21/21 [00:00<00:00, 115.49it/s]\n"
     ]
    },
    {
     "name": "stdout",
     "output_type": "stream",
     "text": [
      "---  Accuracy Validation set: 48.31 % \n",
      "\n",
      "Waiting += 1\n",
      "\n",
      "Starting epoch 278 / 300\n"
     ]
    },
    {
     "name": "stderr",
     "output_type": "stream",
     "text": [
      "avg train loss: 0.60: 100%|██████████| 72/72 [00:01<00:00, 55.92it/s]\n"
     ]
    },
    {
     "name": "stdout",
     "output_type": "stream",
     "text": [
      "---  Accuracy Training set : 66.96 % \n",
      "\n"
     ]
    },
    {
     "name": "stderr",
     "output_type": "stream",
     "text": [
      "avg val loss: 0.69: 100%|██████████| 21/21 [00:00<00:00, 112.05it/s]\n"
     ]
    },
    {
     "name": "stdout",
     "output_type": "stream",
     "text": [
      "---  Accuracy Validation set: 48.54 % \n",
      "\n",
      "Waiting += 1\n",
      "\n",
      "Starting epoch 279 / 300\n"
     ]
    },
    {
     "name": "stderr",
     "output_type": "stream",
     "text": [
      "avg train loss: 0.60: 100%|██████████| 72/72 [00:01<00:00, 52.10it/s]\n"
     ]
    },
    {
     "name": "stdout",
     "output_type": "stream",
     "text": [
      "---  Accuracy Training set : 66.78 % \n",
      "\n"
     ]
    },
    {
     "name": "stderr",
     "output_type": "stream",
     "text": [
      "avg val loss: 0.69: 100%|██████████| 21/21 [00:00<00:00, 92.96it/s]\n"
     ]
    },
    {
     "name": "stdout",
     "output_type": "stream",
     "text": [
      "---  Accuracy Validation set: 48.16 % \n",
      "\n",
      "Waiting += 1\n",
      "\n",
      "Starting epoch 280 / 300\n"
     ]
    },
    {
     "name": "stderr",
     "output_type": "stream",
     "text": [
      "avg train loss: 0.59: 100%|██████████| 72/72 [00:01<00:00, 40.83it/s]\n"
     ]
    },
    {
     "name": "stdout",
     "output_type": "stream",
     "text": [
      "---  Accuracy Training set : 67.84 % \n",
      "\n"
     ]
    },
    {
     "name": "stderr",
     "output_type": "stream",
     "text": [
      "avg val loss: 14.62: 100%|██████████| 21/21 [00:00<00:00, 85.97it/s]\n"
     ]
    },
    {
     "name": "stdout",
     "output_type": "stream",
     "text": [
      "---  Accuracy Validation set: 51.61 % \n",
      "\n",
      "Waiting += 1\n",
      "\n",
      "Starting epoch 281 / 300\n"
     ]
    },
    {
     "name": "stderr",
     "output_type": "stream",
     "text": [
      "avg train loss: 0.60: 100%|██████████| 72/72 [00:02<00:00, 30.06it/s]\n"
     ]
    },
    {
     "name": "stdout",
     "output_type": "stream",
     "text": [
      "---  Accuracy Training set : 66.35 % \n",
      "\n"
     ]
    },
    {
     "name": "stderr",
     "output_type": "stream",
     "text": [
      "avg val loss: 0.69: 100%|██████████| 21/21 [00:00<00:00, 89.39it/s]\n"
     ]
    },
    {
     "name": "stdout",
     "output_type": "stream",
     "text": [
      "---  Accuracy Validation set: 48.54 % \n",
      "\n",
      "Waiting += 1\n",
      "\n",
      "Starting epoch 282 / 300\n"
     ]
    },
    {
     "name": "stderr",
     "output_type": "stream",
     "text": [
      "avg train loss: 0.60: 100%|██████████| 72/72 [00:01<00:00, 42.63it/s]\n"
     ]
    },
    {
     "name": "stdout",
     "output_type": "stream",
     "text": [
      "---  Accuracy Training set : 66.52 % \n",
      "\n"
     ]
    },
    {
     "name": "stderr",
     "output_type": "stream",
     "text": [
      "avg val loss: 3.88: 100%|██████████| 21/21 [00:00<00:00, 69.94it/s]\n"
     ]
    },
    {
     "name": "stdout",
     "output_type": "stream",
     "text": [
      "---  Accuracy Validation set: 51.99 % \n",
      "\n",
      "Waiting += 1\n",
      "\n",
      "Starting epoch 283 / 300\n"
     ]
    },
    {
     "name": "stderr",
     "output_type": "stream",
     "text": [
      "avg train loss: 0.60: 100%|██████████| 72/72 [00:01<00:00, 43.97it/s]\n"
     ]
    },
    {
     "name": "stdout",
     "output_type": "stream",
     "text": [
      "---  Accuracy Training set : 67.31 % \n",
      "\n"
     ]
    },
    {
     "name": "stderr",
     "output_type": "stream",
     "text": [
      "avg val loss: 0.69: 100%|██████████| 21/21 [00:00<00:00, 85.64it/s]\n"
     ]
    },
    {
     "name": "stdout",
     "output_type": "stream",
     "text": [
      "---  Accuracy Validation set: 50.23 % \n",
      "\n",
      "Waiting += 1\n",
      "\n",
      "Starting epoch 284 / 300\n"
     ]
    },
    {
     "name": "stderr",
     "output_type": "stream",
     "text": [
      "avg train loss: 0.59: 100%|██████████| 72/72 [00:01<00:00, 40.71it/s]\n"
     ]
    },
    {
     "name": "stdout",
     "output_type": "stream",
     "text": [
      "---  Accuracy Training set : 67.77 % \n",
      "\n"
     ]
    },
    {
     "name": "stderr",
     "output_type": "stream",
     "text": [
      "avg val loss: 0.70: 100%|██████████| 21/21 [00:00<00:00, 97.04it/s]\n"
     ]
    },
    {
     "name": "stdout",
     "output_type": "stream",
     "text": [
      "---  Accuracy Validation set: 47.62 % \n",
      "\n",
      "Waiting += 1\n",
      "\n",
      "Starting epoch 285 / 300\n"
     ]
    },
    {
     "name": "stderr",
     "output_type": "stream",
     "text": [
      "avg train loss: 0.60: 100%|██████████| 72/72 [00:01<00:00, 44.78it/s]\n"
     ]
    },
    {
     "name": "stdout",
     "output_type": "stream",
     "text": [
      "---  Accuracy Training set : 66.91 % \n",
      "\n"
     ]
    },
    {
     "name": "stderr",
     "output_type": "stream",
     "text": [
      "avg val loss: 0.69: 100%|██████████| 21/21 [00:00<00:00, 94.86it/s]\n"
     ]
    },
    {
     "name": "stdout",
     "output_type": "stream",
     "text": [
      "---  Accuracy Validation set: 48.31 % \n",
      "\n",
      "Waiting += 1\n",
      "\n",
      "Starting epoch 286 / 300\n"
     ]
    },
    {
     "name": "stderr",
     "output_type": "stream",
     "text": [
      "avg train loss: 0.60: 100%|██████████| 72/72 [00:01<00:00, 49.93it/s]\n"
     ]
    },
    {
     "name": "stdout",
     "output_type": "stream",
     "text": [
      "---  Accuracy Training set : 66.85 % \n",
      "\n"
     ]
    },
    {
     "name": "stderr",
     "output_type": "stream",
     "text": [
      "avg val loss: 1.02: 100%|██████████| 21/21 [00:00<00:00, 108.21it/s]\n"
     ]
    },
    {
     "name": "stdout",
     "output_type": "stream",
     "text": [
      "---  Accuracy Validation set: 48.39 % \n",
      "\n",
      "Waiting += 1\n",
      "\n",
      "Starting epoch 287 / 300\n"
     ]
    },
    {
     "name": "stderr",
     "output_type": "stream",
     "text": [
      "avg train loss: 0.60: 100%|██████████| 72/72 [00:01<00:00, 45.38it/s]\n"
     ]
    },
    {
     "name": "stdout",
     "output_type": "stream",
     "text": [
      "---  Accuracy Training set : 66.26 % \n",
      "\n"
     ]
    },
    {
     "name": "stderr",
     "output_type": "stream",
     "text": [
      "avg val loss: 0.69: 100%|██████████| 21/21 [00:00<00:00, 83.63it/s]\n"
     ]
    },
    {
     "name": "stdout",
     "output_type": "stream",
     "text": [
      "---  Accuracy Validation set: 48.31 % \n",
      "\n",
      "Waiting += 1\n",
      "\n",
      "Starting epoch 288 / 300\n"
     ]
    },
    {
     "name": "stderr",
     "output_type": "stream",
     "text": [
      "avg train loss: 0.60: 100%|██████████| 72/72 [00:01<00:00, 41.71it/s]\n"
     ]
    },
    {
     "name": "stdout",
     "output_type": "stream",
     "text": [
      "---  Accuracy Training set : 67.35 % \n",
      "\n"
     ]
    },
    {
     "name": "stderr",
     "output_type": "stream",
     "text": [
      "avg val loss: 9.61: 100%|██████████| 21/21 [00:00<00:00, 111.53it/s]\n"
     ]
    },
    {
     "name": "stdout",
     "output_type": "stream",
     "text": [
      "---  Accuracy Validation set: 51.84 % \n",
      "\n",
      "Waiting += 1\n",
      "\n",
      "Starting epoch 289 / 300\n"
     ]
    },
    {
     "name": "stderr",
     "output_type": "stream",
     "text": [
      "avg train loss: 0.60: 100%|██████████| 72/72 [00:01<00:00, 47.52it/s]\n"
     ]
    },
    {
     "name": "stdout",
     "output_type": "stream",
     "text": [
      "---  Accuracy Training set : 67.09 % \n",
      "\n"
     ]
    },
    {
     "name": "stderr",
     "output_type": "stream",
     "text": [
      "avg val loss: 0.83: 100%|██████████| 21/21 [00:00<00:00, 45.17it/s]\n"
     ]
    },
    {
     "name": "stdout",
     "output_type": "stream",
     "text": [
      "---  Accuracy Validation set: 50.23 % \n",
      "\n",
      "Waiting += 1\n",
      "\n",
      "Starting epoch 290 / 300\n"
     ]
    },
    {
     "name": "stderr",
     "output_type": "stream",
     "text": [
      "avg train loss: 0.59: 100%|██████████| 72/72 [00:01<00:00, 39.53it/s]\n"
     ]
    },
    {
     "name": "stdout",
     "output_type": "stream",
     "text": [
      "---  Accuracy Training set : 66.96 % \n",
      "\n"
     ]
    },
    {
     "name": "stderr",
     "output_type": "stream",
     "text": [
      "avg val loss: 0.70: 100%|██████████| 21/21 [00:00<00:00, 79.57it/s]\n"
     ]
    },
    {
     "name": "stdout",
     "output_type": "stream",
     "text": [
      "---  Accuracy Validation set: 47.39 % \n",
      "\n",
      "Waiting += 1\n",
      "\n",
      "Starting epoch 291 / 300\n"
     ]
    },
    {
     "name": "stderr",
     "output_type": "stream",
     "text": [
      "avg train loss: 0.59: 100%|██████████| 72/72 [00:01<00:00, 37.88it/s]\n"
     ]
    },
    {
     "name": "stdout",
     "output_type": "stream",
     "text": [
      "---  Accuracy Training set : 67.66 % \n",
      "\n"
     ]
    },
    {
     "name": "stderr",
     "output_type": "stream",
     "text": [
      "avg val loss: 1.43: 100%|██████████| 21/21 [00:00<00:00, 80.57it/s]\n"
     ]
    },
    {
     "name": "stdout",
     "output_type": "stream",
     "text": [
      "---  Accuracy Validation set: 49.08 % \n",
      "\n",
      "Waiting += 1\n",
      "\n",
      "Starting epoch 292 / 300\n"
     ]
    },
    {
     "name": "stderr",
     "output_type": "stream",
     "text": [
      "avg train loss: 0.60: 100%|██████████| 72/72 [00:01<00:00, 45.54it/s]\n"
     ]
    },
    {
     "name": "stdout",
     "output_type": "stream",
     "text": [
      "---  Accuracy Training set : 67.24 % \n",
      "\n"
     ]
    },
    {
     "name": "stderr",
     "output_type": "stream",
     "text": [
      "avg val loss: 0.69: 100%|██████████| 21/21 [00:00<00:00, 86.64it/s]\n"
     ]
    },
    {
     "name": "stdout",
     "output_type": "stream",
     "text": [
      "---  Accuracy Validation set: 48.24 % \n",
      "\n",
      "Waiting += 1\n",
      "\n",
      "Starting epoch 293 / 300\n"
     ]
    },
    {
     "name": "stderr",
     "output_type": "stream",
     "text": [
      "avg train loss: 0.60: 100%|██████████| 72/72 [00:02<00:00, 33.18it/s]\n"
     ]
    },
    {
     "name": "stdout",
     "output_type": "stream",
     "text": [
      "---  Accuracy Training set : 68.01 % \n",
      "\n"
     ]
    },
    {
     "name": "stderr",
     "output_type": "stream",
     "text": [
      "avg val loss: 0.71: 100%|██████████| 21/21 [00:00<00:00, 86.16it/s]\n"
     ]
    },
    {
     "name": "stdout",
     "output_type": "stream",
     "text": [
      "---  Accuracy Validation set: 47.09 % \n",
      "\n",
      "Waiting += 1\n",
      "\n",
      "Starting epoch 294 / 300\n"
     ]
    },
    {
     "name": "stderr",
     "output_type": "stream",
     "text": [
      "avg train loss: 0.61: 100%|██████████| 72/72 [00:02<00:00, 29.19it/s]\n"
     ]
    },
    {
     "name": "stdout",
     "output_type": "stream",
     "text": [
      "---  Accuracy Training set : 65.73 % \n",
      "\n"
     ]
    },
    {
     "name": "stderr",
     "output_type": "stream",
     "text": [
      "avg val loss: 0.90: 100%|██████████| 21/21 [00:00<00:00, 47.96it/s]\n"
     ]
    },
    {
     "name": "stdout",
     "output_type": "stream",
     "text": [
      "---  Accuracy Validation set: 49.31 % \n",
      "\n",
      "Waiting += 1\n",
      "\n",
      "Starting epoch 295 / 300\n"
     ]
    },
    {
     "name": "stderr",
     "output_type": "stream",
     "text": [
      "avg train loss: 0.60: 100%|██████████| 72/72 [00:02<00:00, 25.43it/s]\n"
     ]
    },
    {
     "name": "stdout",
     "output_type": "stream",
     "text": [
      "---  Accuracy Training set : 66.76 % \n",
      "\n"
     ]
    },
    {
     "name": "stderr",
     "output_type": "stream",
     "text": [
      "avg val loss: 0.69: 100%|██████████| 21/21 [00:00<00:00, 105.64it/s]\n"
     ]
    },
    {
     "name": "stdout",
     "output_type": "stream",
     "text": [
      "---  Accuracy Validation set: 48.31 % \n",
      "\n",
      "Waiting += 1\n",
      "\n",
      "Starting epoch 296 / 300\n"
     ]
    },
    {
     "name": "stderr",
     "output_type": "stream",
     "text": [
      "avg train loss: 0.60: 100%|██████████| 72/72 [00:01<00:00, 40.00it/s]\n"
     ]
    },
    {
     "name": "stdout",
     "output_type": "stream",
     "text": [
      "---  Accuracy Training set : 67.35 % \n",
      "\n"
     ]
    },
    {
     "name": "stderr",
     "output_type": "stream",
     "text": [
      "avg val loss: 0.72: 100%|██████████| 21/21 [00:00<00:00, 65.09it/s]\n"
     ]
    },
    {
     "name": "stdout",
     "output_type": "stream",
     "text": [
      "---  Accuracy Validation set: 49.16 % \n",
      "\n",
      "Waiting += 1\n",
      "\n",
      "Starting epoch 297 / 300\n"
     ]
    },
    {
     "name": "stderr",
     "output_type": "stream",
     "text": [
      "avg train loss: 0.60: 100%|██████████| 72/72 [00:01<00:00, 38.82it/s]\n"
     ]
    },
    {
     "name": "stdout",
     "output_type": "stream",
     "text": [
      "---  Accuracy Training set : 67.55 % \n",
      "\n"
     ]
    },
    {
     "name": "stderr",
     "output_type": "stream",
     "text": [
      "avg val loss: 7.13: 100%|██████████| 21/21 [00:00<00:00, 77.34it/s]\n"
     ]
    },
    {
     "name": "stdout",
     "output_type": "stream",
     "text": [
      "---  Accuracy Validation set: 52.15 % \n",
      "\n",
      "Waiting += 1\n",
      "\n",
      "Starting epoch 298 / 300\n"
     ]
    },
    {
     "name": "stderr",
     "output_type": "stream",
     "text": [
      "avg train loss: 0.60: 100%|██████████| 72/72 [00:02<00:00, 35.87it/s]\n"
     ]
    },
    {
     "name": "stdout",
     "output_type": "stream",
     "text": [
      "---  Accuracy Training set : 66.87 % \n",
      "\n"
     ]
    },
    {
     "name": "stderr",
     "output_type": "stream",
     "text": [
      "avg val loss: 29.82: 100%|██████████| 21/21 [00:00<00:00, 71.63it/s]\n"
     ]
    },
    {
     "name": "stdout",
     "output_type": "stream",
     "text": [
      "---  Accuracy Validation set: 51.69 % \n",
      "\n",
      "Waiting += 1\n",
      "\n",
      "Starting epoch 299 / 300\n"
     ]
    },
    {
     "name": "stderr",
     "output_type": "stream",
     "text": [
      "avg train loss: 0.60: 100%|██████████| 72/72 [00:01<00:00, 40.71it/s]\n"
     ]
    },
    {
     "name": "stdout",
     "output_type": "stream",
     "text": [
      "---  Accuracy Training set : 66.54 % \n",
      "\n"
     ]
    },
    {
     "name": "stderr",
     "output_type": "stream",
     "text": [
      "avg val loss: 3.74: 100%|██████████| 21/21 [00:00<00:00, 78.65it/s]\n"
     ]
    },
    {
     "name": "stdout",
     "output_type": "stream",
     "text": [
      "---  Accuracy Validation set: 51.69 % \n",
      "\n",
      "Waiting += 1\n",
      "\n",
      "Starting epoch 300 / 300\n"
     ]
    },
    {
     "name": "stderr",
     "output_type": "stream",
     "text": [
      "avg train loss: 0.60: 100%|██████████| 72/72 [00:01<00:00, 42.15it/s]\n"
     ]
    },
    {
     "name": "stdout",
     "output_type": "stream",
     "text": [
      "---  Accuracy Training set : 66.78 % \n",
      "\n"
     ]
    },
    {
     "name": "stderr",
     "output_type": "stream",
     "text": [
      "avg val loss: 0.71: 100%|██████████| 21/21 [00:00<00:00, 83.88it/s]"
     ]
    },
    {
     "name": "stdout",
     "output_type": "stream",
     "text": [
      "---  Accuracy Validation set: 49.23 % \n",
      "\n",
      "Waiting += 1\n"
     ]
    },
    {
     "name": "stderr",
     "output_type": "stream",
     "text": [
      "\n"
     ]
    }
   ],
   "source": [
    "# Train\n",
    "from common import train\n",
    "\n",
    "lr = 1e-4\n",
    "n_epochs = 300\n",
    "patience = 300\n",
    "weight_name = \"SingleNet_2class_Con1Dnew_allsubject\"\n",
    "models.to(device=device) \n",
    "optimizer = optim.Adam(models.parameters(), lr=lr,weight_decay=1e-4)\n",
    "criterion = torch.nn.CrossEntropyLoss()\n",
    "\n",
    "best_model,train_loss,valid_loss = train(models,train_iterator, valid_iterator, optimizer,criterion,n_epochs, patience, device,weight_name)"
   ]
  },
  {
   "cell_type": "code",
   "execution_count": 26,
   "metadata": {},
   "outputs": [
    {
     "name": "stdout",
     "output_type": "stream",
     "text": [
      "torch.Size([100])\n",
      "torch.Size([100, 1, 3, 251])\n"
     ]
    },
    {
     "ename": "RuntimeError",
     "evalue": "Expected 3-dimensional input for 3-dimensional weight [8, 3, 3], but got 4-dimensional input of size [100, 1, 3, 251] instead",
     "output_type": "error",
     "traceback": [
      "\u001b[1;31m---------------------------------------------------------------------------\u001b[0m",
      "\u001b[1;31mRuntimeError\u001b[0m                              Traceback (most recent call last)",
      "\u001b[1;32m<ipython-input-26-845c3d9e18ae>\u001b[0m in \u001b[0;36m<module>\u001b[1;34m\u001b[0m\n\u001b[0;32m      5\u001b[0m \u001b[0mprint\u001b[0m\u001b[1;33m(\u001b[0m\u001b[0my_test\u001b[0m\u001b[1;33m.\u001b[0m\u001b[0mshape\u001b[0m\u001b[1;33m)\u001b[0m\u001b[1;33m\u001b[0m\u001b[1;33m\u001b[0m\u001b[0m\n\u001b[0;32m      6\u001b[0m \u001b[0mprint\u001b[0m\u001b[1;33m(\u001b[0m\u001b[0mtorch\u001b[0m\u001b[1;33m.\u001b[0m\u001b[0mrandn\u001b[0m\u001b[1;33m(\u001b[0m\u001b[0mn_samples_test\u001b[0m\u001b[1;33m,\u001b[0m \u001b[1;36m1\u001b[0m\u001b[1;33m,\u001b[0m \u001b[1;33m*\u001b[0m\u001b[0mepochs_data\u001b[0m\u001b[1;33m.\u001b[0m\u001b[0mshape\u001b[0m\u001b[1;33m[\u001b[0m\u001b[1;36m1\u001b[0m\u001b[1;33m:\u001b[0m\u001b[1;33m]\u001b[0m\u001b[1;33m)\u001b[0m\u001b[1;33m.\u001b[0m\u001b[0mshape\u001b[0m\u001b[1;33m)\u001b[0m\u001b[1;33m\u001b[0m\u001b[1;33m\u001b[0m\u001b[0m\n\u001b[1;32m----> 7\u001b[1;33m \u001b[0my_pred\u001b[0m \u001b[1;33m=\u001b[0m \u001b[0mbest_model\u001b[0m\u001b[1;33m.\u001b[0m\u001b[0mforward\u001b[0m\u001b[1;33m(\u001b[0m\u001b[0mtorch\u001b[0m\u001b[1;33m.\u001b[0m\u001b[0mrandn\u001b[0m\u001b[1;33m(\u001b[0m\u001b[0mn_samples_test\u001b[0m\u001b[1;33m,\u001b[0m \u001b[1;36m1\u001b[0m\u001b[1;33m,\u001b[0m \u001b[1;33m*\u001b[0m\u001b[0mepochs_data\u001b[0m\u001b[1;33m.\u001b[0m\u001b[0mshape\u001b[0m\u001b[1;33m[\u001b[0m\u001b[1;36m1\u001b[0m\u001b[1;33m:\u001b[0m\u001b[1;33m]\u001b[0m\u001b[1;33m)\u001b[0m\u001b[1;33m)\u001b[0m\u001b[1;33m\u001b[0m\u001b[1;33m\u001b[0m\u001b[0m\n\u001b[0m\u001b[0;32m      8\u001b[0m \u001b[0moutput\u001b[0m \u001b[1;33m=\u001b[0m \u001b[0mF\u001b[0m\u001b[1;33m.\u001b[0m\u001b[0mcross_entropy\u001b[0m\u001b[1;33m(\u001b[0m\u001b[0my_pred\u001b[0m\u001b[1;33m,\u001b[0m \u001b[0my_test\u001b[0m\u001b[1;33m)\u001b[0m\u001b[1;33m\u001b[0m\u001b[1;33m\u001b[0m\u001b[0m\n\u001b[0;32m      9\u001b[0m \u001b[0mallsad\u001b[0m\u001b[1;33m,\u001b[0m \u001b[0mtop_class\u001b[0m \u001b[1;33m=\u001b[0m \u001b[0my_pred\u001b[0m\u001b[1;33m.\u001b[0m\u001b[0mtopk\u001b[0m\u001b[1;33m(\u001b[0m\u001b[1;36m1\u001b[0m\u001b[1;33m,\u001b[0m \u001b[0mdim\u001b[0m\u001b[1;33m=\u001b[0m\u001b[1;36m1\u001b[0m\u001b[1;33m)\u001b[0m\u001b[1;33m\u001b[0m\u001b[1;33m\u001b[0m\u001b[0m\n",
      "\u001b[1;32m<ipython-input-23-a951f9589328>\u001b[0m in \u001b[0;36mforward\u001b[1;34m(self, x)\u001b[0m\n\u001b[0;32m     51\u001b[0m         \u001b[1;31m#Conv1d(1,ch,kernel_size=10) on tensor [batch=1, channels=1, time=400]\u001b[0m\u001b[1;33m\u001b[0m\u001b[1;33m\u001b[0m\u001b[1;33m\u001b[0m\u001b[0m\n\u001b[0;32m     52\u001b[0m \u001b[1;33m\u001b[0m\u001b[0m\n\u001b[1;32m---> 53\u001b[1;33m         \u001b[0mx\u001b[0m \u001b[1;33m=\u001b[0m \u001b[0mself\u001b[0m\u001b[1;33m.\u001b[0m\u001b[0mtemporalConv\u001b[0m\u001b[1;33m(\u001b[0m\u001b[0mx\u001b[0m\u001b[1;33m)\u001b[0m\u001b[1;33m\u001b[0m\u001b[1;33m\u001b[0m\u001b[0m\n\u001b[0m\u001b[0;32m     54\u001b[0m         \u001b[0mx\u001b[0m \u001b[1;33m=\u001b[0m \u001b[0mself\u001b[0m\u001b[1;33m.\u001b[0m\u001b[0mbatchnorm1\u001b[0m\u001b[1;33m(\u001b[0m\u001b[0mx\u001b[0m\u001b[1;33m)\u001b[0m\u001b[1;33m\u001b[0m\u001b[1;33m\u001b[0m\u001b[0m\n\u001b[0;32m     55\u001b[0m         \u001b[0mx\u001b[0m \u001b[1;33m=\u001b[0m \u001b[0mself\u001b[0m\u001b[1;33m.\u001b[0m\u001b[0melu\u001b[0m\u001b[1;33m(\u001b[0m\u001b[0mx\u001b[0m\u001b[1;33m)\u001b[0m\u001b[1;33m\u001b[0m\u001b[1;33m\u001b[0m\u001b[0m\n",
      "\u001b[1;32m~\\anaconda3\\envs\\tf_gpu\\lib\\site-packages\\torch\\nn\\modules\\module.py\u001b[0m in \u001b[0;36m_call_impl\u001b[1;34m(self, *input, **kwargs)\u001b[0m\n\u001b[0;32m   1049\u001b[0m         if not (self._backward_hooks or self._forward_hooks or self._forward_pre_hooks or _global_backward_hooks\n\u001b[0;32m   1050\u001b[0m                 or _global_forward_hooks or _global_forward_pre_hooks):\n\u001b[1;32m-> 1051\u001b[1;33m             \u001b[1;32mreturn\u001b[0m \u001b[0mforward_call\u001b[0m\u001b[1;33m(\u001b[0m\u001b[1;33m*\u001b[0m\u001b[0minput\u001b[0m\u001b[1;33m,\u001b[0m \u001b[1;33m**\u001b[0m\u001b[0mkwargs\u001b[0m\u001b[1;33m)\u001b[0m\u001b[1;33m\u001b[0m\u001b[1;33m\u001b[0m\u001b[0m\n\u001b[0m\u001b[0;32m   1052\u001b[0m         \u001b[1;31m# Do not call functions when jit is used\u001b[0m\u001b[1;33m\u001b[0m\u001b[1;33m\u001b[0m\u001b[1;33m\u001b[0m\u001b[0m\n\u001b[0;32m   1053\u001b[0m         \u001b[0mfull_backward_hooks\u001b[0m\u001b[1;33m,\u001b[0m \u001b[0mnon_full_backward_hooks\u001b[0m \u001b[1;33m=\u001b[0m \u001b[1;33m[\u001b[0m\u001b[1;33m]\u001b[0m\u001b[1;33m,\u001b[0m \u001b[1;33m[\u001b[0m\u001b[1;33m]\u001b[0m\u001b[1;33m\u001b[0m\u001b[1;33m\u001b[0m\u001b[0m\n",
      "\u001b[1;32m~\\anaconda3\\envs\\tf_gpu\\lib\\site-packages\\torch\\nn\\modules\\conv.py\u001b[0m in \u001b[0;36mforward\u001b[1;34m(self, input)\u001b[0m\n\u001b[0;32m    296\u001b[0m \u001b[1;33m\u001b[0m\u001b[0m\n\u001b[0;32m    297\u001b[0m     \u001b[1;32mdef\u001b[0m \u001b[0mforward\u001b[0m\u001b[1;33m(\u001b[0m\u001b[0mself\u001b[0m\u001b[1;33m,\u001b[0m \u001b[0minput\u001b[0m\u001b[1;33m:\u001b[0m \u001b[0mTensor\u001b[0m\u001b[1;33m)\u001b[0m \u001b[1;33m->\u001b[0m \u001b[0mTensor\u001b[0m\u001b[1;33m:\u001b[0m\u001b[1;33m\u001b[0m\u001b[1;33m\u001b[0m\u001b[0m\n\u001b[1;32m--> 298\u001b[1;33m         \u001b[1;32mreturn\u001b[0m \u001b[0mself\u001b[0m\u001b[1;33m.\u001b[0m\u001b[0m_conv_forward\u001b[0m\u001b[1;33m(\u001b[0m\u001b[0minput\u001b[0m\u001b[1;33m,\u001b[0m \u001b[0mself\u001b[0m\u001b[1;33m.\u001b[0m\u001b[0mweight\u001b[0m\u001b[1;33m,\u001b[0m \u001b[0mself\u001b[0m\u001b[1;33m.\u001b[0m\u001b[0mbias\u001b[0m\u001b[1;33m)\u001b[0m\u001b[1;33m\u001b[0m\u001b[1;33m\u001b[0m\u001b[0m\n\u001b[0m\u001b[0;32m    299\u001b[0m \u001b[1;33m\u001b[0m\u001b[0m\n\u001b[0;32m    300\u001b[0m \u001b[1;33m\u001b[0m\u001b[0m\n",
      "\u001b[1;32m~\\anaconda3\\envs\\tf_gpu\\lib\\site-packages\\torch\\nn\\modules\\conv.py\u001b[0m in \u001b[0;36m_conv_forward\u001b[1;34m(self, input, weight, bias)\u001b[0m\n\u001b[0;32m    292\u001b[0m                             \u001b[0mweight\u001b[0m\u001b[1;33m,\u001b[0m \u001b[0mbias\u001b[0m\u001b[1;33m,\u001b[0m \u001b[0mself\u001b[0m\u001b[1;33m.\u001b[0m\u001b[0mstride\u001b[0m\u001b[1;33m,\u001b[0m\u001b[1;33m\u001b[0m\u001b[1;33m\u001b[0m\u001b[0m\n\u001b[0;32m    293\u001b[0m                             _single(0), self.dilation, self.groups)\n\u001b[1;32m--> 294\u001b[1;33m         return F.conv1d(input, weight, bias, self.stride,\n\u001b[0m\u001b[0;32m    295\u001b[0m                         self.padding, self.dilation, self.groups)\n\u001b[0;32m    296\u001b[0m \u001b[1;33m\u001b[0m\u001b[0m\n",
      "\u001b[1;31mRuntimeError\u001b[0m: Expected 3-dimensional input for 3-dimensional weight [8, 3, 3], but got 4-dimensional input of size [100, 1, 3, 251] instead"
     ]
    }
   ],
   "source": [
    "# Test model works:\n",
    "\n",
    "n_samples_test = 100\n",
    "y_test = torch.randint(0, 2, (n_samples_test,))\n",
    "print(y_test.shape)\n",
    "print(torch.randn(n_samples_test, 1, *epochs_data.shape[1:]).shape)\n",
    "y_pred = best_model.forward(torch.randn(n_samples_test, 1, *epochs_data.shape[1:]))\n",
    "output = F.cross_entropy(y_pred, y_test)\n",
    "allsad, top_class = y_pred.topk(1, dim=1)\n",
    "print(top_class)\n"
   ]
  },
  {
   "cell_type": "code",
   "execution_count": 27,
   "metadata": {},
   "outputs": [
    {
     "data": {
      "image/png": "[encoded data removed]",
      "text/plain": [
       "<Figure size 640x480 with 1 Axes>"
      ]
     },
     "metadata": {},
     "output_type": "display_data"
    },
    {
     "name": "stdout",
     "output_type": "stream",
     "text": [
      "Train loss0.5006636381149292\n",
      "Valid loss0.6925793687502543\n"
     ]
    }
   ],
   "source": [
    "import matplotlib.pyplot as plt\n",
    "plt.plot(train_loss,'r')\n",
    "plt.plot(valid_loss,'b')\n",
    "plt.show()\n",
    "print(\"Train loss\" + str(min(train_loss)))\n",
    "print(\"Valid loss\" + str(min(valid_loss)))"
   ]
  },
  {
   "cell_type": "code",
   "execution_count": null,
   "metadata": {},
   "outputs": [],
   "source": []
  }
 ],
 "metadata": {
  "interpreter": {
   "hash": "38ae246934a7cd8e2aa0ce1a37b33766718792e8e777147d6c6548b2d965aeb7"
  },
  "kernelspec": {
   "display_name": "Python 3.8.0 64-bit ('tf_gpu': conda)",
   "language": "python",
   "name": "python3"
  },
  "language_info": {
   "codemirror_mode": {
    "name": "ipython",
    "version": 3
   },
   "file_extension": ".py",
   "mimetype": "text/x-python",
   "name": "python",
   "nbconvert_exporter": "python",
   "pygments_lexer": "ipython3",
   "version": "3.8.0"
  },
  "orig_nbformat": 4
 },
 "nbformat": 4,
 "nbformat_minor": 2
}
