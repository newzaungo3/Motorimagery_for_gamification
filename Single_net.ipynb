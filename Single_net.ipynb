{
 "cells": [
  {
   "cell_type": "code",
   "execution_count": 1,
   "metadata": {},
   "outputs": [],
   "source": [
    "import numpy as np\n",
    "import matplotlib.pyplot as plt\n",
    "\n",
    "from sklearn.pipeline import Pipeline\n",
    "from sklearn.discriminant_analysis import LinearDiscriminantAnalysis\n",
    "from sklearn.model_selection import ShuffleSplit, cross_val_score\n",
    "import mne\n",
    "from mne import Epochs, pick_types, events_from_annotations\n",
    "from mne.channels import make_standard_montage\n",
    "from mne.io import concatenate_raws, read_raw_edf,read_raw_edf,read_raw_gdf\n",
    "from mne.datasets import eegbci\n",
    "from mne.decoding import CSP"
   ]
  },
  {
   "cell_type": "code",
   "execution_count": 2,
   "metadata": {},
   "outputs": [
    {
     "name": "stdout",
     "output_type": "stream",
     "text": [
      "Extracting EDF parameters from c:\\Users\\asus\\Desktop\\Motorimagery_for_gamification\\dataset\\bci_dataset\\train\\A01T.gdf...\n",
      "GDF file detected\n",
      "Setting channel info structure...\n",
      "Creating raw.info structure...\n",
      "Reading 0 ... 672527  =      0.000 ...  2690.108 secs...\n"
     ]
    },
    {
     "name": "stderr",
     "output_type": "stream",
     "text": [
      "C:\\Users\\asus\\anaconda3\\envs\\tf_gpu\\lib\\site-packages\\mne\\io\\edf\\edf.py:1047: DeprecationWarning: The binary mode of fromstring is deprecated, as it behaves surprisingly on unicode inputs. Use frombuffer instead\n",
      "  etmode = np.fromstring(etmode, UINT8).tolist()[0]\n",
      "<ipython-input-2-8dc407ed6195>:12: RuntimeWarning: Channel names are not unique, found duplicates for: {'EEG'}. Applying running numbers for duplicates.\n",
      "  raw = concatenate_raws([read_raw_gdf(f, preload=True) for f in data_path])\n"
     ]
    },
    {
     "name": "stdout",
     "output_type": "stream",
     "text": [
      "Extracting EDF parameters from c:\\Users\\asus\\Desktop\\Motorimagery_for_gamification\\dataset\\bci_dataset\\train\\A02T.gdf...\n",
      "GDF file detected\n",
      "Setting channel info structure...\n",
      "Creating raw.info structure...\n",
      "Reading 0 ... 677168  =      0.000 ...  2708.672 secs...\n"
     ]
    },
    {
     "name": "stderr",
     "output_type": "stream",
     "text": [
      "C:\\Users\\asus\\anaconda3\\envs\\tf_gpu\\lib\\site-packages\\mne\\io\\edf\\edf.py:1047: DeprecationWarning: The binary mode of fromstring is deprecated, as it behaves surprisingly on unicode inputs. Use frombuffer instead\n",
      "  etmode = np.fromstring(etmode, UINT8).tolist()[0]\n",
      "<ipython-input-2-8dc407ed6195>:12: RuntimeWarning: Channel names are not unique, found duplicates for: {'EEG'}. Applying running numbers for duplicates.\n",
      "  raw = concatenate_raws([read_raw_gdf(f, preload=True) for f in data_path])\n"
     ]
    },
    {
     "name": "stdout",
     "output_type": "stream",
     "text": [
      "Extracting EDF parameters from c:\\Users\\asus\\Desktop\\Motorimagery_for_gamification\\dataset\\bci_dataset\\train\\A03T.gdf...\n",
      "GDF file detected\n",
      "Setting channel info structure...\n",
      "Creating raw.info structure...\n",
      "Reading 0 ... 660529  =      0.000 ...  2642.116 secs...\n"
     ]
    },
    {
     "name": "stderr",
     "output_type": "stream",
     "text": [
      "C:\\Users\\asus\\anaconda3\\envs\\tf_gpu\\lib\\site-packages\\mne\\io\\edf\\edf.py:1047: DeprecationWarning: The binary mode of fromstring is deprecated, as it behaves surprisingly on unicode inputs. Use frombuffer instead\n",
      "  etmode = np.fromstring(etmode, UINT8).tolist()[0]\n",
      "<ipython-input-2-8dc407ed6195>:12: RuntimeWarning: Channel names are not unique, found duplicates for: {'EEG'}. Applying running numbers for duplicates.\n",
      "  raw = concatenate_raws([read_raw_gdf(f, preload=True) for f in data_path])\n"
     ]
    },
    {
     "name": "stdout",
     "output_type": "stream",
     "text": [
      "Extracting EDF parameters from c:\\Users\\asus\\Desktop\\Motorimagery_for_gamification\\dataset\\bci_dataset\\train\\A04T.gdf...\n",
      "GDF file detected\n",
      "Setting channel info structure...\n",
      "Creating raw.info structure...\n",
      "Reading 0 ... 600914  =      0.000 ...  2403.656 secs...\n"
     ]
    },
    {
     "name": "stderr",
     "output_type": "stream",
     "text": [
      "C:\\Users\\asus\\anaconda3\\envs\\tf_gpu\\lib\\site-packages\\mne\\io\\edf\\edf.py:1047: DeprecationWarning: The binary mode of fromstring is deprecated, as it behaves surprisingly on unicode inputs. Use frombuffer instead\n",
      "  etmode = np.fromstring(etmode, UINT8).tolist()[0]\n",
      "<ipython-input-2-8dc407ed6195>:12: RuntimeWarning: Channel names are not unique, found duplicates for: {'EEG'}. Applying running numbers for duplicates.\n",
      "  raw = concatenate_raws([read_raw_gdf(f, preload=True) for f in data_path])\n"
     ]
    },
    {
     "name": "stdout",
     "output_type": "stream",
     "text": [
      "Extracting EDF parameters from c:\\Users\\asus\\Desktop\\Motorimagery_for_gamification\\dataset\\bci_dataset\\train\\A05T.gdf...\n",
      "GDF file detected\n",
      "Setting channel info structure...\n",
      "Creating raw.info structure...\n",
      "Reading 0 ... 686119  =      0.000 ...  2744.476 secs...\n"
     ]
    },
    {
     "name": "stderr",
     "output_type": "stream",
     "text": [
      "C:\\Users\\asus\\anaconda3\\envs\\tf_gpu\\lib\\site-packages\\mne\\io\\edf\\edf.py:1047: DeprecationWarning: The binary mode of fromstring is deprecated, as it behaves surprisingly on unicode inputs. Use frombuffer instead\n",
      "  etmode = np.fromstring(etmode, UINT8).tolist()[0]\n",
      "<ipython-input-2-8dc407ed6195>:12: RuntimeWarning: Channel names are not unique, found duplicates for: {'EEG'}. Applying running numbers for duplicates.\n",
      "  raw = concatenate_raws([read_raw_gdf(f, preload=True) for f in data_path])\n"
     ]
    },
    {
     "name": "stdout",
     "output_type": "stream",
     "text": [
      "Extracting EDF parameters from c:\\Users\\asus\\Desktop\\Motorimagery_for_gamification\\dataset\\bci_dataset\\train\\A06T.gdf...\n",
      "GDF file detected\n",
      "Setting channel info structure...\n",
      "Creating raw.info structure...\n",
      "Reading 0 ... 678979  =      0.000 ...  2715.916 secs...\n"
     ]
    },
    {
     "name": "stderr",
     "output_type": "stream",
     "text": [
      "C:\\Users\\asus\\anaconda3\\envs\\tf_gpu\\lib\\site-packages\\mne\\io\\edf\\edf.py:1047: DeprecationWarning: The binary mode of fromstring is deprecated, as it behaves surprisingly on unicode inputs. Use frombuffer instead\n",
      "  etmode = np.fromstring(etmode, UINT8).tolist()[0]\n",
      "<ipython-input-2-8dc407ed6195>:12: RuntimeWarning: Channel names are not unique, found duplicates for: {'EEG'}. Applying running numbers for duplicates.\n",
      "  raw = concatenate_raws([read_raw_gdf(f, preload=True) for f in data_path])\n"
     ]
    },
    {
     "name": "stdout",
     "output_type": "stream",
     "text": [
      "Extracting EDF parameters from c:\\Users\\asus\\Desktop\\Motorimagery_for_gamification\\dataset\\bci_dataset\\train\\A07T.gdf...\n",
      "GDF file detected\n",
      "Setting channel info structure...\n",
      "Creating raw.info structure...\n",
      "Reading 0 ... 681070  =      0.000 ...  2724.280 secs...\n"
     ]
    },
    {
     "name": "stderr",
     "output_type": "stream",
     "text": [
      "C:\\Users\\asus\\anaconda3\\envs\\tf_gpu\\lib\\site-packages\\mne\\io\\edf\\edf.py:1047: DeprecationWarning: The binary mode of fromstring is deprecated, as it behaves surprisingly on unicode inputs. Use frombuffer instead\n",
      "  etmode = np.fromstring(etmode, UINT8).tolist()[0]\n",
      "<ipython-input-2-8dc407ed6195>:12: RuntimeWarning: Channel names are not unique, found duplicates for: {'EEG'}. Applying running numbers for duplicates.\n",
      "  raw = concatenate_raws([read_raw_gdf(f, preload=True) for f in data_path])\n"
     ]
    },
    {
     "name": "stdout",
     "output_type": "stream",
     "text": [
      "Extracting EDF parameters from c:\\Users\\asus\\Desktop\\Motorimagery_for_gamification\\dataset\\bci_dataset\\train\\A08T.gdf...\n",
      "GDF file detected\n",
      "Setting channel info structure...\n",
      "Creating raw.info structure...\n",
      "Reading 0 ... 675269  =      0.000 ...  2701.076 secs...\n"
     ]
    },
    {
     "name": "stderr",
     "output_type": "stream",
     "text": [
      "C:\\Users\\asus\\anaconda3\\envs\\tf_gpu\\lib\\site-packages\\mne\\io\\edf\\edf.py:1047: DeprecationWarning: The binary mode of fromstring is deprecated, as it behaves surprisingly on unicode inputs. Use frombuffer instead\n",
      "  etmode = np.fromstring(etmode, UINT8).tolist()[0]\n",
      "<ipython-input-2-8dc407ed6195>:12: RuntimeWarning: Channel names are not unique, found duplicates for: {'EEG'}. Applying running numbers for duplicates.\n",
      "  raw = concatenate_raws([read_raw_gdf(f, preload=True) for f in data_path])\n"
     ]
    },
    {
     "name": "stdout",
     "output_type": "stream",
     "text": [
      "Extracting EDF parameters from c:\\Users\\asus\\Desktop\\Motorimagery_for_gamification\\dataset\\bci_dataset\\train\\A09T.gdf...\n",
      "GDF file detected\n",
      "Setting channel info structure...\n",
      "Creating raw.info structure...\n",
      "Reading 0 ... 673327  =      0.000 ...  2693.308 secs...\n"
     ]
    },
    {
     "name": "stderr",
     "output_type": "stream",
     "text": [
      "C:\\Users\\asus\\anaconda3\\envs\\tf_gpu\\lib\\site-packages\\mne\\io\\edf\\edf.py:1047: DeprecationWarning: The binary mode of fromstring is deprecated, as it behaves surprisingly on unicode inputs. Use frombuffer instead\n",
      "  etmode = np.fromstring(etmode, UINT8).tolist()[0]\n",
      "<ipython-input-2-8dc407ed6195>:12: RuntimeWarning: Channel names are not unique, found duplicates for: {'EEG'}. Applying running numbers for duplicates.\n",
      "  raw = concatenate_raws([read_raw_gdf(f, preload=True) for f in data_path])\n"
     ]
    },
    {
     "name": "stdout",
     "output_type": "stream",
     "text": [
      "Used Annotations descriptions: ['1023', '1072', '276', '277', '32766', '768', '769', '770', '771', '772']\n",
      "Not setting metadata\n",
      "Not setting metadata\n",
      "289 matching events found\n",
      "No baseline correction applied\n",
      "0 projection items activated\n",
      "Loading data for 289 events and 1126 original time points ...\n",
      "9 bad epochs dropped\n"
     ]
    }
   ],
   "source": [
    "def get_data():\n",
    "    path = \"dataset\\\\bci_dataset\\\\train\"\n",
    "    files = os.listdir(path)\n",
    "    data_path = []\n",
    "    for f in files:\n",
    "        file = os.path.join(path,f)\n",
    "        data_path.append(file)\n",
    "    \n",
    "    tmin, tmax = -0.5, 4.\n",
    "    event_id = dict(left=1, right = 2, foot=3,tongue=4)\n",
    "\n",
    "    raw = concatenate_raws([read_raw_gdf(f, preload=True) for f in data_path])\n",
    "\n",
    "    # strip channel names of \".\" characters\n",
    "    raw.rename_channels(lambda x: x.strip('.'))\n",
    "\n",
    "    # Apply band-pass filter\n",
    "    #raw.filter(7., 30., fir_design='firwin', skip_by_annotation='edge')\n",
    "\n",
    "    events, _ = events_from_annotations(raw)\n",
    "    \n",
    "    picks = pick_types(raw.info, meg=False, eeg=True, stim=False, eog=False,\n",
    "                       exclude='bads')\n",
    "    #delete eog band\n",
    "    picks = np.delete(picks,[22,23,24])\n",
    "    # Read epochs (train will be done only between 1 and 2s)\n",
    "    # Testing will be done with a running classifier\n",
    "    epochs = Epochs(raw, events, event_id, tmin, tmax, proj=True, picks=picks,\n",
    "                    baseline=None, preload=True)\n",
    "    epochs.crop(tmin=1., tmax=None)\n",
    "    labels = epochs.events[:, 2] -1\n",
    "    return epochs.get_data()[:, :, :256], labels\n",
    "\n",
    "\n",
    "epochs_data, labels = get_data()"
   ]
  },
  {
   "cell_type": "code",
   "execution_count": 3,
   "metadata": {},
   "outputs": [
    {
     "name": "stdout",
     "output_type": "stream",
     "text": [
      "(280, 22, 256)\n",
      "(280,)\n",
      "22\n",
      "[3 1 0 0 0 0 0 0 0 0 0 0 0 0 0 0 0 3 1 0 0 0 0 0 0 0 0 0 0 0 0 0 0 0 0 0 0\n",
      " 3 1 0 0 0 0 0 0 0 0 0 0 0 0 0 0 0 0 0 0 0 0 0 0 0 0 0 0 0 0 0 0 0 0 0 0 0\n",
      " 0 0 0 0 0 0 0 0 0 3 1 0 0 0 0 0 0 0 0 0 0 0 0 0 0 0 0 0 0 0 0 0 0 0 0 0 0\n",
      " 3 1 0 0 0 0 0 0 0 0 0 0 0 0 0 0 0 0 0 0 0 0 0 0 0 0 0 0 0 0 0 0 0 0 0 0 0\n",
      " 0 0 0 0 0 0 0 0 0 0 0 0 0 0 0 0 0 0 0 0 0 0 0 0 0 0 0 0 0 0 0 0 0 0 3 1 0\n",
      " 0 0 0 0 0 0 0 0 0 0 0 0 0 0 0 0 3 1 0 0 0 0 0 0 0 0 0 0 0 0 0 0 0 0 0 0 0\n",
      " 0 0 0 0 0 3 1 0 0 0 0 0 0 0 0 0 0 0 0 0 0 0 0 0 0 0 0 0 0 0 0 0 0 0 0 0 0\n",
      " 0 0 0 0 0 0 0 0 0 0 0 0 0 0 0 0 0 0 0 0 0]\n"
     ]
    }
   ],
   "source": [
    "# 280 events\n",
    "# 22 channel\n",
    "# 256 Time\n",
    "print(epochs_data.shape)\n",
    "print(labels.shape)\n",
    "print(epochs_data.shape[1])\n",
    "print(labels)"
   ]
  },
  {
   "cell_type": "code",
   "execution_count": 4,
   "metadata": {},
   "outputs": [],
   "source": [
    "def amplitude(x):\n",
    "    \"\"\"Data augmentation for adding noise to amplitude of sepctral image\n",
    "    ----------\n",
    "    X : array, shape (n_channels, n_times)\n",
    "        The input signals.\n",
    "    Returns\n",
    "    -------\n",
    "    X_t : array, shape (n_channels, n_times)\n",
    "        reconstructed new time series from inverse STFT\n",
    "    \"\"\"\n",
    "    print(\"Hello\")\n",
    "\n"
   ]
  },
  {
   "cell_type": "code",
   "execution_count": 5,
   "metadata": {},
   "outputs": [],
   "source": [
    "import torch   \n",
    "import torch.optim as optim  \n",
    "from torch.utils.data import Dataset, DataLoader  \n",
    "from torch.utils.data import Subset  \n",
    "from torch import nn  \n",
    "import torch.nn.functional as F  \n",
    "from torch.utils.data import RandomSampler  \n",
    "from torch.utils.data import SequentialSampler  \n",
    "\n",
    "from common import EpochsDataset  \n",
    "\n",
    "cv = ShuffleSplit(10, test_size=0.2, random_state=42)\n",
    "cv_split = cv.split(epochs_data)\n",
    "train_idx, test_idx = next(cv_split)\n",
    "\n",
    "\n",
    "def scale(X):\n",
    "    \"\"\"Standard scaling of data along the last dimention.\n",
    "    Parameters\n",
    "    ----------\n",
    "    X : array, shape (n_channels, n_times)\n",
    "        The input signals.\n",
    "    Returns\n",
    "    -------\n",
    "    X_t : array, shape (n_channels, n_times)\n",
    "        The scaled signals.\n",
    "    \"\"\"\n",
    "    return X / 2e-5\n",
    "\n",
    "dataset = EpochsDataset(epochs_data, labels, transform=scale)\n",
    "\n",
    "ds_train, ds_valid = Subset(dataset, train_idx), Subset(dataset, test_idx)\n",
    "\n",
    "batch_size_train = len(ds_train)\n",
    "batch_size_valid = len(ds_valid)\n",
    "sampler_train = RandomSampler(ds_train)\n",
    "sampler_valid = SequentialSampler(ds_valid)\n",
    "\n",
    "# create loaders\n",
    "num_workers = 0\n",
    "loader_train = \\\n",
    "    DataLoader(ds_train, batch_size=batch_size_train,\n",
    "               num_workers=num_workers, sampler=sampler_train)\n",
    "loader_valid = \\\n",
    "    DataLoader(ds_valid, batch_size=batch_size_valid,\n",
    "               num_workers=num_workers, sampler=sampler_valid)"
   ]
  },
  {
   "cell_type": "code",
   "execution_count": 6,
   "metadata": {},
   "outputs": [],
   "source": [
    "class SingleNet(nn.Module):\n",
    "    def __init__(self):\n",
    "        super().__init__()\n",
    "\n",
    "        # define model architecture\n",
    "        # torch.Size([36, 1, 64, 256])\n",
    "        # temporal convolutional kernel 25 filter with size(11,1)\n",
    "        #input [224, 1, 22, 256]\n",
    "        #A block\n",
    "        self.temporalConv = nn.Conv1d(in_channels=1,out_channels=8,kernel_size=(11,1),stride=1)\n",
    "        self.spatialConv = nn.Conv1d(in_channels=8,out_channels=8,kernel_size=(12,1),stride=1)\n",
    "        self.maxPooling = nn.MaxPool2d((1,3))\n",
    "        \n",
    "        #B block\n",
    "        # 1st convo output [25,1,371]\n",
    "        #input [224, 8, 1, 85]\n",
    "        self.firstConv = nn.Conv1d(in_channels=8, out_channels=8,kernel_size=(1,1))\n",
    "        self.secondConv = nn.Conv1d(in_channels=8, out_channels=33,kernel_size=(1,1))\n",
    "        self.thirdConv = nn.Conv1d(in_channels=33,out_channels=33,kernel_size=(1,1))\n",
    "        self.maxPooling2 = nn.MaxPool2d((1,3))\n",
    "        \n",
    "        #C block\n",
    "        #input [224, 41, 1, 28]\n",
    "        self.classify = nn.Conv1d(in_channels=41,out_channels=41,kernel_size=(1,11))\n",
    "        self.maxPooling3 = nn.MaxPool2d((1,3))\n",
    "        self.flatten = nn.Flatten()\n",
    "        self.elu = nn.ELU()\n",
    "        self.fully = nn.Linear(246,4)\n",
    "        \n",
    "        \n",
    "    def forward(self, x):\n",
    "        #Conv1d(1,ch,kernel_size=10) on tensor [batch=1, channels=1, time=400]\n",
    "        x = self.temporalConv(x)\n",
    "        x= self.spatialConv(x)\n",
    "        x = self.elu(x)\n",
    "        x = self.maxPooling(x)\n",
    "        \n",
    "        out2 = self.firstConv(x)\n",
    "        out2 = self.secondConv(out2)\n",
    "        out2 = self.thirdConv(out2)\n",
    "        out3 = torch.cat((x,out2),1)\n",
    "        out3 = self.maxPooling2(out3)\n",
    "        \n",
    "        out3 = self.classify(out3)\n",
    "        out3 = self.maxPooling3(out3)\n",
    "        out3 = self.flatten(out3)\n",
    "        out3 = self.elu(out3)\n",
    "        out3 = self.fully(out3)\n",
    "        out3 = self.elu(out3)\n",
    "        out3 = F.log_softmax(out3, dim=1)\n",
    "        \n",
    "        return out3"
   ]
  },
  {
   "cell_type": "code",
   "execution_count": 7,
   "metadata": {},
   "outputs": [],
   "source": [
    "#device = 'cuda'\n",
    "device = 'cpu'\n",
    "model = SingleNet()\n"
   ]
  },
  {
   "cell_type": "code",
   "execution_count": 8,
   "metadata": {},
   "outputs": [
    {
     "name": "stdout",
     "output_type": "stream",
     "text": [
      "\n",
      "Starting epoch 1 / 50\n"
     ]
    },
    {
     "name": "stderr",
     "output_type": "stream",
     "text": [
      "  0%|          | 0/1 [00:00<?, ?it/s]C:\\Users\\asus\\anaconda3\\envs\\tf_gpu\\lib\\site-packages\\torch\\nn\\functional.py:718: UserWarning: Named tensors and all their associated APIs are an experimental feature and subject to change. Please do not use them for anything important until they are released as stable. (Triggered internally at  ..\\c10/core/TensorImpl.h:1156.)\n",
      "  return torch.max_pool2d(input, kernel_size, stride, padding, dilation, ceil_mode)\n",
      "avg train loss: 1.3512: 100%|██████████| 1/1 [00:00<00:00,  2.72it/s]\n",
      "avg val loss: 1.3289: 100%|██████████| 1/1 [00:00<00:00, 29.49it/s]\n"
     ]
    },
    {
     "name": "stdout",
     "output_type": "stream",
     "text": [
      "---  Accuracy : 0.7678571343421936 \n",
      "\n",
      "\n",
      "best val loss inf -> 1.3289\n",
      "\n",
      "Starting epoch 2 / 50\n"
     ]
    },
    {
     "name": "stderr",
     "output_type": "stream",
     "text": [
      "avg train loss: 1.3263: 100%|██████████| 1/1 [00:00<00:00,  5.65it/s]\n",
      "avg val loss: 1.3031: 100%|██████████| 1/1 [00:00<00:00, 40.11it/s]\n"
     ]
    },
    {
     "name": "stdout",
     "output_type": "stream",
     "text": [
      "---  Accuracy : 0.9285714030265808 \n",
      "\n",
      "\n",
      "best val loss 1.3289 -> 1.3031\n",
      "\n",
      "Starting epoch 3 / 50\n"
     ]
    },
    {
     "name": "stderr",
     "output_type": "stream",
     "text": [
      "avg train loss: 1.3016: 100%|██████████| 1/1 [00:00<00:00,  5.51it/s]\n",
      "avg val loss: 1.2774: 100%|██████████| 1/1 [00:00<00:00, 52.77it/s]\n"
     ]
    },
    {
     "name": "stdout",
     "output_type": "stream",
     "text": [
      "---  Accuracy : 0.9642857313156128 \n",
      "\n",
      "\n",
      "best val loss 1.3031 -> 1.2774\n",
      "\n",
      "Starting epoch 4 / 50\n"
     ]
    },
    {
     "name": "stderr",
     "output_type": "stream",
     "text": [
      "avg train loss: 1.2771: 100%|██████████| 1/1 [00:00<00:00,  4.50it/s]\n",
      "avg val loss: 1.2518: 100%|██████████| 1/1 [00:00<00:00, 31.33it/s]\n"
     ]
    },
    {
     "name": "stdout",
     "output_type": "stream",
     "text": [
      "---  Accuracy : 0.9642857313156128 \n",
      "\n",
      "\n",
      "best val loss 1.2774 -> 1.2518\n",
      "\n",
      "Starting epoch 5 / 50\n"
     ]
    },
    {
     "name": "stderr",
     "output_type": "stream",
     "text": [
      "avg train loss: 1.2527: 100%|██████████| 1/1 [00:00<00:00,  3.14it/s]\n",
      "avg val loss: 1.2263: 100%|██████████| 1/1 [00:00<00:00, 35.81it/s]\n"
     ]
    },
    {
     "name": "stdout",
     "output_type": "stream",
     "text": [
      "---  Accuracy : 0.9642857313156128 \n",
      "\n",
      "\n",
      "best val loss 1.2518 -> 1.2263\n",
      "\n",
      "Starting epoch 6 / 50\n"
     ]
    },
    {
     "name": "stderr",
     "output_type": "stream",
     "text": [
      "avg train loss: 1.2283: 100%|██████████| 1/1 [00:00<00:00,  5.04it/s]\n",
      "avg val loss: 1.2009: 100%|██████████| 1/1 [00:00<00:00, 45.58it/s]\n"
     ]
    },
    {
     "name": "stdout",
     "output_type": "stream",
     "text": [
      "---  Accuracy : 0.9642857313156128 \n",
      "\n",
      "\n",
      "best val loss 1.2263 -> 1.2009\n",
      "\n",
      "Starting epoch 7 / 50\n"
     ]
    },
    {
     "name": "stderr",
     "output_type": "stream",
     "text": [
      "avg train loss: 1.2041: 100%|██████████| 1/1 [00:00<00:00,  6.16it/s]\n",
      "avg val loss: 1.1755: 100%|██████████| 1/1 [00:00<00:00, 45.58it/s]\n"
     ]
    },
    {
     "name": "stdout",
     "output_type": "stream",
     "text": [
      "---  Accuracy : 0.9642857313156128 \n",
      "\n",
      "\n",
      "best val loss 1.2009 -> 1.1755\n",
      "\n",
      "Starting epoch 8 / 50\n"
     ]
    },
    {
     "name": "stderr",
     "output_type": "stream",
     "text": [
      "avg train loss: 1.1800: 100%|██████████| 1/1 [00:00<00:00,  5.51it/s]\n",
      "avg val loss: 1.1503: 100%|██████████| 1/1 [00:00<00:00, 38.57it/s]\n"
     ]
    },
    {
     "name": "stdout",
     "output_type": "stream",
     "text": [
      "---  Accuracy : 0.9642857313156128 \n",
      "\n",
      "\n",
      "best val loss 1.1755 -> 1.1503\n",
      "\n",
      "Starting epoch 9 / 50\n"
     ]
    },
    {
     "name": "stderr",
     "output_type": "stream",
     "text": [
      "avg train loss: 1.1560: 100%|██████████| 1/1 [00:00<00:00,  5.31it/s]\n",
      "avg val loss: 1.1250: 100%|██████████| 1/1 [00:00<00:00, 40.11it/s]\n"
     ]
    },
    {
     "name": "stdout",
     "output_type": "stream",
     "text": [
      "---  Accuracy : 0.9642857313156128 \n",
      "\n",
      "\n",
      "best val loss 1.1503 -> 1.1250\n",
      "\n",
      "Starting epoch 10 / 50\n"
     ]
    },
    {
     "name": "stderr",
     "output_type": "stream",
     "text": [
      "avg train loss: 1.1320: 100%|██████████| 1/1 [00:00<00:00,  5.62it/s]\n",
      "avg val loss: 1.0998: 100%|██████████| 1/1 [00:00<00:00, 44.55it/s]\n"
     ]
    },
    {
     "name": "stdout",
     "output_type": "stream",
     "text": [
      "---  Accuracy : 0.9642857313156128 \n",
      "\n",
      "\n",
      "best val loss 1.1250 -> 1.0998\n",
      "\n",
      "Starting epoch 11 / 50\n"
     ]
    },
    {
     "name": "stderr",
     "output_type": "stream",
     "text": [
      "avg train loss: 1.1081: 100%|██████████| 1/1 [00:00<00:00,  5.05it/s]\n",
      "avg val loss: 1.0747: 100%|██████████| 1/1 [00:00<00:00, 41.78it/s]\n"
     ]
    },
    {
     "name": "stdout",
     "output_type": "stream",
     "text": [
      "---  Accuracy : 0.9642857313156128 \n",
      "\n",
      "\n",
      "best val loss 1.0998 -> 1.0747\n",
      "\n",
      "Starting epoch 12 / 50\n"
     ]
    },
    {
     "name": "stderr",
     "output_type": "stream",
     "text": [
      "avg train loss: 1.0842: 100%|██████████| 1/1 [00:00<00:00,  5.60it/s]\n",
      "avg val loss: 1.0496: 100%|██████████| 1/1 [00:00<00:00, 40.11it/s]\n"
     ]
    },
    {
     "name": "stdout",
     "output_type": "stream",
     "text": [
      "---  Accuracy : 0.9642857313156128 \n",
      "\n",
      "\n",
      "best val loss 1.0747 -> 1.0496\n",
      "\n",
      "Starting epoch 13 / 50\n"
     ]
    },
    {
     "name": "stderr",
     "output_type": "stream",
     "text": [
      "avg train loss: 1.0605: 100%|██████████| 1/1 [00:00<00:00,  5.70it/s]\n",
      "avg val loss: 1.0245: 100%|██████████| 1/1 [00:00<00:00, 35.81it/s]\n"
     ]
    },
    {
     "name": "stdout",
     "output_type": "stream",
     "text": [
      "---  Accuracy : 0.9642857313156128 \n",
      "\n",
      "\n",
      "best val loss 1.0496 -> 1.0245\n",
      "\n",
      "Starting epoch 14 / 50\n"
     ]
    },
    {
     "name": "stderr",
     "output_type": "stream",
     "text": [
      "avg train loss: 1.0367: 100%|██████████| 1/1 [00:00<00:00,  6.41it/s]\n",
      "avg val loss: 0.9995: 100%|██████████| 1/1 [00:00<00:00, 44.54it/s]\n"
     ]
    },
    {
     "name": "stdout",
     "output_type": "stream",
     "text": [
      "---  Accuracy : 0.9642857313156128 \n",
      "\n",
      "\n",
      "best val loss 1.0245 -> 0.9995\n",
      "\n",
      "Starting epoch 15 / 50\n"
     ]
    },
    {
     "name": "stderr",
     "output_type": "stream",
     "text": [
      "avg train loss: 1.0131: 100%|██████████| 1/1 [00:00<00:00,  5.70it/s]\n",
      "avg val loss: 0.9745: 100%|██████████| 1/1 [00:00<00:00, 52.77it/s]\n"
     ]
    },
    {
     "name": "stdout",
     "output_type": "stream",
     "text": [
      "---  Accuracy : 0.9642857313156128 \n",
      "\n",
      "\n",
      "best val loss 0.9995 -> 0.9745\n",
      "\n",
      "Starting epoch 16 / 50\n"
     ]
    },
    {
     "name": "stderr",
     "output_type": "stream",
     "text": [
      "avg train loss: 0.9895: 100%|██████████| 1/1 [00:00<00:00,  6.55it/s]\n",
      "avg val loss: 0.9496: 100%|██████████| 1/1 [00:00<00:00, 55.70it/s]\n"
     ]
    },
    {
     "name": "stdout",
     "output_type": "stream",
     "text": [
      "---  Accuracy : 0.9642857313156128 \n",
      "\n",
      "\n",
      "best val loss 0.9745 -> 0.9496\n",
      "\n",
      "Starting epoch 17 / 50\n"
     ]
    },
    {
     "name": "stderr",
     "output_type": "stream",
     "text": [
      "avg train loss: 0.9660: 100%|██████████| 1/1 [00:00<00:00,  7.21it/s]\n",
      "avg val loss: 0.9247: 100%|██████████| 1/1 [00:00<00:00, 52.78it/s]"
     ]
    },
    {
     "name": "stdout",
     "output_type": "stream",
     "text": [
      "---  Accuracy : 0.9642857313156128 \n",
      "\n",
      "\n",
      "best val loss 0.9496 -> 0.9247\n"
     ]
    },
    {
     "name": "stderr",
     "output_type": "stream",
     "text": [
      "\n"
     ]
    },
    {
     "name": "stdout",
     "output_type": "stream",
     "text": [
      "\n",
      "Starting epoch 18 / 50\n"
     ]
    },
    {
     "name": "stderr",
     "output_type": "stream",
     "text": [
      "avg train loss: 0.9426: 100%|██████████| 1/1 [00:00<00:00,  6.28it/s]\n",
      "avg val loss: 0.8999: 100%|██████████| 1/1 [00:00<00:00, 50.13it/s]\n"
     ]
    },
    {
     "name": "stdout",
     "output_type": "stream",
     "text": [
      "---  Accuracy : 0.9642857313156128 \n",
      "\n",
      "\n",
      "best val loss 0.9247 -> 0.8999\n",
      "\n",
      "Starting epoch 19 / 50\n"
     ]
    },
    {
     "name": "stderr",
     "output_type": "stream",
     "text": [
      "avg train loss: 0.9193: 100%|██████████| 1/1 [00:00<00:00,  5.96it/s]\n",
      "avg val loss: 0.8752: 100%|██████████| 1/1 [00:00<00:00, 50.13it/s]\n"
     ]
    },
    {
     "name": "stdout",
     "output_type": "stream",
     "text": [
      "---  Accuracy : 0.9642857313156128 \n",
      "\n",
      "\n",
      "best val loss 0.8999 -> 0.8752\n",
      "\n",
      "Starting epoch 20 / 50\n"
     ]
    },
    {
     "name": "stderr",
     "output_type": "stream",
     "text": [
      "avg train loss: 0.8961: 100%|██████████| 1/1 [00:00<00:00,  6.65it/s]\n",
      "avg val loss: 0.8506: 100%|██████████| 1/1 [00:00<00:00, 58.98it/s]\n"
     ]
    },
    {
     "name": "stdout",
     "output_type": "stream",
     "text": [
      "---  Accuracy : 0.9642857313156128 \n",
      "\n",
      "\n",
      "best val loss 0.8752 -> 0.8506\n",
      "\n",
      "Starting epoch 21 / 50\n"
     ]
    },
    {
     "name": "stderr",
     "output_type": "stream",
     "text": [
      "avg train loss: 0.8731: 100%|██████████| 1/1 [00:00<00:00,  6.82it/s]\n",
      "avg val loss: 0.8262: 100%|██████████| 1/1 [00:00<00:00, 62.67it/s]\n"
     ]
    },
    {
     "name": "stdout",
     "output_type": "stream",
     "text": [
      "---  Accuracy : 0.9642857313156128 \n",
      "\n",
      "\n",
      "best val loss 0.8506 -> 0.8262\n",
      "\n",
      "Starting epoch 22 / 50\n"
     ]
    },
    {
     "name": "stderr",
     "output_type": "stream",
     "text": [
      "avg train loss: 0.8503: 100%|██████████| 1/1 [00:00<00:00,  6.15it/s]\n",
      "avg val loss: 0.8019: 100%|██████████| 1/1 [00:00<00:00, 47.74it/s]\n"
     ]
    },
    {
     "name": "stdout",
     "output_type": "stream",
     "text": [
      "---  Accuracy : 0.9642857313156128 \n",
      "\n",
      "\n",
      "best val loss 0.8262 -> 0.8019\n",
      "\n",
      "Starting epoch 23 / 50\n"
     ]
    },
    {
     "name": "stderr",
     "output_type": "stream",
     "text": [
      "avg train loss: 0.8276: 100%|██████████| 1/1 [00:00<00:00,  5.20it/s]\n",
      "avg val loss: 0.7779: 100%|██████████| 1/1 [00:00<00:00, 27.85it/s]\n"
     ]
    },
    {
     "name": "stdout",
     "output_type": "stream",
     "text": [
      "---  Accuracy : 0.9642857313156128 \n",
      "\n",
      "\n",
      "best val loss 0.8019 -> 0.7779\n",
      "\n",
      "Starting epoch 24 / 50\n"
     ]
    },
    {
     "name": "stderr",
     "output_type": "stream",
     "text": [
      "avg train loss: 0.8052: 100%|██████████| 1/1 [00:00<00:00,  5.24it/s]\n",
      "avg val loss: 0.7541: 100%|██████████| 1/1 [00:00<00:00, 37.14it/s]\n"
     ]
    },
    {
     "name": "stdout",
     "output_type": "stream",
     "text": [
      "---  Accuracy : 0.9642857313156128 \n",
      "\n",
      "\n",
      "best val loss 0.7779 -> 0.7541\n",
      "\n",
      "Starting epoch 25 / 50\n"
     ]
    },
    {
     "name": "stderr",
     "output_type": "stream",
     "text": [
      "avg train loss: 0.7831: 100%|██████████| 1/1 [00:00<00:00,  5.86it/s]\n",
      "avg val loss: 0.7306: 100%|██████████| 1/1 [00:00<00:00, 38.57it/s]\n"
     ]
    },
    {
     "name": "stdout",
     "output_type": "stream",
     "text": [
      "---  Accuracy : 0.9642857313156128 \n",
      "\n",
      "\n",
      "best val loss 0.7541 -> 0.7306\n",
      "\n",
      "Starting epoch 26 / 50\n"
     ]
    },
    {
     "name": "stderr",
     "output_type": "stream",
     "text": [
      "avg train loss: 0.7612: 100%|██████████| 1/1 [00:00<00:00,  4.07it/s]\n",
      "avg val loss: 0.7074: 100%|██████████| 1/1 [00:00<00:00, 40.00it/s]\n"
     ]
    },
    {
     "name": "stdout",
     "output_type": "stream",
     "text": [
      "---  Accuracy : 0.9642857313156128 \n",
      "\n",
      "\n",
      "best val loss 0.7306 -> 0.7074\n",
      "\n",
      "Starting epoch 27 / 50\n"
     ]
    },
    {
     "name": "stderr",
     "output_type": "stream",
     "text": [
      "avg train loss: 0.7397: 100%|██████████| 1/1 [00:00<00:00,  5.98it/s]\n",
      "avg val loss: 0.6845: 100%|██████████| 1/1 [00:00<00:00, 41.78it/s]\n"
     ]
    },
    {
     "name": "stdout",
     "output_type": "stream",
     "text": [
      "---  Accuracy : 0.9642857313156128 \n",
      "\n",
      "\n",
      "best val loss 0.7074 -> 0.6845\n",
      "\n",
      "Starting epoch 28 / 50\n"
     ]
    },
    {
     "name": "stderr",
     "output_type": "stream",
     "text": [
      "avg train loss: 0.7186: 100%|██████████| 1/1 [00:00<00:00,  5.44it/s]\n",
      "avg val loss: 0.6620: 100%|██████████| 1/1 [00:00<00:00, 43.47it/s]\n"
     ]
    },
    {
     "name": "stdout",
     "output_type": "stream",
     "text": [
      "---  Accuracy : 0.9642857313156128 \n",
      "\n",
      "\n",
      "best val loss 0.6845 -> 0.6620\n",
      "\n",
      "Starting epoch 29 / 50\n"
     ]
    },
    {
     "name": "stderr",
     "output_type": "stream",
     "text": [
      "avg train loss: 0.6978: 100%|██████████| 1/1 [00:00<00:00,  4.81it/s]\n",
      "avg val loss: 0.6400: 100%|██████████| 1/1 [00:00<00:00, 50.07it/s]\n"
     ]
    },
    {
     "name": "stdout",
     "output_type": "stream",
     "text": [
      "---  Accuracy : 0.9642857313156128 \n",
      "\n",
      "\n",
      "best val loss 0.6620 -> 0.6400\n",
      "\n",
      "Starting epoch 30 / 50\n"
     ]
    },
    {
     "name": "stderr",
     "output_type": "stream",
     "text": [
      "avg train loss: 0.6775: 100%|██████████| 1/1 [00:00<00:00,  5.88it/s]\n",
      "avg val loss: 0.6184: 100%|██████████| 1/1 [00:00<00:00, 40.83it/s]\n"
     ]
    },
    {
     "name": "stdout",
     "output_type": "stream",
     "text": [
      "---  Accuracy : 0.9642857313156128 \n",
      "\n",
      "\n",
      "best val loss 0.6400 -> 0.6184\n",
      "\n",
      "Starting epoch 31 / 50\n"
     ]
    },
    {
     "name": "stderr",
     "output_type": "stream",
     "text": [
      "avg train loss: 0.6577: 100%|██████████| 1/1 [00:00<00:00,  5.37it/s]\n",
      "avg val loss: 0.5973: 100%|██████████| 1/1 [00:00<00:00, 41.78it/s]\n"
     ]
    },
    {
     "name": "stdout",
     "output_type": "stream",
     "text": [
      "---  Accuracy : 0.9642857313156128 \n",
      "\n",
      "\n",
      "best val loss 0.6184 -> 0.5973\n",
      "\n",
      "Starting epoch 32 / 50\n"
     ]
    },
    {
     "name": "stderr",
     "output_type": "stream",
     "text": [
      "avg train loss: 0.6384: 100%|██████████| 1/1 [00:00<00:00,  5.89it/s]\n",
      "avg val loss: 0.5767: 100%|██████████| 1/1 [00:00<00:00, 45.44it/s]\n"
     ]
    },
    {
     "name": "stdout",
     "output_type": "stream",
     "text": [
      "---  Accuracy : 0.9642857313156128 \n",
      "\n",
      "\n",
      "best val loss 0.5973 -> 0.5767\n",
      "\n",
      "Starting epoch 33 / 50\n"
     ]
    },
    {
     "name": "stderr",
     "output_type": "stream",
     "text": [
      "avg train loss: 0.6196: 100%|██████████| 1/1 [00:00<00:00,  6.10it/s]\n",
      "avg val loss: 0.5567: 100%|██████████| 1/1 [00:00<00:00, 54.40it/s]\n"
     ]
    },
    {
     "name": "stdout",
     "output_type": "stream",
     "text": [
      "---  Accuracy : 0.9642857313156128 \n",
      "\n",
      "\n",
      "best val loss 0.5767 -> 0.5567\n",
      "\n",
      "Starting epoch 34 / 50\n"
     ]
    },
    {
     "name": "stderr",
     "output_type": "stream",
     "text": [
      "avg train loss: 0.6014: 100%|██████████| 1/1 [00:00<00:00,  5.79it/s]\n",
      "avg val loss: 0.5372: 100%|██████████| 1/1 [00:00<00:00, 48.79it/s]\n"
     ]
    },
    {
     "name": "stdout",
     "output_type": "stream",
     "text": [
      "---  Accuracy : 0.9642857313156128 \n",
      "\n",
      "\n",
      "best val loss 0.5567 -> 0.5372\n",
      "\n",
      "Starting epoch 35 / 50\n"
     ]
    },
    {
     "name": "stderr",
     "output_type": "stream",
     "text": [
      "avg train loss: 0.5837: 100%|██████████| 1/1 [00:00<00:00,  5.41it/s]\n",
      "avg val loss: 0.5184: 100%|██████████| 1/1 [00:00<00:00, 45.58it/s]\n"
     ]
    },
    {
     "name": "stdout",
     "output_type": "stream",
     "text": [
      "---  Accuracy : 0.9642857313156128 \n",
      "\n",
      "\n",
      "best val loss 0.5372 -> 0.5184\n",
      "\n",
      "Starting epoch 36 / 50\n"
     ]
    },
    {
     "name": "stderr",
     "output_type": "stream",
     "text": [
      "avg train loss: 0.5667: 100%|██████████| 1/1 [00:00<00:00,  5.01it/s]\n",
      "avg val loss: 0.5002: 100%|██████████| 1/1 [00:00<00:00, 41.45it/s]\n"
     ]
    },
    {
     "name": "stdout",
     "output_type": "stream",
     "text": [
      "---  Accuracy : 0.9642857313156128 \n",
      "\n",
      "\n",
      "best val loss 0.5184 -> 0.5002\n",
      "\n",
      "Starting epoch 37 / 50\n"
     ]
    },
    {
     "name": "stderr",
     "output_type": "stream",
     "text": [
      "avg train loss: 0.5503: 100%|██████████| 1/1 [00:00<00:00,  6.28it/s]\n",
      "avg val loss: 0.4826: 100%|██████████| 1/1 [00:00<00:00, 45.58it/s]\n"
     ]
    },
    {
     "name": "stdout",
     "output_type": "stream",
     "text": [
      "---  Accuracy : 0.9642857313156128 \n",
      "\n",
      "\n",
      "best val loss 0.5002 -> 0.4826\n",
      "\n",
      "Starting epoch 38 / 50\n"
     ]
    },
    {
     "name": "stderr",
     "output_type": "stream",
     "text": [
      "avg train loss: 0.5345: 100%|██████████| 1/1 [00:00<00:00,  6.09it/s]\n",
      "avg val loss: 0.4657: 100%|██████████| 1/1 [00:00<00:00, 52.78it/s]\n"
     ]
    },
    {
     "name": "stdout",
     "output_type": "stream",
     "text": [
      "---  Accuracy : 0.9642857313156128 \n",
      "\n",
      "\n",
      "best val loss 0.4826 -> 0.4657\n",
      "\n",
      "Starting epoch 39 / 50\n"
     ]
    },
    {
     "name": "stderr",
     "output_type": "stream",
     "text": [
      "avg train loss: 0.5194: 100%|██████████| 1/1 [00:00<00:00,  6.80it/s]\n",
      "avg val loss: 0.4495: 100%|██████████| 1/1 [00:00<00:00, 58.98it/s]\n"
     ]
    },
    {
     "name": "stdout",
     "output_type": "stream",
     "text": [
      "---  Accuracy : 0.9642857313156128 \n",
      "\n",
      "\n",
      "best val loss 0.4657 -> 0.4495\n",
      "\n",
      "Starting epoch 40 / 50\n"
     ]
    },
    {
     "name": "stderr",
     "output_type": "stream",
     "text": [
      "avg train loss: 0.5050: 100%|██████████| 1/1 [00:00<00:00,  6.91it/s]\n",
      "avg val loss: 0.4339: 100%|██████████| 1/1 [00:00<00:00, 52.88it/s]\n"
     ]
    },
    {
     "name": "stdout",
     "output_type": "stream",
     "text": [
      "---  Accuracy : 0.9642857313156128 \n",
      "\n",
      "\n",
      "best val loss 0.4495 -> 0.4339\n",
      "\n",
      "Starting epoch 41 / 50\n"
     ]
    },
    {
     "name": "stderr",
     "output_type": "stream",
     "text": [
      "avg train loss: 0.4912: 100%|██████████| 1/1 [00:00<00:00,  6.75it/s]\n",
      "avg val loss: 0.4190: 100%|██████████| 1/1 [00:00<00:00, 58.98it/s]\n"
     ]
    },
    {
     "name": "stdout",
     "output_type": "stream",
     "text": [
      "---  Accuracy : 0.9642857313156128 \n",
      "\n",
      "\n",
      "best val loss 0.4339 -> 0.4190\n",
      "\n",
      "Starting epoch 42 / 50\n"
     ]
    },
    {
     "name": "stderr",
     "output_type": "stream",
     "text": [
      "avg train loss: 0.4781: 100%|██████████| 1/1 [00:00<00:00,  6.62it/s]\n",
      "avg val loss: 0.4048: 100%|██████████| 1/1 [00:00<00:00, 47.75it/s]\n"
     ]
    },
    {
     "name": "stdout",
     "output_type": "stream",
     "text": [
      "---  Accuracy : 0.9642857313156128 \n",
      "\n",
      "\n",
      "best val loss 0.4190 -> 0.4048\n",
      "\n",
      "Starting epoch 43 / 50\n"
     ]
    },
    {
     "name": "stderr",
     "output_type": "stream",
     "text": [
      "avg train loss: 0.4657: 100%|██████████| 1/1 [00:00<00:00,  6.99it/s]\n",
      "avg val loss: 0.3913: 100%|██████████| 1/1 [00:00<00:00, 50.13it/s]\n"
     ]
    },
    {
     "name": "stdout",
     "output_type": "stream",
     "text": [
      "---  Accuracy : 0.9642857313156128 \n",
      "\n",
      "\n",
      "best val loss 0.4048 -> 0.3913\n",
      "\n",
      "Starting epoch 44 / 50\n"
     ]
    },
    {
     "name": "stderr",
     "output_type": "stream",
     "text": [
      "avg train loss: 0.4539: 100%|██████████| 1/1 [00:00<00:00,  6.88it/s]\n",
      "avg val loss: 0.3785: 100%|██████████| 1/1 [00:00<00:00, 58.98it/s]\n"
     ]
    },
    {
     "name": "stdout",
     "output_type": "stream",
     "text": [
      "---  Accuracy : 0.9642857313156128 \n",
      "\n",
      "\n",
      "best val loss 0.3913 -> 0.3785\n",
      "\n",
      "Starting epoch 45 / 50\n"
     ]
    },
    {
     "name": "stderr",
     "output_type": "stream",
     "text": [
      "avg train loss: 0.4429: 100%|██████████| 1/1 [00:00<00:00,  7.18it/s]\n",
      "avg val loss: 0.3664: 100%|██████████| 1/1 [00:00<00:00, 58.98it/s]\n"
     ]
    },
    {
     "name": "stdout",
     "output_type": "stream",
     "text": [
      "---  Accuracy : 0.9642857313156128 \n",
      "\n",
      "\n",
      "best val loss 0.3785 -> 0.3664\n",
      "\n",
      "Starting epoch 46 / 50\n"
     ]
    },
    {
     "name": "stderr",
     "output_type": "stream",
     "text": [
      "avg train loss: 0.4324: 100%|██████████| 1/1 [00:00<00:00,  7.01it/s]\n",
      "avg val loss: 0.3549: 100%|██████████| 1/1 [00:00<00:00, 47.75it/s]\n"
     ]
    },
    {
     "name": "stdout",
     "output_type": "stream",
     "text": [
      "---  Accuracy : 0.9642857313156128 \n",
      "\n",
      "\n",
      "best val loss 0.3664 -> 0.3549\n",
      "\n",
      "Starting epoch 47 / 50\n"
     ]
    },
    {
     "name": "stderr",
     "output_type": "stream",
     "text": [
      "avg train loss: 0.4226: 100%|██████████| 1/1 [00:00<00:00,  6.23it/s]\n",
      "avg val loss: 0.3440: 100%|██████████| 1/1 [00:00<00:00, 45.58it/s]\n"
     ]
    },
    {
     "name": "stdout",
     "output_type": "stream",
     "text": [
      "---  Accuracy : 0.9642857313156128 \n",
      "\n",
      "\n",
      "best val loss 0.3549 -> 0.3440\n",
      "\n",
      "Starting epoch 48 / 50\n"
     ]
    },
    {
     "name": "stderr",
     "output_type": "stream",
     "text": [
      "avg train loss: 0.4134: 100%|██████████| 1/1 [00:00<00:00,  5.48it/s]\n",
      "avg val loss: 0.3338: 100%|██████████| 1/1 [00:00<00:00, 43.59it/s]\n"
     ]
    },
    {
     "name": "stdout",
     "output_type": "stream",
     "text": [
      "---  Accuracy : 0.9642857313156128 \n",
      "\n",
      "\n",
      "best val loss 0.3440 -> 0.3338\n",
      "\n",
      "Starting epoch 49 / 50\n"
     ]
    },
    {
     "name": "stderr",
     "output_type": "stream",
     "text": [
      "avg train loss: 0.4048: 100%|██████████| 1/1 [00:00<00:00,  5.90it/s]\n",
      "avg val loss: 0.3241: 100%|██████████| 1/1 [00:00<00:00, 47.75it/s]\n"
     ]
    },
    {
     "name": "stdout",
     "output_type": "stream",
     "text": [
      "---  Accuracy : 0.9642857313156128 \n",
      "\n",
      "\n",
      "best val loss 0.3338 -> 0.3241\n",
      "\n",
      "Starting epoch 50 / 50\n"
     ]
    },
    {
     "name": "stderr",
     "output_type": "stream",
     "text": [
      "avg train loss: 0.3968: 100%|██████████| 1/1 [00:00<00:00,  6.31it/s]\n",
      "avg val loss: 0.3151: 100%|██████████| 1/1 [00:00<00:00, 50.13it/s]"
     ]
    },
    {
     "name": "stdout",
     "output_type": "stream",
     "text": [
      "---  Accuracy : 0.9642857313156128 \n",
      "\n",
      "\n",
      "best val loss 0.3241 -> 0.3151\n"
     ]
    },
    {
     "name": "stderr",
     "output_type": "stream",
     "text": [
      "\n"
     ]
    },
    {
     "data": {
      "text/plain": [
       "SingleNet(\n",
       "  (temporalConv): Conv1d(1, 8, kernel_size=(11, 1), stride=(1,))\n",
       "  (spatialConv): Conv1d(8, 8, kernel_size=(12, 1), stride=(1,))\n",
       "  (maxPooling): MaxPool2d(kernel_size=(1, 3), stride=(1, 3), padding=0, dilation=1, ceil_mode=False)\n",
       "  (firstConv): Conv1d(8, 8, kernel_size=(1, 1), stride=(1,))\n",
       "  (secondConv): Conv1d(8, 33, kernel_size=(1, 1), stride=(1,))\n",
       "  (thirdConv): Conv1d(33, 33, kernel_size=(1, 1), stride=(1,))\n",
       "  (maxPooling2): MaxPool2d(kernel_size=(1, 3), stride=(1, 3), padding=0, dilation=1, ceil_mode=False)\n",
       "  (classify): Conv1d(41, 41, kernel_size=(1, 11), stride=(1,))\n",
       "  (maxPooling3): MaxPool2d(kernel_size=(1, 3), stride=(1, 3), padding=0, dilation=1, ceil_mode=False)\n",
       "  (flatten): Flatten(start_dim=1, end_dim=-1)\n",
       "  (elu): ELU(alpha=1.0)\n",
       "  (fully): Linear(in_features=246, out_features=4, bias=True)\n",
       ")"
      ]
     },
     "execution_count": 8,
     "metadata": {},
     "output_type": "execute_result"
    }
   ],
   "source": [
    "# Train\n",
    "from common import train\n",
    "\n",
    "lr = 1e-4\n",
    "n_epochs = 50\n",
    "patience = 100\n",
    "\n",
    "model.to(device=device) \n",
    "optimizer = optim.Adam(model.parameters(), lr=lr,weight_decay=1e-4)\n",
    "\n",
    "train(model, loader_train, loader_valid, optimizer, n_epochs, patience, device)"
   ]
  },
  {
   "cell_type": "code",
   "execution_count": 9,
   "metadata": {},
   "outputs": [],
   "source": [
    "# Test model works:\n",
    "\n",
    "n_samples_test = 10\n",
    "y_test = torch.randint(0, 2, (n_samples_test,))\n",
    "y_pred = model.forward(torch.randn(n_samples_test, 1, *epochs_data.shape[1:]))\n",
    "output = F.nll_loss(y_pred, y_test)\n",
    "_, top_class = y_pred.topk(1, dim=1)\n"
   ]
  },
  {
   "cell_type": "code",
   "execution_count": 10,
   "metadata": {},
   "outputs": [
    {
     "name": "stdout",
     "output_type": "stream",
     "text": [
      "tensor([[0],\n",
      "        [0],\n",
      "        [0],\n",
      "        [0],\n",
      "        [0],\n",
      "        [0],\n",
      "        [0],\n",
      "        [0],\n",
      "        [0],\n",
      "        [0]])\n"
     ]
    }
   ],
   "source": [
    "print(top_class)"
   ]
  },
  {
   "cell_type": "code",
   "execution_count": null,
   "metadata": {},
   "outputs": [],
   "source": []
  },
  {
   "cell_type": "code",
   "execution_count": null,
   "metadata": {},
   "outputs": [],
   "source": []
  }
 ],
 "metadata": {
  "interpreter": {
   "hash": "38ae246934a7cd8e2aa0ce1a37b33766718792e8e777147d6c6548b2d965aeb7"
  },
  "kernelspec": {
   "display_name": "Python 3.8.0 64-bit ('tf_gpu': conda)",
   "name": "python3"
  },
  "language_info": {
   "codemirror_mode": {
    "name": "ipython",
    "version": 3
   },
   "file_extension": ".py",
   "mimetype": "text/x-python",
   "name": "python",
   "nbconvert_exporter": "python",
   "pygments_lexer": "ipython3",
   "version": "3.8.0"
  },
  "orig_nbformat": 4
 },
 "nbformat": 4,
 "nbformat_minor": 2
}
